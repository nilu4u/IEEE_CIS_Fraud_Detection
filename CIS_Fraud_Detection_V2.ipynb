{
  "nbformat": 4,
  "nbformat_minor": 0,
  "metadata": {
    "colab": {
      "name": "CIS_Fraud_Detection_V2.ipynb",
      "provenance": [],
      "collapsed_sections": []
    },
    "kernelspec": {
      "display_name": "Python 3",
      "language": "python",
      "name": "python3"
    },
    "language_info": {
      "codemirror_mode": {
        "name": "ipython",
        "version": 3
      },
      "file_extension": ".py",
      "mimetype": "text/x-python",
      "name": "python",
      "nbconvert_exporter": "python",
      "pygments_lexer": "ipython3",
      "version": "3.7.6"
    }
  },
  "cells": [
    {
      "cell_type": "markdown",
      "metadata": {
        "id": "df5CEkYObEws"
      },
      "source": [
        "1. Import library\n",
        "2. Dataset import and description\n",
        "3. Data Cleaning\n",
        "4. EDA"
      ]
    },
    {
      "cell_type": "markdown",
      "metadata": {
        "id": "x0aIlm46scgA"
      },
      "source": [
        "Library import"
      ]
    },
    {
      "cell_type": "code",
      "metadata": {
        "id": "1G9CCJFvua_8"
      },
      "source": [
        "import numpy as np\n",
        "import pandas as pd\n",
        "import seaborn as sns\n",
        "import matplotlib.pyplot as plt"
      ],
      "execution_count": 1,
      "outputs": []
    },
    {
      "cell_type": "code",
      "metadata": {
        "id": "y6mfCA5buk1O"
      },
      "source": [
        "import warnings\n",
        "warnings.filterwarnings('ignore')"
      ],
      "execution_count": 2,
      "outputs": []
    },
    {
      "cell_type": "markdown",
      "metadata": {
        "id": "_HSsVgLOsgIa"
      },
      "source": [
        "Dataset import and description"
      ]
    },
    {
      "cell_type": "code",
      "metadata": {
        "colab": {
          "base_uri": "https://localhost:8080/"
        },
        "id": "CfH5y5VY3liS",
        "outputId": "d34399b4-e818-4da1-a07d-553a38e1193b"
      },
      "source": [
        "from google.colab import drive\n",
        "drive.mount('/content/gdrive')"
      ],
      "execution_count": 3,
      "outputs": [
        {
          "output_type": "stream",
          "text": [
            "Mounted at /content/gdrive\n"
          ],
          "name": "stdout"
        }
      ]
    },
    {
      "cell_type": "code",
      "metadata": {
        "id": "jcl6VvteubAB"
      },
      "source": [
        "train_transaction = pd.read_csv(\"/content/gdrive/MyDrive/DS_Datas/IEEE CIS Card Fraud detection/train_transaction.csv\")"
      ],
      "execution_count": 4,
      "outputs": []
    },
    {
      "cell_type": "code",
      "metadata": {
        "colab": {
          "base_uri": "https://localhost:8080/"
        },
        "id": "-SeJdaulnP0D",
        "outputId": "4b542ea4-49cc-43ae-85bb-366a05d485e9"
      },
      "source": [
        "train_transaction.shape"
      ],
      "execution_count": 5,
      "outputs": [
        {
          "output_type": "execute_result",
          "data": {
            "text/plain": [
              "(590540, 394)"
            ]
          },
          "metadata": {
            "tags": []
          },
          "execution_count": 5
        }
      ]
    },
    {
      "cell_type": "markdown",
      "metadata": {
        "id": "PvByScOTnCKC"
      },
      "source": [
        "As the data size is too high and we need to lot of work on this data, hence we need to reduce the amount of memory it is holding"
      ]
    },
    {
      "cell_type": "code",
      "metadata": {
        "id": "9kubFYW79RUO"
      },
      "source": [
        "#memory reduction\n",
        "\n",
        "def reduce_mem_usage2(df):\n",
        "    \"\"\" iterate through all the columns of a dataframe and modify the data type\n",
        "        to reduce memory usage.        \n",
        "    \"\"\"\n",
        "    start_mem = df.memory_usage().sum() / 1024**2\n",
        "    print('Memory usage of dataframe is {:.2f} MB'.format(start_mem))\n",
        "    \n",
        "    for col in df.columns:\n",
        "        col_type = df[col].dtype\n",
        "        \n",
        "        if col_type != object:\n",
        "            c_min = df[col].min()\n",
        "            c_max = df[col].max()\n",
        "            if str(col_type)[:3] == 'int':\n",
        "                if c_min > np.iinfo(np.int8).min and c_max < np.iinfo(np.int8).max:\n",
        "                    df[col] = df[col].astype(np.int8)\n",
        "                elif c_min > np.iinfo(np.int16).min and c_max < np.iinfo(np.int16).max:\n",
        "                    df[col] = df[col].astype(np.int16)\n",
        "                elif c_min > np.iinfo(np.int32).min and c_max < np.iinfo(np.int32).max:\n",
        "                    df[col] = df[col].astype(np.int32)\n",
        "                elif c_min > np.iinfo(np.int64).min and c_max < np.iinfo(np.int64).max:\n",
        "                    df[col] = df[col].astype(np.int64)  \n",
        "            else:\n",
        "                if c_min > np.finfo(np.float16).min and c_max < np.finfo(np.float16).max:\n",
        "                    df[col] = df[col].astype(np.float16)\n",
        "                elif c_min > np.finfo(np.float32).min and c_max < np.finfo(np.float32).max:\n",
        "                    df[col] = df[col].astype(np.float32)\n",
        "                else:\n",
        "                    df[col] = df[col].astype(np.float64)\n",
        "        else:\n",
        "            df[col] = df[col].astype('category')\n",
        "\n",
        "    end_mem = df.memory_usage().sum() / 1024**2\n",
        "    print('Memory usage after optimization is: {:.2f} MB'.format(end_mem))\n",
        "    print('Decreased by {:.1f}%'.format(100 * (start_mem - end_mem) / start_mem))\n",
        "    \n",
        "    return df"
      ],
      "execution_count": 6,
      "outputs": []
    },
    {
      "cell_type": "code",
      "metadata": {
        "colab": {
          "base_uri": "https://localhost:8080/"
        },
        "id": "9r0rYrad9aKW",
        "outputId": "c0b2df5b-7484-41f7-e184-e29f30cafa54"
      },
      "source": [
        "train_transaction = reduce_mem_usage2(train_transaction)"
      ],
      "execution_count": 7,
      "outputs": [
        {
          "output_type": "stream",
          "text": [
            "Memory usage of dataframe is 1775.15 MB\n",
            "Memory usage after optimization is: 487.16 MB\n",
            "Decreased by 72.6%\n"
          ],
          "name": "stdout"
        }
      ]
    },
    {
      "cell_type": "markdown",
      "metadata": {
        "id": "o9k-ul5ho5OI"
      },
      "source": [
        "72.6% memory consumption has been reduced"
      ]
    },
    {
      "cell_type": "code",
      "metadata": {
        "id": "CoMcHcR3ubAD",
        "colab": {
          "base_uri": "https://localhost:8080/",
          "height": 253
        },
        "outputId": "2f211ec9-1acb-4be1-8c9f-995d4c02d964"
      },
      "source": [
        "train_transaction.head()"
      ],
      "execution_count": 8,
      "outputs": [
        {
          "output_type": "execute_result",
          "data": {
            "text/html": [
              "<div>\n",
              "<style scoped>\n",
              "    .dataframe tbody tr th:only-of-type {\n",
              "        vertical-align: middle;\n",
              "    }\n",
              "\n",
              "    .dataframe tbody tr th {\n",
              "        vertical-align: top;\n",
              "    }\n",
              "\n",
              "    .dataframe thead th {\n",
              "        text-align: right;\n",
              "    }\n",
              "</style>\n",
              "<table border=\"1\" class=\"dataframe\">\n",
              "  <thead>\n",
              "    <tr style=\"text-align: right;\">\n",
              "      <th></th>\n",
              "      <th>TransactionID</th>\n",
              "      <th>isFraud</th>\n",
              "      <th>TransactionDT</th>\n",
              "      <th>TransactionAmt</th>\n",
              "      <th>ProductCD</th>\n",
              "      <th>card1</th>\n",
              "      <th>card2</th>\n",
              "      <th>card3</th>\n",
              "      <th>card4</th>\n",
              "      <th>card5</th>\n",
              "      <th>card6</th>\n",
              "      <th>addr1</th>\n",
              "      <th>addr2</th>\n",
              "      <th>dist1</th>\n",
              "      <th>dist2</th>\n",
              "      <th>P_emaildomain</th>\n",
              "      <th>R_emaildomain</th>\n",
              "      <th>C1</th>\n",
              "      <th>C2</th>\n",
              "      <th>C3</th>\n",
              "      <th>C4</th>\n",
              "      <th>C5</th>\n",
              "      <th>C6</th>\n",
              "      <th>C7</th>\n",
              "      <th>C8</th>\n",
              "      <th>C9</th>\n",
              "      <th>C10</th>\n",
              "      <th>C11</th>\n",
              "      <th>C12</th>\n",
              "      <th>C13</th>\n",
              "      <th>C14</th>\n",
              "      <th>D1</th>\n",
              "      <th>D2</th>\n",
              "      <th>D3</th>\n",
              "      <th>D4</th>\n",
              "      <th>D5</th>\n",
              "      <th>D6</th>\n",
              "      <th>D7</th>\n",
              "      <th>D8</th>\n",
              "      <th>D9</th>\n",
              "      <th>...</th>\n",
              "      <th>V300</th>\n",
              "      <th>V301</th>\n",
              "      <th>V302</th>\n",
              "      <th>V303</th>\n",
              "      <th>V304</th>\n",
              "      <th>V305</th>\n",
              "      <th>V306</th>\n",
              "      <th>V307</th>\n",
              "      <th>V308</th>\n",
              "      <th>V309</th>\n",
              "      <th>V310</th>\n",
              "      <th>V311</th>\n",
              "      <th>V312</th>\n",
              "      <th>V313</th>\n",
              "      <th>V314</th>\n",
              "      <th>V315</th>\n",
              "      <th>V316</th>\n",
              "      <th>V317</th>\n",
              "      <th>V318</th>\n",
              "      <th>V319</th>\n",
              "      <th>V320</th>\n",
              "      <th>V321</th>\n",
              "      <th>V322</th>\n",
              "      <th>V323</th>\n",
              "      <th>V324</th>\n",
              "      <th>V325</th>\n",
              "      <th>V326</th>\n",
              "      <th>V327</th>\n",
              "      <th>V328</th>\n",
              "      <th>V329</th>\n",
              "      <th>V330</th>\n",
              "      <th>V331</th>\n",
              "      <th>V332</th>\n",
              "      <th>V333</th>\n",
              "      <th>V334</th>\n",
              "      <th>V335</th>\n",
              "      <th>V336</th>\n",
              "      <th>V337</th>\n",
              "      <th>V338</th>\n",
              "      <th>V339</th>\n",
              "    </tr>\n",
              "  </thead>\n",
              "  <tbody>\n",
              "    <tr>\n",
              "      <th>0</th>\n",
              "      <td>2987000</td>\n",
              "      <td>0</td>\n",
              "      <td>86400</td>\n",
              "      <td>68.5</td>\n",
              "      <td>W</td>\n",
              "      <td>13926</td>\n",
              "      <td>NaN</td>\n",
              "      <td>150.0</td>\n",
              "      <td>discover</td>\n",
              "      <td>142.0</td>\n",
              "      <td>credit</td>\n",
              "      <td>315.0</td>\n",
              "      <td>87.0</td>\n",
              "      <td>19.0</td>\n",
              "      <td>NaN</td>\n",
              "      <td>NaN</td>\n",
              "      <td>NaN</td>\n",
              "      <td>1.0</td>\n",
              "      <td>1.0</td>\n",
              "      <td>0.0</td>\n",
              "      <td>0.0</td>\n",
              "      <td>0.0</td>\n",
              "      <td>1.0</td>\n",
              "      <td>0.0</td>\n",
              "      <td>0.0</td>\n",
              "      <td>1.0</td>\n",
              "      <td>0.0</td>\n",
              "      <td>2.0</td>\n",
              "      <td>0.0</td>\n",
              "      <td>1.0</td>\n",
              "      <td>1.0</td>\n",
              "      <td>14.0</td>\n",
              "      <td>NaN</td>\n",
              "      <td>13.0</td>\n",
              "      <td>NaN</td>\n",
              "      <td>NaN</td>\n",
              "      <td>NaN</td>\n",
              "      <td>NaN</td>\n",
              "      <td>NaN</td>\n",
              "      <td>NaN</td>\n",
              "      <td>...</td>\n",
              "      <td>0.0</td>\n",
              "      <td>0.0</td>\n",
              "      <td>0.0</td>\n",
              "      <td>0.0</td>\n",
              "      <td>0.0</td>\n",
              "      <td>1.0</td>\n",
              "      <td>0.0</td>\n",
              "      <td>117.0</td>\n",
              "      <td>0.0</td>\n",
              "      <td>0.0</td>\n",
              "      <td>0.0</td>\n",
              "      <td>0.0</td>\n",
              "      <td>0.0</td>\n",
              "      <td>0.0</td>\n",
              "      <td>0.0</td>\n",
              "      <td>0.0</td>\n",
              "      <td>0.0</td>\n",
              "      <td>117.0</td>\n",
              "      <td>0.0</td>\n",
              "      <td>0.0</td>\n",
              "      <td>0.0</td>\n",
              "      <td>0.0</td>\n",
              "      <td>NaN</td>\n",
              "      <td>NaN</td>\n",
              "      <td>NaN</td>\n",
              "      <td>NaN</td>\n",
              "      <td>NaN</td>\n",
              "      <td>NaN</td>\n",
              "      <td>NaN</td>\n",
              "      <td>NaN</td>\n",
              "      <td>NaN</td>\n",
              "      <td>NaN</td>\n",
              "      <td>NaN</td>\n",
              "      <td>NaN</td>\n",
              "      <td>NaN</td>\n",
              "      <td>NaN</td>\n",
              "      <td>NaN</td>\n",
              "      <td>NaN</td>\n",
              "      <td>NaN</td>\n",
              "      <td>NaN</td>\n",
              "    </tr>\n",
              "    <tr>\n",
              "      <th>1</th>\n",
              "      <td>2987001</td>\n",
              "      <td>0</td>\n",
              "      <td>86401</td>\n",
              "      <td>29.0</td>\n",
              "      <td>W</td>\n",
              "      <td>2755</td>\n",
              "      <td>404.0</td>\n",
              "      <td>150.0</td>\n",
              "      <td>mastercard</td>\n",
              "      <td>102.0</td>\n",
              "      <td>credit</td>\n",
              "      <td>325.0</td>\n",
              "      <td>87.0</td>\n",
              "      <td>NaN</td>\n",
              "      <td>NaN</td>\n",
              "      <td>gmail.com</td>\n",
              "      <td>NaN</td>\n",
              "      <td>1.0</td>\n",
              "      <td>1.0</td>\n",
              "      <td>0.0</td>\n",
              "      <td>0.0</td>\n",
              "      <td>0.0</td>\n",
              "      <td>1.0</td>\n",
              "      <td>0.0</td>\n",
              "      <td>0.0</td>\n",
              "      <td>0.0</td>\n",
              "      <td>0.0</td>\n",
              "      <td>1.0</td>\n",
              "      <td>0.0</td>\n",
              "      <td>1.0</td>\n",
              "      <td>1.0</td>\n",
              "      <td>0.0</td>\n",
              "      <td>NaN</td>\n",
              "      <td>NaN</td>\n",
              "      <td>0.0</td>\n",
              "      <td>NaN</td>\n",
              "      <td>NaN</td>\n",
              "      <td>NaN</td>\n",
              "      <td>NaN</td>\n",
              "      <td>NaN</td>\n",
              "      <td>...</td>\n",
              "      <td>0.0</td>\n",
              "      <td>0.0</td>\n",
              "      <td>0.0</td>\n",
              "      <td>0.0</td>\n",
              "      <td>0.0</td>\n",
              "      <td>1.0</td>\n",
              "      <td>0.0</td>\n",
              "      <td>0.0</td>\n",
              "      <td>0.0</td>\n",
              "      <td>0.0</td>\n",
              "      <td>0.0</td>\n",
              "      <td>0.0</td>\n",
              "      <td>0.0</td>\n",
              "      <td>0.0</td>\n",
              "      <td>0.0</td>\n",
              "      <td>0.0</td>\n",
              "      <td>0.0</td>\n",
              "      <td>0.0</td>\n",
              "      <td>0.0</td>\n",
              "      <td>0.0</td>\n",
              "      <td>0.0</td>\n",
              "      <td>0.0</td>\n",
              "      <td>NaN</td>\n",
              "      <td>NaN</td>\n",
              "      <td>NaN</td>\n",
              "      <td>NaN</td>\n",
              "      <td>NaN</td>\n",
              "      <td>NaN</td>\n",
              "      <td>NaN</td>\n",
              "      <td>NaN</td>\n",
              "      <td>NaN</td>\n",
              "      <td>NaN</td>\n",
              "      <td>NaN</td>\n",
              "      <td>NaN</td>\n",
              "      <td>NaN</td>\n",
              "      <td>NaN</td>\n",
              "      <td>NaN</td>\n",
              "      <td>NaN</td>\n",
              "      <td>NaN</td>\n",
              "      <td>NaN</td>\n",
              "    </tr>\n",
              "    <tr>\n",
              "      <th>2</th>\n",
              "      <td>2987002</td>\n",
              "      <td>0</td>\n",
              "      <td>86469</td>\n",
              "      <td>59.0</td>\n",
              "      <td>W</td>\n",
              "      <td>4663</td>\n",
              "      <td>490.0</td>\n",
              "      <td>150.0</td>\n",
              "      <td>visa</td>\n",
              "      <td>166.0</td>\n",
              "      <td>debit</td>\n",
              "      <td>330.0</td>\n",
              "      <td>87.0</td>\n",
              "      <td>287.0</td>\n",
              "      <td>NaN</td>\n",
              "      <td>outlook.com</td>\n",
              "      <td>NaN</td>\n",
              "      <td>1.0</td>\n",
              "      <td>1.0</td>\n",
              "      <td>0.0</td>\n",
              "      <td>0.0</td>\n",
              "      <td>0.0</td>\n",
              "      <td>1.0</td>\n",
              "      <td>0.0</td>\n",
              "      <td>0.0</td>\n",
              "      <td>1.0</td>\n",
              "      <td>0.0</td>\n",
              "      <td>1.0</td>\n",
              "      <td>0.0</td>\n",
              "      <td>1.0</td>\n",
              "      <td>1.0</td>\n",
              "      <td>0.0</td>\n",
              "      <td>NaN</td>\n",
              "      <td>NaN</td>\n",
              "      <td>0.0</td>\n",
              "      <td>NaN</td>\n",
              "      <td>NaN</td>\n",
              "      <td>NaN</td>\n",
              "      <td>NaN</td>\n",
              "      <td>NaN</td>\n",
              "      <td>...</td>\n",
              "      <td>0.0</td>\n",
              "      <td>0.0</td>\n",
              "      <td>0.0</td>\n",
              "      <td>0.0</td>\n",
              "      <td>0.0</td>\n",
              "      <td>1.0</td>\n",
              "      <td>0.0</td>\n",
              "      <td>0.0</td>\n",
              "      <td>0.0</td>\n",
              "      <td>0.0</td>\n",
              "      <td>0.0</td>\n",
              "      <td>0.0</td>\n",
              "      <td>0.0</td>\n",
              "      <td>0.0</td>\n",
              "      <td>0.0</td>\n",
              "      <td>0.0</td>\n",
              "      <td>0.0</td>\n",
              "      <td>0.0</td>\n",
              "      <td>0.0</td>\n",
              "      <td>0.0</td>\n",
              "      <td>0.0</td>\n",
              "      <td>0.0</td>\n",
              "      <td>NaN</td>\n",
              "      <td>NaN</td>\n",
              "      <td>NaN</td>\n",
              "      <td>NaN</td>\n",
              "      <td>NaN</td>\n",
              "      <td>NaN</td>\n",
              "      <td>NaN</td>\n",
              "      <td>NaN</td>\n",
              "      <td>NaN</td>\n",
              "      <td>NaN</td>\n",
              "      <td>NaN</td>\n",
              "      <td>NaN</td>\n",
              "      <td>NaN</td>\n",
              "      <td>NaN</td>\n",
              "      <td>NaN</td>\n",
              "      <td>NaN</td>\n",
              "      <td>NaN</td>\n",
              "      <td>NaN</td>\n",
              "    </tr>\n",
              "    <tr>\n",
              "      <th>3</th>\n",
              "      <td>2987003</td>\n",
              "      <td>0</td>\n",
              "      <td>86499</td>\n",
              "      <td>50.0</td>\n",
              "      <td>W</td>\n",
              "      <td>18132</td>\n",
              "      <td>567.0</td>\n",
              "      <td>150.0</td>\n",
              "      <td>mastercard</td>\n",
              "      <td>117.0</td>\n",
              "      <td>debit</td>\n",
              "      <td>476.0</td>\n",
              "      <td>87.0</td>\n",
              "      <td>NaN</td>\n",
              "      <td>NaN</td>\n",
              "      <td>yahoo.com</td>\n",
              "      <td>NaN</td>\n",
              "      <td>2.0</td>\n",
              "      <td>5.0</td>\n",
              "      <td>0.0</td>\n",
              "      <td>0.0</td>\n",
              "      <td>0.0</td>\n",
              "      <td>4.0</td>\n",
              "      <td>0.0</td>\n",
              "      <td>0.0</td>\n",
              "      <td>1.0</td>\n",
              "      <td>0.0</td>\n",
              "      <td>1.0</td>\n",
              "      <td>0.0</td>\n",
              "      <td>25.0</td>\n",
              "      <td>1.0</td>\n",
              "      <td>112.0</td>\n",
              "      <td>112.0</td>\n",
              "      <td>0.0</td>\n",
              "      <td>94.0</td>\n",
              "      <td>0.0</td>\n",
              "      <td>NaN</td>\n",
              "      <td>NaN</td>\n",
              "      <td>NaN</td>\n",
              "      <td>NaN</td>\n",
              "      <td>...</td>\n",
              "      <td>0.0</td>\n",
              "      <td>0.0</td>\n",
              "      <td>0.0</td>\n",
              "      <td>0.0</td>\n",
              "      <td>0.0</td>\n",
              "      <td>1.0</td>\n",
              "      <td>50.0</td>\n",
              "      <td>1758.0</td>\n",
              "      <td>925.0</td>\n",
              "      <td>0.0</td>\n",
              "      <td>354.0</td>\n",
              "      <td>0.0</td>\n",
              "      <td>135.0</td>\n",
              "      <td>0.0</td>\n",
              "      <td>0.0</td>\n",
              "      <td>0.0</td>\n",
              "      <td>50.0</td>\n",
              "      <td>1404.0</td>\n",
              "      <td>790.0</td>\n",
              "      <td>0.0</td>\n",
              "      <td>0.0</td>\n",
              "      <td>0.0</td>\n",
              "      <td>NaN</td>\n",
              "      <td>NaN</td>\n",
              "      <td>NaN</td>\n",
              "      <td>NaN</td>\n",
              "      <td>NaN</td>\n",
              "      <td>NaN</td>\n",
              "      <td>NaN</td>\n",
              "      <td>NaN</td>\n",
              "      <td>NaN</td>\n",
              "      <td>NaN</td>\n",
              "      <td>NaN</td>\n",
              "      <td>NaN</td>\n",
              "      <td>NaN</td>\n",
              "      <td>NaN</td>\n",
              "      <td>NaN</td>\n",
              "      <td>NaN</td>\n",
              "      <td>NaN</td>\n",
              "      <td>NaN</td>\n",
              "    </tr>\n",
              "    <tr>\n",
              "      <th>4</th>\n",
              "      <td>2987004</td>\n",
              "      <td>0</td>\n",
              "      <td>86506</td>\n",
              "      <td>50.0</td>\n",
              "      <td>H</td>\n",
              "      <td>4497</td>\n",
              "      <td>514.0</td>\n",
              "      <td>150.0</td>\n",
              "      <td>mastercard</td>\n",
              "      <td>102.0</td>\n",
              "      <td>credit</td>\n",
              "      <td>420.0</td>\n",
              "      <td>87.0</td>\n",
              "      <td>NaN</td>\n",
              "      <td>NaN</td>\n",
              "      <td>gmail.com</td>\n",
              "      <td>NaN</td>\n",
              "      <td>1.0</td>\n",
              "      <td>1.0</td>\n",
              "      <td>0.0</td>\n",
              "      <td>0.0</td>\n",
              "      <td>0.0</td>\n",
              "      <td>1.0</td>\n",
              "      <td>0.0</td>\n",
              "      <td>1.0</td>\n",
              "      <td>0.0</td>\n",
              "      <td>1.0</td>\n",
              "      <td>1.0</td>\n",
              "      <td>0.0</td>\n",
              "      <td>1.0</td>\n",
              "      <td>1.0</td>\n",
              "      <td>0.0</td>\n",
              "      <td>NaN</td>\n",
              "      <td>NaN</td>\n",
              "      <td>NaN</td>\n",
              "      <td>NaN</td>\n",
              "      <td>NaN</td>\n",
              "      <td>NaN</td>\n",
              "      <td>NaN</td>\n",
              "      <td>NaN</td>\n",
              "      <td>...</td>\n",
              "      <td>0.0</td>\n",
              "      <td>0.0</td>\n",
              "      <td>1.0</td>\n",
              "      <td>1.0</td>\n",
              "      <td>1.0</td>\n",
              "      <td>1.0</td>\n",
              "      <td>0.0</td>\n",
              "      <td>0.0</td>\n",
              "      <td>0.0</td>\n",
              "      <td>0.0</td>\n",
              "      <td>0.0</td>\n",
              "      <td>0.0</td>\n",
              "      <td>0.0</td>\n",
              "      <td>0.0</td>\n",
              "      <td>0.0</td>\n",
              "      <td>0.0</td>\n",
              "      <td>0.0</td>\n",
              "      <td>0.0</td>\n",
              "      <td>0.0</td>\n",
              "      <td>0.0</td>\n",
              "      <td>0.0</td>\n",
              "      <td>0.0</td>\n",
              "      <td>0.0</td>\n",
              "      <td>0.0</td>\n",
              "      <td>0.0</td>\n",
              "      <td>0.0</td>\n",
              "      <td>0.0</td>\n",
              "      <td>0.0</td>\n",
              "      <td>0.0</td>\n",
              "      <td>0.0</td>\n",
              "      <td>0.0</td>\n",
              "      <td>0.0</td>\n",
              "      <td>0.0</td>\n",
              "      <td>0.0</td>\n",
              "      <td>0.0</td>\n",
              "      <td>0.0</td>\n",
              "      <td>0.0</td>\n",
              "      <td>0.0</td>\n",
              "      <td>0.0</td>\n",
              "      <td>0.0</td>\n",
              "    </tr>\n",
              "  </tbody>\n",
              "</table>\n",
              "<p>5 rows × 394 columns</p>\n",
              "</div>"
            ],
            "text/plain": [
              "   TransactionID  isFraud  TransactionDT  ...  V337 V338  V339\n",
              "0        2987000        0          86400  ...   NaN  NaN   NaN\n",
              "1        2987001        0          86401  ...   NaN  NaN   NaN\n",
              "2        2987002        0          86469  ...   NaN  NaN   NaN\n",
              "3        2987003        0          86499  ...   NaN  NaN   NaN\n",
              "4        2987004        0          86506  ...   0.0  0.0   0.0\n",
              "\n",
              "[5 rows x 394 columns]"
            ]
          },
          "metadata": {
            "tags": []
          },
          "execution_count": 8
        }
      ]
    },
    {
      "cell_type": "code",
      "metadata": {
        "id": "JaUuqOgDat8J"
      },
      "source": [
        "columns = train_transaction.columns"
      ],
      "execution_count": 9,
      "outputs": []
    },
    {
      "cell_type": "code",
      "metadata": {
        "colab": {
          "base_uri": "https://localhost:8080/",
          "height": 346
        },
        "id": "ranZ6d5yubAG",
        "outputId": "f1aa95f3-ab1f-4bb3-c099-22b44e030818"
      },
      "source": [
        "train_transaction.describe()"
      ],
      "execution_count": 10,
      "outputs": [
        {
          "output_type": "execute_result",
          "data": {
            "text/html": [
              "<div>\n",
              "<style scoped>\n",
              "    .dataframe tbody tr th:only-of-type {\n",
              "        vertical-align: middle;\n",
              "    }\n",
              "\n",
              "    .dataframe tbody tr th {\n",
              "        vertical-align: top;\n",
              "    }\n",
              "\n",
              "    .dataframe thead th {\n",
              "        text-align: right;\n",
              "    }\n",
              "</style>\n",
              "<table border=\"1\" class=\"dataframe\">\n",
              "  <thead>\n",
              "    <tr style=\"text-align: right;\">\n",
              "      <th></th>\n",
              "      <th>TransactionID</th>\n",
              "      <th>isFraud</th>\n",
              "      <th>TransactionDT</th>\n",
              "      <th>TransactionAmt</th>\n",
              "      <th>card1</th>\n",
              "      <th>card2</th>\n",
              "      <th>card3</th>\n",
              "      <th>card5</th>\n",
              "      <th>addr1</th>\n",
              "      <th>addr2</th>\n",
              "      <th>dist1</th>\n",
              "      <th>dist2</th>\n",
              "      <th>C1</th>\n",
              "      <th>C2</th>\n",
              "      <th>C3</th>\n",
              "      <th>C4</th>\n",
              "      <th>C5</th>\n",
              "      <th>C6</th>\n",
              "      <th>C7</th>\n",
              "      <th>C8</th>\n",
              "      <th>C9</th>\n",
              "      <th>C10</th>\n",
              "      <th>C11</th>\n",
              "      <th>C12</th>\n",
              "      <th>C13</th>\n",
              "      <th>C14</th>\n",
              "      <th>D1</th>\n",
              "      <th>D2</th>\n",
              "      <th>D3</th>\n",
              "      <th>D4</th>\n",
              "      <th>D5</th>\n",
              "      <th>D6</th>\n",
              "      <th>D7</th>\n",
              "      <th>D8</th>\n",
              "      <th>D9</th>\n",
              "      <th>D10</th>\n",
              "      <th>D11</th>\n",
              "      <th>D12</th>\n",
              "      <th>D13</th>\n",
              "      <th>D14</th>\n",
              "      <th>...</th>\n",
              "      <th>V300</th>\n",
              "      <th>V301</th>\n",
              "      <th>V302</th>\n",
              "      <th>V303</th>\n",
              "      <th>V304</th>\n",
              "      <th>V305</th>\n",
              "      <th>V306</th>\n",
              "      <th>V307</th>\n",
              "      <th>V308</th>\n",
              "      <th>V309</th>\n",
              "      <th>V310</th>\n",
              "      <th>V311</th>\n",
              "      <th>V312</th>\n",
              "      <th>V313</th>\n",
              "      <th>V314</th>\n",
              "      <th>V315</th>\n",
              "      <th>V316</th>\n",
              "      <th>V317</th>\n",
              "      <th>V318</th>\n",
              "      <th>V319</th>\n",
              "      <th>V320</th>\n",
              "      <th>V321</th>\n",
              "      <th>V322</th>\n",
              "      <th>V323</th>\n",
              "      <th>V324</th>\n",
              "      <th>V325</th>\n",
              "      <th>V326</th>\n",
              "      <th>V327</th>\n",
              "      <th>V328</th>\n",
              "      <th>V329</th>\n",
              "      <th>V330</th>\n",
              "      <th>V331</th>\n",
              "      <th>V332</th>\n",
              "      <th>V333</th>\n",
              "      <th>V334</th>\n",
              "      <th>V335</th>\n",
              "      <th>V336</th>\n",
              "      <th>V337</th>\n",
              "      <th>V338</th>\n",
              "      <th>V339</th>\n",
              "    </tr>\n",
              "  </thead>\n",
              "  <tbody>\n",
              "    <tr>\n",
              "      <th>count</th>\n",
              "      <td>5.905400e+05</td>\n",
              "      <td>590540.000000</td>\n",
              "      <td>5.905400e+05</td>\n",
              "      <td>590540.000000</td>\n",
              "      <td>590540.000000</td>\n",
              "      <td>581607.0</td>\n",
              "      <td>588975.0</td>\n",
              "      <td>586281.0</td>\n",
              "      <td>524834.0</td>\n",
              "      <td>524834.0</td>\n",
              "      <td>238269.0</td>\n",
              "      <td>37627.0</td>\n",
              "      <td>590540.0</td>\n",
              "      <td>590540.0</td>\n",
              "      <td>590540.000000</td>\n",
              "      <td>590540.0</td>\n",
              "      <td>590540.0</td>\n",
              "      <td>590540.0</td>\n",
              "      <td>590540.0</td>\n",
              "      <td>590540.0</td>\n",
              "      <td>590540.0</td>\n",
              "      <td>590540.0</td>\n",
              "      <td>590540.0</td>\n",
              "      <td>590540.0</td>\n",
              "      <td>590540.0</td>\n",
              "      <td>590540.0</td>\n",
              "      <td>589271.0</td>\n",
              "      <td>309743.0</td>\n",
              "      <td>327662.0</td>\n",
              "      <td>421618.0</td>\n",
              "      <td>280699.0</td>\n",
              "      <td>73187.0</td>\n",
              "      <td>38917.0</td>\n",
              "      <td>74926.000000</td>\n",
              "      <td>74926.000000</td>\n",
              "      <td>514518.0</td>\n",
              "      <td>311253.0</td>\n",
              "      <td>64717.0</td>\n",
              "      <td>61952.0</td>\n",
              "      <td>62187.0</td>\n",
              "      <td>...</td>\n",
              "      <td>589271.000000</td>\n",
              "      <td>589271.000000</td>\n",
              "      <td>590528.0</td>\n",
              "      <td>590528.0</td>\n",
              "      <td>590528.0</td>\n",
              "      <td>590528.0</td>\n",
              "      <td>590528.000000</td>\n",
              "      <td>590528.000000</td>\n",
              "      <td>590528.000000</td>\n",
              "      <td>590528.0</td>\n",
              "      <td>590528.0000</td>\n",
              "      <td>590528.0</td>\n",
              "      <td>590528.0</td>\n",
              "      <td>589271.0</td>\n",
              "      <td>589271.0</td>\n",
              "      <td>589271.0</td>\n",
              "      <td>590528.000000</td>\n",
              "      <td>590528.000000</td>\n",
              "      <td>590528.000000</td>\n",
              "      <td>590528.000000</td>\n",
              "      <td>590528.000000</td>\n",
              "      <td>590528.000000</td>\n",
              "      <td>82351.0</td>\n",
              "      <td>82351.0</td>\n",
              "      <td>82351.0</td>\n",
              "      <td>82351.000000</td>\n",
              "      <td>82351.0</td>\n",
              "      <td>82351.000000</td>\n",
              "      <td>82351.000000</td>\n",
              "      <td>82351.0</td>\n",
              "      <td>82351.000000</td>\n",
              "      <td>82351.000000</td>\n",
              "      <td>82351.000000</td>\n",
              "      <td>82351.000000</td>\n",
              "      <td>82351.0</td>\n",
              "      <td>82351.0</td>\n",
              "      <td>82351.0</td>\n",
              "      <td>82351.000000</td>\n",
              "      <td>82351.000000</td>\n",
              "      <td>82351.000000</td>\n",
              "    </tr>\n",
              "    <tr>\n",
              "      <th>mean</th>\n",
              "      <td>3.282270e+06</td>\n",
              "      <td>0.034990</td>\n",
              "      <td>7.372311e+06</td>\n",
              "      <td>NaN</td>\n",
              "      <td>9898.734658</td>\n",
              "      <td>NaN</td>\n",
              "      <td>NaN</td>\n",
              "      <td>NaN</td>\n",
              "      <td>NaN</td>\n",
              "      <td>NaN</td>\n",
              "      <td>NaN</td>\n",
              "      <td>inf</td>\n",
              "      <td>NaN</td>\n",
              "      <td>NaN</td>\n",
              "      <td>0.005650</td>\n",
              "      <td>NaN</td>\n",
              "      <td>NaN</td>\n",
              "      <td>NaN</td>\n",
              "      <td>NaN</td>\n",
              "      <td>NaN</td>\n",
              "      <td>NaN</td>\n",
              "      <td>NaN</td>\n",
              "      <td>NaN</td>\n",
              "      <td>NaN</td>\n",
              "      <td>NaN</td>\n",
              "      <td>NaN</td>\n",
              "      <td>NaN</td>\n",
              "      <td>NaN</td>\n",
              "      <td>NaN</td>\n",
              "      <td>NaN</td>\n",
              "      <td>NaN</td>\n",
              "      <td>NaN</td>\n",
              "      <td>inf</td>\n",
              "      <td>NaN</td>\n",
              "      <td>0.560059</td>\n",
              "      <td>NaN</td>\n",
              "      <td>NaN</td>\n",
              "      <td>inf</td>\n",
              "      <td>inf</td>\n",
              "      <td>inf</td>\n",
              "      <td>...</td>\n",
              "      <td>0.045471</td>\n",
              "      <td>0.052002</td>\n",
              "      <td>NaN</td>\n",
              "      <td>NaN</td>\n",
              "      <td>NaN</td>\n",
              "      <td>NaN</td>\n",
              "      <td>139.743408</td>\n",
              "      <td>408.579376</td>\n",
              "      <td>230.389160</td>\n",
              "      <td>NaN</td>\n",
              "      <td>NaN</td>\n",
              "      <td>NaN</td>\n",
              "      <td>NaN</td>\n",
              "      <td>NaN</td>\n",
              "      <td>NaN</td>\n",
              "      <td>NaN</td>\n",
              "      <td>109.817917</td>\n",
              "      <td>247.600327</td>\n",
              "      <td>162.151230</td>\n",
              "      <td>18.372953</td>\n",
              "      <td>42.073849</td>\n",
              "      <td>28.327173</td>\n",
              "      <td>NaN</td>\n",
              "      <td>NaN</td>\n",
              "      <td>NaN</td>\n",
              "      <td>0.058624</td>\n",
              "      <td>NaN</td>\n",
              "      <td>0.296387</td>\n",
              "      <td>0.336914</td>\n",
              "      <td>NaN</td>\n",
              "      <td>0.775391</td>\n",
              "      <td>721.741455</td>\n",
              "      <td>1375.778564</td>\n",
              "      <td>1014.619934</td>\n",
              "      <td>NaN</td>\n",
              "      <td>NaN</td>\n",
              "      <td>NaN</td>\n",
              "      <td>55.352417</td>\n",
              "      <td>151.160538</td>\n",
              "      <td>100.700874</td>\n",
              "    </tr>\n",
              "    <tr>\n",
              "      <th>std</th>\n",
              "      <td>1.704744e+05</td>\n",
              "      <td>0.183755</td>\n",
              "      <td>4.617224e+06</td>\n",
              "      <td>NaN</td>\n",
              "      <td>4901.170153</td>\n",
              "      <td>NaN</td>\n",
              "      <td>0.0</td>\n",
              "      <td>0.0</td>\n",
              "      <td>NaN</td>\n",
              "      <td>0.0</td>\n",
              "      <td>NaN</td>\n",
              "      <td>inf</td>\n",
              "      <td>NaN</td>\n",
              "      <td>NaN</td>\n",
              "      <td>0.150635</td>\n",
              "      <td>NaN</td>\n",
              "      <td>NaN</td>\n",
              "      <td>NaN</td>\n",
              "      <td>NaN</td>\n",
              "      <td>NaN</td>\n",
              "      <td>0.0</td>\n",
              "      <td>NaN</td>\n",
              "      <td>NaN</td>\n",
              "      <td>NaN</td>\n",
              "      <td>NaN</td>\n",
              "      <td>NaN</td>\n",
              "      <td>NaN</td>\n",
              "      <td>NaN</td>\n",
              "      <td>NaN</td>\n",
              "      <td>NaN</td>\n",
              "      <td>NaN</td>\n",
              "      <td>NaN</td>\n",
              "      <td>inf</td>\n",
              "      <td>NaN</td>\n",
              "      <td>0.316650</td>\n",
              "      <td>NaN</td>\n",
              "      <td>NaN</td>\n",
              "      <td>inf</td>\n",
              "      <td>inf</td>\n",
              "      <td>inf</td>\n",
              "      <td>...</td>\n",
              "      <td>0.289795</td>\n",
              "      <td>0.318115</td>\n",
              "      <td>0.0</td>\n",
              "      <td>0.0</td>\n",
              "      <td>0.0</td>\n",
              "      <td>0.0</td>\n",
              "      <td>2348.553223</td>\n",
              "      <td>4391.532715</td>\n",
              "      <td>3021.302979</td>\n",
              "      <td>NaN</td>\n",
              "      <td>NaN</td>\n",
              "      <td>NaN</td>\n",
              "      <td>NaN</td>\n",
              "      <td>NaN</td>\n",
              "      <td>NaN</td>\n",
              "      <td>NaN</td>\n",
              "      <td>2269.960449</td>\n",
              "      <td>3979.808105</td>\n",
              "      <td>2792.950928</td>\n",
              "      <td>331.837372</td>\n",
              "      <td>473.217529</td>\n",
              "      <td>381.328247</td>\n",
              "      <td>NaN</td>\n",
              "      <td>NaN</td>\n",
              "      <td>NaN</td>\n",
              "      <td>0.304443</td>\n",
              "      <td>0.0</td>\n",
              "      <td>0.000000</td>\n",
              "      <td>0.000000</td>\n",
              "      <td>0.0</td>\n",
              "      <td>0.000000</td>\n",
              "      <td>6217.229980</td>\n",
              "      <td>11169.515625</td>\n",
              "      <td>7955.782227</td>\n",
              "      <td>NaN</td>\n",
              "      <td>NaN</td>\n",
              "      <td>NaN</td>\n",
              "      <td>668.375854</td>\n",
              "      <td>1095.057739</td>\n",
              "      <td>814.953247</td>\n",
              "    </tr>\n",
              "    <tr>\n",
              "      <th>min</th>\n",
              "      <td>2.987000e+06</td>\n",
              "      <td>0.000000</td>\n",
              "      <td>8.640000e+04</td>\n",
              "      <td>0.250977</td>\n",
              "      <td>1000.000000</td>\n",
              "      <td>100.0</td>\n",
              "      <td>100.0</td>\n",
              "      <td>100.0</td>\n",
              "      <td>100.0</td>\n",
              "      <td>10.0</td>\n",
              "      <td>0.0</td>\n",
              "      <td>0.0</td>\n",
              "      <td>0.0</td>\n",
              "      <td>0.0</td>\n",
              "      <td>0.000000</td>\n",
              "      <td>0.0</td>\n",
              "      <td>0.0</td>\n",
              "      <td>0.0</td>\n",
              "      <td>0.0</td>\n",
              "      <td>0.0</td>\n",
              "      <td>0.0</td>\n",
              "      <td>0.0</td>\n",
              "      <td>0.0</td>\n",
              "      <td>0.0</td>\n",
              "      <td>0.0</td>\n",
              "      <td>0.0</td>\n",
              "      <td>0.0</td>\n",
              "      <td>0.0</td>\n",
              "      <td>0.0</td>\n",
              "      <td>-122.0</td>\n",
              "      <td>0.0</td>\n",
              "      <td>-83.0</td>\n",
              "      <td>0.0</td>\n",
              "      <td>0.000000</td>\n",
              "      <td>0.000000</td>\n",
              "      <td>0.0</td>\n",
              "      <td>-53.0</td>\n",
              "      <td>-83.0</td>\n",
              "      <td>0.0</td>\n",
              "      <td>-193.0</td>\n",
              "      <td>...</td>\n",
              "      <td>0.000000</td>\n",
              "      <td>0.000000</td>\n",
              "      <td>0.0</td>\n",
              "      <td>0.0</td>\n",
              "      <td>0.0</td>\n",
              "      <td>1.0</td>\n",
              "      <td>0.000000</td>\n",
              "      <td>0.000000</td>\n",
              "      <td>0.000000</td>\n",
              "      <td>0.0</td>\n",
              "      <td>0.0000</td>\n",
              "      <td>0.0</td>\n",
              "      <td>0.0</td>\n",
              "      <td>0.0</td>\n",
              "      <td>0.0</td>\n",
              "      <td>0.0</td>\n",
              "      <td>0.000000</td>\n",
              "      <td>0.000000</td>\n",
              "      <td>0.000000</td>\n",
              "      <td>0.000000</td>\n",
              "      <td>0.000000</td>\n",
              "      <td>0.000000</td>\n",
              "      <td>0.0</td>\n",
              "      <td>0.0</td>\n",
              "      <td>0.0</td>\n",
              "      <td>0.000000</td>\n",
              "      <td>0.0</td>\n",
              "      <td>0.000000</td>\n",
              "      <td>0.000000</td>\n",
              "      <td>0.0</td>\n",
              "      <td>0.000000</td>\n",
              "      <td>0.000000</td>\n",
              "      <td>0.000000</td>\n",
              "      <td>0.000000</td>\n",
              "      <td>0.0</td>\n",
              "      <td>0.0</td>\n",
              "      <td>0.0</td>\n",
              "      <td>0.000000</td>\n",
              "      <td>0.000000</td>\n",
              "      <td>0.000000</td>\n",
              "    </tr>\n",
              "    <tr>\n",
              "      <th>25%</th>\n",
              "      <td>3.134635e+06</td>\n",
              "      <td>0.000000</td>\n",
              "      <td>3.027058e+06</td>\n",
              "      <td>43.312500</td>\n",
              "      <td>6019.000000</td>\n",
              "      <td>214.0</td>\n",
              "      <td>150.0</td>\n",
              "      <td>166.0</td>\n",
              "      <td>204.0</td>\n",
              "      <td>87.0</td>\n",
              "      <td>3.0</td>\n",
              "      <td>7.0</td>\n",
              "      <td>1.0</td>\n",
              "      <td>1.0</td>\n",
              "      <td>0.000000</td>\n",
              "      <td>0.0</td>\n",
              "      <td>0.0</td>\n",
              "      <td>1.0</td>\n",
              "      <td>0.0</td>\n",
              "      <td>0.0</td>\n",
              "      <td>0.0</td>\n",
              "      <td>0.0</td>\n",
              "      <td>1.0</td>\n",
              "      <td>0.0</td>\n",
              "      <td>1.0</td>\n",
              "      <td>1.0</td>\n",
              "      <td>0.0</td>\n",
              "      <td>26.0</td>\n",
              "      <td>1.0</td>\n",
              "      <td>0.0</td>\n",
              "      <td>1.0</td>\n",
              "      <td>0.0</td>\n",
              "      <td>0.0</td>\n",
              "      <td>0.958496</td>\n",
              "      <td>0.208374</td>\n",
              "      <td>0.0</td>\n",
              "      <td>0.0</td>\n",
              "      <td>0.0</td>\n",
              "      <td>0.0</td>\n",
              "      <td>0.0</td>\n",
              "      <td>...</td>\n",
              "      <td>0.000000</td>\n",
              "      <td>0.000000</td>\n",
              "      <td>0.0</td>\n",
              "      <td>0.0</td>\n",
              "      <td>0.0</td>\n",
              "      <td>1.0</td>\n",
              "      <td>0.000000</td>\n",
              "      <td>0.000000</td>\n",
              "      <td>0.000000</td>\n",
              "      <td>0.0</td>\n",
              "      <td>0.0000</td>\n",
              "      <td>0.0</td>\n",
              "      <td>0.0</td>\n",
              "      <td>0.0</td>\n",
              "      <td>0.0</td>\n",
              "      <td>0.0</td>\n",
              "      <td>0.000000</td>\n",
              "      <td>0.000000</td>\n",
              "      <td>0.000000</td>\n",
              "      <td>0.000000</td>\n",
              "      <td>0.000000</td>\n",
              "      <td>0.000000</td>\n",
              "      <td>0.0</td>\n",
              "      <td>0.0</td>\n",
              "      <td>0.0</td>\n",
              "      <td>0.000000</td>\n",
              "      <td>0.0</td>\n",
              "      <td>0.000000</td>\n",
              "      <td>0.000000</td>\n",
              "      <td>0.0</td>\n",
              "      <td>0.000000</td>\n",
              "      <td>0.000000</td>\n",
              "      <td>0.000000</td>\n",
              "      <td>0.000000</td>\n",
              "      <td>0.0</td>\n",
              "      <td>0.0</td>\n",
              "      <td>0.0</td>\n",
              "      <td>0.000000</td>\n",
              "      <td>0.000000</td>\n",
              "      <td>0.000000</td>\n",
              "    </tr>\n",
              "    <tr>\n",
              "      <th>50%</th>\n",
              "      <td>3.282270e+06</td>\n",
              "      <td>0.000000</td>\n",
              "      <td>7.306528e+06</td>\n",
              "      <td>68.750000</td>\n",
              "      <td>9678.000000</td>\n",
              "      <td>361.0</td>\n",
              "      <td>150.0</td>\n",
              "      <td>226.0</td>\n",
              "      <td>299.0</td>\n",
              "      <td>87.0</td>\n",
              "      <td>8.0</td>\n",
              "      <td>37.0</td>\n",
              "      <td>1.0</td>\n",
              "      <td>1.0</td>\n",
              "      <td>0.000000</td>\n",
              "      <td>0.0</td>\n",
              "      <td>0.0</td>\n",
              "      <td>1.0</td>\n",
              "      <td>0.0</td>\n",
              "      <td>0.0</td>\n",
              "      <td>1.0</td>\n",
              "      <td>0.0</td>\n",
              "      <td>1.0</td>\n",
              "      <td>0.0</td>\n",
              "      <td>3.0</td>\n",
              "      <td>1.0</td>\n",
              "      <td>3.0</td>\n",
              "      <td>97.0</td>\n",
              "      <td>8.0</td>\n",
              "      <td>26.0</td>\n",
              "      <td>10.0</td>\n",
              "      <td>0.0</td>\n",
              "      <td>0.0</td>\n",
              "      <td>37.875000</td>\n",
              "      <td>0.666504</td>\n",
              "      <td>15.0</td>\n",
              "      <td>43.0</td>\n",
              "      <td>0.0</td>\n",
              "      <td>0.0</td>\n",
              "      <td>0.0</td>\n",
              "      <td>...</td>\n",
              "      <td>0.000000</td>\n",
              "      <td>0.000000</td>\n",
              "      <td>0.0</td>\n",
              "      <td>0.0</td>\n",
              "      <td>0.0</td>\n",
              "      <td>1.0</td>\n",
              "      <td>0.000000</td>\n",
              "      <td>0.000000</td>\n",
              "      <td>0.000000</td>\n",
              "      <td>0.0</td>\n",
              "      <td>0.0000</td>\n",
              "      <td>0.0</td>\n",
              "      <td>0.0</td>\n",
              "      <td>0.0</td>\n",
              "      <td>0.0</td>\n",
              "      <td>0.0</td>\n",
              "      <td>0.000000</td>\n",
              "      <td>0.000000</td>\n",
              "      <td>0.000000</td>\n",
              "      <td>0.000000</td>\n",
              "      <td>0.000000</td>\n",
              "      <td>0.000000</td>\n",
              "      <td>0.0</td>\n",
              "      <td>0.0</td>\n",
              "      <td>0.0</td>\n",
              "      <td>0.000000</td>\n",
              "      <td>0.0</td>\n",
              "      <td>0.000000</td>\n",
              "      <td>0.000000</td>\n",
              "      <td>0.0</td>\n",
              "      <td>0.000000</td>\n",
              "      <td>0.000000</td>\n",
              "      <td>0.000000</td>\n",
              "      <td>0.000000</td>\n",
              "      <td>0.0</td>\n",
              "      <td>0.0</td>\n",
              "      <td>0.0</td>\n",
              "      <td>0.000000</td>\n",
              "      <td>0.000000</td>\n",
              "      <td>0.000000</td>\n",
              "    </tr>\n",
              "    <tr>\n",
              "      <th>75%</th>\n",
              "      <td>3.429904e+06</td>\n",
              "      <td>0.000000</td>\n",
              "      <td>1.124662e+07</td>\n",
              "      <td>125.000000</td>\n",
              "      <td>14184.000000</td>\n",
              "      <td>512.0</td>\n",
              "      <td>150.0</td>\n",
              "      <td>226.0</td>\n",
              "      <td>330.0</td>\n",
              "      <td>87.0</td>\n",
              "      <td>24.0</td>\n",
              "      <td>206.0</td>\n",
              "      <td>3.0</td>\n",
              "      <td>3.0</td>\n",
              "      <td>0.000000</td>\n",
              "      <td>0.0</td>\n",
              "      <td>1.0</td>\n",
              "      <td>2.0</td>\n",
              "      <td>0.0</td>\n",
              "      <td>0.0</td>\n",
              "      <td>2.0</td>\n",
              "      <td>0.0</td>\n",
              "      <td>2.0</td>\n",
              "      <td>0.0</td>\n",
              "      <td>12.0</td>\n",
              "      <td>2.0</td>\n",
              "      <td>122.0</td>\n",
              "      <td>276.0</td>\n",
              "      <td>27.0</td>\n",
              "      <td>253.0</td>\n",
              "      <td>32.0</td>\n",
              "      <td>40.0</td>\n",
              "      <td>17.0</td>\n",
              "      <td>188.000000</td>\n",
              "      <td>0.833496</td>\n",
              "      <td>197.0</td>\n",
              "      <td>274.0</td>\n",
              "      <td>13.0</td>\n",
              "      <td>0.0</td>\n",
              "      <td>2.0</td>\n",
              "      <td>...</td>\n",
              "      <td>0.000000</td>\n",
              "      <td>0.000000</td>\n",
              "      <td>0.0</td>\n",
              "      <td>0.0</td>\n",
              "      <td>0.0</td>\n",
              "      <td>1.0</td>\n",
              "      <td>0.000000</td>\n",
              "      <td>151.380676</td>\n",
              "      <td>35.970001</td>\n",
              "      <td>0.0</td>\n",
              "      <td>107.9375</td>\n",
              "      <td>0.0</td>\n",
              "      <td>0.0</td>\n",
              "      <td>0.0</td>\n",
              "      <td>0.0</td>\n",
              "      <td>0.0</td>\n",
              "      <td>0.000000</td>\n",
              "      <td>0.000000</td>\n",
              "      <td>0.000000</td>\n",
              "      <td>0.000000</td>\n",
              "      <td>0.000000</td>\n",
              "      <td>0.000000</td>\n",
              "      <td>0.0</td>\n",
              "      <td>1.0</td>\n",
              "      <td>0.0</td>\n",
              "      <td>0.000000</td>\n",
              "      <td>0.0</td>\n",
              "      <td>0.000000</td>\n",
              "      <td>0.000000</td>\n",
              "      <td>0.0</td>\n",
              "      <td>0.000000</td>\n",
              "      <td>0.000000</td>\n",
              "      <td>25.000000</td>\n",
              "      <td>0.000000</td>\n",
              "      <td>0.0</td>\n",
              "      <td>0.0</td>\n",
              "      <td>0.0</td>\n",
              "      <td>0.000000</td>\n",
              "      <td>0.000000</td>\n",
              "      <td>0.000000</td>\n",
              "    </tr>\n",
              "    <tr>\n",
              "      <th>max</th>\n",
              "      <td>3.577539e+06</td>\n",
              "      <td>1.000000</td>\n",
              "      <td>1.581113e+07</td>\n",
              "      <td>31936.000000</td>\n",
              "      <td>18396.000000</td>\n",
              "      <td>600.0</td>\n",
              "      <td>231.0</td>\n",
              "      <td>237.0</td>\n",
              "      <td>540.0</td>\n",
              "      <td>102.0</td>\n",
              "      <td>10288.0</td>\n",
              "      <td>11624.0</td>\n",
              "      <td>4684.0</td>\n",
              "      <td>5692.0</td>\n",
              "      <td>26.000000</td>\n",
              "      <td>2252.0</td>\n",
              "      <td>349.0</td>\n",
              "      <td>2252.0</td>\n",
              "      <td>2256.0</td>\n",
              "      <td>3332.0</td>\n",
              "      <td>210.0</td>\n",
              "      <td>3256.0</td>\n",
              "      <td>3188.0</td>\n",
              "      <td>3188.0</td>\n",
              "      <td>2918.0</td>\n",
              "      <td>1429.0</td>\n",
              "      <td>640.0</td>\n",
              "      <td>640.0</td>\n",
              "      <td>819.0</td>\n",
              "      <td>869.0</td>\n",
              "      <td>819.0</td>\n",
              "      <td>873.0</td>\n",
              "      <td>843.0</td>\n",
              "      <td>1708.000000</td>\n",
              "      <td>0.958496</td>\n",
              "      <td>876.0</td>\n",
              "      <td>670.0</td>\n",
              "      <td>648.0</td>\n",
              "      <td>847.0</td>\n",
              "      <td>878.0</td>\n",
              "      <td>...</td>\n",
              "      <td>11.000000</td>\n",
              "      <td>13.000000</td>\n",
              "      <td>16.0</td>\n",
              "      <td>20.0</td>\n",
              "      <td>16.0</td>\n",
              "      <td>2.0</td>\n",
              "      <td>108800.000000</td>\n",
              "      <td>145765.000000</td>\n",
              "      <td>108800.000000</td>\n",
              "      <td>55136.0</td>\n",
              "      <td>55136.0000</td>\n",
              "      <td>55136.0</td>\n",
              "      <td>55136.0</td>\n",
              "      <td>4816.0</td>\n",
              "      <td>7520.0</td>\n",
              "      <td>4816.0</td>\n",
              "      <td>93736.000000</td>\n",
              "      <td>134021.000000</td>\n",
              "      <td>98476.000000</td>\n",
              "      <td>104060.000000</td>\n",
              "      <td>104060.000000</td>\n",
              "      <td>104060.000000</td>\n",
              "      <td>880.0</td>\n",
              "      <td>1411.0</td>\n",
              "      <td>976.0</td>\n",
              "      <td>12.000000</td>\n",
              "      <td>44.0</td>\n",
              "      <td>18.000000</td>\n",
              "      <td>15.000000</td>\n",
              "      <td>99.0</td>\n",
              "      <td>55.000000</td>\n",
              "      <td>160000.000000</td>\n",
              "      <td>160000.000000</td>\n",
              "      <td>160000.000000</td>\n",
              "      <td>55136.0</td>\n",
              "      <td>55136.0</td>\n",
              "      <td>55136.0</td>\n",
              "      <td>104060.000000</td>\n",
              "      <td>104060.000000</td>\n",
              "      <td>104060.000000</td>\n",
              "    </tr>\n",
              "  </tbody>\n",
              "</table>\n",
              "<p>8 rows × 380 columns</p>\n",
              "</div>"
            ],
            "text/plain": [
              "       TransactionID        isFraud  ...           V338           V339\n",
              "count   5.905400e+05  590540.000000  ...   82351.000000   82351.000000\n",
              "mean    3.282270e+06       0.034990  ...     151.160538     100.700874\n",
              "std     1.704744e+05       0.183755  ...    1095.057739     814.953247\n",
              "min     2.987000e+06       0.000000  ...       0.000000       0.000000\n",
              "25%     3.134635e+06       0.000000  ...       0.000000       0.000000\n",
              "50%     3.282270e+06       0.000000  ...       0.000000       0.000000\n",
              "75%     3.429904e+06       0.000000  ...       0.000000       0.000000\n",
              "max     3.577539e+06       1.000000  ...  104060.000000  104060.000000\n",
              "\n",
              "[8 rows x 380 columns]"
            ]
          },
          "metadata": {
            "tags": []
          },
          "execution_count": 10
        }
      ]
    },
    {
      "cell_type": "markdown",
      "metadata": {
        "id": "2HO06Yy7fZWb"
      },
      "source": [
        "Outliers:\n",
        "\n",
        "TransactionAmt, \n",
        "V127 - V140, \n",
        "V150 - V151, \n",
        "V159 - V336"
      ]
    },
    {
      "cell_type": "code",
      "metadata": {
        "colab": {
          "base_uri": "https://localhost:8080/"
        },
        "id": "mTfX9EPrubAH",
        "outputId": "bff3cd58-5b51-4f68-dc1b-13b2c562a5c7"
      },
      "source": [
        "train_transaction.info()"
      ],
      "execution_count": 11,
      "outputs": [
        {
          "output_type": "stream",
          "text": [
            "<class 'pandas.core.frame.DataFrame'>\n",
            "RangeIndex: 590540 entries, 0 to 590539\n",
            "Columns: 394 entries, TransactionID to V339\n",
            "dtypes: category(14), float16(332), float32(44), int16(1), int32(2), int8(1)\n",
            "memory usage: 487.2 MB\n"
          ],
          "name": "stdout"
        }
      ]
    },
    {
      "cell_type": "markdown",
      "metadata": {
        "id": "6bR47E61pp8n"
      },
      "source": [
        "train_transaction.info() is too high to display"
      ]
    },
    {
      "cell_type": "markdown",
      "metadata": {
        "id": "GBFuH7Ubss3j"
      },
      "source": [
        "Data cleaning"
      ]
    },
    {
      "cell_type": "code",
      "metadata": {
        "colab": {
          "base_uri": "https://localhost:8080/"
        },
        "id": "kkItYPtVubAK",
        "outputId": "4f4cdc65-ae47-4239-dfba-eed309bed3c0"
      },
      "source": [
        "#calculating Null value percentages and putting it in DataFrame df_null\n",
        "\n",
        "null_columns = train_transaction.columns[train_transaction.isnull().any()]\n",
        "null_values = 100*train_transaction[null_columns].isnull().sum()/train_transaction.shape[0]\n",
        "df_null=pd.DataFrame(null_values)\n",
        "df_null.index.name ='Feature'\n",
        "df_null.rename(columns={0:'Percent'},inplace=True)\n",
        "df_null.reset_index(drop=False, inplace=True)\n",
        "df_null = df_null.sort_values(['Percent'],ascending=False).reset_index(drop=True)\n",
        "print(df_null)"
      ],
      "execution_count": 12,
      "outputs": [
        {
          "output_type": "stream",
          "text": [
            "    Feature    Percent\n",
            "0     dist2  93.628374\n",
            "1        D7  93.409930\n",
            "2       D13  89.509263\n",
            "3       D14  89.469469\n",
            "4       D12  89.041047\n",
            "..      ...        ...\n",
            "369    V307   0.002032\n",
            "370    V308   0.002032\n",
            "371    V309   0.002032\n",
            "372    V279   0.002032\n",
            "373    V294   0.002032\n",
            "\n",
            "[374 rows x 2 columns]\n"
          ],
          "name": "stdout"
        }
      ]
    },
    {
      "cell_type": "code",
      "metadata": {
        "colab": {
          "base_uri": "https://localhost:8080/",
          "height": 419
        },
        "id": "PaMKLrBEubAL",
        "outputId": "a4b817f3-40e1-497b-b6a6-56080e5868ed"
      },
      "source": [
        "# number of columns above 25% Null\n",
        "\n",
        "df_null[df_null['Percent']>25.0]"
      ],
      "execution_count": 13,
      "outputs": [
        {
          "output_type": "execute_result",
          "data": {
            "text/html": [
              "<div>\n",
              "<style scoped>\n",
              "    .dataframe tbody tr th:only-of-type {\n",
              "        vertical-align: middle;\n",
              "    }\n",
              "\n",
              "    .dataframe tbody tr th {\n",
              "        vertical-align: top;\n",
              "    }\n",
              "\n",
              "    .dataframe thead th {\n",
              "        text-align: right;\n",
              "    }\n",
              "</style>\n",
              "<table border=\"1\" class=\"dataframe\">\n",
              "  <thead>\n",
              "    <tr style=\"text-align: right;\">\n",
              "      <th></th>\n",
              "      <th>Feature</th>\n",
              "      <th>Percent</th>\n",
              "    </tr>\n",
              "  </thead>\n",
              "  <tbody>\n",
              "    <tr>\n",
              "      <th>0</th>\n",
              "      <td>dist2</td>\n",
              "      <td>93.628374</td>\n",
              "    </tr>\n",
              "    <tr>\n",
              "      <th>1</th>\n",
              "      <td>D7</td>\n",
              "      <td>93.409930</td>\n",
              "    </tr>\n",
              "    <tr>\n",
              "      <th>2</th>\n",
              "      <td>D13</td>\n",
              "      <td>89.509263</td>\n",
              "    </tr>\n",
              "    <tr>\n",
              "      <th>3</th>\n",
              "      <td>D14</td>\n",
              "      <td>89.469469</td>\n",
              "    </tr>\n",
              "    <tr>\n",
              "      <th>4</th>\n",
              "      <td>D12</td>\n",
              "      <td>89.041047</td>\n",
              "    </tr>\n",
              "    <tr>\n",
              "      <th>...</th>\n",
              "      <td>...</td>\n",
              "      <td>...</td>\n",
              "    </tr>\n",
              "    <tr>\n",
              "      <th>207</th>\n",
              "      <td>V50</td>\n",
              "      <td>28.612626</td>\n",
              "    </tr>\n",
              "    <tr>\n",
              "      <th>208</th>\n",
              "      <td>V49</td>\n",
              "      <td>28.612626</td>\n",
              "    </tr>\n",
              "    <tr>\n",
              "      <th>209</th>\n",
              "      <td>V48</td>\n",
              "      <td>28.612626</td>\n",
              "    </tr>\n",
              "    <tr>\n",
              "      <th>210</th>\n",
              "      <td>V35</td>\n",
              "      <td>28.612626</td>\n",
              "    </tr>\n",
              "    <tr>\n",
              "      <th>211</th>\n",
              "      <td>D4</td>\n",
              "      <td>28.604667</td>\n",
              "    </tr>\n",
              "  </tbody>\n",
              "</table>\n",
              "<p>212 rows × 2 columns</p>\n",
              "</div>"
            ],
            "text/plain": [
              "    Feature    Percent\n",
              "0     dist2  93.628374\n",
              "1        D7  93.409930\n",
              "2       D13  89.509263\n",
              "3       D14  89.469469\n",
              "4       D12  89.041047\n",
              "..      ...        ...\n",
              "207     V50  28.612626\n",
              "208     V49  28.612626\n",
              "209     V48  28.612626\n",
              "210     V35  28.612626\n",
              "211      D4  28.604667\n",
              "\n",
              "[212 rows x 2 columns]"
            ]
          },
          "metadata": {
            "tags": []
          },
          "execution_count": 13
        }
      ]
    },
    {
      "cell_type": "code",
      "metadata": {
        "id": "207mIGUAwJKI"
      },
      "source": [
        "#dropping the coulmns above 25% Null values\n",
        "train_transaction.drop(df_null[df_null['Percent']>25.0].Feature, axis=1, inplace=True)"
      ],
      "execution_count": 14,
      "outputs": []
    },
    {
      "cell_type": "code",
      "metadata": {
        "colab": {
          "base_uri": "https://localhost:8080/"
        },
        "id": "2MDDPF4Zw9Eq",
        "outputId": "c3249b28-729a-43eb-b21f-4e960bcefe49"
      },
      "source": [
        "train_transaction.shape"
      ],
      "execution_count": 15,
      "outputs": [
        {
          "output_type": "execute_result",
          "data": {
            "text/plain": [
              "(590540, 182)"
            ]
          },
          "metadata": {
            "tags": []
          },
          "execution_count": 15
        }
      ]
    },
    {
      "cell_type": "code",
      "metadata": {
        "colab": {
          "base_uri": "https://localhost:8080/",
          "height": 419
        },
        "id": "lu5TCoUvsyUm",
        "outputId": "18fe0d57-99fd-44a6-f838-8bd6e98d26b5"
      },
      "source": [
        "#checking columns who has null values above 25% and more than 10% and putting them into a new Data Frame\n",
        "df_null_10_25 = df_null[(df_null['Percent']<25) & (df_null['Percent']>10)]\n",
        "df_null_10_25.reset_index(drop=True, inplace=True)\n",
        "df_null_10_25"
      ],
      "execution_count": 16,
      "outputs": [
        {
          "output_type": "execute_result",
          "data": {
            "text/html": [
              "<div>\n",
              "<style scoped>\n",
              "    .dataframe tbody tr th:only-of-type {\n",
              "        vertical-align: middle;\n",
              "    }\n",
              "\n",
              "    .dataframe tbody tr th {\n",
              "        vertical-align: top;\n",
              "    }\n",
              "\n",
              "    .dataframe thead th {\n",
              "        text-align: right;\n",
              "    }\n",
              "</style>\n",
              "<table border=\"1\" class=\"dataframe\">\n",
              "  <thead>\n",
              "    <tr style=\"text-align: right;\">\n",
              "      <th></th>\n",
              "      <th>Feature</th>\n",
              "      <th>Percent</th>\n",
              "    </tr>\n",
              "  </thead>\n",
              "  <tbody>\n",
              "    <tr>\n",
              "      <th>0</th>\n",
              "      <td>P_emaildomain</td>\n",
              "      <td>15.994852</td>\n",
              "    </tr>\n",
              "    <tr>\n",
              "      <th>1</th>\n",
              "      <td>V81</td>\n",
              "      <td>15.098723</td>\n",
              "    </tr>\n",
              "    <tr>\n",
              "      <th>2</th>\n",
              "      <td>V77</td>\n",
              "      <td>15.098723</td>\n",
              "    </tr>\n",
              "    <tr>\n",
              "      <th>3</th>\n",
              "      <td>V82</td>\n",
              "      <td>15.098723</td>\n",
              "    </tr>\n",
              "    <tr>\n",
              "      <th>4</th>\n",
              "      <td>V83</td>\n",
              "      <td>15.098723</td>\n",
              "    </tr>\n",
              "    <tr>\n",
              "      <th>...</th>\n",
              "      <td>...</td>\n",
              "      <td>...</td>\n",
              "    </tr>\n",
              "    <tr>\n",
              "      <th>65</th>\n",
              "      <td>V13</td>\n",
              "      <td>12.881939</td>\n",
              "    </tr>\n",
              "    <tr>\n",
              "      <th>66</th>\n",
              "      <td>V12</td>\n",
              "      <td>12.881939</td>\n",
              "    </tr>\n",
              "    <tr>\n",
              "      <th>67</th>\n",
              "      <td>D10</td>\n",
              "      <td>12.873302</td>\n",
              "    </tr>\n",
              "    <tr>\n",
              "      <th>68</th>\n",
              "      <td>addr1</td>\n",
              "      <td>11.126427</td>\n",
              "    </tr>\n",
              "    <tr>\n",
              "      <th>69</th>\n",
              "      <td>addr2</td>\n",
              "      <td>11.126427</td>\n",
              "    </tr>\n",
              "  </tbody>\n",
              "</table>\n",
              "<p>70 rows × 2 columns</p>\n",
              "</div>"
            ],
            "text/plain": [
              "          Feature    Percent\n",
              "0   P_emaildomain  15.994852\n",
              "1             V81  15.098723\n",
              "2             V77  15.098723\n",
              "3             V82  15.098723\n",
              "4             V83  15.098723\n",
              "..            ...        ...\n",
              "65            V13  12.881939\n",
              "66            V12  12.881939\n",
              "67            D10  12.873302\n",
              "68          addr1  11.126427\n",
              "69          addr2  11.126427\n",
              "\n",
              "[70 rows x 2 columns]"
            ]
          },
          "metadata": {
            "tags": []
          },
          "execution_count": 16
        }
      ]
    },
    {
      "cell_type": "code",
      "metadata": {
        "colab": {
          "base_uri": "https://localhost:8080/",
          "height": 317
        },
        "id": "WmJT7FkgxYXl",
        "outputId": "e47e4dea-11bf-4900-9fc0-55959c91210a"
      },
      "source": [
        "#describing the columns with Nul values inbetween 25% to 10%\n",
        "\n",
        "train_transaction[df_null_10_25.Feature].describe()"
      ],
      "execution_count": 17,
      "outputs": [
        {
          "output_type": "execute_result",
          "data": {
            "text/html": [
              "<div>\n",
              "<style scoped>\n",
              "    .dataframe tbody tr th:only-of-type {\n",
              "        vertical-align: middle;\n",
              "    }\n",
              "\n",
              "    .dataframe tbody tr th {\n",
              "        vertical-align: top;\n",
              "    }\n",
              "\n",
              "    .dataframe thead th {\n",
              "        text-align: right;\n",
              "    }\n",
              "</style>\n",
              "<table border=\"1\" class=\"dataframe\">\n",
              "  <thead>\n",
              "    <tr style=\"text-align: right;\">\n",
              "      <th></th>\n",
              "      <th>V81</th>\n",
              "      <th>V77</th>\n",
              "      <th>V82</th>\n",
              "      <th>V83</th>\n",
              "      <th>V84</th>\n",
              "      <th>V85</th>\n",
              "      <th>V86</th>\n",
              "      <th>V87</th>\n",
              "      <th>V79</th>\n",
              "      <th>V78</th>\n",
              "      <th>V76</th>\n",
              "      <th>V92</th>\n",
              "      <th>V75</th>\n",
              "      <th>V88</th>\n",
              "      <th>V89</th>\n",
              "      <th>V90</th>\n",
              "      <th>V91</th>\n",
              "      <th>V94</th>\n",
              "      <th>V93</th>\n",
              "      <th>V80</th>\n",
              "      <th>D15</th>\n",
              "      <th>V70</th>\n",
              "      <th>V53</th>\n",
              "      <th>V64</th>\n",
              "      <th>V74</th>\n",
              "      <th>V72</th>\n",
              "      <th>V71</th>\n",
              "      <th>V69</th>\n",
              "      <th>V68</th>\n",
              "      <th>V67</th>\n",
              "      <th>V66</th>\n",
              "      <th>V65</th>\n",
              "      <th>V63</th>\n",
              "      <th>V54</th>\n",
              "      <th>V62</th>\n",
              "      <th>V61</th>\n",
              "      <th>V60</th>\n",
              "      <th>V59</th>\n",
              "      <th>V58</th>\n",
              "      <th>V57</th>\n",
              "      <th>V56</th>\n",
              "      <th>V55</th>\n",
              "      <th>V73</th>\n",
              "      <th>V21</th>\n",
              "      <th>V22</th>\n",
              "      <th>V34</th>\n",
              "      <th>V32</th>\n",
              "      <th>V31</th>\n",
              "      <th>V30</th>\n",
              "      <th>V29</th>\n",
              "      <th>V28</th>\n",
              "      <th>V27</th>\n",
              "      <th>V26</th>\n",
              "      <th>V25</th>\n",
              "      <th>V24</th>\n",
              "      <th>V23</th>\n",
              "      <th>V33</th>\n",
              "      <th>V20</th>\n",
              "      <th>V19</th>\n",
              "      <th>V18</th>\n",
              "      <th>V17</th>\n",
              "      <th>V16</th>\n",
              "      <th>V15</th>\n",
              "      <th>V14</th>\n",
              "      <th>V13</th>\n",
              "      <th>V12</th>\n",
              "      <th>D10</th>\n",
              "      <th>addr1</th>\n",
              "      <th>addr2</th>\n",
              "    </tr>\n",
              "  </thead>\n",
              "  <tbody>\n",
              "    <tr>\n",
              "      <th>count</th>\n",
              "      <td>501376.0</td>\n",
              "      <td>501376.0</td>\n",
              "      <td>501376.0</td>\n",
              "      <td>501376.0</td>\n",
              "      <td>501376.0</td>\n",
              "      <td>501376.0</td>\n",
              "      <td>501376.0</td>\n",
              "      <td>501376.0</td>\n",
              "      <td>501376.0</td>\n",
              "      <td>501376.0</td>\n",
              "      <td>501376.0</td>\n",
              "      <td>501376.0</td>\n",
              "      <td>501376.0</td>\n",
              "      <td>501376.0</td>\n",
              "      <td>501376.000000</td>\n",
              "      <td>501376.0</td>\n",
              "      <td>501376.0</td>\n",
              "      <td>501376.0</td>\n",
              "      <td>501376.0</td>\n",
              "      <td>501376.0</td>\n",
              "      <td>501427.0</td>\n",
              "      <td>513444.0</td>\n",
              "      <td>513444.0</td>\n",
              "      <td>513444.0</td>\n",
              "      <td>513444.0</td>\n",
              "      <td>513444.0</td>\n",
              "      <td>513444.0</td>\n",
              "      <td>513444.0</td>\n",
              "      <td>513444.000000</td>\n",
              "      <td>513444.0</td>\n",
              "      <td>513444.0</td>\n",
              "      <td>513444.0</td>\n",
              "      <td>513444.0</td>\n",
              "      <td>513444.0</td>\n",
              "      <td>513444.0</td>\n",
              "      <td>513444.0</td>\n",
              "      <td>513444.0</td>\n",
              "      <td>513444.0</td>\n",
              "      <td>513444.0</td>\n",
              "      <td>513444.0</td>\n",
              "      <td>513444.0</td>\n",
              "      <td>513444.0</td>\n",
              "      <td>513444.0</td>\n",
              "      <td>514467.0</td>\n",
              "      <td>514467.0</td>\n",
              "      <td>514467.0</td>\n",
              "      <td>514467.0</td>\n",
              "      <td>514467.0</td>\n",
              "      <td>514467.0</td>\n",
              "      <td>514467.0</td>\n",
              "      <td>514467.000000</td>\n",
              "      <td>514467.000000</td>\n",
              "      <td>514467.0</td>\n",
              "      <td>514467.0</td>\n",
              "      <td>514467.0</td>\n",
              "      <td>514467.0</td>\n",
              "      <td>514467.0</td>\n",
              "      <td>514467.0</td>\n",
              "      <td>514467.0</td>\n",
              "      <td>514467.0</td>\n",
              "      <td>514467.0</td>\n",
              "      <td>514467.000000</td>\n",
              "      <td>514467.000000</td>\n",
              "      <td>514467.0</td>\n",
              "      <td>514467.0</td>\n",
              "      <td>514467.0</td>\n",
              "      <td>514518.0</td>\n",
              "      <td>524834.0</td>\n",
              "      <td>524834.0</td>\n",
              "    </tr>\n",
              "    <tr>\n",
              "      <th>mean</th>\n",
              "      <td>NaN</td>\n",
              "      <td>NaN</td>\n",
              "      <td>NaN</td>\n",
              "      <td>NaN</td>\n",
              "      <td>NaN</td>\n",
              "      <td>NaN</td>\n",
              "      <td>NaN</td>\n",
              "      <td>NaN</td>\n",
              "      <td>NaN</td>\n",
              "      <td>NaN</td>\n",
              "      <td>NaN</td>\n",
              "      <td>NaN</td>\n",
              "      <td>NaN</td>\n",
              "      <td>NaN</td>\n",
              "      <td>0.000902</td>\n",
              "      <td>NaN</td>\n",
              "      <td>NaN</td>\n",
              "      <td>NaN</td>\n",
              "      <td>NaN</td>\n",
              "      <td>NaN</td>\n",
              "      <td>NaN</td>\n",
              "      <td>NaN</td>\n",
              "      <td>NaN</td>\n",
              "      <td>NaN</td>\n",
              "      <td>NaN</td>\n",
              "      <td>NaN</td>\n",
              "      <td>NaN</td>\n",
              "      <td>NaN</td>\n",
              "      <td>0.000534</td>\n",
              "      <td>NaN</td>\n",
              "      <td>NaN</td>\n",
              "      <td>NaN</td>\n",
              "      <td>NaN</td>\n",
              "      <td>NaN</td>\n",
              "      <td>NaN</td>\n",
              "      <td>NaN</td>\n",
              "      <td>NaN</td>\n",
              "      <td>NaN</td>\n",
              "      <td>NaN</td>\n",
              "      <td>NaN</td>\n",
              "      <td>NaN</td>\n",
              "      <td>NaN</td>\n",
              "      <td>NaN</td>\n",
              "      <td>NaN</td>\n",
              "      <td>NaN</td>\n",
              "      <td>NaN</td>\n",
              "      <td>NaN</td>\n",
              "      <td>NaN</td>\n",
              "      <td>NaN</td>\n",
              "      <td>NaN</td>\n",
              "      <td>0.000830</td>\n",
              "      <td>0.000775</td>\n",
              "      <td>NaN</td>\n",
              "      <td>NaN</td>\n",
              "      <td>NaN</td>\n",
              "      <td>NaN</td>\n",
              "      <td>NaN</td>\n",
              "      <td>NaN</td>\n",
              "      <td>NaN</td>\n",
              "      <td>NaN</td>\n",
              "      <td>NaN</td>\n",
              "      <td>0.123352</td>\n",
              "      <td>0.122375</td>\n",
              "      <td>NaN</td>\n",
              "      <td>NaN</td>\n",
              "      <td>NaN</td>\n",
              "      <td>NaN</td>\n",
              "      <td>NaN</td>\n",
              "      <td>NaN</td>\n",
              "    </tr>\n",
              "    <tr>\n",
              "      <th>std</th>\n",
              "      <td>0.0</td>\n",
              "      <td>0.0</td>\n",
              "      <td>0.0</td>\n",
              "      <td>0.0</td>\n",
              "      <td>0.0</td>\n",
              "      <td>0.0</td>\n",
              "      <td>0.0</td>\n",
              "      <td>0.0</td>\n",
              "      <td>0.0</td>\n",
              "      <td>0.0</td>\n",
              "      <td>0.0</td>\n",
              "      <td>0.0</td>\n",
              "      <td>0.0</td>\n",
              "      <td>0.0</td>\n",
              "      <td>0.031952</td>\n",
              "      <td>0.0</td>\n",
              "      <td>0.0</td>\n",
              "      <td>0.0</td>\n",
              "      <td>0.0</td>\n",
              "      <td>0.0</td>\n",
              "      <td>NaN</td>\n",
              "      <td>0.0</td>\n",
              "      <td>0.0</td>\n",
              "      <td>0.0</td>\n",
              "      <td>0.0</td>\n",
              "      <td>0.0</td>\n",
              "      <td>0.0</td>\n",
              "      <td>0.0</td>\n",
              "      <td>0.023773</td>\n",
              "      <td>0.0</td>\n",
              "      <td>0.0</td>\n",
              "      <td>0.0</td>\n",
              "      <td>0.0</td>\n",
              "      <td>0.0</td>\n",
              "      <td>0.0</td>\n",
              "      <td>0.0</td>\n",
              "      <td>0.0</td>\n",
              "      <td>0.0</td>\n",
              "      <td>0.0</td>\n",
              "      <td>0.0</td>\n",
              "      <td>0.0</td>\n",
              "      <td>0.0</td>\n",
              "      <td>0.0</td>\n",
              "      <td>0.0</td>\n",
              "      <td>0.0</td>\n",
              "      <td>0.0</td>\n",
              "      <td>0.0</td>\n",
              "      <td>0.0</td>\n",
              "      <td>0.0</td>\n",
              "      <td>0.0</td>\n",
              "      <td>0.031128</td>\n",
              "      <td>0.028595</td>\n",
              "      <td>0.0</td>\n",
              "      <td>0.0</td>\n",
              "      <td>0.0</td>\n",
              "      <td>0.0</td>\n",
              "      <td>0.0</td>\n",
              "      <td>0.0</td>\n",
              "      <td>0.0</td>\n",
              "      <td>0.0</td>\n",
              "      <td>0.0</td>\n",
              "      <td>0.342529</td>\n",
              "      <td>0.332520</td>\n",
              "      <td>0.0</td>\n",
              "      <td>0.0</td>\n",
              "      <td>0.0</td>\n",
              "      <td>NaN</td>\n",
              "      <td>NaN</td>\n",
              "      <td>0.0</td>\n",
              "    </tr>\n",
              "    <tr>\n",
              "      <th>min</th>\n",
              "      <td>0.0</td>\n",
              "      <td>0.0</td>\n",
              "      <td>0.0</td>\n",
              "      <td>0.0</td>\n",
              "      <td>0.0</td>\n",
              "      <td>0.0</td>\n",
              "      <td>0.0</td>\n",
              "      <td>0.0</td>\n",
              "      <td>0.0</td>\n",
              "      <td>0.0</td>\n",
              "      <td>0.0</td>\n",
              "      <td>0.0</td>\n",
              "      <td>0.0</td>\n",
              "      <td>0.0</td>\n",
              "      <td>0.000000</td>\n",
              "      <td>0.0</td>\n",
              "      <td>0.0</td>\n",
              "      <td>0.0</td>\n",
              "      <td>0.0</td>\n",
              "      <td>0.0</td>\n",
              "      <td>-83.0</td>\n",
              "      <td>0.0</td>\n",
              "      <td>0.0</td>\n",
              "      <td>0.0</td>\n",
              "      <td>0.0</td>\n",
              "      <td>0.0</td>\n",
              "      <td>0.0</td>\n",
              "      <td>0.0</td>\n",
              "      <td>0.000000</td>\n",
              "      <td>0.0</td>\n",
              "      <td>0.0</td>\n",
              "      <td>0.0</td>\n",
              "      <td>0.0</td>\n",
              "      <td>0.0</td>\n",
              "      <td>0.0</td>\n",
              "      <td>0.0</td>\n",
              "      <td>0.0</td>\n",
              "      <td>0.0</td>\n",
              "      <td>0.0</td>\n",
              "      <td>0.0</td>\n",
              "      <td>0.0</td>\n",
              "      <td>0.0</td>\n",
              "      <td>0.0</td>\n",
              "      <td>0.0</td>\n",
              "      <td>0.0</td>\n",
              "      <td>0.0</td>\n",
              "      <td>0.0</td>\n",
              "      <td>0.0</td>\n",
              "      <td>0.0</td>\n",
              "      <td>0.0</td>\n",
              "      <td>0.000000</td>\n",
              "      <td>0.000000</td>\n",
              "      <td>0.0</td>\n",
              "      <td>0.0</td>\n",
              "      <td>0.0</td>\n",
              "      <td>0.0</td>\n",
              "      <td>0.0</td>\n",
              "      <td>0.0</td>\n",
              "      <td>0.0</td>\n",
              "      <td>0.0</td>\n",
              "      <td>0.0</td>\n",
              "      <td>0.000000</td>\n",
              "      <td>0.000000</td>\n",
              "      <td>0.0</td>\n",
              "      <td>0.0</td>\n",
              "      <td>0.0</td>\n",
              "      <td>0.0</td>\n",
              "      <td>100.0</td>\n",
              "      <td>10.0</td>\n",
              "    </tr>\n",
              "    <tr>\n",
              "      <th>25%</th>\n",
              "      <td>0.0</td>\n",
              "      <td>1.0</td>\n",
              "      <td>1.0</td>\n",
              "      <td>1.0</td>\n",
              "      <td>0.0</td>\n",
              "      <td>0.0</td>\n",
              "      <td>1.0</td>\n",
              "      <td>1.0</td>\n",
              "      <td>0.0</td>\n",
              "      <td>1.0</td>\n",
              "      <td>0.0</td>\n",
              "      <td>0.0</td>\n",
              "      <td>0.0</td>\n",
              "      <td>1.0</td>\n",
              "      <td>0.000000</td>\n",
              "      <td>0.0</td>\n",
              "      <td>0.0</td>\n",
              "      <td>0.0</td>\n",
              "      <td>0.0</td>\n",
              "      <td>0.0</td>\n",
              "      <td>0.0</td>\n",
              "      <td>0.0</td>\n",
              "      <td>0.0</td>\n",
              "      <td>0.0</td>\n",
              "      <td>0.0</td>\n",
              "      <td>0.0</td>\n",
              "      <td>0.0</td>\n",
              "      <td>0.0</td>\n",
              "      <td>0.000000</td>\n",
              "      <td>1.0</td>\n",
              "      <td>1.0</td>\n",
              "      <td>1.0</td>\n",
              "      <td>0.0</td>\n",
              "      <td>0.0</td>\n",
              "      <td>1.0</td>\n",
              "      <td>1.0</td>\n",
              "      <td>0.0</td>\n",
              "      <td>0.0</td>\n",
              "      <td>0.0</td>\n",
              "      <td>0.0</td>\n",
              "      <td>1.0</td>\n",
              "      <td>1.0</td>\n",
              "      <td>0.0</td>\n",
              "      <td>0.0</td>\n",
              "      <td>0.0</td>\n",
              "      <td>0.0</td>\n",
              "      <td>0.0</td>\n",
              "      <td>0.0</td>\n",
              "      <td>0.0</td>\n",
              "      <td>0.0</td>\n",
              "      <td>0.000000</td>\n",
              "      <td>0.000000</td>\n",
              "      <td>1.0</td>\n",
              "      <td>1.0</td>\n",
              "      <td>1.0</td>\n",
              "      <td>1.0</td>\n",
              "      <td>0.0</td>\n",
              "      <td>1.0</td>\n",
              "      <td>1.0</td>\n",
              "      <td>0.0</td>\n",
              "      <td>0.0</td>\n",
              "      <td>0.000000</td>\n",
              "      <td>0.000000</td>\n",
              "      <td>1.0</td>\n",
              "      <td>0.0</td>\n",
              "      <td>0.0</td>\n",
              "      <td>0.0</td>\n",
              "      <td>204.0</td>\n",
              "      <td>87.0</td>\n",
              "    </tr>\n",
              "    <tr>\n",
              "      <th>50%</th>\n",
              "      <td>0.0</td>\n",
              "      <td>1.0</td>\n",
              "      <td>1.0</td>\n",
              "      <td>1.0</td>\n",
              "      <td>0.0</td>\n",
              "      <td>0.0</td>\n",
              "      <td>1.0</td>\n",
              "      <td>1.0</td>\n",
              "      <td>0.0</td>\n",
              "      <td>1.0</td>\n",
              "      <td>1.0</td>\n",
              "      <td>0.0</td>\n",
              "      <td>1.0</td>\n",
              "      <td>1.0</td>\n",
              "      <td>0.000000</td>\n",
              "      <td>0.0</td>\n",
              "      <td>0.0</td>\n",
              "      <td>0.0</td>\n",
              "      <td>0.0</td>\n",
              "      <td>0.0</td>\n",
              "      <td>52.0</td>\n",
              "      <td>0.0</td>\n",
              "      <td>1.0</td>\n",
              "      <td>0.0</td>\n",
              "      <td>0.0</td>\n",
              "      <td>0.0</td>\n",
              "      <td>0.0</td>\n",
              "      <td>0.0</td>\n",
              "      <td>0.000000</td>\n",
              "      <td>1.0</td>\n",
              "      <td>1.0</td>\n",
              "      <td>1.0</td>\n",
              "      <td>0.0</td>\n",
              "      <td>1.0</td>\n",
              "      <td>1.0</td>\n",
              "      <td>1.0</td>\n",
              "      <td>0.0</td>\n",
              "      <td>0.0</td>\n",
              "      <td>0.0</td>\n",
              "      <td>0.0</td>\n",
              "      <td>1.0</td>\n",
              "      <td>1.0</td>\n",
              "      <td>0.0</td>\n",
              "      <td>0.0</td>\n",
              "      <td>0.0</td>\n",
              "      <td>0.0</td>\n",
              "      <td>0.0</td>\n",
              "      <td>0.0</td>\n",
              "      <td>0.0</td>\n",
              "      <td>0.0</td>\n",
              "      <td>0.000000</td>\n",
              "      <td>0.000000</td>\n",
              "      <td>1.0</td>\n",
              "      <td>1.0</td>\n",
              "      <td>1.0</td>\n",
              "      <td>1.0</td>\n",
              "      <td>0.0</td>\n",
              "      <td>1.0</td>\n",
              "      <td>1.0</td>\n",
              "      <td>0.0</td>\n",
              "      <td>0.0</td>\n",
              "      <td>0.000000</td>\n",
              "      <td>0.000000</td>\n",
              "      <td>1.0</td>\n",
              "      <td>1.0</td>\n",
              "      <td>1.0</td>\n",
              "      <td>15.0</td>\n",
              "      <td>299.0</td>\n",
              "      <td>87.0</td>\n",
              "    </tr>\n",
              "    <tr>\n",
              "      <th>75%</th>\n",
              "      <td>0.0</td>\n",
              "      <td>1.0</td>\n",
              "      <td>1.0</td>\n",
              "      <td>1.0</td>\n",
              "      <td>0.0</td>\n",
              "      <td>0.0</td>\n",
              "      <td>1.0</td>\n",
              "      <td>1.0</td>\n",
              "      <td>0.0</td>\n",
              "      <td>1.0</td>\n",
              "      <td>1.0</td>\n",
              "      <td>0.0</td>\n",
              "      <td>1.0</td>\n",
              "      <td>1.0</td>\n",
              "      <td>0.000000</td>\n",
              "      <td>1.0</td>\n",
              "      <td>1.0</td>\n",
              "      <td>0.0</td>\n",
              "      <td>0.0</td>\n",
              "      <td>0.0</td>\n",
              "      <td>314.0</td>\n",
              "      <td>1.0</td>\n",
              "      <td>1.0</td>\n",
              "      <td>0.0</td>\n",
              "      <td>0.0</td>\n",
              "      <td>0.0</td>\n",
              "      <td>0.0</td>\n",
              "      <td>1.0</td>\n",
              "      <td>0.000000</td>\n",
              "      <td>1.0</td>\n",
              "      <td>1.0</td>\n",
              "      <td>1.0</td>\n",
              "      <td>0.0</td>\n",
              "      <td>1.0</td>\n",
              "      <td>1.0</td>\n",
              "      <td>1.0</td>\n",
              "      <td>0.0</td>\n",
              "      <td>0.0</td>\n",
              "      <td>0.0</td>\n",
              "      <td>0.0</td>\n",
              "      <td>1.0</td>\n",
              "      <td>1.0</td>\n",
              "      <td>0.0</td>\n",
              "      <td>0.0</td>\n",
              "      <td>0.0</td>\n",
              "      <td>0.0</td>\n",
              "      <td>0.0</td>\n",
              "      <td>0.0</td>\n",
              "      <td>1.0</td>\n",
              "      <td>1.0</td>\n",
              "      <td>0.000000</td>\n",
              "      <td>0.000000</td>\n",
              "      <td>1.0</td>\n",
              "      <td>1.0</td>\n",
              "      <td>1.0</td>\n",
              "      <td>1.0</td>\n",
              "      <td>0.0</td>\n",
              "      <td>1.0</td>\n",
              "      <td>1.0</td>\n",
              "      <td>0.0</td>\n",
              "      <td>0.0</td>\n",
              "      <td>0.000000</td>\n",
              "      <td>0.000000</td>\n",
              "      <td>1.0</td>\n",
              "      <td>1.0</td>\n",
              "      <td>1.0</td>\n",
              "      <td>197.0</td>\n",
              "      <td>330.0</td>\n",
              "      <td>87.0</td>\n",
              "    </tr>\n",
              "    <tr>\n",
              "      <th>max</th>\n",
              "      <td>19.0</td>\n",
              "      <td>30.0</td>\n",
              "      <td>7.0</td>\n",
              "      <td>7.0</td>\n",
              "      <td>7.0</td>\n",
              "      <td>7.0</td>\n",
              "      <td>30.0</td>\n",
              "      <td>30.0</td>\n",
              "      <td>7.0</td>\n",
              "      <td>31.0</td>\n",
              "      <td>6.0</td>\n",
              "      <td>7.0</td>\n",
              "      <td>4.0</td>\n",
              "      <td>1.0</td>\n",
              "      <td>2.000000</td>\n",
              "      <td>5.0</td>\n",
              "      <td>6.0</td>\n",
              "      <td>2.0</td>\n",
              "      <td>7.0</td>\n",
              "      <td>19.0</td>\n",
              "      <td>879.0</td>\n",
              "      <td>6.0</td>\n",
              "      <td>5.0</td>\n",
              "      <td>7.0</td>\n",
              "      <td>8.0</td>\n",
              "      <td>10.0</td>\n",
              "      <td>6.0</td>\n",
              "      <td>5.0</td>\n",
              "      <td>2.000000</td>\n",
              "      <td>8.0</td>\n",
              "      <td>7.0</td>\n",
              "      <td>1.0</td>\n",
              "      <td>7.0</td>\n",
              "      <td>6.0</td>\n",
              "      <td>10.0</td>\n",
              "      <td>6.0</td>\n",
              "      <td>16.0</td>\n",
              "      <td>16.0</td>\n",
              "      <td>10.0</td>\n",
              "      <td>6.0</td>\n",
              "      <td>51.0</td>\n",
              "      <td>17.0</td>\n",
              "      <td>7.0</td>\n",
              "      <td>5.0</td>\n",
              "      <td>8.0</td>\n",
              "      <td>13.0</td>\n",
              "      <td>15.0</td>\n",
              "      <td>7.0</td>\n",
              "      <td>9.0</td>\n",
              "      <td>5.0</td>\n",
              "      <td>4.000000</td>\n",
              "      <td>4.000000</td>\n",
              "      <td>13.0</td>\n",
              "      <td>7.0</td>\n",
              "      <td>13.0</td>\n",
              "      <td>13.0</td>\n",
              "      <td>7.0</td>\n",
              "      <td>15.0</td>\n",
              "      <td>7.0</td>\n",
              "      <td>15.0</td>\n",
              "      <td>15.0</td>\n",
              "      <td>15.000000</td>\n",
              "      <td>7.000000</td>\n",
              "      <td>1.0</td>\n",
              "      <td>6.0</td>\n",
              "      <td>3.0</td>\n",
              "      <td>876.0</td>\n",
              "      <td>540.0</td>\n",
              "      <td>102.0</td>\n",
              "    </tr>\n",
              "  </tbody>\n",
              "</table>\n",
              "</div>"
            ],
            "text/plain": [
              "            V81       V77       V82  ...       D10     addr1     addr2\n",
              "count  501376.0  501376.0  501376.0  ...  514518.0  524834.0  524834.0\n",
              "mean        NaN       NaN       NaN  ...       NaN       NaN       NaN\n",
              "std         0.0       0.0       0.0  ...       NaN       NaN       0.0\n",
              "min         0.0       0.0       0.0  ...       0.0     100.0      10.0\n",
              "25%         0.0       1.0       1.0  ...       0.0     204.0      87.0\n",
              "50%         0.0       1.0       1.0  ...      15.0     299.0      87.0\n",
              "75%         0.0       1.0       1.0  ...     197.0     330.0      87.0\n",
              "max        19.0      30.0       7.0  ...     876.0     540.0     102.0\n",
              "\n",
              "[8 rows x 69 columns]"
            ]
          },
          "metadata": {
            "tags": []
          },
          "execution_count": 17
        }
      ]
    },
    {
      "cell_type": "code",
      "metadata": {
        "colab": {
          "base_uri": "https://localhost:8080/"
        },
        "id": "YEw33EJlr-jE",
        "outputId": "dad8e1bb-e18b-41a1-9ab4-2612f543c76b"
      },
      "source": [
        "#checking on the data tyes of all the columns with Null values in between 10% to 25%\n",
        "train_transaction[df_null_10_25.Feature].info()"
      ],
      "execution_count": 18,
      "outputs": [
        {
          "output_type": "stream",
          "text": [
            "<class 'pandas.core.frame.DataFrame'>\n",
            "RangeIndex: 590540 entries, 0 to 590539\n",
            "Data columns (total 70 columns):\n",
            " #   Column         Non-Null Count   Dtype   \n",
            "---  ------         --------------   -----   \n",
            " 0   P_emaildomain  496084 non-null  category\n",
            " 1   V81            501376 non-null  float16 \n",
            " 2   V77            501376 non-null  float16 \n",
            " 3   V82            501376 non-null  float16 \n",
            " 4   V83            501376 non-null  float16 \n",
            " 5   V84            501376 non-null  float16 \n",
            " 6   V85            501376 non-null  float16 \n",
            " 7   V86            501376 non-null  float16 \n",
            " 8   V87            501376 non-null  float16 \n",
            " 9   V79            501376 non-null  float16 \n",
            " 10  V78            501376 non-null  float16 \n",
            " 11  V76            501376 non-null  float16 \n",
            " 12  V92            501376 non-null  float16 \n",
            " 13  V75            501376 non-null  float16 \n",
            " 14  V88            501376 non-null  float16 \n",
            " 15  V89            501376 non-null  float16 \n",
            " 16  V90            501376 non-null  float16 \n",
            " 17  V91            501376 non-null  float16 \n",
            " 18  V94            501376 non-null  float16 \n",
            " 19  V93            501376 non-null  float16 \n",
            " 20  V80            501376 non-null  float16 \n",
            " 21  D15            501427 non-null  float16 \n",
            " 22  V70            513444 non-null  float16 \n",
            " 23  V53            513444 non-null  float16 \n",
            " 24  V64            513444 non-null  float16 \n",
            " 25  V74            513444 non-null  float16 \n",
            " 26  V72            513444 non-null  float16 \n",
            " 27  V71            513444 non-null  float16 \n",
            " 28  V69            513444 non-null  float16 \n",
            " 29  V68            513444 non-null  float16 \n",
            " 30  V67            513444 non-null  float16 \n",
            " 31  V66            513444 non-null  float16 \n",
            " 32  V65            513444 non-null  float16 \n",
            " 33  V63            513444 non-null  float16 \n",
            " 34  V54            513444 non-null  float16 \n",
            " 35  V62            513444 non-null  float16 \n",
            " 36  V61            513444 non-null  float16 \n",
            " 37  V60            513444 non-null  float16 \n",
            " 38  V59            513444 non-null  float16 \n",
            " 39  V58            513444 non-null  float16 \n",
            " 40  V57            513444 non-null  float16 \n",
            " 41  V56            513444 non-null  float16 \n",
            " 42  V55            513444 non-null  float16 \n",
            " 43  V73            513444 non-null  float16 \n",
            " 44  V21            514467 non-null  float16 \n",
            " 45  V22            514467 non-null  float16 \n",
            " 46  V34            514467 non-null  float16 \n",
            " 47  V32            514467 non-null  float16 \n",
            " 48  V31            514467 non-null  float16 \n",
            " 49  V30            514467 non-null  float16 \n",
            " 50  V29            514467 non-null  float16 \n",
            " 51  V28            514467 non-null  float16 \n",
            " 52  V27            514467 non-null  float16 \n",
            " 53  V26            514467 non-null  float16 \n",
            " 54  V25            514467 non-null  float16 \n",
            " 55  V24            514467 non-null  float16 \n",
            " 56  V23            514467 non-null  float16 \n",
            " 57  V33            514467 non-null  float16 \n",
            " 58  V20            514467 non-null  float16 \n",
            " 59  V19            514467 non-null  float16 \n",
            " 60  V18            514467 non-null  float16 \n",
            " 61  V17            514467 non-null  float16 \n",
            " 62  V16            514467 non-null  float16 \n",
            " 63  V15            514467 non-null  float16 \n",
            " 64  V14            514467 non-null  float16 \n",
            " 65  V13            514467 non-null  float16 \n",
            " 66  V12            514467 non-null  float16 \n",
            " 67  D10            514518 non-null  float16 \n",
            " 68  addr1          524834 non-null  float16 \n",
            " 69  addr2          524834 non-null  float16 \n",
            "dtypes: category(1), float16(69)\n",
            "memory usage: 78.3 MB\n"
          ],
          "name": "stdout"
        }
      ]
    },
    {
      "cell_type": "code",
      "metadata": {
        "colab": {
          "base_uri": "https://localhost:8080/"
        },
        "id": "3emRNFRJps7s",
        "outputId": "879b236d-bcd8-4257-c976-3d68fe411d02"
      },
      "source": [
        "#Lets first check on how much percent of Data is termed as fraud\n",
        "train_transaction['isFraud'].value_counts(normalize=True)"
      ],
      "execution_count": 19,
      "outputs": [
        {
          "output_type": "execute_result",
          "data": {
            "text/plain": [
              "0    0.96501\n",
              "1    0.03499\n",
              "Name: isFraud, dtype: float64"
            ]
          },
          "metadata": {
            "tags": []
          },
          "execution_count": 19
        }
      ]
    },
    {
      "cell_type": "code",
      "metadata": {
        "colab": {
          "base_uri": "https://localhost:8080/",
          "height": 248
        },
        "id": "dkPMReOQAE7W",
        "outputId": "f9e871cc-997d-482f-97ad-91b36cddd93f"
      },
      "source": [
        "#ploting on fraud and non-fraud into graph\n",
        "train_transaction['isFraud'].value_counts().plot.pie(autopct = '%1.2f%%');"
      ],
      "execution_count": 20,
      "outputs": [
        {
          "output_type": "display_data",
          "data": {
            "image/png": "[encoded data removed]",
            "text/plain": [
              "<Figure size 432x288 with 1 Axes>"
            ]
          },
          "metadata": {
            "tags": []
          }
        }
      ]
    },
    {
      "cell_type": "markdown",
      "metadata": {
        "id": "YCuIGoWNp0w6"
      },
      "source": [
        "Since the data is highly imbalanced so it will be better to divide the data frame in to two frames 0's and 1's correspondingly and then impute or delete null values"
      ]
    },
    {
      "cell_type": "code",
      "metadata": {
        "id": "e6c5WwXTAFH4"
      },
      "source": [
        "#Dividing into two dataframes\n",
        "df_1 = train_transaction[train_transaction['isFraud']==1]\n",
        "df_0 = train_transaction[train_transaction['isFraud']==0]\n",
        "df_1.reset_index(drop=True,inplace=True)\n",
        "df_0.reset_index(drop=True,inplace=True)"
      ],
      "execution_count": 21,
      "outputs": []
    },
    {
      "cell_type": "code",
      "metadata": {
        "colab": {
          "base_uri": "https://localhost:8080/"
        },
        "id": "h7OjktqsqxL9",
        "outputId": "9bdc72d4-accf-4387-a18c-4166aa327dcd"
      },
      "source": [
        "# Imputing values in P_emaildomain\n",
        "df_1['P_emaildomain'].value_counts()"
      ],
      "execution_count": 22,
      "outputs": [
        {
          "output_type": "execute_result",
          "data": {
            "text/plain": [
              "gmail.com           9943\n",
              "hotmail.com         2396\n",
              "yahoo.com           2297\n",
              "anonymous.com        859\n",
              "aol.com              617\n",
              "outlook.com          482\n",
              "comcast.net          246\n",
              "icloud.com           197\n",
              "mail.com             106\n",
              "msn.com               90\n",
              "live.com              84\n",
              "outlook.es            57\n",
              "bellsouth.net         53\n",
              "ymail.com             50\n",
              "live.com.mx           41\n",
              "aim.com               40\n",
              "protonmail.com        31\n",
              "att.net               30\n",
              "cox.net               29\n",
              "me.com                27\n",
              "charter.net           25\n",
              "verizon.net           22\n",
              "hotmail.es            20\n",
              "optonline.net         17\n",
              "yahoo.com.mx          16\n",
              "mac.com               14\n",
              "sbcglobal.net         12\n",
              "gmail                 11\n",
              "earthlink.net         11\n",
              "embarqmail.com         9\n",
              "frontier.com           8\n",
              "juno.com               6\n",
              "yahoo.fr               5\n",
              "frontiernet.net        5\n",
              "suddenlink.net         4\n",
              "roadrunner.com         3\n",
              "cableone.net           3\n",
              "rocketmail.com         2\n",
              "yahoo.es               2\n",
              "sc.rr.com              1\n",
              "netzero.net            1\n",
              "prodigy.net.mx         1\n",
              "hotmail.co.uk          0\n",
              "q.com                  0\n",
              "yahoo.de               0\n",
              "ptd.net                0\n",
              "servicios-ta.com       0\n",
              "centurylink.net        0\n",
              "cfl.rr.com             0\n",
              "yahoo.co.uk            0\n",
              "gmx.de                 0\n",
              "netzero.com            0\n",
              "twc.com                0\n",
              "live.fr                0\n",
              "web.de                 0\n",
              "hotmail.de             0\n",
              "windstream.net         0\n",
              "yahoo.co.jp            0\n",
              "hotmail.fr             0\n",
              "Name: P_emaildomain, dtype: int64"
            ]
          },
          "metadata": {
            "tags": []
          },
          "execution_count": 22
        }
      ]
    },
    {
      "cell_type": "code",
      "metadata": {
        "id": "NgY6blyOrWcC"
      },
      "source": [
        "#filling NA with anonymous.com\n",
        "df_1['P_emaildomain'].fillna('anonymous.com', inplace=True)"
      ],
      "execution_count": 23,
      "outputs": []
    },
    {
      "cell_type": "code",
      "metadata": {
        "id": "efYkF1EJrlBR"
      },
      "source": [
        "#since the data for isFraud=0 is very high so it wont matter much if we delete rows containg Null values in P_emaildomain \n",
        "df_0['P_emaildomain'].fillna('anonymous.com', inplace=True)"
      ],
      "execution_count": 24,
      "outputs": []
    },
    {
      "cell_type": "code",
      "metadata": {
        "colab": {
          "base_uri": "https://localhost:8080/",
          "height": 419
        },
        "id": "nL41uinWrlEi",
        "outputId": "18f8a5e8-a4c9-4384-d309-e7af69d2af61"
      },
      "source": [
        "#removing P_emaildomain from Null list\n",
        "df_null_10_25 = df_null_10_25.iloc[1:,:]\n",
        "df_null_10_25.reset_index(drop=True)"
      ],
      "execution_count": 25,
      "outputs": [
        {
          "output_type": "execute_result",
          "data": {
            "text/html": [
              "<div>\n",
              "<style scoped>\n",
              "    .dataframe tbody tr th:only-of-type {\n",
              "        vertical-align: middle;\n",
              "    }\n",
              "\n",
              "    .dataframe tbody tr th {\n",
              "        vertical-align: top;\n",
              "    }\n",
              "\n",
              "    .dataframe thead th {\n",
              "        text-align: right;\n",
              "    }\n",
              "</style>\n",
              "<table border=\"1\" class=\"dataframe\">\n",
              "  <thead>\n",
              "    <tr style=\"text-align: right;\">\n",
              "      <th></th>\n",
              "      <th>Feature</th>\n",
              "      <th>Percent</th>\n",
              "    </tr>\n",
              "  </thead>\n",
              "  <tbody>\n",
              "    <tr>\n",
              "      <th>0</th>\n",
              "      <td>V81</td>\n",
              "      <td>15.098723</td>\n",
              "    </tr>\n",
              "    <tr>\n",
              "      <th>1</th>\n",
              "      <td>V77</td>\n",
              "      <td>15.098723</td>\n",
              "    </tr>\n",
              "    <tr>\n",
              "      <th>2</th>\n",
              "      <td>V82</td>\n",
              "      <td>15.098723</td>\n",
              "    </tr>\n",
              "    <tr>\n",
              "      <th>3</th>\n",
              "      <td>V83</td>\n",
              "      <td>15.098723</td>\n",
              "    </tr>\n",
              "    <tr>\n",
              "      <th>4</th>\n",
              "      <td>V84</td>\n",
              "      <td>15.098723</td>\n",
              "    </tr>\n",
              "    <tr>\n",
              "      <th>...</th>\n",
              "      <td>...</td>\n",
              "      <td>...</td>\n",
              "    </tr>\n",
              "    <tr>\n",
              "      <th>64</th>\n",
              "      <td>V13</td>\n",
              "      <td>12.881939</td>\n",
              "    </tr>\n",
              "    <tr>\n",
              "      <th>65</th>\n",
              "      <td>V12</td>\n",
              "      <td>12.881939</td>\n",
              "    </tr>\n",
              "    <tr>\n",
              "      <th>66</th>\n",
              "      <td>D10</td>\n",
              "      <td>12.873302</td>\n",
              "    </tr>\n",
              "    <tr>\n",
              "      <th>67</th>\n",
              "      <td>addr1</td>\n",
              "      <td>11.126427</td>\n",
              "    </tr>\n",
              "    <tr>\n",
              "      <th>68</th>\n",
              "      <td>addr2</td>\n",
              "      <td>11.126427</td>\n",
              "    </tr>\n",
              "  </tbody>\n",
              "</table>\n",
              "<p>69 rows × 2 columns</p>\n",
              "</div>"
            ],
            "text/plain": [
              "   Feature    Percent\n",
              "0      V81  15.098723\n",
              "1      V77  15.098723\n",
              "2      V82  15.098723\n",
              "3      V83  15.098723\n",
              "4      V84  15.098723\n",
              "..     ...        ...\n",
              "64     V13  12.881939\n",
              "65     V12  12.881939\n",
              "66     D10  12.873302\n",
              "67   addr1  11.126427\n",
              "68   addr2  11.126427\n",
              "\n",
              "[69 rows x 2 columns]"
            ]
          },
          "metadata": {
            "tags": []
          },
          "execution_count": 25
        }
      ]
    },
    {
      "cell_type": "code",
      "metadata": {
        "colab": {
          "base_uri": "https://localhost:8080/"
        },
        "id": "YYbt_y-GvIDh",
        "outputId": "94a86c33-55a1-46c7-ac5f-94cdabd274e3"
      },
      "source": [
        "#checking data types of remaing columns which has Null Values in between 10% and 25%\n",
        "train_transaction[df_null_10_25.Feature].info()"
      ],
      "execution_count": 26,
      "outputs": [
        {
          "output_type": "stream",
          "text": [
            "<class 'pandas.core.frame.DataFrame'>\n",
            "RangeIndex: 590540 entries, 0 to 590539\n",
            "Data columns (total 69 columns):\n",
            " #   Column  Non-Null Count   Dtype  \n",
            "---  ------  --------------   -----  \n",
            " 0   V81     501376 non-null  float16\n",
            " 1   V77     501376 non-null  float16\n",
            " 2   V82     501376 non-null  float16\n",
            " 3   V83     501376 non-null  float16\n",
            " 4   V84     501376 non-null  float16\n",
            " 5   V85     501376 non-null  float16\n",
            " 6   V86     501376 non-null  float16\n",
            " 7   V87     501376 non-null  float16\n",
            " 8   V79     501376 non-null  float16\n",
            " 9   V78     501376 non-null  float16\n",
            " 10  V76     501376 non-null  float16\n",
            " 11  V92     501376 non-null  float16\n",
            " 12  V75     501376 non-null  float16\n",
            " 13  V88     501376 non-null  float16\n",
            " 14  V89     501376 non-null  float16\n",
            " 15  V90     501376 non-null  float16\n",
            " 16  V91     501376 non-null  float16\n",
            " 17  V94     501376 non-null  float16\n",
            " 18  V93     501376 non-null  float16\n",
            " 19  V80     501376 non-null  float16\n",
            " 20  D15     501427 non-null  float16\n",
            " 21  V70     513444 non-null  float16\n",
            " 22  V53     513444 non-null  float16\n",
            " 23  V64     513444 non-null  float16\n",
            " 24  V74     513444 non-null  float16\n",
            " 25  V72     513444 non-null  float16\n",
            " 26  V71     513444 non-null  float16\n",
            " 27  V69     513444 non-null  float16\n",
            " 28  V68     513444 non-null  float16\n",
            " 29  V67     513444 non-null  float16\n",
            " 30  V66     513444 non-null  float16\n",
            " 31  V65     513444 non-null  float16\n",
            " 32  V63     513444 non-null  float16\n",
            " 33  V54     513444 non-null  float16\n",
            " 34  V62     513444 non-null  float16\n",
            " 35  V61     513444 non-null  float16\n",
            " 36  V60     513444 non-null  float16\n",
            " 37  V59     513444 non-null  float16\n",
            " 38  V58     513444 non-null  float16\n",
            " 39  V57     513444 non-null  float16\n",
            " 40  V56     513444 non-null  float16\n",
            " 41  V55     513444 non-null  float16\n",
            " 42  V73     513444 non-null  float16\n",
            " 43  V21     514467 non-null  float16\n",
            " 44  V22     514467 non-null  float16\n",
            " 45  V34     514467 non-null  float16\n",
            " 46  V32     514467 non-null  float16\n",
            " 47  V31     514467 non-null  float16\n",
            " 48  V30     514467 non-null  float16\n",
            " 49  V29     514467 non-null  float16\n",
            " 50  V28     514467 non-null  float16\n",
            " 51  V27     514467 non-null  float16\n",
            " 52  V26     514467 non-null  float16\n",
            " 53  V25     514467 non-null  float16\n",
            " 54  V24     514467 non-null  float16\n",
            " 55  V23     514467 non-null  float16\n",
            " 56  V33     514467 non-null  float16\n",
            " 57  V20     514467 non-null  float16\n",
            " 58  V19     514467 non-null  float16\n",
            " 59  V18     514467 non-null  float16\n",
            " 60  V17     514467 non-null  float16\n",
            " 61  V16     514467 non-null  float16\n",
            " 62  V15     514467 non-null  float16\n",
            " 63  V14     514467 non-null  float16\n",
            " 64  V13     514467 non-null  float16\n",
            " 65  V12     514467 non-null  float16\n",
            " 66  D10     514518 non-null  float16\n",
            " 67  addr1   524834 non-null  float16\n",
            " 68  addr2   524834 non-null  float16\n",
            "dtypes: float16(69)\n",
            "memory usage: 77.7 MB\n"
          ],
          "name": "stdout"
        }
      ]
    },
    {
      "cell_type": "markdown",
      "metadata": {
        "id": "SOimq4HAvZPj"
      },
      "source": [
        "Since all the data types are float so we can impute the null values of the columns to most frequent"
      ]
    },
    {
      "cell_type": "code",
      "metadata": {
        "id": "MuzdEPshvs1q"
      },
      "source": [
        "null_columns = df_null_10_25.Feature"
      ],
      "execution_count": 27,
      "outputs": []
    },
    {
      "cell_type": "code",
      "metadata": {
        "id": "FVm9J6DRvRtE"
      },
      "source": [
        "# using imuter to impute remaining columns which have null values in between 10%-25%\n",
        "from sklearn.impute import SimpleImputer\n",
        "imp = SimpleImputer(missing_values=np.nan, strategy = 'most_frequent')\n",
        "imp = imp.fit(df_0.loc[:,null_columns])\n",
        "df_0.loc[:,null_columns] = imp.transform(df_0.loc[:,null_columns])"
      ],
      "execution_count": 28,
      "outputs": []
    },
    {
      "cell_type": "code",
      "metadata": {
        "id": "wwZfszBz1qLp"
      },
      "source": [
        "imp = SimpleImputer(missing_values=np.nan, strategy = 'most_frequent')\n",
        "imp = imp.fit(df_0.loc[:,null_columns])\n",
        "df_1.loc[:,null_columns] = imp.transform(df_1.loc[:,null_columns])"
      ],
      "execution_count": 29,
      "outputs": []
    },
    {
      "cell_type": "code",
      "metadata": {
        "colab": {
          "base_uri": "https://localhost:8080/"
        },
        "id": "SJ8474RMvhK6",
        "outputId": "54418583-4e9d-4cbd-c805-6a48a7aea53f"
      },
      "source": [
        "#re-calculating Null values for isFraud==0\n",
        "null_columns = df_0.columns[df_0.isnull().any()]\n",
        "null_values = 100*df_0[null_columns].isnull().sum()/df_0.shape[0]\n",
        "df_null=pd.DataFrame(null_values)\n",
        "df_null.index.name ='Feature'\n",
        "df_null.rename(columns={0:'Percent'},inplace=True)\n",
        "df_null.reset_index(drop=False, inplace=True)\n",
        "df_null_0 = df_null.sort_values(['Percent'],ascending=False).reset_index(drop=True)\n",
        "print(df_null_0)"
      ],
      "execution_count": 30,
      "outputs": [
        {
          "output_type": "stream",
          "text": [
            "   Feature   Percent\n",
            "0    card2  1.493305\n",
            "1    card5  0.710504\n",
            "2    card4  0.269532\n",
            "3    card6  0.268830\n",
            "4    card3  0.267777\n",
            "..     ...       ...\n",
            "87    V295  0.001755\n",
            "88    V297  0.001755\n",
            "89    V298  0.001755\n",
            "90    V299  0.001755\n",
            "91    V321  0.001755\n",
            "\n",
            "[92 rows x 2 columns]\n"
          ],
          "name": "stdout"
        }
      ]
    },
    {
      "cell_type": "markdown",
      "metadata": {
        "id": "mKFnXwEj3BsJ"
      },
      "source": [
        "We can delete rows of Dataframe df_0 which has null values less than 3% but for df_1 we need to impute as there is high imbalance"
      ]
    },
    {
      "cell_type": "code",
      "metadata": {
        "id": "2_F4Xr3RvhEe"
      },
      "source": [
        "#dropping rows containg null values from df_0\n",
        "\n",
        "df_0.dropna(inplace=True)"
      ],
      "execution_count": 31,
      "outputs": []
    },
    {
      "cell_type": "code",
      "metadata": {
        "colab": {
          "base_uri": "https://localhost:8080/"
        },
        "id": "Lt18491ENhAq",
        "outputId": "2d9f7af7-ccca-4bf4-9c47-e9b77ffa6d2a"
      },
      "source": [
        "df_0.shape"
      ],
      "execution_count": 32,
      "outputs": [
        {
          "output_type": "execute_result",
          "data": {
            "text/plain": [
              "(558065, 182)"
            ]
          },
          "metadata": {
            "tags": []
          },
          "execution_count": 32
        }
      ]
    },
    {
      "cell_type": "code",
      "metadata": {
        "colab": {
          "base_uri": "https://localhost:8080/"
        },
        "id": "vjz_MJK7Ngm6",
        "outputId": "923fbca8-10aa-400d-fcc6-5602d432a166"
      },
      "source": [
        "#re-calculating Null values for isFraud==1\n",
        "null_columns_1 = df_1.columns[df_1.isnull().any()]\n",
        "null_values = 100*df_1[null_columns_1].isnull().sum()/df_1.shape[0]\n",
        "df_null=pd.DataFrame(null_values)\n",
        "df_null.index.name ='Feature'\n",
        "df_null.rename(columns={0:'Percent'},inplace=True)\n",
        "df_null.reset_index(drop=False, inplace=True)\n",
        "df_null_1 = df_null.sort_values(['Percent'],ascending=False).reset_index(drop=True)\n",
        "print(df_null_1)"
      ],
      "execution_count": 33,
      "outputs": [
        {
          "output_type": "stream",
          "text": [
            "   Feature   Percent\n",
            "0    card2  2.047137\n",
            "1    card5  1.016309\n",
            "2     V301  0.222620\n",
            "3     V282  0.222620\n",
            "4     V283  0.222620\n",
            "..     ...       ...\n",
            "87    V295  0.009679\n",
            "88    V297  0.009679\n",
            "89    V298  0.009679\n",
            "90    V299  0.009679\n",
            "91    V321  0.009679\n",
            "\n",
            "[92 rows x 2 columns]\n"
          ],
          "name": "stdout"
        }
      ]
    },
    {
      "cell_type": "code",
      "metadata": {
        "colab": {
          "base_uri": "https://localhost:8080/"
        },
        "id": "90hpAHVUNgim",
        "outputId": "f9817ab0-041d-4578-86ba-f887664b924d"
      },
      "source": [
        "#Lets check on data tpyes of the Null values\n",
        "df_1[null_columns_1].info()"
      ],
      "execution_count": 34,
      "outputs": [
        {
          "output_type": "stream",
          "text": [
            "<class 'pandas.core.frame.DataFrame'>\n",
            "RangeIndex: 20663 entries, 0 to 20662\n",
            "Data columns (total 92 columns):\n",
            " #   Column  Non-Null Count  Dtype   \n",
            "---  ------  --------------  -----   \n",
            " 0   card2   20240 non-null  float16 \n",
            " 1   card3   20624 non-null  float16 \n",
            " 2   card4   20622 non-null  category\n",
            " 3   card5   20453 non-null  float16 \n",
            " 4   card6   20624 non-null  category\n",
            " 5   D1      20617 non-null  float16 \n",
            " 6   V95     20646 non-null  float16 \n",
            " 7   V96     20646 non-null  float16 \n",
            " 8   V97     20646 non-null  float16 \n",
            " 9   V98     20646 non-null  float16 \n",
            " 10  V99     20646 non-null  float16 \n",
            " 11  V100    20646 non-null  float16 \n",
            " 12  V101    20646 non-null  float16 \n",
            " 13  V102    20646 non-null  float16 \n",
            " 14  V103    20646 non-null  float16 \n",
            " 15  V104    20646 non-null  float16 \n",
            " 16  V105    20646 non-null  float16 \n",
            " 17  V106    20646 non-null  float16 \n",
            " 18  V107    20646 non-null  float16 \n",
            " 19  V108    20646 non-null  float16 \n",
            " 20  V109    20646 non-null  float16 \n",
            " 21  V110    20646 non-null  float16 \n",
            " 22  V111    20646 non-null  float16 \n",
            " 23  V112    20646 non-null  float16 \n",
            " 24  V113    20646 non-null  float16 \n",
            " 25  V114    20646 non-null  float16 \n",
            " 26  V115    20646 non-null  float16 \n",
            " 27  V116    20646 non-null  float16 \n",
            " 28  V117    20646 non-null  float16 \n",
            " 29  V118    20646 non-null  float16 \n",
            " 30  V119    20646 non-null  float16 \n",
            " 31  V120    20646 non-null  float16 \n",
            " 32  V121    20646 non-null  float16 \n",
            " 33  V122    20646 non-null  float16 \n",
            " 34  V123    20646 non-null  float16 \n",
            " 35  V124    20646 non-null  float16 \n",
            " 36  V125    20646 non-null  float16 \n",
            " 37  V126    20646 non-null  float32 \n",
            " 38  V127    20646 non-null  float32 \n",
            " 39  V128    20646 non-null  float32 \n",
            " 40  V129    20646 non-null  float16 \n",
            " 41  V130    20646 non-null  float16 \n",
            " 42  V131    20646 non-null  float16 \n",
            " 43  V132    20646 non-null  float32 \n",
            " 44  V133    20646 non-null  float32 \n",
            " 45  V134    20646 non-null  float32 \n",
            " 46  V135    20646 non-null  float32 \n",
            " 47  V136    20646 non-null  float32 \n",
            " 48  V137    20646 non-null  float32 \n",
            " 49  V279    20661 non-null  float16 \n",
            " 50  V280    20661 non-null  float16 \n",
            " 51  V281    20617 non-null  float16 \n",
            " 52  V282    20617 non-null  float16 \n",
            " 53  V283    20617 non-null  float16 \n",
            " 54  V284    20661 non-null  float16 \n",
            " 55  V285    20661 non-null  float16 \n",
            " 56  V286    20661 non-null  float16 \n",
            " 57  V287    20661 non-null  float16 \n",
            " 58  V288    20617 non-null  float16 \n",
            " 59  V289    20617 non-null  float16 \n",
            " 60  V290    20661 non-null  float16 \n",
            " 61  V291    20661 non-null  float16 \n",
            " 62  V292    20661 non-null  float16 \n",
            " 63  V293    20661 non-null  float16 \n",
            " 64  V294    20661 non-null  float16 \n",
            " 65  V295    20661 non-null  float16 \n",
            " 66  V296    20617 non-null  float16 \n",
            " 67  V297    20661 non-null  float16 \n",
            " 68  V298    20661 non-null  float16 \n",
            " 69  V299    20661 non-null  float16 \n",
            " 70  V300    20617 non-null  float16 \n",
            " 71  V301    20617 non-null  float16 \n",
            " 72  V302    20661 non-null  float16 \n",
            " 73  V303    20661 non-null  float16 \n",
            " 74  V304    20661 non-null  float16 \n",
            " 75  V305    20661 non-null  float16 \n",
            " 76  V306    20661 non-null  float32 \n",
            " 77  V307    20661 non-null  float32 \n",
            " 78  V308    20661 non-null  float32 \n",
            " 79  V309    20661 non-null  float16 \n",
            " 80  V310    20661 non-null  float16 \n",
            " 81  V311    20661 non-null  float16 \n",
            " 82  V312    20661 non-null  float16 \n",
            " 83  V313    20617 non-null  float16 \n",
            " 84  V314    20617 non-null  float16 \n",
            " 85  V315    20617 non-null  float16 \n",
            " 86  V316    20661 non-null  float32 \n",
            " 87  V317    20661 non-null  float32 \n",
            " 88  V318    20661 non-null  float32 \n",
            " 89  V319    20661 non-null  float32 \n",
            " 90  V320    20661 non-null  float32 \n",
            " 91  V321    20661 non-null  float32 \n",
            "dtypes: category(2), float16(72), float32(18)\n",
            "memory usage: 4.3 MB\n"
          ],
          "name": "stdout"
        }
      ]
    },
    {
      "cell_type": "code",
      "metadata": {
        "colab": {
          "base_uri": "https://localhost:8080/"
        },
        "id": "AuCJz5O9QHkA",
        "outputId": "ca56bae3-02fc-47c7-a15b-f20c95f9feb3"
      },
      "source": [
        "#lets check the card variables first\n",
        "\n",
        "df_1['card2'].value_counts()"
      ],
      "execution_count": 35,
      "outputs": [
        {
          "output_type": "execute_result",
          "data": {
            "text/plain": [
              "545.0    1420\n",
              "321.0    1396\n",
              "111.0     978\n",
              "555.0     959\n",
              "490.0     916\n",
              "         ... \n",
              "504.0       1\n",
              "591.0       1\n",
              "436.0       1\n",
              "431.0       1\n",
              "349.0       1\n",
              "Name: card2, Length: 327, dtype: int64"
            ]
          },
          "metadata": {
            "tags": []
          },
          "execution_count": 35
        }
      ]
    },
    {
      "cell_type": "code",
      "metadata": {
        "colab": {
          "base_uri": "https://localhost:8080/"
        },
        "id": "y5Jlfh2LQfkZ",
        "outputId": "ca068051-f8bd-4be0-ad35-a6491102b33c"
      },
      "source": [
        "df_1['card3'].value_counts()"
      ],
      "execution_count": 36,
      "outputs": [
        {
          "output_type": "execute_result",
          "data": {
            "text/plain": [
              "150.0    12807\n",
              "185.0     7362\n",
              "144.0      112\n",
              "119.0       70\n",
              "143.0       28\n",
              "         ...  \n",
              "126.0        1\n",
              "195.0        1\n",
              "183.0        1\n",
              "167.0        1\n",
              "208.0        1\n",
              "Name: card3, Length: 62, dtype: int64"
            ]
          },
          "metadata": {
            "tags": []
          },
          "execution_count": 36
        }
      ]
    },
    {
      "cell_type": "code",
      "metadata": {
        "colab": {
          "base_uri": "https://localhost:8080/"
        },
        "id": "WeB-SnRrQmlN",
        "outputId": "d033c3dc-e3bf-402f-ceca-4ab4af62185b"
      },
      "source": [
        "df_1['card4'].value_counts()"
      ],
      "execution_count": 37,
      "outputs": [
        {
          "output_type": "execute_result",
          "data": {
            "text/plain": [
              "visa                13373\n",
              "mastercard           6496\n",
              "discover              514\n",
              "american express      239\n",
              "Name: card4, dtype: int64"
            ]
          },
          "metadata": {
            "tags": []
          },
          "execution_count": 37
        }
      ]
    },
    {
      "cell_type": "code",
      "metadata": {
        "colab": {
          "base_uri": "https://localhost:8080/"
        },
        "id": "VGMYWMKDQqLD",
        "outputId": "94dd69e2-b4c6-4ba0-c24e-f6a7df00782f"
      },
      "source": [
        "df_1['card5'].value_counts()"
      ],
      "execution_count": 38,
      "outputs": [
        {
          "output_type": "execute_result",
          "data": {
            "text/plain": [
              "226.0    8753\n",
              "224.0    3152\n",
              "102.0    1832\n",
              "137.0    1725\n",
              "138.0    1682\n",
              "195.0     681\n",
              "166.0     630\n",
              "219.0     571\n",
              "117.0     354\n",
              "162.0     301\n",
              "126.0     105\n",
              "197.0      86\n",
              "223.0      83\n",
              "202.0      58\n",
              "147.0      47\n",
              "198.0      34\n",
              "229.0      32\n",
              "141.0      32\n",
              "203.0      28\n",
              "150.0      23\n",
              "146.0      23\n",
              "190.0      20\n",
              "236.0      20\n",
              "185.0      19\n",
              "100.0      18\n",
              "144.0      16\n",
              "118.0      15\n",
              "228.0      13\n",
              "194.0      13\n",
              "142.0      12\n",
              "129.0       9\n",
              "135.0       8\n",
              "133.0       8\n",
              "132.0       7\n",
              "119.0       6\n",
              "149.0       5\n",
              "212.0       5\n",
              "107.0       4\n",
              "232.0       4\n",
              "143.0       4\n",
              "139.0       3\n",
              "183.0       3\n",
              "159.0       2\n",
              "237.0       2\n",
              "134.0       1\n",
              "199.0       1\n",
              "167.0       1\n",
              "191.0       1\n",
              "131.0       1\n",
              "Name: card5, dtype: int64"
            ]
          },
          "metadata": {
            "tags": []
          },
          "execution_count": 38
        }
      ]
    },
    {
      "cell_type": "code",
      "metadata": {
        "colab": {
          "base_uri": "https://localhost:8080/"
        },
        "id": "l17Uk7ooQqOW",
        "outputId": "8b1e2e07-eb5e-41bb-b8ca-37c5e3788667"
      },
      "source": [
        "df_1['card6'].value_counts()"
      ],
      "execution_count": 39,
      "outputs": [
        {
          "output_type": "execute_result",
          "data": {
            "text/plain": [
              "debit              10674\n",
              "credit              9950\n",
              "debit or credit        0\n",
              "charge card            0\n",
              "Name: card6, dtype: int64"
            ]
          },
          "metadata": {
            "tags": []
          },
          "execution_count": 39
        }
      ]
    },
    {
      "cell_type": "code",
      "metadata": {
        "id": "dNanPpODubAT"
      },
      "source": [
        "# filling NA values of card2,3 and 5 with -999\n",
        "\n",
        "df_1['card2'].fillna(-999.0,inplace=True)\n",
        "df_1['card3'].fillna(-999.0,inplace=True)\n",
        "df_1['card5'].fillna(-999.0,inplace=True)"
      ],
      "execution_count": 40,
      "outputs": []
    },
    {
      "cell_type": "code",
      "metadata": {
        "id": "6Dj7G3GsubAT"
      },
      "source": [
        "#filling card4 and card6 with No Card and Unknown repectively\n",
        "df_1['card6'] = df_1['card6'].cat.add_categories('No Card')\n",
        "df_1['card6'].fillna('No Card', inplace=True)\n",
        "df_1['card4'] = df_1['card4'].cat.add_categories('Unknown')\n",
        "df_1['card4'].fillna('Unknown', inplace=True)"
      ],
      "execution_count": 41,
      "outputs": []
    },
    {
      "cell_type": "code",
      "metadata": {
        "colab": {
          "base_uri": "https://localhost:8080/"
        },
        "id": "SJ1VclDTW7FC",
        "outputId": "0db8f047-5140-41ec-9f69-4c1ec17a3922"
      },
      "source": [
        "#re-calculating null values\n",
        "null_columns_1 = df_1.columns[df_1.isnull().any()]\n",
        "null_values = 100*df_1[null_columns_1].isnull().sum()/df_1.shape[0]\n",
        "df_null=pd.DataFrame(null_values)\n",
        "df_null.index.name ='Feature'\n",
        "df_null.rename(columns={0:'Percent'},inplace=True)\n",
        "df_null.reset_index(drop=False, inplace=True)\n",
        "df_null_1 = df_null.sort_values(['Percent'],ascending=False).reset_index(drop=True)\n",
        "print(df_null_1)"
      ],
      "execution_count": 42,
      "outputs": [
        {
          "output_type": "stream",
          "text": [
            "   Feature   Percent\n",
            "0       D1  0.222620\n",
            "1     V296  0.222620\n",
            "2     V281  0.222620\n",
            "3     V282  0.222620\n",
            "4     V283  0.222620\n",
            "..     ...       ...\n",
            "82    V295  0.009679\n",
            "83    V297  0.009679\n",
            "84    V298  0.009679\n",
            "85    V299  0.009679\n",
            "86    V321  0.009679\n",
            "\n",
            "[87 rows x 2 columns]\n"
          ],
          "name": "stdout"
        }
      ]
    },
    {
      "cell_type": "code",
      "metadata": {
        "colab": {
          "base_uri": "https://localhost:8080/"
        },
        "id": "gMXyPEd5W7A8",
        "outputId": "8e2e8a9d-e34b-40f2-e84e-d5ea87ce560d"
      },
      "source": [
        "#checking datates of all the null columns\n",
        "df_1[null_columns_1].info()"
      ],
      "execution_count": 43,
      "outputs": [
        {
          "output_type": "stream",
          "text": [
            "<class 'pandas.core.frame.DataFrame'>\n",
            "RangeIndex: 20663 entries, 0 to 20662\n",
            "Data columns (total 87 columns):\n",
            " #   Column  Non-Null Count  Dtype  \n",
            "---  ------  --------------  -----  \n",
            " 0   D1      20617 non-null  float16\n",
            " 1   V95     20646 non-null  float16\n",
            " 2   V96     20646 non-null  float16\n",
            " 3   V97     20646 non-null  float16\n",
            " 4   V98     20646 non-null  float16\n",
            " 5   V99     20646 non-null  float16\n",
            " 6   V100    20646 non-null  float16\n",
            " 7   V101    20646 non-null  float16\n",
            " 8   V102    20646 non-null  float16\n",
            " 9   V103    20646 non-null  float16\n",
            " 10  V104    20646 non-null  float16\n",
            " 11  V105    20646 non-null  float16\n",
            " 12  V106    20646 non-null  float16\n",
            " 13  V107    20646 non-null  float16\n",
            " 14  V108    20646 non-null  float16\n",
            " 15  V109    20646 non-null  float16\n",
            " 16  V110    20646 non-null  float16\n",
            " 17  V111    20646 non-null  float16\n",
            " 18  V112    20646 non-null  float16\n",
            " 19  V113    20646 non-null  float16\n",
            " 20  V114    20646 non-null  float16\n",
            " 21  V115    20646 non-null  float16\n",
            " 22  V116    20646 non-null  float16\n",
            " 23  V117    20646 non-null  float16\n",
            " 24  V118    20646 non-null  float16\n",
            " 25  V119    20646 non-null  float16\n",
            " 26  V120    20646 non-null  float16\n",
            " 27  V121    20646 non-null  float16\n",
            " 28  V122    20646 non-null  float16\n",
            " 29  V123    20646 non-null  float16\n",
            " 30  V124    20646 non-null  float16\n",
            " 31  V125    20646 non-null  float16\n",
            " 32  V126    20646 non-null  float32\n",
            " 33  V127    20646 non-null  float32\n",
            " 34  V128    20646 non-null  float32\n",
            " 35  V129    20646 non-null  float16\n",
            " 36  V130    20646 non-null  float16\n",
            " 37  V131    20646 non-null  float16\n",
            " 38  V132    20646 non-null  float32\n",
            " 39  V133    20646 non-null  float32\n",
            " 40  V134    20646 non-null  float32\n",
            " 41  V135    20646 non-null  float32\n",
            " 42  V136    20646 non-null  float32\n",
            " 43  V137    20646 non-null  float32\n",
            " 44  V279    20661 non-null  float16\n",
            " 45  V280    20661 non-null  float16\n",
            " 46  V281    20617 non-null  float16\n",
            " 47  V282    20617 non-null  float16\n",
            " 48  V283    20617 non-null  float16\n",
            " 49  V284    20661 non-null  float16\n",
            " 50  V285    20661 non-null  float16\n",
            " 51  V286    20661 non-null  float16\n",
            " 52  V287    20661 non-null  float16\n",
            " 53  V288    20617 non-null  float16\n",
            " 54  V289    20617 non-null  float16\n",
            " 55  V290    20661 non-null  float16\n",
            " 56  V291    20661 non-null  float16\n",
            " 57  V292    20661 non-null  float16\n",
            " 58  V293    20661 non-null  float16\n",
            " 59  V294    20661 non-null  float16\n",
            " 60  V295    20661 non-null  float16\n",
            " 61  V296    20617 non-null  float16\n",
            " 62  V297    20661 non-null  float16\n",
            " 63  V298    20661 non-null  float16\n",
            " 64  V299    20661 non-null  float16\n",
            " 65  V300    20617 non-null  float16\n",
            " 66  V301    20617 non-null  float16\n",
            " 67  V302    20661 non-null  float16\n",
            " 68  V303    20661 non-null  float16\n",
            " 69  V304    20661 non-null  float16\n",
            " 70  V305    20661 non-null  float16\n",
            " 71  V306    20661 non-null  float32\n",
            " 72  V307    20661 non-null  float32\n",
            " 73  V308    20661 non-null  float32\n",
            " 74  V309    20661 non-null  float16\n",
            " 75  V310    20661 non-null  float16\n",
            " 76  V311    20661 non-null  float16\n",
            " 77  V312    20661 non-null  float16\n",
            " 78  V313    20617 non-null  float16\n",
            " 79  V314    20617 non-null  float16\n",
            " 80  V315    20617 non-null  float16\n",
            " 81  V316    20661 non-null  float32\n",
            " 82  V317    20661 non-null  float32\n",
            " 83  V318    20661 non-null  float32\n",
            " 84  V319    20661 non-null  float32\n",
            " 85  V320    20661 non-null  float32\n",
            " 86  V321    20661 non-null  float32\n",
            "dtypes: float16(69), float32(18)\n",
            "memory usage: 4.1 MB\n"
          ],
          "name": "stdout"
        }
      ]
    },
    {
      "cell_type": "code",
      "metadata": {
        "id": "Jse2K1XBW6-W"
      },
      "source": [
        "# replacing these null values with most frequesnt value of each column\n",
        "\n",
        "im = SimpleImputer(missing_values=np.nan, strategy='most_frequent')\n",
        "im = im.fit(df_1.loc[:,null_columns_1])\n",
        "df_1.loc[:,null_columns_1] = im.transform(df_1.loc[:,null_columns_1])"
      ],
      "execution_count": 44,
      "outputs": []
    },
    {
      "cell_type": "code",
      "metadata": {
        "colab": {
          "base_uri": "https://localhost:8080/"
        },
        "id": "nj10kakgZbsw",
        "outputId": "3461e18e-80e3-44cc-d53a-8d6f51f4112b"
      },
      "source": [
        "#checking for columns containg NULL values\n",
        "df_1.columns[df_1.isnull().any()]"
      ],
      "execution_count": 45,
      "outputs": [
        {
          "output_type": "execute_result",
          "data": {
            "text/plain": [
              "Index([], dtype='object')"
            ]
          },
          "metadata": {
            "tags": []
          },
          "execution_count": 45
        }
      ]
    },
    {
      "cell_type": "code",
      "metadata": {
        "colab": {
          "base_uri": "https://localhost:8080/"
        },
        "id": "ApLxM8rIZbb6",
        "outputId": "a247be3d-4b4c-4699-810b-36fbe7a045f4"
      },
      "source": [
        "df_0.columns[df_0.isnull().any()]"
      ],
      "execution_count": 46,
      "outputs": [
        {
          "output_type": "execute_result",
          "data": {
            "text/plain": [
              "Index([], dtype='object')"
            ]
          },
          "metadata": {
            "tags": []
          },
          "execution_count": 46
        }
      ]
    },
    {
      "cell_type": "code",
      "metadata": {
        "colab": {
          "base_uri": "https://localhost:8080/"
        },
        "id": "f4SgpBsqZpNJ",
        "outputId": "e0f89611-55bd-4666-e498-1dcd2fb87658"
      },
      "source": [
        "df_0.shape"
      ],
      "execution_count": 47,
      "outputs": [
        {
          "output_type": "execute_result",
          "data": {
            "text/plain": [
              "(558065, 182)"
            ]
          },
          "metadata": {
            "tags": []
          },
          "execution_count": 47
        }
      ]
    },
    {
      "cell_type": "markdown",
      "metadata": {
        "id": "AitxjHlnEsKE"
      },
      "source": [
        "The size of dataframe df_0 is high. We will take 50% of data at random so that it becomes faster to compute also it will reduce imbalance to an extent"
      ]
    },
    {
      "cell_type": "code",
      "metadata": {
        "id": "bF3F0dIoEsKF"
      },
      "source": [
        "# working on 50% of isFraud==0 data\n",
        "df_0 = df_0.sample(frac=0.5, random_state = 2)"
      ],
      "execution_count": 48,
      "outputs": []
    },
    {
      "cell_type": "code",
      "metadata": {
        "colab": {
          "base_uri": "https://localhost:8080/"
        },
        "id": "C8oT70EdEsKF",
        "outputId": "bc8a56dc-df62-42ad-f5bd-c318f9f72f4e"
      },
      "source": [
        "df_0.shape"
      ],
      "execution_count": 49,
      "outputs": [
        {
          "output_type": "execute_result",
          "data": {
            "text/plain": [
              "(279032, 182)"
            ]
          },
          "metadata": {
            "tags": []
          },
          "execution_count": 49
        }
      ]
    },
    {
      "cell_type": "code",
      "metadata": {
        "colab": {
          "base_uri": "https://localhost:8080/"
        },
        "id": "hXhVxvDaaYHy",
        "outputId": "95387048-ee15-4bd0-8880-0c9b88eeacda"
      },
      "source": [
        "df_1.shape"
      ],
      "execution_count": 50,
      "outputs": [
        {
          "output_type": "execute_result",
          "data": {
            "text/plain": [
              "(20663, 182)"
            ]
          },
          "metadata": {
            "tags": []
          },
          "execution_count": 50
        }
      ]
    },
    {
      "cell_type": "code",
      "metadata": {
        "id": "_eR5lze8ZpDN"
      },
      "source": [
        "#merging df_1 and df_0\n",
        "df = pd.concat([df_1, df_0],axis=0)"
      ],
      "execution_count": 51,
      "outputs": []
    },
    {
      "cell_type": "code",
      "metadata": {
        "colab": {
          "base_uri": "https://localhost:8080/"
        },
        "id": "mxVPK4ABlx7D",
        "outputId": "299450bb-6be5-4519-d3fd-1dec2086663b"
      },
      "source": [
        "#Checking for Null values\n",
        "df.columns[df.isnull().any()]"
      ],
      "execution_count": 52,
      "outputs": [
        {
          "output_type": "execute_result",
          "data": {
            "text/plain": [
              "Index([], dtype='object')"
            ]
          },
          "metadata": {
            "tags": []
          },
          "execution_count": 52
        }
      ]
    },
    {
      "cell_type": "code",
      "metadata": {
        "colab": {
          "base_uri": "https://localhost:8080/"
        },
        "id": "ssOE713OZo0b",
        "outputId": "db2e63fb-01f5-4c61-e098-ebb23e2b831e"
      },
      "source": [
        "df.shape"
      ],
      "execution_count": 53,
      "outputs": [
        {
          "output_type": "execute_result",
          "data": {
            "text/plain": [
              "(299695, 182)"
            ]
          },
          "metadata": {
            "tags": []
          },
          "execution_count": 53
        }
      ]
    },
    {
      "cell_type": "code",
      "metadata": {
        "id": "BCJwJrAwam5U"
      },
      "source": [
        "#Enabling grabage collector to flush grabage if any\n",
        "import gc\n",
        "gc.enable()"
      ],
      "execution_count": 54,
      "outputs": []
    },
    {
      "cell_type": "code",
      "metadata": {
        "id": "JBHIlE7Pamxz"
      },
      "source": [
        "#Deleting temprorary DataFrames that were created\n",
        "del(df_1)\n",
        "del(df_0)\n",
        "del(df_null)\n",
        "del(df_null_1)\n",
        "del(df_null_0)\n",
        "del(df_null_10_25)"
      ],
      "execution_count": 55,
      "outputs": []
    },
    {
      "cell_type": "code",
      "metadata": {
        "colab": {
          "base_uri": "https://localhost:8080/"
        },
        "id": "iZgAwIRhooQn",
        "outputId": "55af6b1f-4877-4eca-d47d-89139e7dfccc"
      },
      "source": [
        "start = 0\n",
        "sets = 10\n",
        "columns=df.columns\n",
        "while ((start+sets) < len(columns)):\n",
        "  end = start+sets\n",
        "  print(df[columns[start:end]].info())\n",
        "  start=end"
      ],
      "execution_count": 56,
      "outputs": [
        {
          "output_type": "stream",
          "text": [
            "<class 'pandas.core.frame.DataFrame'>\n",
            "Int64Index: 299695 entries, 0 to 446551\n",
            "Data columns (total 10 columns):\n",
            " #   Column          Non-Null Count   Dtype   \n",
            "---  ------          --------------   -----   \n",
            " 0   TransactionID   299695 non-null  int32   \n",
            " 1   isFraud         299695 non-null  int8    \n",
            " 2   TransactionDT   299695 non-null  int32   \n",
            " 3   TransactionAmt  299695 non-null  float16 \n",
            " 4   ProductCD       299695 non-null  category\n",
            " 5   card1           299695 non-null  int16   \n",
            " 6   card2           299695 non-null  float16 \n",
            " 7   card3           299695 non-null  float16 \n",
            " 8   card4           299695 non-null  object  \n",
            " 9   card5           299695 non-null  float16 \n",
            "dtypes: category(1), float16(4), int16(1), int32(2), int8(1), object(1)\n",
            "memory usage: 10.3+ MB\n",
            "None\n",
            "<class 'pandas.core.frame.DataFrame'>\n",
            "Int64Index: 299695 entries, 0 to 446551\n",
            "Data columns (total 10 columns):\n",
            " #   Column         Non-Null Count   Dtype   \n",
            "---  ------         --------------   -----   \n",
            " 0   card6          299695 non-null  object  \n",
            " 1   addr1          299695 non-null  float64 \n",
            " 2   addr2          299695 non-null  float64 \n",
            " 3   P_emaildomain  299695 non-null  category\n",
            " 4   C1             299695 non-null  float16 \n",
            " 5   C2             299695 non-null  float16 \n",
            " 6   C3             299695 non-null  float16 \n",
            " 7   C4             299695 non-null  float16 \n",
            " 8   C5             299695 non-null  float16 \n",
            " 9   C6             299695 non-null  float16 \n",
            "dtypes: category(1), float16(6), float64(2), object(1)\n",
            "memory usage: 12.9+ MB\n",
            "None\n",
            "<class 'pandas.core.frame.DataFrame'>\n",
            "Int64Index: 299695 entries, 0 to 446551\n",
            "Data columns (total 10 columns):\n",
            " #   Column  Non-Null Count   Dtype  \n",
            "---  ------  --------------   -----  \n",
            " 0   C7      299695 non-null  float16\n",
            " 1   C8      299695 non-null  float16\n",
            " 2   C9      299695 non-null  float16\n",
            " 3   C10     299695 non-null  float16\n",
            " 4   C11     299695 non-null  float16\n",
            " 5   C12     299695 non-null  float16\n",
            " 6   C13     299695 non-null  float16\n",
            " 7   C14     299695 non-null  float16\n",
            " 8   D1      299695 non-null  float64\n",
            " 9   D10     299695 non-null  float64\n",
            "dtypes: float16(8), float64(2)\n",
            "memory usage: 11.4 MB\n",
            "None\n",
            "<class 'pandas.core.frame.DataFrame'>\n",
            "Int64Index: 299695 entries, 0 to 446551\n",
            "Data columns (total 10 columns):\n",
            " #   Column  Non-Null Count   Dtype  \n",
            "---  ------  --------------   -----  \n",
            " 0   D15     299695 non-null  float64\n",
            " 1   V12     299695 non-null  float64\n",
            " 2   V13     299695 non-null  float64\n",
            " 3   V14     299695 non-null  float64\n",
            " 4   V15     299695 non-null  float64\n",
            " 5   V16     299695 non-null  float64\n",
            " 6   V17     299695 non-null  float64\n",
            " 7   V18     299695 non-null  float64\n",
            " 8   V19     299695 non-null  float64\n",
            " 9   V20     299695 non-null  float64\n",
            "dtypes: float64(10)\n",
            "memory usage: 25.2 MB\n",
            "None\n",
            "<class 'pandas.core.frame.DataFrame'>\n",
            "Int64Index: 299695 entries, 0 to 446551\n",
            "Data columns (total 10 columns):\n",
            " #   Column  Non-Null Count   Dtype  \n",
            "---  ------  --------------   -----  \n",
            " 0   V21     299695 non-null  float64\n",
            " 1   V22     299695 non-null  float64\n",
            " 2   V23     299695 non-null  float64\n",
            " 3   V24     299695 non-null  float64\n",
            " 4   V25     299695 non-null  float64\n",
            " 5   V26     299695 non-null  float64\n",
            " 6   V27     299695 non-null  float64\n",
            " 7   V28     299695 non-null  float64\n",
            " 8   V29     299695 non-null  float64\n",
            " 9   V30     299695 non-null  float64\n",
            "dtypes: float64(10)\n",
            "memory usage: 25.2 MB\n",
            "None\n",
            "<class 'pandas.core.frame.DataFrame'>\n",
            "Int64Index: 299695 entries, 0 to 446551\n",
            "Data columns (total 10 columns):\n",
            " #   Column  Non-Null Count   Dtype  \n",
            "---  ------  --------------   -----  \n",
            " 0   V31     299695 non-null  float64\n",
            " 1   V32     299695 non-null  float64\n",
            " 2   V33     299695 non-null  float64\n",
            " 3   V34     299695 non-null  float64\n",
            " 4   V53     299695 non-null  float64\n",
            " 5   V54     299695 non-null  float64\n",
            " 6   V55     299695 non-null  float64\n",
            " 7   V56     299695 non-null  float64\n",
            " 8   V57     299695 non-null  float64\n",
            " 9   V58     299695 non-null  float64\n",
            "dtypes: float64(10)\n",
            "memory usage: 25.2 MB\n",
            "None\n",
            "<class 'pandas.core.frame.DataFrame'>\n",
            "Int64Index: 299695 entries, 0 to 446551\n",
            "Data columns (total 10 columns):\n",
            " #   Column  Non-Null Count   Dtype  \n",
            "---  ------  --------------   -----  \n",
            " 0   V59     299695 non-null  float64\n",
            " 1   V60     299695 non-null  float64\n",
            " 2   V61     299695 non-null  float64\n",
            " 3   V62     299695 non-null  float64\n",
            " 4   V63     299695 non-null  float64\n",
            " 5   V64     299695 non-null  float64\n",
            " 6   V65     299695 non-null  float64\n",
            " 7   V66     299695 non-null  float64\n",
            " 8   V67     299695 non-null  float64\n",
            " 9   V68     299695 non-null  float64\n",
            "dtypes: float64(10)\n",
            "memory usage: 25.2 MB\n",
            "None\n",
            "<class 'pandas.core.frame.DataFrame'>\n",
            "Int64Index: 299695 entries, 0 to 446551\n",
            "Data columns (total 10 columns):\n",
            " #   Column  Non-Null Count   Dtype  \n",
            "---  ------  --------------   -----  \n",
            " 0   V69     299695 non-null  float64\n",
            " 1   V70     299695 non-null  float64\n",
            " 2   V71     299695 non-null  float64\n",
            " 3   V72     299695 non-null  float64\n",
            " 4   V73     299695 non-null  float64\n",
            " 5   V74     299695 non-null  float64\n",
            " 6   V75     299695 non-null  float64\n",
            " 7   V76     299695 non-null  float64\n",
            " 8   V77     299695 non-null  float64\n",
            " 9   V78     299695 non-null  float64\n",
            "dtypes: float64(10)\n",
            "memory usage: 25.2 MB\n",
            "None\n",
            "<class 'pandas.core.frame.DataFrame'>\n",
            "Int64Index: 299695 entries, 0 to 446551\n",
            "Data columns (total 10 columns):\n",
            " #   Column  Non-Null Count   Dtype  \n",
            "---  ------  --------------   -----  \n",
            " 0   V79     299695 non-null  float64\n",
            " 1   V80     299695 non-null  float64\n",
            " 2   V81     299695 non-null  float64\n",
            " 3   V82     299695 non-null  float64\n",
            " 4   V83     299695 non-null  float64\n",
            " 5   V84     299695 non-null  float64\n",
            " 6   V85     299695 non-null  float64\n",
            " 7   V86     299695 non-null  float64\n",
            " 8   V87     299695 non-null  float64\n",
            " 9   V88     299695 non-null  float64\n",
            "dtypes: float64(10)\n",
            "memory usage: 25.2 MB\n",
            "None\n",
            "<class 'pandas.core.frame.DataFrame'>\n",
            "Int64Index: 299695 entries, 0 to 446551\n",
            "Data columns (total 10 columns):\n",
            " #   Column  Non-Null Count   Dtype  \n",
            "---  ------  --------------   -----  \n",
            " 0   V89     299695 non-null  float64\n",
            " 1   V90     299695 non-null  float64\n",
            " 2   V91     299695 non-null  float64\n",
            " 3   V92     299695 non-null  float64\n",
            " 4   V93     299695 non-null  float64\n",
            " 5   V94     299695 non-null  float64\n",
            " 6   V95     299695 non-null  float64\n",
            " 7   V96     299695 non-null  float64\n",
            " 8   V97     299695 non-null  float64\n",
            " 9   V98     299695 non-null  float64\n",
            "dtypes: float64(10)\n",
            "memory usage: 25.2 MB\n",
            "None\n",
            "<class 'pandas.core.frame.DataFrame'>\n",
            "Int64Index: 299695 entries, 0 to 446551\n",
            "Data columns (total 10 columns):\n",
            " #   Column  Non-Null Count   Dtype  \n",
            "---  ------  --------------   -----  \n",
            " 0   V99     299695 non-null  float64\n",
            " 1   V100    299695 non-null  float64\n",
            " 2   V101    299695 non-null  float64\n",
            " 3   V102    299695 non-null  float64\n",
            " 4   V103    299695 non-null  float64\n",
            " 5   V104    299695 non-null  float64\n",
            " 6   V105    299695 non-null  float64\n",
            " 7   V106    299695 non-null  float64\n",
            " 8   V107    299695 non-null  float64\n",
            " 9   V108    299695 non-null  float64\n",
            "dtypes: float64(10)\n",
            "memory usage: 25.2 MB\n",
            "None\n",
            "<class 'pandas.core.frame.DataFrame'>\n",
            "Int64Index: 299695 entries, 0 to 446551\n",
            "Data columns (total 10 columns):\n",
            " #   Column  Non-Null Count   Dtype  \n",
            "---  ------  --------------   -----  \n",
            " 0   V109    299695 non-null  float64\n",
            " 1   V110    299695 non-null  float64\n",
            " 2   V111    299695 non-null  float64\n",
            " 3   V112    299695 non-null  float64\n",
            " 4   V113    299695 non-null  float64\n",
            " 5   V114    299695 non-null  float64\n",
            " 6   V115    299695 non-null  float64\n",
            " 7   V116    299695 non-null  float64\n",
            " 8   V117    299695 non-null  float64\n",
            " 9   V118    299695 non-null  float64\n",
            "dtypes: float64(10)\n",
            "memory usage: 25.2 MB\n",
            "None\n",
            "<class 'pandas.core.frame.DataFrame'>\n",
            "Int64Index: 299695 entries, 0 to 446551\n",
            "Data columns (total 10 columns):\n",
            " #   Column  Non-Null Count   Dtype  \n",
            "---  ------  --------------   -----  \n",
            " 0   V119    299695 non-null  float64\n",
            " 1   V120    299695 non-null  float64\n",
            " 2   V121    299695 non-null  float64\n",
            " 3   V122    299695 non-null  float64\n",
            " 4   V123    299695 non-null  float64\n",
            " 5   V124    299695 non-null  float64\n",
            " 6   V125    299695 non-null  float64\n",
            " 7   V126    299695 non-null  float64\n",
            " 8   V127    299695 non-null  float64\n",
            " 9   V128    299695 non-null  float64\n",
            "dtypes: float64(10)\n",
            "memory usage: 25.2 MB\n",
            "None\n",
            "<class 'pandas.core.frame.DataFrame'>\n",
            "Int64Index: 299695 entries, 0 to 446551\n",
            "Data columns (total 10 columns):\n",
            " #   Column  Non-Null Count   Dtype  \n",
            "---  ------  --------------   -----  \n",
            " 0   V129    299695 non-null  float64\n",
            " 1   V130    299695 non-null  float64\n",
            " 2   V131    299695 non-null  float64\n",
            " 3   V132    299695 non-null  float64\n",
            " 4   V133    299695 non-null  float64\n",
            " 5   V134    299695 non-null  float64\n",
            " 6   V135    299695 non-null  float64\n",
            " 7   V136    299695 non-null  float64\n",
            " 8   V137    299695 non-null  float64\n",
            " 9   V279    299695 non-null  float64\n",
            "dtypes: float64(10)\n",
            "memory usage: 25.2 MB\n",
            "None\n",
            "<class 'pandas.core.frame.DataFrame'>\n",
            "Int64Index: 299695 entries, 0 to 446551\n",
            "Data columns (total 10 columns):\n",
            " #   Column  Non-Null Count   Dtype  \n",
            "---  ------  --------------   -----  \n",
            " 0   V280    299695 non-null  float64\n",
            " 1   V281    299695 non-null  float64\n",
            " 2   V282    299695 non-null  float64\n",
            " 3   V283    299695 non-null  float64\n",
            " 4   V284    299695 non-null  float64\n",
            " 5   V285    299695 non-null  float64\n",
            " 6   V286    299695 non-null  float64\n",
            " 7   V287    299695 non-null  float64\n",
            " 8   V288    299695 non-null  float64\n",
            " 9   V289    299695 non-null  float64\n",
            "dtypes: float64(10)\n",
            "memory usage: 25.2 MB\n",
            "None\n",
            "<class 'pandas.core.frame.DataFrame'>\n",
            "Int64Index: 299695 entries, 0 to 446551\n",
            "Data columns (total 10 columns):\n",
            " #   Column  Non-Null Count   Dtype  \n",
            "---  ------  --------------   -----  \n",
            " 0   V290    299695 non-null  float64\n",
            " 1   V291    299695 non-null  float64\n",
            " 2   V292    299695 non-null  float64\n",
            " 3   V293    299695 non-null  float64\n",
            " 4   V294    299695 non-null  float64\n",
            " 5   V295    299695 non-null  float64\n",
            " 6   V296    299695 non-null  float64\n",
            " 7   V297    299695 non-null  float64\n",
            " 8   V298    299695 non-null  float64\n",
            " 9   V299    299695 non-null  float64\n",
            "dtypes: float64(10)\n",
            "memory usage: 25.2 MB\n",
            "None\n",
            "<class 'pandas.core.frame.DataFrame'>\n",
            "Int64Index: 299695 entries, 0 to 446551\n",
            "Data columns (total 10 columns):\n",
            " #   Column  Non-Null Count   Dtype  \n",
            "---  ------  --------------   -----  \n",
            " 0   V300    299695 non-null  float64\n",
            " 1   V301    299695 non-null  float64\n",
            " 2   V302    299695 non-null  float64\n",
            " 3   V303    299695 non-null  float64\n",
            " 4   V304    299695 non-null  float64\n",
            " 5   V305    299695 non-null  float64\n",
            " 6   V306    299695 non-null  float64\n",
            " 7   V307    299695 non-null  float64\n",
            " 8   V308    299695 non-null  float64\n",
            " 9   V309    299695 non-null  float64\n",
            "dtypes: float64(10)\n",
            "memory usage: 25.2 MB\n",
            "None\n",
            "<class 'pandas.core.frame.DataFrame'>\n",
            "Int64Index: 299695 entries, 0 to 446551\n",
            "Data columns (total 10 columns):\n",
            " #   Column  Non-Null Count   Dtype  \n",
            "---  ------  --------------   -----  \n",
            " 0   V310    299695 non-null  float64\n",
            " 1   V311    299695 non-null  float64\n",
            " 2   V312    299695 non-null  float64\n",
            " 3   V313    299695 non-null  float64\n",
            " 4   V314    299695 non-null  float64\n",
            " 5   V315    299695 non-null  float64\n",
            " 6   V316    299695 non-null  float64\n",
            " 7   V317    299695 non-null  float64\n",
            " 8   V318    299695 non-null  float64\n",
            " 9   V319    299695 non-null  float64\n",
            "dtypes: float64(10)\n",
            "memory usage: 25.2 MB\n",
            "None\n"
          ],
          "name": "stdout"
        }
      ]
    },
    {
      "cell_type": "code",
      "metadata": {
        "id": "MRLc6poLpok9"
      },
      "source": [
        "#Dropping Transaction ID as it is not required in Model creation\n",
        "Transactions = df['TransactionID']\n",
        "df.drop(['TransactionID'], axis=1,inplace=True)"
      ],
      "execution_count": 57,
      "outputs": []
    },
    {
      "cell_type": "code",
      "metadata": {
        "colab": {
          "base_uri": "https://localhost:8080/"
        },
        "id": "73yGO8gbamlt",
        "outputId": "815de1d5-7423-482a-b9ed-79b302bc3250"
      },
      "source": [
        "#checking for columns with dtype category or object\n",
        "df.columns[df.dtypes=='category']"
      ],
      "execution_count": 58,
      "outputs": [
        {
          "output_type": "execute_result",
          "data": {
            "text/plain": [
              "Index(['ProductCD', 'P_emaildomain'], dtype='object')"
            ]
          },
          "metadata": {
            "tags": []
          },
          "execution_count": 58
        }
      ]
    },
    {
      "cell_type": "code",
      "metadata": {
        "colab": {
          "base_uri": "https://localhost:8080/"
        },
        "id": "MW5qYSoWamiH",
        "outputId": "2dd514d3-74a3-49a2-a879-80cc286d4dd5"
      },
      "source": [
        "df.columns[df.dtypes=='object']"
      ],
      "execution_count": 59,
      "outputs": [
        {
          "output_type": "execute_result",
          "data": {
            "text/plain": [
              "Index(['card4', 'card6'], dtype='object')"
            ]
          },
          "metadata": {
            "tags": []
          },
          "execution_count": 59
        }
      ]
    },
    {
      "cell_type": "code",
      "metadata": {
        "id": "mMP07fQdpl6J"
      },
      "source": [
        "#getting dummy values of all the object and category variables\n",
        "ProcuctCD = pd.get_dummies(df['ProductCD'],prefix='ProdCD',drop_first=True)\n",
        "Email = pd.get_dummies(df['P_emaildomain'],prefix='Email',drop_first=True)\n",
        "card4 = pd.get_dummies(df['card4'],prefix='card4',drop_first=True)\n",
        "card6 = pd.get_dummies(df['card6'],prefix='card6',drop_first=True)"
      ],
      "execution_count": 60,
      "outputs": []
    },
    {
      "cell_type": "code",
      "metadata": {
        "id": "tM-mN4i8pl2t"
      },
      "source": [
        "#concating them to the dataframe\n",
        "df = pd.concat([df,ProcuctCD,Email,card4,card6], axis=1)"
      ],
      "execution_count": 61,
      "outputs": []
    },
    {
      "cell_type": "code",
      "metadata": {
        "id": "_VJNUk1Qpl0E"
      },
      "source": [
        "#dropping categorical variables\n",
        "df.drop(['ProductCD','P_emaildomain','card4','card6'], axis=1, inplace=True)"
      ],
      "execution_count": 62,
      "outputs": []
    },
    {
      "cell_type": "code",
      "metadata": {
        "id": "glHd4aEeuaSr"
      },
      "source": [
        "#transforming TransactionDT to DateTime object staring from 2017-12-01\n",
        "\n",
        "import datetime\n",
        "start_date = '2017-12-01'\n",
        "start_date = datetime.datetime.strptime(start_date, '%Y-%m-%d')\n",
        "df['TransactionDT'] = df['TransactionDT'].apply(lambda x: start_date + datetime.timedelta(seconds=x))"
      ],
      "execution_count": 63,
      "outputs": []
    },
    {
      "cell_type": "code",
      "metadata": {
        "colab": {
          "base_uri": "https://localhost:8080/",
          "height": 355
        },
        "id": "BCGsGQ3LuaPF",
        "outputId": "b451dc45-b7ee-4844-c284-01f2f2cf765e"
      },
      "source": [
        "df.head()"
      ],
      "execution_count": 64,
      "outputs": [
        {
          "output_type": "execute_result",
          "data": {
            "text/html": [
              "<div>\n",
              "<style scoped>\n",
              "    .dataframe tbody tr th:only-of-type {\n",
              "        vertical-align: middle;\n",
              "    }\n",
              "\n",
              "    .dataframe tbody tr th {\n",
              "        vertical-align: top;\n",
              "    }\n",
              "\n",
              "    .dataframe thead th {\n",
              "        text-align: right;\n",
              "    }\n",
              "</style>\n",
              "<table border=\"1\" class=\"dataframe\">\n",
              "  <thead>\n",
              "    <tr style=\"text-align: right;\">\n",
              "      <th></th>\n",
              "      <th>isFraud</th>\n",
              "      <th>TransactionDT</th>\n",
              "      <th>TransactionAmt</th>\n",
              "      <th>card1</th>\n",
              "      <th>card2</th>\n",
              "      <th>card3</th>\n",
              "      <th>card5</th>\n",
              "      <th>addr1</th>\n",
              "      <th>addr2</th>\n",
              "      <th>C1</th>\n",
              "      <th>C2</th>\n",
              "      <th>C3</th>\n",
              "      <th>C4</th>\n",
              "      <th>C5</th>\n",
              "      <th>C6</th>\n",
              "      <th>C7</th>\n",
              "      <th>C8</th>\n",
              "      <th>C9</th>\n",
              "      <th>C10</th>\n",
              "      <th>C11</th>\n",
              "      <th>C12</th>\n",
              "      <th>C13</th>\n",
              "      <th>C14</th>\n",
              "      <th>D1</th>\n",
              "      <th>D10</th>\n",
              "      <th>D15</th>\n",
              "      <th>V12</th>\n",
              "      <th>V13</th>\n",
              "      <th>V14</th>\n",
              "      <th>V15</th>\n",
              "      <th>V16</th>\n",
              "      <th>V17</th>\n",
              "      <th>V18</th>\n",
              "      <th>V19</th>\n",
              "      <th>V20</th>\n",
              "      <th>V21</th>\n",
              "      <th>V22</th>\n",
              "      <th>V23</th>\n",
              "      <th>V24</th>\n",
              "      <th>V25</th>\n",
              "      <th>...</th>\n",
              "      <th>Email_live.fr</th>\n",
              "      <th>Email_mac.com</th>\n",
              "      <th>Email_mail.com</th>\n",
              "      <th>Email_me.com</th>\n",
              "      <th>Email_msn.com</th>\n",
              "      <th>Email_netzero.com</th>\n",
              "      <th>Email_netzero.net</th>\n",
              "      <th>Email_optonline.net</th>\n",
              "      <th>Email_outlook.com</th>\n",
              "      <th>Email_outlook.es</th>\n",
              "      <th>Email_prodigy.net.mx</th>\n",
              "      <th>Email_protonmail.com</th>\n",
              "      <th>Email_ptd.net</th>\n",
              "      <th>Email_q.com</th>\n",
              "      <th>Email_roadrunner.com</th>\n",
              "      <th>Email_rocketmail.com</th>\n",
              "      <th>Email_sbcglobal.net</th>\n",
              "      <th>Email_sc.rr.com</th>\n",
              "      <th>Email_servicios-ta.com</th>\n",
              "      <th>Email_suddenlink.net</th>\n",
              "      <th>Email_twc.com</th>\n",
              "      <th>Email_verizon.net</th>\n",
              "      <th>Email_web.de</th>\n",
              "      <th>Email_windstream.net</th>\n",
              "      <th>Email_yahoo.co.jp</th>\n",
              "      <th>Email_yahoo.co.uk</th>\n",
              "      <th>Email_yahoo.com</th>\n",
              "      <th>Email_yahoo.com.mx</th>\n",
              "      <th>Email_yahoo.de</th>\n",
              "      <th>Email_yahoo.es</th>\n",
              "      <th>Email_yahoo.fr</th>\n",
              "      <th>Email_ymail.com</th>\n",
              "      <th>card4_american express</th>\n",
              "      <th>card4_discover</th>\n",
              "      <th>card4_mastercard</th>\n",
              "      <th>card4_visa</th>\n",
              "      <th>card6_charge card</th>\n",
              "      <th>card6_credit</th>\n",
              "      <th>card6_debit</th>\n",
              "      <th>card6_debit or credit</th>\n",
              "    </tr>\n",
              "  </thead>\n",
              "  <tbody>\n",
              "    <tr>\n",
              "      <th>0</th>\n",
              "      <td>1</td>\n",
              "      <td>2017-12-02 00:56:00</td>\n",
              "      <td>445.00000</td>\n",
              "      <td>18268</td>\n",
              "      <td>583.0</td>\n",
              "      <td>150.0</td>\n",
              "      <td>226.0</td>\n",
              "      <td>251.0</td>\n",
              "      <td>87.0</td>\n",
              "      <td>2.0</td>\n",
              "      <td>2.0</td>\n",
              "      <td>0.0</td>\n",
              "      <td>0.0</td>\n",
              "      <td>0.0</td>\n",
              "      <td>2.0</td>\n",
              "      <td>0.0</td>\n",
              "      <td>0.0</td>\n",
              "      <td>2.0</td>\n",
              "      <td>0.0</td>\n",
              "      <td>1.0</td>\n",
              "      <td>0.0</td>\n",
              "      <td>4.0</td>\n",
              "      <td>2.0</td>\n",
              "      <td>57.0</td>\n",
              "      <td>80.0</td>\n",
              "      <td>374.0</td>\n",
              "      <td>1.0</td>\n",
              "      <td>1.0</td>\n",
              "      <td>1.0</td>\n",
              "      <td>0.0</td>\n",
              "      <td>0.0</td>\n",
              "      <td>0.0</td>\n",
              "      <td>0.0</td>\n",
              "      <td>1.0</td>\n",
              "      <td>1.0</td>\n",
              "      <td>0.0</td>\n",
              "      <td>0.0</td>\n",
              "      <td>1.0</td>\n",
              "      <td>1.0</td>\n",
              "      <td>1.0</td>\n",
              "      <td>...</td>\n",
              "      <td>0</td>\n",
              "      <td>0</td>\n",
              "      <td>0</td>\n",
              "      <td>0</td>\n",
              "      <td>0</td>\n",
              "      <td>0</td>\n",
              "      <td>0</td>\n",
              "      <td>0</td>\n",
              "      <td>0</td>\n",
              "      <td>0</td>\n",
              "      <td>0</td>\n",
              "      <td>0</td>\n",
              "      <td>0</td>\n",
              "      <td>0</td>\n",
              "      <td>0</td>\n",
              "      <td>0</td>\n",
              "      <td>0</td>\n",
              "      <td>0</td>\n",
              "      <td>0</td>\n",
              "      <td>0</td>\n",
              "      <td>0</td>\n",
              "      <td>0</td>\n",
              "      <td>0</td>\n",
              "      <td>0</td>\n",
              "      <td>0</td>\n",
              "      <td>0</td>\n",
              "      <td>0</td>\n",
              "      <td>0</td>\n",
              "      <td>0</td>\n",
              "      <td>0</td>\n",
              "      <td>0</td>\n",
              "      <td>0</td>\n",
              "      <td>0</td>\n",
              "      <td>0</td>\n",
              "      <td>0</td>\n",
              "      <td>1</td>\n",
              "      <td>0</td>\n",
              "      <td>1</td>\n",
              "      <td>0</td>\n",
              "      <td>0</td>\n",
              "    </tr>\n",
              "    <tr>\n",
              "      <th>1</th>\n",
              "      <td>1</td>\n",
              "      <td>2017-12-02 01:03:13</td>\n",
              "      <td>37.09375</td>\n",
              "      <td>13413</td>\n",
              "      <td>103.0</td>\n",
              "      <td>185.0</td>\n",
              "      <td>137.0</td>\n",
              "      <td>299.0</td>\n",
              "      <td>87.0</td>\n",
              "      <td>0.0</td>\n",
              "      <td>1.0</td>\n",
              "      <td>0.0</td>\n",
              "      <td>1.0</td>\n",
              "      <td>0.0</td>\n",
              "      <td>1.0</td>\n",
              "      <td>1.0</td>\n",
              "      <td>1.0</td>\n",
              "      <td>0.0</td>\n",
              "      <td>1.0</td>\n",
              "      <td>1.0</td>\n",
              "      <td>1.0</td>\n",
              "      <td>0.0</td>\n",
              "      <td>0.0</td>\n",
              "      <td>0.0</td>\n",
              "      <td>0.0</td>\n",
              "      <td>0.0</td>\n",
              "      <td>0.0</td>\n",
              "      <td>0.0</td>\n",
              "      <td>1.0</td>\n",
              "      <td>1.0</td>\n",
              "      <td>1.0</td>\n",
              "      <td>1.0</td>\n",
              "      <td>1.0</td>\n",
              "      <td>1.0</td>\n",
              "      <td>1.0</td>\n",
              "      <td>1.0</td>\n",
              "      <td>1.0</td>\n",
              "      <td>1.0</td>\n",
              "      <td>1.0</td>\n",
              "      <td>1.0</td>\n",
              "      <td>...</td>\n",
              "      <td>0</td>\n",
              "      <td>0</td>\n",
              "      <td>0</td>\n",
              "      <td>0</td>\n",
              "      <td>0</td>\n",
              "      <td>0</td>\n",
              "      <td>0</td>\n",
              "      <td>0</td>\n",
              "      <td>0</td>\n",
              "      <td>0</td>\n",
              "      <td>0</td>\n",
              "      <td>0</td>\n",
              "      <td>0</td>\n",
              "      <td>0</td>\n",
              "      <td>0</td>\n",
              "      <td>0</td>\n",
              "      <td>0</td>\n",
              "      <td>0</td>\n",
              "      <td>0</td>\n",
              "      <td>0</td>\n",
              "      <td>0</td>\n",
              "      <td>0</td>\n",
              "      <td>0</td>\n",
              "      <td>0</td>\n",
              "      <td>0</td>\n",
              "      <td>0</td>\n",
              "      <td>0</td>\n",
              "      <td>0</td>\n",
              "      <td>0</td>\n",
              "      <td>0</td>\n",
              "      <td>0</td>\n",
              "      <td>0</td>\n",
              "      <td>0</td>\n",
              "      <td>0</td>\n",
              "      <td>0</td>\n",
              "      <td>1</td>\n",
              "      <td>0</td>\n",
              "      <td>1</td>\n",
              "      <td>0</td>\n",
              "      <td>0</td>\n",
              "    </tr>\n",
              "    <tr>\n",
              "      <th>2</th>\n",
              "      <td>1</td>\n",
              "      <td>2017-12-02 01:04:06</td>\n",
              "      <td>37.09375</td>\n",
              "      <td>13413</td>\n",
              "      <td>103.0</td>\n",
              "      <td>185.0</td>\n",
              "      <td>137.0</td>\n",
              "      <td>299.0</td>\n",
              "      <td>87.0</td>\n",
              "      <td>1.0</td>\n",
              "      <td>1.0</td>\n",
              "      <td>0.0</td>\n",
              "      <td>1.0</td>\n",
              "      <td>0.0</td>\n",
              "      <td>1.0</td>\n",
              "      <td>1.0</td>\n",
              "      <td>1.0</td>\n",
              "      <td>0.0</td>\n",
              "      <td>1.0</td>\n",
              "      <td>1.0</td>\n",
              "      <td>1.0</td>\n",
              "      <td>0.0</td>\n",
              "      <td>0.0</td>\n",
              "      <td>0.0</td>\n",
              "      <td>0.0</td>\n",
              "      <td>0.0</td>\n",
              "      <td>0.0</td>\n",
              "      <td>0.0</td>\n",
              "      <td>1.0</td>\n",
              "      <td>1.0</td>\n",
              "      <td>1.0</td>\n",
              "      <td>1.0</td>\n",
              "      <td>1.0</td>\n",
              "      <td>1.0</td>\n",
              "      <td>1.0</td>\n",
              "      <td>1.0</td>\n",
              "      <td>1.0</td>\n",
              "      <td>2.0</td>\n",
              "      <td>2.0</td>\n",
              "      <td>1.0</td>\n",
              "      <td>...</td>\n",
              "      <td>0</td>\n",
              "      <td>0</td>\n",
              "      <td>0</td>\n",
              "      <td>0</td>\n",
              "      <td>0</td>\n",
              "      <td>0</td>\n",
              "      <td>0</td>\n",
              "      <td>0</td>\n",
              "      <td>0</td>\n",
              "      <td>0</td>\n",
              "      <td>0</td>\n",
              "      <td>0</td>\n",
              "      <td>0</td>\n",
              "      <td>0</td>\n",
              "      <td>0</td>\n",
              "      <td>0</td>\n",
              "      <td>0</td>\n",
              "      <td>0</td>\n",
              "      <td>0</td>\n",
              "      <td>0</td>\n",
              "      <td>0</td>\n",
              "      <td>0</td>\n",
              "      <td>0</td>\n",
              "      <td>0</td>\n",
              "      <td>0</td>\n",
              "      <td>0</td>\n",
              "      <td>0</td>\n",
              "      <td>0</td>\n",
              "      <td>0</td>\n",
              "      <td>0</td>\n",
              "      <td>0</td>\n",
              "      <td>0</td>\n",
              "      <td>0</td>\n",
              "      <td>0</td>\n",
              "      <td>0</td>\n",
              "      <td>1</td>\n",
              "      <td>0</td>\n",
              "      <td>1</td>\n",
              "      <td>0</td>\n",
              "      <td>0</td>\n",
              "    </tr>\n",
              "    <tr>\n",
              "      <th>3</th>\n",
              "      <td>1</td>\n",
              "      <td>2017-12-02 01:04:55</td>\n",
              "      <td>37.09375</td>\n",
              "      <td>13413</td>\n",
              "      <td>103.0</td>\n",
              "      <td>185.0</td>\n",
              "      <td>137.0</td>\n",
              "      <td>299.0</td>\n",
              "      <td>87.0</td>\n",
              "      <td>2.0</td>\n",
              "      <td>1.0</td>\n",
              "      <td>0.0</td>\n",
              "      <td>1.0</td>\n",
              "      <td>0.0</td>\n",
              "      <td>1.0</td>\n",
              "      <td>1.0</td>\n",
              "      <td>1.0</td>\n",
              "      <td>0.0</td>\n",
              "      <td>1.0</td>\n",
              "      <td>1.0</td>\n",
              "      <td>1.0</td>\n",
              "      <td>0.0</td>\n",
              "      <td>0.0</td>\n",
              "      <td>0.0</td>\n",
              "      <td>0.0</td>\n",
              "      <td>0.0</td>\n",
              "      <td>0.0</td>\n",
              "      <td>0.0</td>\n",
              "      <td>1.0</td>\n",
              "      <td>1.0</td>\n",
              "      <td>1.0</td>\n",
              "      <td>1.0</td>\n",
              "      <td>1.0</td>\n",
              "      <td>1.0</td>\n",
              "      <td>1.0</td>\n",
              "      <td>1.0</td>\n",
              "      <td>1.0</td>\n",
              "      <td>3.0</td>\n",
              "      <td>3.0</td>\n",
              "      <td>1.0</td>\n",
              "      <td>...</td>\n",
              "      <td>0</td>\n",
              "      <td>0</td>\n",
              "      <td>0</td>\n",
              "      <td>0</td>\n",
              "      <td>0</td>\n",
              "      <td>0</td>\n",
              "      <td>0</td>\n",
              "      <td>0</td>\n",
              "      <td>0</td>\n",
              "      <td>0</td>\n",
              "      <td>0</td>\n",
              "      <td>0</td>\n",
              "      <td>0</td>\n",
              "      <td>0</td>\n",
              "      <td>0</td>\n",
              "      <td>0</td>\n",
              "      <td>0</td>\n",
              "      <td>0</td>\n",
              "      <td>0</td>\n",
              "      <td>0</td>\n",
              "      <td>0</td>\n",
              "      <td>0</td>\n",
              "      <td>0</td>\n",
              "      <td>0</td>\n",
              "      <td>0</td>\n",
              "      <td>0</td>\n",
              "      <td>0</td>\n",
              "      <td>0</td>\n",
              "      <td>0</td>\n",
              "      <td>0</td>\n",
              "      <td>0</td>\n",
              "      <td>0</td>\n",
              "      <td>0</td>\n",
              "      <td>0</td>\n",
              "      <td>0</td>\n",
              "      <td>1</td>\n",
              "      <td>0</td>\n",
              "      <td>1</td>\n",
              "      <td>0</td>\n",
              "      <td>0</td>\n",
              "    </tr>\n",
              "    <tr>\n",
              "      <th>4</th>\n",
              "      <td>1</td>\n",
              "      <td>2017-12-02 01:16:26</td>\n",
              "      <td>155.50000</td>\n",
              "      <td>16578</td>\n",
              "      <td>545.0</td>\n",
              "      <td>185.0</td>\n",
              "      <td>226.0</td>\n",
              "      <td>299.0</td>\n",
              "      <td>87.0</td>\n",
              "      <td>1.0</td>\n",
              "      <td>1.0</td>\n",
              "      <td>0.0</td>\n",
              "      <td>1.0</td>\n",
              "      <td>0.0</td>\n",
              "      <td>1.0</td>\n",
              "      <td>1.0</td>\n",
              "      <td>1.0</td>\n",
              "      <td>0.0</td>\n",
              "      <td>1.0</td>\n",
              "      <td>1.0</td>\n",
              "      <td>1.0</td>\n",
              "      <td>0.0</td>\n",
              "      <td>0.0</td>\n",
              "      <td>0.0</td>\n",
              "      <td>0.0</td>\n",
              "      <td>0.0</td>\n",
              "      <td>0.0</td>\n",
              "      <td>0.0</td>\n",
              "      <td>1.0</td>\n",
              "      <td>1.0</td>\n",
              "      <td>1.0</td>\n",
              "      <td>1.0</td>\n",
              "      <td>1.0</td>\n",
              "      <td>1.0</td>\n",
              "      <td>1.0</td>\n",
              "      <td>1.0</td>\n",
              "      <td>1.0</td>\n",
              "      <td>1.0</td>\n",
              "      <td>1.0</td>\n",
              "      <td>1.0</td>\n",
              "      <td>...</td>\n",
              "      <td>0</td>\n",
              "      <td>0</td>\n",
              "      <td>0</td>\n",
              "      <td>0</td>\n",
              "      <td>0</td>\n",
              "      <td>0</td>\n",
              "      <td>0</td>\n",
              "      <td>0</td>\n",
              "      <td>1</td>\n",
              "      <td>0</td>\n",
              "      <td>0</td>\n",
              "      <td>0</td>\n",
              "      <td>0</td>\n",
              "      <td>0</td>\n",
              "      <td>0</td>\n",
              "      <td>0</td>\n",
              "      <td>0</td>\n",
              "      <td>0</td>\n",
              "      <td>0</td>\n",
              "      <td>0</td>\n",
              "      <td>0</td>\n",
              "      <td>0</td>\n",
              "      <td>0</td>\n",
              "      <td>0</td>\n",
              "      <td>0</td>\n",
              "      <td>0</td>\n",
              "      <td>0</td>\n",
              "      <td>0</td>\n",
              "      <td>0</td>\n",
              "      <td>0</td>\n",
              "      <td>0</td>\n",
              "      <td>0</td>\n",
              "      <td>0</td>\n",
              "      <td>0</td>\n",
              "      <td>0</td>\n",
              "      <td>1</td>\n",
              "      <td>0</td>\n",
              "      <td>1</td>\n",
              "      <td>0</td>\n",
              "      <td>0</td>\n",
              "    </tr>\n",
              "  </tbody>\n",
              "</table>\n",
              "<p>5 rows × 247 columns</p>\n",
              "</div>"
            ],
            "text/plain": [
              "   isFraud       TransactionDT  ...  card6_debit  card6_debit or credit\n",
              "0        1 2017-12-02 00:56:00  ...            0                      0\n",
              "1        1 2017-12-02 01:03:13  ...            0                      0\n",
              "2        1 2017-12-02 01:04:06  ...            0                      0\n",
              "3        1 2017-12-02 01:04:55  ...            0                      0\n",
              "4        1 2017-12-02 01:16:26  ...            0                      0\n",
              "\n",
              "[5 rows x 247 columns]"
            ]
          },
          "metadata": {
            "tags": []
          },
          "execution_count": 64
        }
      ]
    },
    {
      "cell_type": "code",
      "metadata": {
        "id": "KKc_MTGBuaJ1"
      },
      "source": [
        "#transforming TransactionDT to Date and Time\n",
        "df['TransactionDT'] = df['TransactionDT'].astype('str')\n",
        "df = pd.concat([df,df['TransactionDT'].str.split(expand=True)], axis=1)"
      ],
      "execution_count": 65,
      "outputs": []
    },
    {
      "cell_type": "code",
      "metadata": {
        "id": "oesaYS6OuZ9w"
      },
      "source": [
        "df.rename(columns={0:'Date',1:'Time'}, inplace=True)"
      ],
      "execution_count": 66,
      "outputs": []
    },
    {
      "cell_type": "code",
      "metadata": {
        "id": "jbNXkv9Ww1SZ"
      },
      "source": [
        "#dropping TransactionDT as it is no more required\n",
        "df.drop(['TransactionDT'], axis=1,inplace=True)"
      ],
      "execution_count": 67,
      "outputs": []
    },
    {
      "cell_type": "code",
      "metadata": {
        "colab": {
          "base_uri": "https://localhost:8080/"
        },
        "id": "Tw07ytmWw9Dh",
        "outputId": "0421bc60-e419-4d57-8977-aea55ecc3bb4"
      },
      "source": [
        "#from the dates available we can filter out dates in which there were holidays in US\n",
        "from pandas.tseries.holiday import USFederalHolidayCalendar as calendar\n",
        "\n",
        "Dates = df['Date']\n",
        "c = calendar()\n",
        "holidays = c.holidays(start=Dates.min(), end=Dates.max())\n",
        "holidays"
      ],
      "execution_count": 68,
      "outputs": [
        {
          "output_type": "execute_result",
          "data": {
            "text/plain": [
              "DatetimeIndex(['2017-12-25', '2018-01-01', '2018-01-15', '2018-02-19',\n",
              "               '2018-05-28'],\n",
              "              dtype='datetime64[ns]', freq=None)"
            ]
          },
          "metadata": {
            "tags": []
          },
          "execution_count": 68
        }
      ]
    },
    {
      "cell_type": "code",
      "metadata": {
        "id": "y_tyEatzw85Z"
      },
      "source": [
        "#creating isHoliday or not column\n",
        "df['isHoliday'] = df['Date'].apply(lambda x: 1 if x in holidays else 0)"
      ],
      "execution_count": 69,
      "outputs": []
    },
    {
      "cell_type": "code",
      "metadata": {
        "id": "C2dDWZREytMT"
      },
      "source": [
        "#from the dates we can also impute if it was weekday/weekend\n",
        "\n",
        "df['weekday'] = df['Date'].apply(lambda x: len(pd.bdate_range(x,x)))"
      ],
      "execution_count": 70,
      "outputs": []
    },
    {
      "cell_type": "code",
      "metadata": {
        "id": "un0q1Hslno9x"
      },
      "source": [
        "#converting the Time coulmn into standard time format\n",
        "df['Time_Hour'] = pd.to_datetime(df['Time'],format='%H:%M:%S').dt.hour"
      ],
      "execution_count": 71,
      "outputs": []
    },
    {
      "cell_type": "code",
      "metadata": {
        "colab": {
          "base_uri": "https://localhost:8080/"
        },
        "id": "66FzE1Ouu6tG",
        "outputId": "120e3488-d67d-4535-fff8-620fffef8960"
      },
      "source": [
        "df['Time_Hour'].value_counts()"
      ],
      "execution_count": 72,
      "outputs": [
        {
          "output_type": "execute_result",
          "data": {
            "text/plain": [
              "19    21477\n",
              "18    21274\n",
              "21    21075\n",
              "20    20976\n",
              "22    20892\n",
              "17    20638\n",
              "23    20129\n",
              "16    19527\n",
              "0     19132\n",
              "15    16958\n",
              "1     16655\n",
              "14    14111\n",
              "2     13608\n",
              "3     10762\n",
              "13    10149\n",
              "4      7629\n",
              "12     6233\n",
              "5      5137\n",
              "11     3520\n",
              "6      3160\n",
              "7      2040\n",
              "10     1926\n",
              "8      1359\n",
              "9      1328\n",
              "Name: Time_Hour, dtype: int64"
            ]
          },
          "metadata": {
            "tags": []
          },
          "execution_count": 72
        }
      ]
    },
    {
      "cell_type": "code",
      "metadata": {
        "id": "8kc7NbTGPdPP"
      },
      "source": [
        "#bining time into 4 slots of Morning, Afternoon, Evening and Night\n",
        "def hour_trans(h):\n",
        "  if ((h>=6) and (h<12)):\n",
        "    return 'Morning'\n",
        "  elif ((h>=12) and (h<16)):\n",
        "    return 'Afternoon'\n",
        "  elif ((h>=16) and (h<20)):\n",
        "    return 'Evening'\n",
        "  else:\n",
        "    return 'Night'\n",
        "\n",
        "df['Day_Time'] = df['Time_Hour'].apply(hour_trans)\n"
      ],
      "execution_count": 73,
      "outputs": []
    },
    {
      "cell_type": "code",
      "metadata": {
        "id": "EZaz3m30LN7g"
      },
      "source": [
        "#Creating dummies out of Day_time columns and concatinating it to dataframe\n",
        "dummies = pd.get_dummies(df['Day_Time'], drop_first=True, prefix_sep='_')\n",
        "df = pd.concat([df,dummies], axis=1)\n",
        "#df.drop(['Day_Time'], axis=1, inplace=True)"
      ],
      "execution_count": 74,
      "outputs": []
    },
    {
      "cell_type": "code",
      "metadata": {
        "colab": {
          "base_uri": "https://localhost:8080/",
          "height": 355
        },
        "id": "KaLnQzYoW-5S",
        "outputId": "2332b84c-6bc8-4aaa-c05c-2080a096822a"
      },
      "source": [
        "df.head()"
      ],
      "execution_count": 75,
      "outputs": [
        {
          "output_type": "execute_result",
          "data": {
            "text/html": [
              "<div>\n",
              "<style scoped>\n",
              "    .dataframe tbody tr th:only-of-type {\n",
              "        vertical-align: middle;\n",
              "    }\n",
              "\n",
              "    .dataframe tbody tr th {\n",
              "        vertical-align: top;\n",
              "    }\n",
              "\n",
              "    .dataframe thead th {\n",
              "        text-align: right;\n",
              "    }\n",
              "</style>\n",
              "<table border=\"1\" class=\"dataframe\">\n",
              "  <thead>\n",
              "    <tr style=\"text-align: right;\">\n",
              "      <th></th>\n",
              "      <th>isFraud</th>\n",
              "      <th>TransactionAmt</th>\n",
              "      <th>card1</th>\n",
              "      <th>card2</th>\n",
              "      <th>card3</th>\n",
              "      <th>card5</th>\n",
              "      <th>addr1</th>\n",
              "      <th>addr2</th>\n",
              "      <th>C1</th>\n",
              "      <th>C2</th>\n",
              "      <th>C3</th>\n",
              "      <th>C4</th>\n",
              "      <th>C5</th>\n",
              "      <th>C6</th>\n",
              "      <th>C7</th>\n",
              "      <th>C8</th>\n",
              "      <th>C9</th>\n",
              "      <th>C10</th>\n",
              "      <th>C11</th>\n",
              "      <th>C12</th>\n",
              "      <th>C13</th>\n",
              "      <th>C14</th>\n",
              "      <th>D1</th>\n",
              "      <th>D10</th>\n",
              "      <th>D15</th>\n",
              "      <th>V12</th>\n",
              "      <th>V13</th>\n",
              "      <th>V14</th>\n",
              "      <th>V15</th>\n",
              "      <th>V16</th>\n",
              "      <th>V17</th>\n",
              "      <th>V18</th>\n",
              "      <th>V19</th>\n",
              "      <th>V20</th>\n",
              "      <th>V21</th>\n",
              "      <th>V22</th>\n",
              "      <th>V23</th>\n",
              "      <th>V24</th>\n",
              "      <th>V25</th>\n",
              "      <th>V26</th>\n",
              "      <th>...</th>\n",
              "      <th>Email_outlook.es</th>\n",
              "      <th>Email_prodigy.net.mx</th>\n",
              "      <th>Email_protonmail.com</th>\n",
              "      <th>Email_ptd.net</th>\n",
              "      <th>Email_q.com</th>\n",
              "      <th>Email_roadrunner.com</th>\n",
              "      <th>Email_rocketmail.com</th>\n",
              "      <th>Email_sbcglobal.net</th>\n",
              "      <th>Email_sc.rr.com</th>\n",
              "      <th>Email_servicios-ta.com</th>\n",
              "      <th>Email_suddenlink.net</th>\n",
              "      <th>Email_twc.com</th>\n",
              "      <th>Email_verizon.net</th>\n",
              "      <th>Email_web.de</th>\n",
              "      <th>Email_windstream.net</th>\n",
              "      <th>Email_yahoo.co.jp</th>\n",
              "      <th>Email_yahoo.co.uk</th>\n",
              "      <th>Email_yahoo.com</th>\n",
              "      <th>Email_yahoo.com.mx</th>\n",
              "      <th>Email_yahoo.de</th>\n",
              "      <th>Email_yahoo.es</th>\n",
              "      <th>Email_yahoo.fr</th>\n",
              "      <th>Email_ymail.com</th>\n",
              "      <th>card4_american express</th>\n",
              "      <th>card4_discover</th>\n",
              "      <th>card4_mastercard</th>\n",
              "      <th>card4_visa</th>\n",
              "      <th>card6_charge card</th>\n",
              "      <th>card6_credit</th>\n",
              "      <th>card6_debit</th>\n",
              "      <th>card6_debit or credit</th>\n",
              "      <th>Date</th>\n",
              "      <th>Time</th>\n",
              "      <th>isHoliday</th>\n",
              "      <th>weekday</th>\n",
              "      <th>Time_Hour</th>\n",
              "      <th>Day_Time</th>\n",
              "      <th>Evening</th>\n",
              "      <th>Morning</th>\n",
              "      <th>Night</th>\n",
              "    </tr>\n",
              "  </thead>\n",
              "  <tbody>\n",
              "    <tr>\n",
              "      <th>0</th>\n",
              "      <td>1</td>\n",
              "      <td>445.00000</td>\n",
              "      <td>18268</td>\n",
              "      <td>583.0</td>\n",
              "      <td>150.0</td>\n",
              "      <td>226.0</td>\n",
              "      <td>251.0</td>\n",
              "      <td>87.0</td>\n",
              "      <td>2.0</td>\n",
              "      <td>2.0</td>\n",
              "      <td>0.0</td>\n",
              "      <td>0.0</td>\n",
              "      <td>0.0</td>\n",
              "      <td>2.0</td>\n",
              "      <td>0.0</td>\n",
              "      <td>0.0</td>\n",
              "      <td>2.0</td>\n",
              "      <td>0.0</td>\n",
              "      <td>1.0</td>\n",
              "      <td>0.0</td>\n",
              "      <td>4.0</td>\n",
              "      <td>2.0</td>\n",
              "      <td>57.0</td>\n",
              "      <td>80.0</td>\n",
              "      <td>374.0</td>\n",
              "      <td>1.0</td>\n",
              "      <td>1.0</td>\n",
              "      <td>1.0</td>\n",
              "      <td>0.0</td>\n",
              "      <td>0.0</td>\n",
              "      <td>0.0</td>\n",
              "      <td>0.0</td>\n",
              "      <td>1.0</td>\n",
              "      <td>1.0</td>\n",
              "      <td>0.0</td>\n",
              "      <td>0.0</td>\n",
              "      <td>1.0</td>\n",
              "      <td>1.0</td>\n",
              "      <td>1.0</td>\n",
              "      <td>1.0</td>\n",
              "      <td>...</td>\n",
              "      <td>0</td>\n",
              "      <td>0</td>\n",
              "      <td>0</td>\n",
              "      <td>0</td>\n",
              "      <td>0</td>\n",
              "      <td>0</td>\n",
              "      <td>0</td>\n",
              "      <td>0</td>\n",
              "      <td>0</td>\n",
              "      <td>0</td>\n",
              "      <td>0</td>\n",
              "      <td>0</td>\n",
              "      <td>0</td>\n",
              "      <td>0</td>\n",
              "      <td>0</td>\n",
              "      <td>0</td>\n",
              "      <td>0</td>\n",
              "      <td>0</td>\n",
              "      <td>0</td>\n",
              "      <td>0</td>\n",
              "      <td>0</td>\n",
              "      <td>0</td>\n",
              "      <td>0</td>\n",
              "      <td>0</td>\n",
              "      <td>0</td>\n",
              "      <td>0</td>\n",
              "      <td>1</td>\n",
              "      <td>0</td>\n",
              "      <td>1</td>\n",
              "      <td>0</td>\n",
              "      <td>0</td>\n",
              "      <td>2017-12-02</td>\n",
              "      <td>00:56:00</td>\n",
              "      <td>0</td>\n",
              "      <td>0</td>\n",
              "      <td>0</td>\n",
              "      <td>Night</td>\n",
              "      <td>0</td>\n",
              "      <td>0</td>\n",
              "      <td>1</td>\n",
              "    </tr>\n",
              "    <tr>\n",
              "      <th>1</th>\n",
              "      <td>1</td>\n",
              "      <td>37.09375</td>\n",
              "      <td>13413</td>\n",
              "      <td>103.0</td>\n",
              "      <td>185.0</td>\n",
              "      <td>137.0</td>\n",
              "      <td>299.0</td>\n",
              "      <td>87.0</td>\n",
              "      <td>0.0</td>\n",
              "      <td>1.0</td>\n",
              "      <td>0.0</td>\n",
              "      <td>1.0</td>\n",
              "      <td>0.0</td>\n",
              "      <td>1.0</td>\n",
              "      <td>1.0</td>\n",
              "      <td>1.0</td>\n",
              "      <td>0.0</td>\n",
              "      <td>1.0</td>\n",
              "      <td>1.0</td>\n",
              "      <td>1.0</td>\n",
              "      <td>0.0</td>\n",
              "      <td>0.0</td>\n",
              "      <td>0.0</td>\n",
              "      <td>0.0</td>\n",
              "      <td>0.0</td>\n",
              "      <td>0.0</td>\n",
              "      <td>0.0</td>\n",
              "      <td>1.0</td>\n",
              "      <td>1.0</td>\n",
              "      <td>1.0</td>\n",
              "      <td>1.0</td>\n",
              "      <td>1.0</td>\n",
              "      <td>1.0</td>\n",
              "      <td>1.0</td>\n",
              "      <td>1.0</td>\n",
              "      <td>1.0</td>\n",
              "      <td>1.0</td>\n",
              "      <td>1.0</td>\n",
              "      <td>1.0</td>\n",
              "      <td>1.0</td>\n",
              "      <td>...</td>\n",
              "      <td>0</td>\n",
              "      <td>0</td>\n",
              "      <td>0</td>\n",
              "      <td>0</td>\n",
              "      <td>0</td>\n",
              "      <td>0</td>\n",
              "      <td>0</td>\n",
              "      <td>0</td>\n",
              "      <td>0</td>\n",
              "      <td>0</td>\n",
              "      <td>0</td>\n",
              "      <td>0</td>\n",
              "      <td>0</td>\n",
              "      <td>0</td>\n",
              "      <td>0</td>\n",
              "      <td>0</td>\n",
              "      <td>0</td>\n",
              "      <td>0</td>\n",
              "      <td>0</td>\n",
              "      <td>0</td>\n",
              "      <td>0</td>\n",
              "      <td>0</td>\n",
              "      <td>0</td>\n",
              "      <td>0</td>\n",
              "      <td>0</td>\n",
              "      <td>0</td>\n",
              "      <td>1</td>\n",
              "      <td>0</td>\n",
              "      <td>1</td>\n",
              "      <td>0</td>\n",
              "      <td>0</td>\n",
              "      <td>2017-12-02</td>\n",
              "      <td>01:03:13</td>\n",
              "      <td>0</td>\n",
              "      <td>0</td>\n",
              "      <td>1</td>\n",
              "      <td>Night</td>\n",
              "      <td>0</td>\n",
              "      <td>0</td>\n",
              "      <td>1</td>\n",
              "    </tr>\n",
              "    <tr>\n",
              "      <th>2</th>\n",
              "      <td>1</td>\n",
              "      <td>37.09375</td>\n",
              "      <td>13413</td>\n",
              "      <td>103.0</td>\n",
              "      <td>185.0</td>\n",
              "      <td>137.0</td>\n",
              "      <td>299.0</td>\n",
              "      <td>87.0</td>\n",
              "      <td>1.0</td>\n",
              "      <td>1.0</td>\n",
              "      <td>0.0</td>\n",
              "      <td>1.0</td>\n",
              "      <td>0.0</td>\n",
              "      <td>1.0</td>\n",
              "      <td>1.0</td>\n",
              "      <td>1.0</td>\n",
              "      <td>0.0</td>\n",
              "      <td>1.0</td>\n",
              "      <td>1.0</td>\n",
              "      <td>1.0</td>\n",
              "      <td>0.0</td>\n",
              "      <td>0.0</td>\n",
              "      <td>0.0</td>\n",
              "      <td>0.0</td>\n",
              "      <td>0.0</td>\n",
              "      <td>0.0</td>\n",
              "      <td>0.0</td>\n",
              "      <td>1.0</td>\n",
              "      <td>1.0</td>\n",
              "      <td>1.0</td>\n",
              "      <td>1.0</td>\n",
              "      <td>1.0</td>\n",
              "      <td>1.0</td>\n",
              "      <td>1.0</td>\n",
              "      <td>1.0</td>\n",
              "      <td>1.0</td>\n",
              "      <td>2.0</td>\n",
              "      <td>2.0</td>\n",
              "      <td>1.0</td>\n",
              "      <td>1.0</td>\n",
              "      <td>...</td>\n",
              "      <td>0</td>\n",
              "      <td>0</td>\n",
              "      <td>0</td>\n",
              "      <td>0</td>\n",
              "      <td>0</td>\n",
              "      <td>0</td>\n",
              "      <td>0</td>\n",
              "      <td>0</td>\n",
              "      <td>0</td>\n",
              "      <td>0</td>\n",
              "      <td>0</td>\n",
              "      <td>0</td>\n",
              "      <td>0</td>\n",
              "      <td>0</td>\n",
              "      <td>0</td>\n",
              "      <td>0</td>\n",
              "      <td>0</td>\n",
              "      <td>0</td>\n",
              "      <td>0</td>\n",
              "      <td>0</td>\n",
              "      <td>0</td>\n",
              "      <td>0</td>\n",
              "      <td>0</td>\n",
              "      <td>0</td>\n",
              "      <td>0</td>\n",
              "      <td>0</td>\n",
              "      <td>1</td>\n",
              "      <td>0</td>\n",
              "      <td>1</td>\n",
              "      <td>0</td>\n",
              "      <td>0</td>\n",
              "      <td>2017-12-02</td>\n",
              "      <td>01:04:06</td>\n",
              "      <td>0</td>\n",
              "      <td>0</td>\n",
              "      <td>1</td>\n",
              "      <td>Night</td>\n",
              "      <td>0</td>\n",
              "      <td>0</td>\n",
              "      <td>1</td>\n",
              "    </tr>\n",
              "    <tr>\n",
              "      <th>3</th>\n",
              "      <td>1</td>\n",
              "      <td>37.09375</td>\n",
              "      <td>13413</td>\n",
              "      <td>103.0</td>\n",
              "      <td>185.0</td>\n",
              "      <td>137.0</td>\n",
              "      <td>299.0</td>\n",
              "      <td>87.0</td>\n",
              "      <td>2.0</td>\n",
              "      <td>1.0</td>\n",
              "      <td>0.0</td>\n",
              "      <td>1.0</td>\n",
              "      <td>0.0</td>\n",
              "      <td>1.0</td>\n",
              "      <td>1.0</td>\n",
              "      <td>1.0</td>\n",
              "      <td>0.0</td>\n",
              "      <td>1.0</td>\n",
              "      <td>1.0</td>\n",
              "      <td>1.0</td>\n",
              "      <td>0.0</td>\n",
              "      <td>0.0</td>\n",
              "      <td>0.0</td>\n",
              "      <td>0.0</td>\n",
              "      <td>0.0</td>\n",
              "      <td>0.0</td>\n",
              "      <td>0.0</td>\n",
              "      <td>1.0</td>\n",
              "      <td>1.0</td>\n",
              "      <td>1.0</td>\n",
              "      <td>1.0</td>\n",
              "      <td>1.0</td>\n",
              "      <td>1.0</td>\n",
              "      <td>1.0</td>\n",
              "      <td>1.0</td>\n",
              "      <td>1.0</td>\n",
              "      <td>3.0</td>\n",
              "      <td>3.0</td>\n",
              "      <td>1.0</td>\n",
              "      <td>1.0</td>\n",
              "      <td>...</td>\n",
              "      <td>0</td>\n",
              "      <td>0</td>\n",
              "      <td>0</td>\n",
              "      <td>0</td>\n",
              "      <td>0</td>\n",
              "      <td>0</td>\n",
              "      <td>0</td>\n",
              "      <td>0</td>\n",
              "      <td>0</td>\n",
              "      <td>0</td>\n",
              "      <td>0</td>\n",
              "      <td>0</td>\n",
              "      <td>0</td>\n",
              "      <td>0</td>\n",
              "      <td>0</td>\n",
              "      <td>0</td>\n",
              "      <td>0</td>\n",
              "      <td>0</td>\n",
              "      <td>0</td>\n",
              "      <td>0</td>\n",
              "      <td>0</td>\n",
              "      <td>0</td>\n",
              "      <td>0</td>\n",
              "      <td>0</td>\n",
              "      <td>0</td>\n",
              "      <td>0</td>\n",
              "      <td>1</td>\n",
              "      <td>0</td>\n",
              "      <td>1</td>\n",
              "      <td>0</td>\n",
              "      <td>0</td>\n",
              "      <td>2017-12-02</td>\n",
              "      <td>01:04:55</td>\n",
              "      <td>0</td>\n",
              "      <td>0</td>\n",
              "      <td>1</td>\n",
              "      <td>Night</td>\n",
              "      <td>0</td>\n",
              "      <td>0</td>\n",
              "      <td>1</td>\n",
              "    </tr>\n",
              "    <tr>\n",
              "      <th>4</th>\n",
              "      <td>1</td>\n",
              "      <td>155.50000</td>\n",
              "      <td>16578</td>\n",
              "      <td>545.0</td>\n",
              "      <td>185.0</td>\n",
              "      <td>226.0</td>\n",
              "      <td>299.0</td>\n",
              "      <td>87.0</td>\n",
              "      <td>1.0</td>\n",
              "      <td>1.0</td>\n",
              "      <td>0.0</td>\n",
              "      <td>1.0</td>\n",
              "      <td>0.0</td>\n",
              "      <td>1.0</td>\n",
              "      <td>1.0</td>\n",
              "      <td>1.0</td>\n",
              "      <td>0.0</td>\n",
              "      <td>1.0</td>\n",
              "      <td>1.0</td>\n",
              "      <td>1.0</td>\n",
              "      <td>0.0</td>\n",
              "      <td>0.0</td>\n",
              "      <td>0.0</td>\n",
              "      <td>0.0</td>\n",
              "      <td>0.0</td>\n",
              "      <td>0.0</td>\n",
              "      <td>0.0</td>\n",
              "      <td>1.0</td>\n",
              "      <td>1.0</td>\n",
              "      <td>1.0</td>\n",
              "      <td>1.0</td>\n",
              "      <td>1.0</td>\n",
              "      <td>1.0</td>\n",
              "      <td>1.0</td>\n",
              "      <td>1.0</td>\n",
              "      <td>1.0</td>\n",
              "      <td>1.0</td>\n",
              "      <td>1.0</td>\n",
              "      <td>1.0</td>\n",
              "      <td>1.0</td>\n",
              "      <td>...</td>\n",
              "      <td>0</td>\n",
              "      <td>0</td>\n",
              "      <td>0</td>\n",
              "      <td>0</td>\n",
              "      <td>0</td>\n",
              "      <td>0</td>\n",
              "      <td>0</td>\n",
              "      <td>0</td>\n",
              "      <td>0</td>\n",
              "      <td>0</td>\n",
              "      <td>0</td>\n",
              "      <td>0</td>\n",
              "      <td>0</td>\n",
              "      <td>0</td>\n",
              "      <td>0</td>\n",
              "      <td>0</td>\n",
              "      <td>0</td>\n",
              "      <td>0</td>\n",
              "      <td>0</td>\n",
              "      <td>0</td>\n",
              "      <td>0</td>\n",
              "      <td>0</td>\n",
              "      <td>0</td>\n",
              "      <td>0</td>\n",
              "      <td>0</td>\n",
              "      <td>0</td>\n",
              "      <td>1</td>\n",
              "      <td>0</td>\n",
              "      <td>1</td>\n",
              "      <td>0</td>\n",
              "      <td>0</td>\n",
              "      <td>2017-12-02</td>\n",
              "      <td>01:16:26</td>\n",
              "      <td>0</td>\n",
              "      <td>0</td>\n",
              "      <td>1</td>\n",
              "      <td>Night</td>\n",
              "      <td>0</td>\n",
              "      <td>0</td>\n",
              "      <td>1</td>\n",
              "    </tr>\n",
              "  </tbody>\n",
              "</table>\n",
              "<p>5 rows × 255 columns</p>\n",
              "</div>"
            ],
            "text/plain": [
              "   isFraud  TransactionAmt  card1  card2  ...  Day_Time  Evening  Morning  Night\n",
              "0        1       445.00000  18268  583.0  ...     Night        0        0      1\n",
              "1        1        37.09375  13413  103.0  ...     Night        0        0      1\n",
              "2        1        37.09375  13413  103.0  ...     Night        0        0      1\n",
              "3        1        37.09375  13413  103.0  ...     Night        0        0      1\n",
              "4        1       155.50000  16578  545.0  ...     Night        0        0      1\n",
              "\n",
              "[5 rows x 255 columns]"
            ]
          },
          "metadata": {
            "tags": []
          },
          "execution_count": 75
        }
      ]
    },
    {
      "cell_type": "markdown",
      "metadata": {
        "id": "n5dS2TNfKVz_"
      },
      "source": [
        "Outlier treatment"
      ]
    },
    {
      "cell_type": "code",
      "metadata": {
        "colab": {
          "base_uri": "https://localhost:8080/",
          "height": 282
        },
        "id": "0XmqBSyZKYtL",
        "outputId": "1b27ed73-e9bc-4a84-b12d-8bf37d92b589"
      },
      "source": [
        "#Checking outliers in TansactionAmt column\n",
        "df['TransactionAmt'].plot.box()"
      ],
      "execution_count": 76,
      "outputs": [
        {
          "output_type": "execute_result",
          "data": {
            "text/plain": [
              "<matplotlib.axes._subplots.AxesSubplot at 0x7f14cba8d5d0>"
            ]
          },
          "metadata": {
            "tags": []
          },
          "execution_count": 76
        },
        {
          "output_type": "display_data",
          "data": {
            "image/png": "[encoded data removed]",
            "text/plain": [
              "<Figure size 432x288 with 1 Axes>"
            ]
          },
          "metadata": {
            "tags": [],
            "needs_background": "light"
          }
        }
      ]
    },
    {
      "cell_type": "code",
      "metadata": {
        "colab": {
          "base_uri": "https://localhost:8080/"
        },
        "id": "XcyJIFv0KYej",
        "outputId": "55216f1f-c512-4656-ce56-998b700f3a0e"
      },
      "source": [
        "#checking if there are any frauds that happened with Transactions above 10000\n",
        "df[df['TransactionAmt'] > 10000].isFraud.value_counts()"
      ],
      "execution_count": 77,
      "outputs": [
        {
          "output_type": "execute_result",
          "data": {
            "text/plain": [
              "0    1\n",
              "Name: isFraud, dtype: int64"
            ]
          },
          "metadata": {
            "tags": []
          },
          "execution_count": 77
        }
      ]
    },
    {
      "cell_type": "code",
      "metadata": {
        "id": "qxPVWa7wKYQ5"
      },
      "source": [
        "#Since there are no frauds happened above 10000 we can cap the value at 10000\n",
        "df = df[df['TransactionAmt'] <= 10000]"
      ],
      "execution_count": 78,
      "outputs": []
    },
    {
      "cell_type": "markdown",
      "metadata": {
        "id": "fNmSxSO6s-MR"
      },
      "source": [
        "Exploratry Data Analysis"
      ]
    },
    {
      "cell_type": "code",
      "metadata": {
        "colab": {
          "base_uri": "https://localhost:8080/",
          "height": 248
        },
        "id": "5K5ve9P8yvrX",
        "outputId": "43d5ce32-7686-4261-ee2d-f5647011f03a"
      },
      "source": [
        "#checking for imbance in data\n",
        "df.isFraud.value_counts(normalize=True).plot.pie(autopct='%1.2f%%')\n",
        "plt.show()"
      ],
      "execution_count": 79,
      "outputs": [
        {
          "output_type": "display_data",
          "data": {
            "image/png": "[encoded data removed]",
            "text/plain": [
              "<Figure size 432x288 with 1 Axes>"
            ]
          },
          "metadata": {
            "tags": []
          }
        }
      ]
    },
    {
      "cell_type": "markdown",
      "metadata": {
        "id": "UiMXUz_eUdfU"
      },
      "source": [
        "Data is highly imbalanced, we need to create models looking into this imbalance"
      ]
    },
    {
      "cell_type": "code",
      "metadata": {
        "colab": {
          "base_uri": "https://localhost:8080/",
          "height": 248
        },
        "id": "Cu8tQQPPyvnD",
        "outputId": "712de4ea-40b4-4dab-c3fb-9c4375119d5a"
      },
      "source": [
        "#Lets check if holiday has any effect on Fraud\n",
        "df[df.isFraud==1].isHoliday.value_counts(normalize=True).plot.pie(autopct='%1.2f%%')\n",
        "plt.show()"
      ],
      "execution_count": 80,
      "outputs": [
        {
          "output_type": "display_data",
          "data": {
            "image/png": "[encoded data removed]",
            "text/plain": [
              "<Figure size 432x288 with 1 Axes>"
            ]
          },
          "metadata": {
            "tags": []
          }
        }
      ]
    },
    {
      "cell_type": "markdown",
      "metadata": {
        "id": "3dJhfRJAVMLc"
      },
      "source": [
        "2.32% Fraud happened on Holidays and most of them happened during working days"
      ]
    },
    {
      "cell_type": "code",
      "metadata": {
        "colab": {
          "base_uri": "https://localhost:8080/",
          "height": 265
        },
        "id": "_VETgA8Eyvgg",
        "outputId": "e22453da-e937-483e-fee7-c790ddbf8174"
      },
      "source": [
        "#checking effect of weekday/weekend on Fraud\n",
        "\n",
        "df[df['isFraud']==1].weekday.value_counts(normalize=True).plot.pie(autopct='%1.2f%%')"
      ],
      "execution_count": 81,
      "outputs": [
        {
          "output_type": "execute_result",
          "data": {
            "text/plain": [
              "<matplotlib.axes._subplots.AxesSubplot at 0x7f14c050bdd0>"
            ]
          },
          "metadata": {
            "tags": []
          },
          "execution_count": 81
        },
        {
          "output_type": "display_data",
          "data": {
            "image/png": "[encoded data removed]",
            "text/plain": [
              "<Figure size 432x288 with 1 Axes>"
            ]
          },
          "metadata": {
            "tags": []
          }
        }
      ]
    },
    {
      "cell_type": "markdown",
      "metadata": {
        "id": "LdvYf_qodho2"
      },
      "source": [
        "31.52% Frauds happened during weekdays"
      ]
    },
    {
      "cell_type": "code",
      "metadata": {
        "colab": {
          "base_uri": "https://localhost:8080/",
          "height": 297
        },
        "id": "eSlmpst3W1JS",
        "outputId": "1c219bde-905a-444a-d4af-af4ab4fb4013"
      },
      "source": [
        "#lets check effect of durations in a day on Fraud\n",
        "\n",
        "sns.countplot(x='Day_Time', hue='isFraud', data=df)"
      ],
      "execution_count": 82,
      "outputs": [
        {
          "output_type": "execute_result",
          "data": {
            "text/plain": [
              "<matplotlib.axes._subplots.AxesSubplot at 0x7f14c057c750>"
            ]
          },
          "metadata": {
            "tags": []
          },
          "execution_count": 82
        },
        {
          "output_type": "display_data",
          "data": {
            "image/png": "[encoded data removed]",
            "text/plain": [
              "<Figure size 432x288 with 1 Axes>"
            ]
          },
          "metadata": {
            "tags": [],
            "needs_background": "light"
          }
        }
      ]
    },
    {
      "cell_type": "markdown",
      "metadata": {
        "id": "YfiASywmw66v"
      },
      "source": [
        "Most of the fraud happend at Night time and least in Morning time"
      ]
    },
    {
      "cell_type": "code",
      "metadata": {
        "colab": {
          "base_uri": "https://localhost:8080/"
        },
        "id": "ChXbPOu8GcPV",
        "outputId": "965964ab-ce52-466e-e35d-cdeee28ff6da"
      },
      "source": [
        "#checking for categorical variable\n",
        "df.columns[df.dtypes=='category']"
      ],
      "execution_count": 83,
      "outputs": [
        {
          "output_type": "execute_result",
          "data": {
            "text/plain": [
              "Index([], dtype='object')"
            ]
          },
          "metadata": {
            "tags": []
          },
          "execution_count": 83
        }
      ]
    },
    {
      "cell_type": "code",
      "metadata": {
        "id": "qgOn9nBEGcSn"
      },
      "source": [
        "#dropping 'Time','Time_Hour','Date' , 'Day_Time' columns as it is not required\n",
        "df.drop(['Time','Time_Hour','Date', 'Day_Time'], axis=1, inplace=True)"
      ],
      "execution_count": 84,
      "outputs": []
    },
    {
      "cell_type": "markdown",
      "metadata": {
        "id": "CBn3D1quNvkT"
      },
      "source": [
        "Spliting into Train and Test"
      ]
    },
    {
      "cell_type": "code",
      "metadata": {
        "id": "9NX1tv5bDvm_"
      },
      "source": [
        "from sklearn.model_selection import train_test_split"
      ],
      "execution_count": 85,
      "outputs": []
    },
    {
      "cell_type": "code",
      "metadata": {
        "id": "CxTovYNvGg3c"
      },
      "source": [
        "y = df['isFraud'].values\n",
        "df.drop(['isFraud'], axis=1, inplace=True)"
      ],
      "execution_count": 86,
      "outputs": []
    },
    {
      "cell_type": "code",
      "metadata": {
        "colab": {
          "base_uri": "https://localhost:8080/"
        },
        "id": "-f3g01VMGCI4",
        "outputId": "09aa2b1b-7c8f-481b-89c9-32dc65ce71e5"
      },
      "source": [
        "y.shape"
      ],
      "execution_count": 87,
      "outputs": [
        {
          "output_type": "execute_result",
          "data": {
            "text/plain": [
              "(299694,)"
            ]
          },
          "metadata": {
            "tags": []
          },
          "execution_count": 87
        }
      ]
    },
    {
      "cell_type": "code",
      "metadata": {
        "id": "2D0pYbNFDcCE"
      },
      "source": [
        "X_train, X_test, y_train, y_test = train_test_split(df, y, test_size=0.2)"
      ],
      "execution_count": 88,
      "outputs": []
    },
    {
      "cell_type": "markdown",
      "metadata": {
        "id": "zjRDgl75GhZ2"
      },
      "source": [
        "##Model building"
      ]
    },
    {
      "cell_type": "markdown",
      "metadata": {
        "id": "x0nCYmqAirtV"
      },
      "source": [
        "### Creating Metrics and scoring function\n",
        "\n",
        "As this is an imbalanced dataset we will be focusing more on F1 Score metrics."
      ]
    },
    {
      "cell_type": "code",
      "metadata": {
        "id": "s22r6z-9iqDj"
      },
      "source": [
        "from sklearn import metrics\n",
        "from sklearn.metrics import f1_score, confusion_matrix, accuracy_score\n",
        "\n",
        "def model_metrics(y_true, y_pred):\n",
        "    # Confusion matrix \n",
        "    confusion = confusion_matrix(y_true, y_pred)\n",
        "    print('Confusion Matrix:\\n',confusion,'\\n')\n",
        "\n",
        "    TP = confusion[1,1] # true positive \n",
        "    TN = confusion[0,0] # true negatives\n",
        "    FP = confusion[0,1] # false positives\n",
        "    FN = confusion[1,0] # false negatives\n",
        "\n",
        "    # Let's check the overall accuracy.\n",
        "    accuracy = accuracy_score(y_true, y_pred)\n",
        "    print('Overall Accuracy: ', accuracy)\n",
        "\n",
        "    #F-1 Score\n",
        "    F1_score = f1_score(y_true, y_pred)\n",
        "    print('F-1 Score: ', F1_score)\n",
        "\n",
        "    # Let's see the sensitivity/Recall of our logistic regression model\n",
        "    Sensitivity = TP / float(TP+FN)\n",
        "    print('Sensitivity/Recall: ',Sensitivity)\n",
        "\n",
        "    # Let us calculate specificity\n",
        "    Specificity = TN / float(TN+FP)\n",
        "    print('Specificity: ',Specificity)\n",
        "\n",
        "    # Calculate false postive rate - predicting Conversion when customer does not have Converted\n",
        "    False_positive = FP/ float(TN+FP)\n",
        "    print('False Positive Rate: ',False_positive)\n",
        "\n",
        "    # Precision \n",
        "    Precision = TP / float(TP+FP)\n",
        "    print('Positive Predictive Value i.e. Precision', Precision)\n",
        "\n",
        "    # Negative predictive value\n",
        "    Negetive_predict = TN / float(TN+ FN)\n",
        "    print('Negative predictive value',Negetive_predict)\n",
        "\n",
        "    return F1_score, Sensitivity, False_positive, Precision, Negetive_predict, accuracy"
      ],
      "execution_count": 89,
      "outputs": []
    },
    {
      "cell_type": "markdown",
      "metadata": {
        "id": "sK5yfpUQeqzP"
      },
      "source": [
        "### Creating Base model first (Logistic Regression)"
      ]
    },
    {
      "cell_type": "code",
      "metadata": {
        "id": "Wvcg6hS1DjsG"
      },
      "source": [
        "#first dropping all highly correlated columns\n",
        "corr_matrix = X_train.corr()\n",
        "x = corr_matrix.index\n",
        "y = corr_matrix.columns\n",
        "\n",
        "high_corr = []\n",
        "for ind in x:\n",
        "  for col in y:\n",
        "    if ind!=col:\n",
        "      if abs(corr_matrix[ind][col]) > 0.7:\n",
        "        high_corr.append(ind)\n",
        "        high_corr.append(col)\n",
        "high_corr = list(set(high_corr))\n",
        "\n",
        "X_train_log = X_train.drop(high_corr, axis=1)\n",
        "X_test_log = X_test.loc[:,X_train_log.columns]"
      ],
      "execution_count": 90,
      "outputs": []
    },
    {
      "cell_type": "code",
      "metadata": {
        "id": "DtBNcTAgfgs7"
      },
      "source": [
        "#Scaling\n",
        "\n",
        "from sklearn.preprocessing import MinMaxScaler\n",
        "\n",
        "scaler = MinMaxScaler()\n",
        "X_train_log[['TransactionAmt', 'card1', 'card2', 'card3', 'card5', 'addr1', 'addr2', 'D1']] = scaler.fit_transform(X_train_log[['TransactionAmt', 'card1', 'card2', 'card3', 'card5', 'addr1', 'addr2', 'D1']])\n",
        "X_test_log[['TransactionAmt', 'card1', 'card2', 'card3', 'card5', 'addr1', 'addr2', 'D1']] = scaler.fit_transform(X_test_log[['TransactionAmt', 'card1', 'card2', 'card3', 'card5', 'addr1', 'addr2', 'D1']])\n"
      ],
      "execution_count": 91,
      "outputs": []
    },
    {
      "cell_type": "code",
      "metadata": {
        "colab": {
          "base_uri": "https://localhost:8080/"
        },
        "id": "LcNj54HLfg1K",
        "outputId": "92a37f3d-472b-46ba-e0c2-21d4658304e2"
      },
      "source": [
        "#building model\n",
        "#we are using class_weight=blanaced which will automatically compute imbalance in data and assign weights accordingly\n",
        "from sklearn.linear_model import LogisticRegressionCV\n",
        "base_model = LogisticRegressionCV(class_weight='balanced')\n",
        "\n",
        "base_model.fit(X_train_log, y_train)\n",
        "\n"
      ],
      "execution_count": 92,
      "outputs": [
        {
          "output_type": "execute_result",
          "data": {
            "text/plain": [
              "LogisticRegressionCV(Cs=10, class_weight='balanced', cv=None, dual=False,\n",
              "                     fit_intercept=True, intercept_scaling=1.0, l1_ratios=None,\n",
              "                     max_iter=100, multi_class='auto', n_jobs=None,\n",
              "                     penalty='l2', random_state=None, refit=True, scoring=None,\n",
              "                     solver='lbfgs', tol=0.0001, verbose=0)"
            ]
          },
          "metadata": {
            "tags": []
          },
          "execution_count": 92
        }
      ]
    },
    {
      "cell_type": "code",
      "metadata": {
        "id": "3pgHU4BGfg8O"
      },
      "source": [
        "#prediction on Test set\n",
        "y_pred_base = base_model.predict(X_test_log)"
      ],
      "execution_count": 93,
      "outputs": []
    },
    {
      "cell_type": "code",
      "metadata": {
        "colab": {
          "base_uri": "https://localhost:8080/"
        },
        "id": "Ee6zfZzgilXt",
        "outputId": "2e7cf7a8-af54-43b5-8934-c7806d2009b5"
      },
      "source": [
        "#checking on metrics for this model\n",
        "F1_score, Sensitivity, False_positive, Precision, Negetive_predict, Accuracy = model_metrics(y_test, y_pred_base)"
      ],
      "execution_count": 94,
      "outputs": [
        {
          "output_type": "stream",
          "text": [
            "Confusion Matrix:\n",
            " [[38577 17241]\n",
            " [ 1337  2784]] \n",
            "\n",
            "Overall Accuracy:  0.6900515524116185\n",
            "F-1 Score:  0.2305972003644496\n",
            "Sensitivity/Recall:  0.6755641834506187\n",
            "Specificity:  0.6911211437170806\n",
            "False Positive Rate:  0.3088788562829195\n",
            "Positive Predictive Value i.e. Precision 0.13902621722846442\n",
            "Negative predictive value 0.9665029814100315\n"
          ],
          "name": "stdout"
        }
      ]
    },
    {
      "cell_type": "code",
      "metadata": {
        "colab": {
          "base_uri": "https://localhost:8080/",
          "height": 80
        },
        "id": "EognpV5RilhF",
        "outputId": "2bc629da-99f0-4e73-c162-bbde6ca028bf"
      },
      "source": [
        "scores = pd.DataFrame(columns=['Model','F1_score','Sensitivity', 'False_positive', 'Precision', 'Negetive_predict', 'Accuracy'])\n",
        "scores = scores.append({'Model':'Logistic','F1_score':F1_score, 'Sensitivity':Sensitivity, 'False_positive':False_positive, 'Precision':Precision, 'Negetive_predict':Negetive_predict, 'Accuracy': Accuracy}, ignore_index=True)\n",
        "scores"
      ],
      "execution_count": 127,
      "outputs": [
        {
          "output_type": "execute_result",
          "data": {
            "text/html": [
              "<div>\n",
              "<style scoped>\n",
              "    .dataframe tbody tr th:only-of-type {\n",
              "        vertical-align: middle;\n",
              "    }\n",
              "\n",
              "    .dataframe tbody tr th {\n",
              "        vertical-align: top;\n",
              "    }\n",
              "\n",
              "    .dataframe thead th {\n",
              "        text-align: right;\n",
              "    }\n",
              "</style>\n",
              "<table border=\"1\" class=\"dataframe\">\n",
              "  <thead>\n",
              "    <tr style=\"text-align: right;\">\n",
              "      <th></th>\n",
              "      <th>Model</th>\n",
              "      <th>F1_score</th>\n",
              "      <th>Sensitivity</th>\n",
              "      <th>False_positive</th>\n",
              "      <th>Precision</th>\n",
              "      <th>Negetive_predict</th>\n",
              "      <th>Accuracy</th>\n",
              "    </tr>\n",
              "  </thead>\n",
              "  <tbody>\n",
              "    <tr>\n",
              "      <th>0</th>\n",
              "      <td>Logistic</td>\n",
              "      <td>0.230597</td>\n",
              "      <td>0.675564</td>\n",
              "      <td>0.308879</td>\n",
              "      <td>0.139026</td>\n",
              "      <td>0.966503</td>\n",
              "      <td>0.690052</td>\n",
              "    </tr>\n",
              "  </tbody>\n",
              "</table>\n",
              "</div>"
            ],
            "text/plain": [
              "      Model  F1_score  Sensitivity  ...  Precision  Negetive_predict  Accuracy\n",
              "0  Logistic  0.230597     0.675564  ...   0.139026          0.966503  0.690052\n",
              "\n",
              "[1 rows x 7 columns]"
            ]
          },
          "metadata": {
            "tags": []
          },
          "execution_count": 127
        }
      ]
    },
    {
      "cell_type": "markdown",
      "metadata": {
        "id": "CRwQL9FNx9dX"
      },
      "source": [
        "Since Data is highly imbalances so we can look at all the Fraud cases as an Anomaly and design algorithms accordingly. In these algorithms we dont need to scale data and remove highly correlated data.\n",
        "\n",
        "Isolation Forest is one such algorithm that can be used here which looks into minority class of data as anomaly\n",
        "\n",
        "\n"
      ]
    },
    {
      "cell_type": "markdown",
      "metadata": {
        "id": "SzFyASiYyt8x"
      },
      "source": [
        "### Isolation Forest\n",
        "\n",
        "Isolation forest's algorithm is based on Random forest and Decision tree. Here we create a root node and randomly split the values. Here we assume that if one observation is similar to others, it will take more random splits as compared to an anomaly. Hence anomalies get isolated.\n",
        "\n",
        "As we build multiple isolation trees, hence the isolation forest, for each observation we can calculate the average number of splits across all the trees that isolate the observation. The average number of splits is then used as a score, where the less splits the observation needs, the more likely it is to be anomalous.\n",
        "\n",
        "The most important hyper-parameter in Isolation forest is contamination, it should be similar to percentage of anomaly/minority class in the dataset \n",
        "\n",
        "Isolation forest predicts anomalies/minority class as -1 and others as 1. Which we need to change to 1 and 0 correspondingly"
      ]
    },
    {
      "cell_type": "code",
      "metadata": {
        "id": "5y7d9KAHGcWG"
      },
      "source": [
        "from sklearn.ensemble import IsolationForest"
      ],
      "execution_count": 96,
      "outputs": []
    },
    {
      "cell_type": "code",
      "metadata": {
        "id": "i1FEwLyAGo3t",
        "colab": {
          "base_uri": "https://localhost:8080/"
        },
        "outputId": "acc2a026-d9ca-4c79-ffe5-239227f364b2"
      },
      "source": [
        "model_2 = IsolationForest(contamination=0.07, behaviour='new')\n",
        "trainX = X_train[y_train==0]\n",
        "model_2.fit(trainX)"
      ],
      "execution_count": 97,
      "outputs": [
        {
          "output_type": "execute_result",
          "data": {
            "text/plain": [
              "IsolationForest(behaviour='new', bootstrap=False, contamination=0.07,\n",
              "                max_features=1.0, max_samples='auto', n_estimators=100,\n",
              "                n_jobs=None, random_state=None, verbose=0, warm_start=False)"
            ]
          },
          "metadata": {
            "tags": []
          },
          "execution_count": 97
        }
      ]
    },
    {
      "cell_type": "code",
      "metadata": {
        "id": "XyfTBP4OGo00"
      },
      "source": [
        "#prediction on test set\n",
        "ypred_iso = model_2.predict(X_test)"
      ],
      "execution_count": 98,
      "outputs": []
    },
    {
      "cell_type": "code",
      "metadata": {
        "id": "xxAr6g22CXdW"
      },
      "source": [
        "#converting 1->0 and -1->1\n",
        "ypred_iso[ypred_iso==1]=0\n",
        "ypred_iso[ypred_iso==-1]=1"
      ],
      "execution_count": 99,
      "outputs": []
    },
    {
      "cell_type": "code",
      "metadata": {
        "colab": {
          "base_uri": "https://localhost:8080/"
        },
        "id": "bhqURJhcCxEB",
        "outputId": "9a560ed6-76cf-4ae6-f378-86236647ec9e"
      },
      "source": [
        "pd.DataFrame(ypred_iso).value_counts()"
      ],
      "execution_count": 100,
      "outputs": [
        {
          "output_type": "execute_result",
          "data": {
            "text/plain": [
              "0    54644\n",
              "1     5295\n",
              "dtype: int64"
            ]
          },
          "metadata": {
            "tags": []
          },
          "execution_count": 100
        }
      ]
    },
    {
      "cell_type": "code",
      "metadata": {
        "colab": {
          "base_uri": "https://localhost:8080/"
        },
        "id": "Ki6-xj1bV9sw",
        "outputId": "dfb50bc8-5a43-4f16-a7c6-cdf64855582b"
      },
      "source": [
        "F1_score_iso, Sensitivity_iso, False_positive_iso, Precision_iso, Negetive_predict_iso, Accuracy_iso = model_metrics(y_test, ypred_iso)"
      ],
      "execution_count": 101,
      "outputs": [
        {
          "output_type": "stream",
          "text": [
            "Confusion Matrix:\n",
            " [[51953  3865]\n",
            " [ 2691  1430]] \n",
            "\n",
            "Overall Accuracy:  0.8906221325013765\n",
            "F-1 Score:  0.3037383177570094\n",
            "Sensitivity/Recall:  0.3470031545741325\n",
            "Specificity:  0.9307571034433337\n",
            "False Positive Rate:  0.06924289655666631\n",
            "Positive Predictive Value i.e. Precision 0.2700661000944287\n",
            "Negative predictive value 0.9507539711587731\n"
          ],
          "name": "stdout"
        }
      ]
    },
    {
      "cell_type": "code",
      "metadata": {
        "colab": {
          "base_uri": "https://localhost:8080/",
          "height": 111
        },
        "id": "UDsxfPz_1xDX",
        "outputId": "bbe7e75b-7c79-407b-ddd4-bcb81c71298a"
      },
      "source": [
        "scores = scores.append({'Model':'Isolation Forest','F1_score':F1_score_iso, 'Sensitivity':Sensitivity_iso, 'False_positive':False_positive_iso, 'Precision':Precision_iso, 'Negetive_predict':Negetive_predict_iso, 'Accuracy': Accuracy_iso}, ignore_index=True)\n",
        "scores"
      ],
      "execution_count": 128,
      "outputs": [
        {
          "output_type": "execute_result",
          "data": {
            "text/html": [
              "<div>\n",
              "<style scoped>\n",
              "    .dataframe tbody tr th:only-of-type {\n",
              "        vertical-align: middle;\n",
              "    }\n",
              "\n",
              "    .dataframe tbody tr th {\n",
              "        vertical-align: top;\n",
              "    }\n",
              "\n",
              "    .dataframe thead th {\n",
              "        text-align: right;\n",
              "    }\n",
              "</style>\n",
              "<table border=\"1\" class=\"dataframe\">\n",
              "  <thead>\n",
              "    <tr style=\"text-align: right;\">\n",
              "      <th></th>\n",
              "      <th>Model</th>\n",
              "      <th>F1_score</th>\n",
              "      <th>Sensitivity</th>\n",
              "      <th>False_positive</th>\n",
              "      <th>Precision</th>\n",
              "      <th>Negetive_predict</th>\n",
              "      <th>Accuracy</th>\n",
              "    </tr>\n",
              "  </thead>\n",
              "  <tbody>\n",
              "    <tr>\n",
              "      <th>0</th>\n",
              "      <td>Logistic</td>\n",
              "      <td>0.230597</td>\n",
              "      <td>0.675564</td>\n",
              "      <td>0.308879</td>\n",
              "      <td>0.139026</td>\n",
              "      <td>0.966503</td>\n",
              "      <td>0.690052</td>\n",
              "    </tr>\n",
              "    <tr>\n",
              "      <th>1</th>\n",
              "      <td>Isolation Forest</td>\n",
              "      <td>0.303738</td>\n",
              "      <td>0.347003</td>\n",
              "      <td>0.069243</td>\n",
              "      <td>0.270066</td>\n",
              "      <td>0.950754</td>\n",
              "      <td>0.890622</td>\n",
              "    </tr>\n",
              "  </tbody>\n",
              "</table>\n",
              "</div>"
            ],
            "text/plain": [
              "              Model  F1_score  ...  Negetive_predict  Accuracy\n",
              "0          Logistic  0.230597  ...          0.966503  0.690052\n",
              "1  Isolation Forest  0.303738  ...          0.950754  0.890622\n",
              "\n",
              "[2 rows x 7 columns]"
            ]
          },
          "metadata": {
            "tags": []
          },
          "execution_count": 128
        }
      ]
    },
    {
      "cell_type": "code",
      "metadata": {
        "id": "Qet5R88aNwN7"
      },
      "source": [
        ""
      ],
      "execution_count": 102,
      "outputs": []
    },
    {
      "cell_type": "code",
      "metadata": {
        "id": "RQfeLCcMiVrk"
      },
      "source": [
        ""
      ],
      "execution_count": null,
      "outputs": []
    },
    {
      "cell_type": "markdown",
      "metadata": {
        "id": "5gIWjVUUkvHm"
      },
      "source": [
        "### Decision Tree\n",
        "\n",
        "We will use Cross Validation technique to improve on f1_score\n",
        "Here we are using StratifiedShuffleSplit to create 10 splits for X_train and F1_score as scoring"
      ]
    },
    {
      "cell_type": "code",
      "metadata": {
        "colab": {
          "base_uri": "https://localhost:8080/"
        },
        "id": "MgzTzfesiVvi",
        "outputId": "d88a94cf-e266-4d3f-f750-fae67b857567"
      },
      "source": [
        "from sklearn.tree import DecisionTreeClassifier\n",
        "from sklearn.model_selection import GridSearchCV, StratifiedShuffleSplit\n",
        "\n",
        "cv = StratifiedShuffleSplit(n_splits=10, test_size=0.25, random_state=4)\n",
        "class_weight = ['balanced']\n",
        "criterion=['entropy']\n",
        "params={'criterion': criterion, 'class_weight': class_weight}\n",
        "\n",
        "model_3 = GridSearchCV(DecisionTreeClassifier(), param_grid=params, cv=cv, scoring='f1', n_jobs=-1)\n",
        "model_3.fit(X_train, y_train)"
      ],
      "execution_count": 108,
      "outputs": [
        {
          "output_type": "execute_result",
          "data": {
            "text/plain": [
              "GridSearchCV(cv=StratifiedShuffleSplit(n_splits=10, random_state=4, test_size=0.25,\n",
              "            train_size=None),\n",
              "             error_score=nan,\n",
              "             estimator=DecisionTreeClassifier(ccp_alpha=0.0, class_weight=None,\n",
              "                                              criterion='gini', max_depth=None,\n",
              "                                              max_features=None,\n",
              "                                              max_leaf_nodes=None,\n",
              "                                              min_impurity_decrease=0.0,\n",
              "                                              min_impurity_split=None,\n",
              "                                              min_samples_leaf=1,\n",
              "                                              min_samples_split=2,\n",
              "                                              min_weight_fraction_leaf=0.0,\n",
              "                                              presort='deprecated',\n",
              "                                              random_state=None,\n",
              "                                              splitter='best'),\n",
              "             iid='deprecated', n_jobs=-1,\n",
              "             param_grid={'class_weight': ['balanced'],\n",
              "                         'criterion': ['entropy']},\n",
              "             pre_dispatch='2*n_jobs', refit=True, return_train_score=False,\n",
              "             scoring='f1', verbose=0)"
            ]
          },
          "metadata": {
            "tags": []
          },
          "execution_count": 108
        }
      ]
    },
    {
      "cell_type": "code",
      "metadata": {
        "id": "inh5ckA0l92D"
      },
      "source": [
        "ypred_3 = model_3.predict(X_test)"
      ],
      "execution_count": 109,
      "outputs": []
    },
    {
      "cell_type": "code",
      "metadata": {
        "colab": {
          "base_uri": "https://localhost:8080/"
        },
        "id": "tadqPQMnl96H",
        "outputId": "55a1f899-41cc-48ea-ebeb-e9cc1a2e375d"
      },
      "source": [
        "F1_score_3, Sensitivity_3, False_positive_3, Precision_3, Negetive_predict_3, Accuracy_3 = model_metrics(y_test, ypred_3)"
      ],
      "execution_count": 110,
      "outputs": [
        {
          "output_type": "stream",
          "text": [
            "Confusion Matrix:\n",
            " [[54238  1580]\n",
            " [ 1599  2522]] \n",
            "\n",
            "Overall Accuracy:  0.9469627454578822\n",
            "F-1 Score:  0.6134014349993919\n",
            "Sensitivity/Recall:  0.61198738170347\n",
            "Specificity:  0.9716937188720485\n",
            "False Positive Rate:  0.028306281127951558\n",
            "Positive Predictive Value i.e. Precision 0.6148220380302292\n",
            "Negative predictive value 0.9713630746637534\n"
          ],
          "name": "stdout"
        }
      ]
    },
    {
      "cell_type": "code",
      "metadata": {
        "colab": {
          "base_uri": "https://localhost:8080/",
          "height": 142
        },
        "id": "34Sh0LOfl9-T",
        "outputId": "0eecccfd-dc46-4ab9-89fb-9280ac887d57"
      },
      "source": [
        "scores = scores.append({'Model':'Decision Tree','F1_score':F1_score_3, 'Sensitivity':Sensitivity_3, 'False_positive':False_positive_3, 'Precision':Precision_3, 'Negetive_predict':Negetive_predict_3, 'Accuracy': Accuracy_3}, ignore_index=True)\n",
        "scores"
      ],
      "execution_count": 129,
      "outputs": [
        {
          "output_type": "execute_result",
          "data": {
            "text/html": [
              "<div>\n",
              "<style scoped>\n",
              "    .dataframe tbody tr th:only-of-type {\n",
              "        vertical-align: middle;\n",
              "    }\n",
              "\n",
              "    .dataframe tbody tr th {\n",
              "        vertical-align: top;\n",
              "    }\n",
              "\n",
              "    .dataframe thead th {\n",
              "        text-align: right;\n",
              "    }\n",
              "</style>\n",
              "<table border=\"1\" class=\"dataframe\">\n",
              "  <thead>\n",
              "    <tr style=\"text-align: right;\">\n",
              "      <th></th>\n",
              "      <th>Model</th>\n",
              "      <th>F1_score</th>\n",
              "      <th>Sensitivity</th>\n",
              "      <th>False_positive</th>\n",
              "      <th>Precision</th>\n",
              "      <th>Negetive_predict</th>\n",
              "      <th>Accuracy</th>\n",
              "    </tr>\n",
              "  </thead>\n",
              "  <tbody>\n",
              "    <tr>\n",
              "      <th>0</th>\n",
              "      <td>Logistic</td>\n",
              "      <td>0.230597</td>\n",
              "      <td>0.675564</td>\n",
              "      <td>0.308879</td>\n",
              "      <td>0.139026</td>\n",
              "      <td>0.966503</td>\n",
              "      <td>0.690052</td>\n",
              "    </tr>\n",
              "    <tr>\n",
              "      <th>1</th>\n",
              "      <td>Isolation Forest</td>\n",
              "      <td>0.303738</td>\n",
              "      <td>0.347003</td>\n",
              "      <td>0.069243</td>\n",
              "      <td>0.270066</td>\n",
              "      <td>0.950754</td>\n",
              "      <td>0.890622</td>\n",
              "    </tr>\n",
              "    <tr>\n",
              "      <th>2</th>\n",
              "      <td>Decision Tree</td>\n",
              "      <td>0.613401</td>\n",
              "      <td>0.611987</td>\n",
              "      <td>0.028306</td>\n",
              "      <td>0.614822</td>\n",
              "      <td>0.971363</td>\n",
              "      <td>0.946963</td>\n",
              "    </tr>\n",
              "  </tbody>\n",
              "</table>\n",
              "</div>"
            ],
            "text/plain": [
              "              Model  F1_score  ...  Negetive_predict  Accuracy\n",
              "0          Logistic  0.230597  ...          0.966503  0.690052\n",
              "1  Isolation Forest  0.303738  ...          0.950754  0.890622\n",
              "2     Decision Tree  0.613401  ...          0.971363  0.946963\n",
              "\n",
              "[3 rows x 7 columns]"
            ]
          },
          "metadata": {
            "tags": []
          },
          "execution_count": 129
        }
      ]
    },
    {
      "cell_type": "markdown",
      "metadata": {
        "id": "26O5CN7mjupi"
      },
      "source": [
        "### Random Forest"
      ]
    },
    {
      "cell_type": "code",
      "metadata": {
        "colab": {
          "base_uri": "https://localhost:8080/"
        },
        "id": "5HFwipfHNEoR",
        "outputId": "ba4c7218-c3f7-4aa0-de30-d14667e9775b"
      },
      "source": [
        "from sklearn.ensemble import RandomForestClassifier\n",
        "\n",
        "cv = StratifiedShuffleSplit(n_splits=10, test_size=0.25, random_state=4)\n",
        "class_weight = ['balanced']\n",
        "criterion=['entropy']\n",
        "params={'criterion': criterion, 'class_weight': class_weight}\n",
        "\n",
        "model_4 = GridSearchCV(estimator=RandomForestClassifier(max_features='auto'), param_grid=params, cv=cv, scoring='f1')\n",
        "model_4.fit(X_train, y_train)"
      ],
      "execution_count": 122,
      "outputs": [
        {
          "output_type": "execute_result",
          "data": {
            "text/plain": [
              "GridSearchCV(cv=StratifiedShuffleSplit(n_splits=10, random_state=4, test_size=0.25,\n",
              "            train_size=None),\n",
              "             error_score=nan,\n",
              "             estimator=RandomForestClassifier(bootstrap=True, ccp_alpha=0.0,\n",
              "                                              class_weight=None,\n",
              "                                              criterion='gini', max_depth=None,\n",
              "                                              max_features='auto',\n",
              "                                              max_leaf_nodes=None,\n",
              "                                              max_samples=None,\n",
              "                                              min_impurity_decrease=0.0,\n",
              "                                              min_impurity_split=None,\n",
              "                                              min_samples_leaf=1,\n",
              "                                              min_samples_split=2,\n",
              "                                              min_weight_fraction_leaf=0.0,\n",
              "                                              n_estimators=100, n_jobs=None,\n",
              "                                              oob_score=False,\n",
              "                                              random_state=None, verbose=0,\n",
              "                                              warm_start=False),\n",
              "             iid='deprecated', n_jobs=None,\n",
              "             param_grid={'class_weight': ['balanced'],\n",
              "                         'criterion': ['entropy']},\n",
              "             pre_dispatch='2*n_jobs', refit=True, return_train_score=False,\n",
              "             scoring='f1', verbose=0)"
            ]
          },
          "metadata": {
            "tags": []
          },
          "execution_count": 122
        }
      ]
    },
    {
      "cell_type": "code",
      "metadata": {
        "id": "9LPVVEszl-Kj"
      },
      "source": [
        "ypred_4 = model_4.predict(X_test)"
      ],
      "execution_count": 124,
      "outputs": []
    },
    {
      "cell_type": "code",
      "metadata": {
        "colab": {
          "base_uri": "https://localhost:8080/"
        },
        "id": "_hY5xqVml-Ox",
        "outputId": "9e80947d-1114-4d4e-ca46-36a7cdae83a7"
      },
      "source": [
        "F1_score_4, Sensitivity_4, False_positive_4, Precision_4, Negetive_predict_4, Accuracy_4 = model_metrics(y_test, ypred_4)"
      ],
      "execution_count": 125,
      "outputs": [
        {
          "output_type": "stream",
          "text": [
            "Confusion Matrix:\n",
            " [[55638   180]\n",
            " [ 2039  2082]] \n",
            "\n",
            "Overall Accuracy:  0.9629790286791572\n",
            "F-1 Score:  0.6523578254739151\n",
            "Sensitivity/Recall:  0.5052171802960447\n",
            "Specificity:  0.9967752337955498\n",
            "False Positive Rate:  0.0032247662044501773\n",
            "Positive Predictive Value i.e. Precision 0.9204244031830239\n",
            "Negative predictive value 0.9646479532569309\n"
          ],
          "name": "stdout"
        }
      ]
    },
    {
      "cell_type": "code",
      "metadata": {
        "colab": {
          "base_uri": "https://localhost:8080/",
          "height": 173
        },
        "id": "Hl2a3jsRl-Sg",
        "outputId": "889de1ff-1b37-4c41-9613-54acf487db7f"
      },
      "source": [
        "scores = scores.append({'Model':'Random Forest','F1_score':F1_score_4, 'Sensitivity':Sensitivity_4, 'False_positive':False_positive_4, 'Precision':Precision_4, 'Negetive_predict':Negetive_predict_4, 'Accuracy': Accuracy_4}, ignore_index=True)\n",
        "scores"
      ],
      "execution_count": 130,
      "outputs": [
        {
          "output_type": "execute_result",
          "data": {
            "text/html": [
              "<div>\n",
              "<style scoped>\n",
              "    .dataframe tbody tr th:only-of-type {\n",
              "        vertical-align: middle;\n",
              "    }\n",
              "\n",
              "    .dataframe tbody tr th {\n",
              "        vertical-align: top;\n",
              "    }\n",
              "\n",
              "    .dataframe thead th {\n",
              "        text-align: right;\n",
              "    }\n",
              "</style>\n",
              "<table border=\"1\" class=\"dataframe\">\n",
              "  <thead>\n",
              "    <tr style=\"text-align: right;\">\n",
              "      <th></th>\n",
              "      <th>Model</th>\n",
              "      <th>F1_score</th>\n",
              "      <th>Sensitivity</th>\n",
              "      <th>False_positive</th>\n",
              "      <th>Precision</th>\n",
              "      <th>Negetive_predict</th>\n",
              "      <th>Accuracy</th>\n",
              "    </tr>\n",
              "  </thead>\n",
              "  <tbody>\n",
              "    <tr>\n",
              "      <th>0</th>\n",
              "      <td>Logistic</td>\n",
              "      <td>0.230597</td>\n",
              "      <td>0.675564</td>\n",
              "      <td>0.308879</td>\n",
              "      <td>0.139026</td>\n",
              "      <td>0.966503</td>\n",
              "      <td>0.690052</td>\n",
              "    </tr>\n",
              "    <tr>\n",
              "      <th>1</th>\n",
              "      <td>Isolation Forest</td>\n",
              "      <td>0.303738</td>\n",
              "      <td>0.347003</td>\n",
              "      <td>0.069243</td>\n",
              "      <td>0.270066</td>\n",
              "      <td>0.950754</td>\n",
              "      <td>0.890622</td>\n",
              "    </tr>\n",
              "    <tr>\n",
              "      <th>2</th>\n",
              "      <td>Decision Tree</td>\n",
              "      <td>0.613401</td>\n",
              "      <td>0.611987</td>\n",
              "      <td>0.028306</td>\n",
              "      <td>0.614822</td>\n",
              "      <td>0.971363</td>\n",
              "      <td>0.946963</td>\n",
              "    </tr>\n",
              "    <tr>\n",
              "      <th>3</th>\n",
              "      <td>Random Forest</td>\n",
              "      <td>0.652358</td>\n",
              "      <td>0.505217</td>\n",
              "      <td>0.003225</td>\n",
              "      <td>0.920424</td>\n",
              "      <td>0.964648</td>\n",
              "      <td>0.962979</td>\n",
              "    </tr>\n",
              "  </tbody>\n",
              "</table>\n",
              "</div>"
            ],
            "text/plain": [
              "              Model  F1_score  ...  Negetive_predict  Accuracy\n",
              "0          Logistic  0.230597  ...          0.966503  0.690052\n",
              "1  Isolation Forest  0.303738  ...          0.950754  0.890622\n",
              "2     Decision Tree  0.613401  ...          0.971363  0.946963\n",
              "3     Random Forest  0.652358  ...          0.964648  0.962979\n",
              "\n",
              "[4 rows x 7 columns]"
            ]
          },
          "metadata": {
            "tags": []
          },
          "execution_count": 130
        }
      ]
    },
    {
      "cell_type": "markdown",
      "metadata": {
        "id": "4muhrAMZsF2Y"
      },
      "source": [
        "### XGBoost"
      ]
    },
    {
      "cell_type": "code",
      "metadata": {
        "colab": {
          "base_uri": "https://localhost:8080/"
        },
        "id": "Azs1BWtcSkAm",
        "outputId": "0ac0cdf2-bf6b-4b7c-ffea-0a7e942d25a4"
      },
      "source": [
        "from xgboost import XGBClassifier\n",
        "\n",
        "cv = StratifiedShuffleSplit(n_splits=10, test_size=0.25, random_state=4)\n",
        "class_weight = ['balanced']\n",
        "criterion=['entropy']\n",
        "params={'criterion': criterion, 'class_weight': class_weight}\n",
        "\n",
        "model_5 = GridSearchCV(estimator=XGBClassifier(), param_grid=params, cv=cv, scoring='f1')\n",
        "model_5.fit(X_train, y_train)"
      ],
      "execution_count": 131,
      "outputs": [
        {
          "output_type": "execute_result",
          "data": {
            "text/plain": [
              "GridSearchCV(cv=StratifiedShuffleSplit(n_splits=10, random_state=4, test_size=0.25,\n",
              "            train_size=None),\n",
              "             error_score=nan,\n",
              "             estimator=XGBClassifier(base_score=0.5, booster='gbtree',\n",
              "                                     colsample_bylevel=1, colsample_bynode=1,\n",
              "                                     colsample_bytree=1, gamma=0,\n",
              "                                     learning_rate=0.1, max_delta_step=0,\n",
              "                                     max_depth=3, min_child_weight=1,\n",
              "                                     missing=None, n_estimators=100, n_jobs=1,\n",
              "                                     nthread=None, objective='binary:logistic',\n",
              "                                     random_state=0, reg_alpha=0, reg_lambda=1,\n",
              "                                     scale_pos_weight=1, seed=None, silent=None,\n",
              "                                     subsample=1, verbosity=1),\n",
              "             iid='deprecated', n_jobs=None,\n",
              "             param_grid={'class_weight': ['balanced'],\n",
              "                         'criterion': ['entropy']},\n",
              "             pre_dispatch='2*n_jobs', refit=True, return_train_score=False,\n",
              "             scoring='f1', verbose=0)"
            ]
          },
          "metadata": {
            "tags": []
          },
          "execution_count": 131
        }
      ]
    },
    {
      "cell_type": "code",
      "metadata": {
        "id": "rd8oOizXSkNA"
      },
      "source": [
        "ypred_5= model_5.predict(X_test)"
      ],
      "execution_count": 134,
      "outputs": []
    },
    {
      "cell_type": "code",
      "metadata": {
        "colab": {
          "base_uri": "https://localhost:8080/"
        },
        "id": "4ZNUHKaPSkWe",
        "outputId": "2fcf1ef5-c2b1-49a0-be9d-3bcf976ad650"
      },
      "source": [
        "F1_score_5, Sensitivity_5, False_positive_5, Precision_5, Negetive_predict_5, Accuracy_5 = model_metrics(y_test, ypred_5)"
      ],
      "execution_count": 135,
      "outputs": [
        {
          "output_type": "stream",
          "text": [
            "Confusion Matrix:\n",
            " [[55659   159]\n",
            " [ 2694  1427]] \n",
            "\n",
            "Overall Accuracy:  0.9524016083017735\n",
            "F-1 Score:  0.5000876117049238\n",
            "Sensitivity/Recall:  0.34627517592817275\n",
            "Specificity:  0.9971514565194023\n",
            "False Positive Rate:  0.0028485434805976565\n",
            "Positive Predictive Value i.e. Precision 0.8997477931904161\n",
            "Negative predictive value 0.9538327078299316\n"
          ],
          "name": "stdout"
        }
      ]
    },
    {
      "cell_type": "code",
      "metadata": {
        "colab": {
          "base_uri": "https://localhost:8080/",
          "height": 204
        },
        "id": "UchSS3n_Skx3",
        "outputId": "9ebd8a5d-ded8-4577-f6c6-170181c3adb2"
      },
      "source": [
        "scores = scores.append({'Model':'XGBoost','F1_score':F1_score_5, 'Sensitivity':Sensitivity_5, 'False_positive':False_positive_5, 'Precision':Precision_5, 'Negetive_predict':Negetive_predict_5, 'Accuracy': Accuracy_5}, ignore_index=True)\n",
        "scores"
      ],
      "execution_count": 138,
      "outputs": [
        {
          "output_type": "execute_result",
          "data": {
            "text/html": [
              "<div>\n",
              "<style scoped>\n",
              "    .dataframe tbody tr th:only-of-type {\n",
              "        vertical-align: middle;\n",
              "    }\n",
              "\n",
              "    .dataframe tbody tr th {\n",
              "        vertical-align: top;\n",
              "    }\n",
              "\n",
              "    .dataframe thead th {\n",
              "        text-align: right;\n",
              "    }\n",
              "</style>\n",
              "<table border=\"1\" class=\"dataframe\">\n",
              "  <thead>\n",
              "    <tr style=\"text-align: right;\">\n",
              "      <th></th>\n",
              "      <th>Model</th>\n",
              "      <th>F1_score</th>\n",
              "      <th>Sensitivity</th>\n",
              "      <th>False_positive</th>\n",
              "      <th>Precision</th>\n",
              "      <th>Negetive_predict</th>\n",
              "      <th>Accuracy</th>\n",
              "    </tr>\n",
              "  </thead>\n",
              "  <tbody>\n",
              "    <tr>\n",
              "      <th>0</th>\n",
              "      <td>Logistic</td>\n",
              "      <td>0.230597</td>\n",
              "      <td>0.675564</td>\n",
              "      <td>0.308879</td>\n",
              "      <td>0.139026</td>\n",
              "      <td>0.966503</td>\n",
              "      <td>0.690052</td>\n",
              "    </tr>\n",
              "    <tr>\n",
              "      <th>1</th>\n",
              "      <td>Isolation Forest</td>\n",
              "      <td>0.303738</td>\n",
              "      <td>0.347003</td>\n",
              "      <td>0.069243</td>\n",
              "      <td>0.270066</td>\n",
              "      <td>0.950754</td>\n",
              "      <td>0.890622</td>\n",
              "    </tr>\n",
              "    <tr>\n",
              "      <th>2</th>\n",
              "      <td>Decision Tree</td>\n",
              "      <td>0.613401</td>\n",
              "      <td>0.611987</td>\n",
              "      <td>0.028306</td>\n",
              "      <td>0.614822</td>\n",
              "      <td>0.971363</td>\n",
              "      <td>0.946963</td>\n",
              "    </tr>\n",
              "    <tr>\n",
              "      <th>3</th>\n",
              "      <td>Random Forest</td>\n",
              "      <td>0.652358</td>\n",
              "      <td>0.505217</td>\n",
              "      <td>0.003225</td>\n",
              "      <td>0.920424</td>\n",
              "      <td>0.964648</td>\n",
              "      <td>0.962979</td>\n",
              "    </tr>\n",
              "    <tr>\n",
              "      <th>4</th>\n",
              "      <td>XGBoost</td>\n",
              "      <td>0.500088</td>\n",
              "      <td>0.346275</td>\n",
              "      <td>0.002849</td>\n",
              "      <td>0.899748</td>\n",
              "      <td>0.953833</td>\n",
              "      <td>0.952402</td>\n",
              "    </tr>\n",
              "  </tbody>\n",
              "</table>\n",
              "</div>"
            ],
            "text/plain": [
              "              Model  F1_score  ...  Negetive_predict  Accuracy\n",
              "0          Logistic  0.230597  ...          0.966503  0.690052\n",
              "1  Isolation Forest  0.303738  ...          0.950754  0.890622\n",
              "2     Decision Tree  0.613401  ...          0.971363  0.946963\n",
              "3     Random Forest  0.652358  ...          0.964648  0.962979\n",
              "4           XGBoost  0.500088  ...          0.953833  0.952402\n",
              "\n",
              "[5 rows x 7 columns]"
            ]
          },
          "metadata": {
            "tags": []
          },
          "execution_count": 138
        }
      ]
    },
    {
      "cell_type": "code",
      "metadata": {
        "colab": {
          "base_uri": "https://localhost:8080/"
        },
        "id": "TDvIcYcgSlEw",
        "outputId": "d12b1a2c-2c07-4bbc-de64-14136197a6b1"
      },
      "source": [
        "from sklearn.ensemble import ExtraTreesClassifier\n",
        "\n",
        "cv = StratifiedShuffleSplit(n_splits=10, test_size=0.25, random_state=4)\n",
        "class_weight = ['balanced']\n",
        "criterion=['entropy']\n",
        "params={'criterion': criterion, 'class_weight': class_weight}\n",
        "\n",
        "model_6 = GridSearchCV(estimator=ExtraTreesClassifier(), param_grid=params, cv=cv, scoring='f1')\n",
        "model_6.fit(X_train, y_train)"
      ],
      "execution_count": 140,
      "outputs": [
        {
          "output_type": "execute_result",
          "data": {
            "text/plain": [
              "GridSearchCV(cv=StratifiedShuffleSplit(n_splits=10, random_state=4, test_size=0.25,\n",
              "            train_size=None),\n",
              "             error_score=nan,\n",
              "             estimator=ExtraTreesClassifier(bootstrap=False, ccp_alpha=0.0,\n",
              "                                            class_weight=None, criterion='gini',\n",
              "                                            max_depth=None, max_features='auto',\n",
              "                                            max_leaf_nodes=None,\n",
              "                                            max_samples=None,\n",
              "                                            min_impurity_decrease=0.0,\n",
              "                                            min_impurity_split=None,\n",
              "                                            min_samples_leaf=1,\n",
              "                                            min_samples_split=2,\n",
              "                                            min_weight_fraction_leaf=0.0,\n",
              "                                            n_estimators=100, n_jobs=None,\n",
              "                                            oob_score=False, random_state=None,\n",
              "                                            verbose=0, warm_start=False),\n",
              "             iid='deprecated', n_jobs=None,\n",
              "             param_grid={'class_weight': ['balanced'],\n",
              "                         'criterion': ['entropy']},\n",
              "             pre_dispatch='2*n_jobs', refit=True, return_train_score=False,\n",
              "             scoring='f1', verbose=0)"
            ]
          },
          "metadata": {
            "tags": []
          },
          "execution_count": 140
        }
      ]
    },
    {
      "cell_type": "code",
      "metadata": {
        "id": "KRXkC_bx0K6g"
      },
      "source": [
        "ypred_6=model_6.predict(X_test)"
      ],
      "execution_count": 142,
      "outputs": []
    },
    {
      "cell_type": "code",
      "metadata": {
        "colab": {
          "base_uri": "https://localhost:8080/"
        },
        "id": "NaVmrek9-YYn",
        "outputId": "2da1c5a9-8f82-42f4-f751-ed7d256105ca"
      },
      "source": [
        "F1_score_6, Sensitivity_6, False_positive_6, Precision_6, Negetive_predict_6, Accuracy_6 = model_metrics(y_test, ypred_6)"
      ],
      "execution_count": 143,
      "outputs": [
        {
          "output_type": "stream",
          "text": [
            "Confusion Matrix:\n",
            " [[55539   279]\n",
            " [ 1919  2202]] \n",
            "\n",
            "Overall Accuracy:  0.9633293848746225\n",
            "F-1 Score:  0.6670705846713118\n",
            "Sensitivity/Recall:  0.5343363261344334\n",
            "Specificity:  0.9950016123831023\n",
            "False Positive Rate:  0.004998387616897775\n",
            "Positive Predictive Value i.e. Precision 0.8875453446191052\n",
            "Negative predictive value 0.9666016916704375\n"
          ],
          "name": "stdout"
        }
      ]
    },
    {
      "cell_type": "code",
      "metadata": {
        "colab": {
          "base_uri": "https://localhost:8080/",
          "height": 235
        },
        "id": "k4SNQeGYAa0p",
        "outputId": "c37c30a0-6454-42db-e6e9-63ca36c2fb55"
      },
      "source": [
        "scores = scores.append({'Model':'Extra Trees','F1_score':F1_score_6, 'Sensitivity':Sensitivity_6, 'False_positive':False_positive_6, 'Precision':Precision_6, 'Negetive_predict':Negetive_predict_6, 'Accuracy': Accuracy_6}, ignore_index=True)\n",
        "scores"
      ],
      "execution_count": 144,
      "outputs": [
        {
          "output_type": "execute_result",
          "data": {
            "text/html": [
              "<div>\n",
              "<style scoped>\n",
              "    .dataframe tbody tr th:only-of-type {\n",
              "        vertical-align: middle;\n",
              "    }\n",
              "\n",
              "    .dataframe tbody tr th {\n",
              "        vertical-align: top;\n",
              "    }\n",
              "\n",
              "    .dataframe thead th {\n",
              "        text-align: right;\n",
              "    }\n",
              "</style>\n",
              "<table border=\"1\" class=\"dataframe\">\n",
              "  <thead>\n",
              "    <tr style=\"text-align: right;\">\n",
              "      <th></th>\n",
              "      <th>Model</th>\n",
              "      <th>F1_score</th>\n",
              "      <th>Sensitivity</th>\n",
              "      <th>False_positive</th>\n",
              "      <th>Precision</th>\n",
              "      <th>Negetive_predict</th>\n",
              "      <th>Accuracy</th>\n",
              "    </tr>\n",
              "  </thead>\n",
              "  <tbody>\n",
              "    <tr>\n",
              "      <th>0</th>\n",
              "      <td>Logistic</td>\n",
              "      <td>0.230597</td>\n",
              "      <td>0.675564</td>\n",
              "      <td>0.308879</td>\n",
              "      <td>0.139026</td>\n",
              "      <td>0.966503</td>\n",
              "      <td>0.690052</td>\n",
              "    </tr>\n",
              "    <tr>\n",
              "      <th>1</th>\n",
              "      <td>Isolation Forest</td>\n",
              "      <td>0.303738</td>\n",
              "      <td>0.347003</td>\n",
              "      <td>0.069243</td>\n",
              "      <td>0.270066</td>\n",
              "      <td>0.950754</td>\n",
              "      <td>0.890622</td>\n",
              "    </tr>\n",
              "    <tr>\n",
              "      <th>2</th>\n",
              "      <td>Decision Tree</td>\n",
              "      <td>0.613401</td>\n",
              "      <td>0.611987</td>\n",
              "      <td>0.028306</td>\n",
              "      <td>0.614822</td>\n",
              "      <td>0.971363</td>\n",
              "      <td>0.946963</td>\n",
              "    </tr>\n",
              "    <tr>\n",
              "      <th>3</th>\n",
              "      <td>Random Forest</td>\n",
              "      <td>0.652358</td>\n",
              "      <td>0.505217</td>\n",
              "      <td>0.003225</td>\n",
              "      <td>0.920424</td>\n",
              "      <td>0.964648</td>\n",
              "      <td>0.962979</td>\n",
              "    </tr>\n",
              "    <tr>\n",
              "      <th>4</th>\n",
              "      <td>XGBoost</td>\n",
              "      <td>0.500088</td>\n",
              "      <td>0.346275</td>\n",
              "      <td>0.002849</td>\n",
              "      <td>0.899748</td>\n",
              "      <td>0.953833</td>\n",
              "      <td>0.952402</td>\n",
              "    </tr>\n",
              "    <tr>\n",
              "      <th>5</th>\n",
              "      <td>Extra Trees</td>\n",
              "      <td>0.667071</td>\n",
              "      <td>0.534336</td>\n",
              "      <td>0.004998</td>\n",
              "      <td>0.887545</td>\n",
              "      <td>0.966602</td>\n",
              "      <td>0.963329</td>\n",
              "    </tr>\n",
              "  </tbody>\n",
              "</table>\n",
              "</div>"
            ],
            "text/plain": [
              "              Model  F1_score  ...  Negetive_predict  Accuracy\n",
              "0          Logistic  0.230597  ...          0.966503  0.690052\n",
              "1  Isolation Forest  0.303738  ...          0.950754  0.890622\n",
              "2     Decision Tree  0.613401  ...          0.971363  0.946963\n",
              "3     Random Forest  0.652358  ...          0.964648  0.962979\n",
              "4           XGBoost  0.500088  ...          0.953833  0.952402\n",
              "5       Extra Trees  0.667071  ...          0.966602  0.963329\n",
              "\n",
              "[6 rows x 7 columns]"
            ]
          },
          "metadata": {
            "tags": []
          },
          "execution_count": 144
        }
      ]
    },
    {
      "cell_type": "markdown",
      "metadata": {
        "id": "qX2puAeYCgPC"
      },
      "source": [
        "The above table shows that the best Model for this dataset is Extra Trees. It is giving F1-score as 0.667 and accuracy as 0.96 with False_positive Rate: 0.0049"
      ]
    },
    {
      "cell_type": "code",
      "metadata": {
        "id": "Pkf_7ogzCUp7"
      },
      "source": [
        ""
      ],
      "execution_count": null,
      "outputs": []
    }
  ]
}