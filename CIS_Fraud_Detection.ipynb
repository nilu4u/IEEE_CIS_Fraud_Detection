{
 "cells": [
  {
   "cell_type": "code",
   "execution_count": 1,
   "metadata": {},
   "outputs": [],
   "source": [
    "import numpy as np\n",
    "import pandas as pd\n",
    "import seaborn as sns\n",
    "import matplotlib.pyplot as plt"
   ]
  },
  {
   "cell_type": "code",
   "execution_count": 2,
   "metadata": {},
   "outputs": [],
   "source": [
    "train_transaction = pd.read_csv(\"/Users/nilanjansahu/Downloads/Machine_Learning/Card_Fraud_Detection/ieee-fraud-detection/train_transaction.csv\")\n",
    "train_identity = pd.read_csv(\"/Users/nilanjansahu/Downloads/Machine_Learning/Card_Fraud_Detection/ieee-fraud-detection/train_identity.csv\")\n",
    "test_transaction = pd.read_csv(\"/Users/nilanjansahu/Downloads/Machine_Learning/Card_Fraud_Detection/ieee-fraud-detection/test_transaction.csv\")\n",
    "test_identity = pd.read_csv(\"/Users/nilanjansahu/Downloads/Machine_Learning/Card_Fraud_Detection/ieee-fraud-detection/test_identity.csv\")"
   ]
  },
  {
   "cell_type": "code",
   "execution_count": 3,
   "metadata": {},
   "outputs": [
    {
     "data": {
      "text/html": [
       "<div>\n",
       "<style scoped>\n",
       "    .dataframe tbody tr th:only-of-type {\n",
       "        vertical-align: middle;\n",
       "    }\n",
       "\n",
       "    .dataframe tbody tr th {\n",
       "        vertical-align: top;\n",
       "    }\n",
       "\n",
       "    .dataframe thead th {\n",
       "        text-align: right;\n",
       "    }\n",
       "</style>\n",
       "<table border=\"1\" class=\"dataframe\">\n",
       "  <thead>\n",
       "    <tr style=\"text-align: right;\">\n",
       "      <th></th>\n",
       "      <th>TransactionID</th>\n",
       "      <th>isFraud</th>\n",
       "      <th>TransactionDT</th>\n",
       "      <th>TransactionAmt</th>\n",
       "      <th>ProductCD</th>\n",
       "      <th>card1</th>\n",
       "      <th>card2</th>\n",
       "      <th>card3</th>\n",
       "      <th>card4</th>\n",
       "      <th>card5</th>\n",
       "      <th>...</th>\n",
       "      <th>V330</th>\n",
       "      <th>V331</th>\n",
       "      <th>V332</th>\n",
       "      <th>V333</th>\n",
       "      <th>V334</th>\n",
       "      <th>V335</th>\n",
       "      <th>V336</th>\n",
       "      <th>V337</th>\n",
       "      <th>V338</th>\n",
       "      <th>V339</th>\n",
       "    </tr>\n",
       "  </thead>\n",
       "  <tbody>\n",
       "    <tr>\n",
       "      <th>0</th>\n",
       "      <td>2987000</td>\n",
       "      <td>0</td>\n",
       "      <td>86400</td>\n",
       "      <td>68.5</td>\n",
       "      <td>W</td>\n",
       "      <td>13926</td>\n",
       "      <td>NaN</td>\n",
       "      <td>150.0</td>\n",
       "      <td>discover</td>\n",
       "      <td>142.0</td>\n",
       "      <td>...</td>\n",
       "      <td>NaN</td>\n",
       "      <td>NaN</td>\n",
       "      <td>NaN</td>\n",
       "      <td>NaN</td>\n",
       "      <td>NaN</td>\n",
       "      <td>NaN</td>\n",
       "      <td>NaN</td>\n",
       "      <td>NaN</td>\n",
       "      <td>NaN</td>\n",
       "      <td>NaN</td>\n",
       "    </tr>\n",
       "    <tr>\n",
       "      <th>1</th>\n",
       "      <td>2987001</td>\n",
       "      <td>0</td>\n",
       "      <td>86401</td>\n",
       "      <td>29.0</td>\n",
       "      <td>W</td>\n",
       "      <td>2755</td>\n",
       "      <td>404.0</td>\n",
       "      <td>150.0</td>\n",
       "      <td>mastercard</td>\n",
       "      <td>102.0</td>\n",
       "      <td>...</td>\n",
       "      <td>NaN</td>\n",
       "      <td>NaN</td>\n",
       "      <td>NaN</td>\n",
       "      <td>NaN</td>\n",
       "      <td>NaN</td>\n",
       "      <td>NaN</td>\n",
       "      <td>NaN</td>\n",
       "      <td>NaN</td>\n",
       "      <td>NaN</td>\n",
       "      <td>NaN</td>\n",
       "    </tr>\n",
       "    <tr>\n",
       "      <th>2</th>\n",
       "      <td>2987002</td>\n",
       "      <td>0</td>\n",
       "      <td>86469</td>\n",
       "      <td>59.0</td>\n",
       "      <td>W</td>\n",
       "      <td>4663</td>\n",
       "      <td>490.0</td>\n",
       "      <td>150.0</td>\n",
       "      <td>visa</td>\n",
       "      <td>166.0</td>\n",
       "      <td>...</td>\n",
       "      <td>NaN</td>\n",
       "      <td>NaN</td>\n",
       "      <td>NaN</td>\n",
       "      <td>NaN</td>\n",
       "      <td>NaN</td>\n",
       "      <td>NaN</td>\n",
       "      <td>NaN</td>\n",
       "      <td>NaN</td>\n",
       "      <td>NaN</td>\n",
       "      <td>NaN</td>\n",
       "    </tr>\n",
       "    <tr>\n",
       "      <th>3</th>\n",
       "      <td>2987003</td>\n",
       "      <td>0</td>\n",
       "      <td>86499</td>\n",
       "      <td>50.0</td>\n",
       "      <td>W</td>\n",
       "      <td>18132</td>\n",
       "      <td>567.0</td>\n",
       "      <td>150.0</td>\n",
       "      <td>mastercard</td>\n",
       "      <td>117.0</td>\n",
       "      <td>...</td>\n",
       "      <td>NaN</td>\n",
       "      <td>NaN</td>\n",
       "      <td>NaN</td>\n",
       "      <td>NaN</td>\n",
       "      <td>NaN</td>\n",
       "      <td>NaN</td>\n",
       "      <td>NaN</td>\n",
       "      <td>NaN</td>\n",
       "      <td>NaN</td>\n",
       "      <td>NaN</td>\n",
       "    </tr>\n",
       "    <tr>\n",
       "      <th>4</th>\n",
       "      <td>2987004</td>\n",
       "      <td>0</td>\n",
       "      <td>86506</td>\n",
       "      <td>50.0</td>\n",
       "      <td>H</td>\n",
       "      <td>4497</td>\n",
       "      <td>514.0</td>\n",
       "      <td>150.0</td>\n",
       "      <td>mastercard</td>\n",
       "      <td>102.0</td>\n",
       "      <td>...</td>\n",
       "      <td>0.0</td>\n",
       "      <td>0.0</td>\n",
       "      <td>0.0</td>\n",
       "      <td>0.0</td>\n",
       "      <td>0.0</td>\n",
       "      <td>0.0</td>\n",
       "      <td>0.0</td>\n",
       "      <td>0.0</td>\n",
       "      <td>0.0</td>\n",
       "      <td>0.0</td>\n",
       "    </tr>\n",
       "  </tbody>\n",
       "</table>\n",
       "<p>5 rows × 394 columns</p>\n",
       "</div>"
      ],
      "text/plain": [
       "   TransactionID  isFraud  TransactionDT  TransactionAmt ProductCD  card1  \\\n",
       "0        2987000        0          86400            68.5         W  13926   \n",
       "1        2987001        0          86401            29.0         W   2755   \n",
       "2        2987002        0          86469            59.0         W   4663   \n",
       "3        2987003        0          86499            50.0         W  18132   \n",
       "4        2987004        0          86506            50.0         H   4497   \n",
       "\n",
       "   card2  card3       card4  card5  ...  V330  V331  V332  V333  V334 V335  \\\n",
       "0    NaN  150.0    discover  142.0  ...   NaN   NaN   NaN   NaN   NaN  NaN   \n",
       "1  404.0  150.0  mastercard  102.0  ...   NaN   NaN   NaN   NaN   NaN  NaN   \n",
       "2  490.0  150.0        visa  166.0  ...   NaN   NaN   NaN   NaN   NaN  NaN   \n",
       "3  567.0  150.0  mastercard  117.0  ...   NaN   NaN   NaN   NaN   NaN  NaN   \n",
       "4  514.0  150.0  mastercard  102.0  ...   0.0   0.0   0.0   0.0   0.0  0.0   \n",
       "\n",
       "  V336  V337  V338  V339  \n",
       "0  NaN   NaN   NaN   NaN  \n",
       "1  NaN   NaN   NaN   NaN  \n",
       "2  NaN   NaN   NaN   NaN  \n",
       "3  NaN   NaN   NaN   NaN  \n",
       "4  0.0   0.0   0.0   0.0  \n",
       "\n",
       "[5 rows x 394 columns]"
      ]
     },
     "execution_count": 3,
     "metadata": {},
     "output_type": "execute_result"
    }
   ],
   "source": [
    "train_transaction.head()"
   ]
  },
  {
   "cell_type": "code",
   "execution_count": 4,
   "metadata": {},
   "outputs": [
    {
     "data": {
      "text/html": [
       "<div>\n",
       "<style scoped>\n",
       "    .dataframe tbody tr th:only-of-type {\n",
       "        vertical-align: middle;\n",
       "    }\n",
       "\n",
       "    .dataframe tbody tr th {\n",
       "        vertical-align: top;\n",
       "    }\n",
       "\n",
       "    .dataframe thead th {\n",
       "        text-align: right;\n",
       "    }\n",
       "</style>\n",
       "<table border=\"1\" class=\"dataframe\">\n",
       "  <thead>\n",
       "    <tr style=\"text-align: right;\">\n",
       "      <th></th>\n",
       "      <th>TransactionID</th>\n",
       "      <th>id_01</th>\n",
       "      <th>id_02</th>\n",
       "      <th>id_03</th>\n",
       "      <th>id_04</th>\n",
       "      <th>id_05</th>\n",
       "      <th>id_06</th>\n",
       "      <th>id_07</th>\n",
       "      <th>id_08</th>\n",
       "      <th>id_09</th>\n",
       "      <th>...</th>\n",
       "      <th>id_31</th>\n",
       "      <th>id_32</th>\n",
       "      <th>id_33</th>\n",
       "      <th>id_34</th>\n",
       "      <th>id_35</th>\n",
       "      <th>id_36</th>\n",
       "      <th>id_37</th>\n",
       "      <th>id_38</th>\n",
       "      <th>DeviceType</th>\n",
       "      <th>DeviceInfo</th>\n",
       "    </tr>\n",
       "  </thead>\n",
       "  <tbody>\n",
       "    <tr>\n",
       "      <th>0</th>\n",
       "      <td>2987004</td>\n",
       "      <td>0.0</td>\n",
       "      <td>70787.0</td>\n",
       "      <td>NaN</td>\n",
       "      <td>NaN</td>\n",
       "      <td>NaN</td>\n",
       "      <td>NaN</td>\n",
       "      <td>NaN</td>\n",
       "      <td>NaN</td>\n",
       "      <td>NaN</td>\n",
       "      <td>...</td>\n",
       "      <td>samsung browser 6.2</td>\n",
       "      <td>32.0</td>\n",
       "      <td>2220x1080</td>\n",
       "      <td>match_status:2</td>\n",
       "      <td>T</td>\n",
       "      <td>F</td>\n",
       "      <td>T</td>\n",
       "      <td>T</td>\n",
       "      <td>mobile</td>\n",
       "      <td>SAMSUNG SM-G892A Build/NRD90M</td>\n",
       "    </tr>\n",
       "    <tr>\n",
       "      <th>1</th>\n",
       "      <td>2987008</td>\n",
       "      <td>-5.0</td>\n",
       "      <td>98945.0</td>\n",
       "      <td>NaN</td>\n",
       "      <td>NaN</td>\n",
       "      <td>0.0</td>\n",
       "      <td>-5.0</td>\n",
       "      <td>NaN</td>\n",
       "      <td>NaN</td>\n",
       "      <td>NaN</td>\n",
       "      <td>...</td>\n",
       "      <td>mobile safari 11.0</td>\n",
       "      <td>32.0</td>\n",
       "      <td>1334x750</td>\n",
       "      <td>match_status:1</td>\n",
       "      <td>T</td>\n",
       "      <td>F</td>\n",
       "      <td>F</td>\n",
       "      <td>T</td>\n",
       "      <td>mobile</td>\n",
       "      <td>iOS Device</td>\n",
       "    </tr>\n",
       "    <tr>\n",
       "      <th>2</th>\n",
       "      <td>2987010</td>\n",
       "      <td>-5.0</td>\n",
       "      <td>191631.0</td>\n",
       "      <td>0.0</td>\n",
       "      <td>0.0</td>\n",
       "      <td>0.0</td>\n",
       "      <td>0.0</td>\n",
       "      <td>NaN</td>\n",
       "      <td>NaN</td>\n",
       "      <td>0.0</td>\n",
       "      <td>...</td>\n",
       "      <td>chrome 62.0</td>\n",
       "      <td>NaN</td>\n",
       "      <td>NaN</td>\n",
       "      <td>NaN</td>\n",
       "      <td>F</td>\n",
       "      <td>F</td>\n",
       "      <td>T</td>\n",
       "      <td>T</td>\n",
       "      <td>desktop</td>\n",
       "      <td>Windows</td>\n",
       "    </tr>\n",
       "    <tr>\n",
       "      <th>3</th>\n",
       "      <td>2987011</td>\n",
       "      <td>-5.0</td>\n",
       "      <td>221832.0</td>\n",
       "      <td>NaN</td>\n",
       "      <td>NaN</td>\n",
       "      <td>0.0</td>\n",
       "      <td>-6.0</td>\n",
       "      <td>NaN</td>\n",
       "      <td>NaN</td>\n",
       "      <td>NaN</td>\n",
       "      <td>...</td>\n",
       "      <td>chrome 62.0</td>\n",
       "      <td>NaN</td>\n",
       "      <td>NaN</td>\n",
       "      <td>NaN</td>\n",
       "      <td>F</td>\n",
       "      <td>F</td>\n",
       "      <td>T</td>\n",
       "      <td>T</td>\n",
       "      <td>desktop</td>\n",
       "      <td>NaN</td>\n",
       "    </tr>\n",
       "    <tr>\n",
       "      <th>4</th>\n",
       "      <td>2987016</td>\n",
       "      <td>0.0</td>\n",
       "      <td>7460.0</td>\n",
       "      <td>0.0</td>\n",
       "      <td>0.0</td>\n",
       "      <td>1.0</td>\n",
       "      <td>0.0</td>\n",
       "      <td>NaN</td>\n",
       "      <td>NaN</td>\n",
       "      <td>0.0</td>\n",
       "      <td>...</td>\n",
       "      <td>chrome 62.0</td>\n",
       "      <td>24.0</td>\n",
       "      <td>1280x800</td>\n",
       "      <td>match_status:2</td>\n",
       "      <td>T</td>\n",
       "      <td>F</td>\n",
       "      <td>T</td>\n",
       "      <td>T</td>\n",
       "      <td>desktop</td>\n",
       "      <td>MacOS</td>\n",
       "    </tr>\n",
       "  </tbody>\n",
       "</table>\n",
       "<p>5 rows × 41 columns</p>\n",
       "</div>"
      ],
      "text/plain": [
       "   TransactionID  id_01     id_02  id_03  id_04  id_05  id_06  id_07  id_08  \\\n",
       "0        2987004    0.0   70787.0    NaN    NaN    NaN    NaN    NaN    NaN   \n",
       "1        2987008   -5.0   98945.0    NaN    NaN    0.0   -5.0    NaN    NaN   \n",
       "2        2987010   -5.0  191631.0    0.0    0.0    0.0    0.0    NaN    NaN   \n",
       "3        2987011   -5.0  221832.0    NaN    NaN    0.0   -6.0    NaN    NaN   \n",
       "4        2987016    0.0    7460.0    0.0    0.0    1.0    0.0    NaN    NaN   \n",
       "\n",
       "   id_09              ...                              id_31  id_32  \\\n",
       "0    NaN              ...                samsung browser 6.2   32.0   \n",
       "1    NaN              ...                 mobile safari 11.0   32.0   \n",
       "2    0.0              ...                        chrome 62.0    NaN   \n",
       "3    NaN              ...                        chrome 62.0    NaN   \n",
       "4    0.0              ...                        chrome 62.0   24.0   \n",
       "\n",
       "       id_33           id_34  id_35 id_36 id_37  id_38  DeviceType  \\\n",
       "0  2220x1080  match_status:2      T     F     T      T      mobile   \n",
       "1   1334x750  match_status:1      T     F     F      T      mobile   \n",
       "2        NaN             NaN      F     F     T      T     desktop   \n",
       "3        NaN             NaN      F     F     T      T     desktop   \n",
       "4   1280x800  match_status:2      T     F     T      T     desktop   \n",
       "\n",
       "                      DeviceInfo  \n",
       "0  SAMSUNG SM-G892A Build/NRD90M  \n",
       "1                     iOS Device  \n",
       "2                        Windows  \n",
       "3                            NaN  \n",
       "4                          MacOS  \n",
       "\n",
       "[5 rows x 41 columns]"
      ]
     },
     "execution_count": 4,
     "metadata": {},
     "output_type": "execute_result"
    }
   ],
   "source": [
    "train_identity.head()"
   ]
  },
  {
   "cell_type": "code",
   "execution_count": 5,
   "metadata": {},
   "outputs": [
    {
     "name": "stdout",
     "output_type": "stream",
     "text": [
      "       TransactionID        isFraud  TransactionDT  TransactionAmt  \\\n",
      "count   5.905400e+05  590540.000000   5.905400e+05   590540.000000   \n",
      "mean    3.282270e+06       0.034990   7.372311e+06      135.027176   \n",
      "std     1.704744e+05       0.183755   4.617224e+06      239.162522   \n",
      "min     2.987000e+06       0.000000   8.640000e+04        0.251000   \n",
      "25%     3.134635e+06       0.000000   3.027058e+06       43.321000   \n",
      "50%     3.282270e+06       0.000000   7.306528e+06       68.769000   \n",
      "75%     3.429904e+06       0.000000   1.124662e+07      125.000000   \n",
      "max     3.577539e+06       1.000000   1.581113e+07    31937.391000   \n",
      "\n",
      "               card1          card2          card3          card5  \\\n",
      "count  590540.000000  581607.000000  588975.000000  586281.000000   \n",
      "mean     9898.734658     362.555488     153.194925     199.278897   \n",
      "std      4901.170153     157.793246      11.336444      41.244453   \n",
      "min      1000.000000     100.000000     100.000000     100.000000   \n",
      "25%      6019.000000     214.000000     150.000000     166.000000   \n",
      "50%      9678.000000     361.000000     150.000000     226.000000   \n",
      "75%     14184.000000     512.000000     150.000000     226.000000   \n",
      "max     18396.000000     600.000000     231.000000     237.000000   \n",
      "\n",
      "               addr1          addr2      ...                V330  \\\n",
      "count  524834.000000  524834.000000      ...        82351.000000   \n",
      "mean      290.733794      86.800630      ...            0.775874   \n",
      "std       101.741072       2.690623      ...            4.727971   \n",
      "min       100.000000      10.000000      ...            0.000000   \n",
      "25%       204.000000      87.000000      ...            0.000000   \n",
      "50%       299.000000      87.000000      ...            0.000000   \n",
      "75%       330.000000      87.000000      ...            0.000000   \n",
      "max       540.000000     102.000000      ...           55.000000   \n",
      "\n",
      "                V331           V332           V333          V334         V335  \\\n",
      "count   82351.000000   82351.000000   82351.000000  82351.000000  82351.00000   \n",
      "mean      721.741883    1375.783644    1014.622782      9.807015     59.16455   \n",
      "std      6217.223583   11169.275702    7955.735482    243.861391    387.62948   \n",
      "min         0.000000       0.000000       0.000000      0.000000      0.00000   \n",
      "25%         0.000000       0.000000       0.000000      0.000000      0.00000   \n",
      "50%         0.000000       0.000000       0.000000      0.000000      0.00000   \n",
      "75%         0.000000      25.000000       0.000000      0.000000      0.00000   \n",
      "max    160000.000000  160000.000000  160000.000000  55125.000000  55125.00000   \n",
      "\n",
      "               V336           V337           V338           V339  \n",
      "count  82351.000000   82351.000000   82351.000000   82351.000000  \n",
      "mean      28.530903      55.352422     151.160542     100.700882  \n",
      "std      274.576920     668.486833    1095.034387     814.946722  \n",
      "min        0.000000       0.000000       0.000000       0.000000  \n",
      "25%        0.000000       0.000000       0.000000       0.000000  \n",
      "50%        0.000000       0.000000       0.000000       0.000000  \n",
      "75%        0.000000       0.000000       0.000000       0.000000  \n",
      "max    55125.000000  104060.000000  104060.000000  104060.000000  \n",
      "\n",
      "[8 rows x 380 columns]\n"
     ]
    }
   ],
   "source": [
    "print(train_transaction.describe())"
   ]
  },
  {
   "cell_type": "code",
   "execution_count": 6,
   "metadata": {},
   "outputs": [
    {
     "name": "stdout",
     "output_type": "stream",
     "text": [
      "<class 'pandas.core.frame.DataFrame'>\n",
      "RangeIndex: 144233 entries, 0 to 144232\n",
      "Data columns (total 41 columns):\n",
      "TransactionID    144233 non-null int64\n",
      "id_01            144233 non-null float64\n",
      "id_02            140872 non-null float64\n",
      "id_03            66324 non-null float64\n",
      "id_04            66324 non-null float64\n",
      "id_05            136865 non-null float64\n",
      "id_06            136865 non-null float64\n",
      "id_07            5155 non-null float64\n",
      "id_08            5155 non-null float64\n",
      "id_09            74926 non-null float64\n",
      "id_10            74926 non-null float64\n",
      "id_11            140978 non-null float64\n",
      "id_12            144233 non-null object\n",
      "id_13            127320 non-null float64\n",
      "id_14            80044 non-null float64\n",
      "id_15            140985 non-null object\n",
      "id_16            129340 non-null object\n",
      "id_17            139369 non-null float64\n",
      "id_18            45113 non-null float64\n",
      "id_19            139318 non-null float64\n",
      "id_20            139261 non-null float64\n",
      "id_21            5159 non-null float64\n",
      "id_22            5169 non-null float64\n",
      "id_23            5169 non-null object\n",
      "id_24            4747 non-null float64\n",
      "id_25            5132 non-null float64\n",
      "id_26            5163 non-null float64\n",
      "id_27            5169 non-null object\n",
      "id_28            140978 non-null object\n",
      "id_29            140978 non-null object\n",
      "id_30            77565 non-null object\n",
      "id_31            140282 non-null object\n",
      "id_32            77586 non-null float64\n",
      "id_33            73289 non-null object\n",
      "id_34            77805 non-null object\n",
      "id_35            140985 non-null object\n",
      "id_36            140985 non-null object\n",
      "id_37            140985 non-null object\n",
      "id_38            140985 non-null object\n",
      "DeviceType       140810 non-null object\n",
      "DeviceInfo       118666 non-null object\n",
      "dtypes: float64(23), int64(1), object(17)\n",
      "memory usage: 45.1+ MB\n"
     ]
    }
   ],
   "source": [
    "train_identity.info()"
   ]
  },
  {
   "cell_type": "code",
   "execution_count": 7,
   "metadata": {},
   "outputs": [
    {
     "data": {
      "text/plain": [
       "(590540, 394)"
      ]
     },
     "execution_count": 7,
     "metadata": {},
     "output_type": "execute_result"
    }
   ],
   "source": [
    "train_transaction.shape"
   ]
  },
  {
   "cell_type": "code",
   "execution_count": 8,
   "metadata": {},
   "outputs": [
    {
     "data": {
      "text/plain": [
       "(144233, 41)"
      ]
     },
     "execution_count": 8,
     "metadata": {},
     "output_type": "execute_result"
    }
   ],
   "source": [
    "train_identity.shape"
   ]
  },
  {
   "cell_type": "code",
   "execution_count": 9,
   "metadata": {},
   "outputs": [
    {
     "data": {
      "text/plain": [
       "(506691, 393)"
      ]
     },
     "execution_count": 9,
     "metadata": {},
     "output_type": "execute_result"
    }
   ],
   "source": [
    "test_transaction.shape"
   ]
  },
  {
   "cell_type": "code",
   "execution_count": 10,
   "metadata": {},
   "outputs": [
    {
     "data": {
      "text/plain": [
       "(141907, 41)"
      ]
     },
     "execution_count": 10,
     "metadata": {},
     "output_type": "execute_result"
    }
   ],
   "source": [
    "test_identity.shape"
   ]
  },
  {
   "cell_type": "code",
   "execution_count": 11,
   "metadata": {},
   "outputs": [],
   "source": [
    "def remove_empty_cols(df):\n",
    "    columns = df.columns\n",
    "    for col in columns:\n",
    "        null_values = 0.0\n",
    "        null_values = (df[col].isnull().sum()/df.shape[0])*100\n",
    "        if null_values > 20.0:\n",
    "            df.drop([col], axis=1, inplace = True)\n",
    "    return df"
   ]
  },
  {
   "cell_type": "code",
   "execution_count": 12,
   "metadata": {},
   "outputs": [],
   "source": [
    "#train = remove_empty_cols(train_transaction)\n",
    "#train_i = remove_empty_cols(train_identity)\n"
   ]
  },
  {
   "cell_type": "code",
   "execution_count": 13,
   "metadata": {},
   "outputs": [],
   "source": [
    "#print(train_t.shape)\n",
    "#print(train_i.shape)"
   ]
  },
  {
   "cell_type": "code",
   "execution_count": 14,
   "metadata": {},
   "outputs": [],
   "source": [
    "#columns = test_transaction.columns\n",
    "\n",
    "#for col in columns:\n",
    "#    null_values = 0.0\n",
    "#    null_values = (test_transaction[col].isnull().sum()/test_transaction.shape[0])*100\n",
    "#    if null_values > 30.0:\n",
    "#        test_transaction.drop([col], axis=1, inplace = True)"
   ]
  },
  {
   "cell_type": "code",
   "execution_count": 15,
   "metadata": {},
   "outputs": [],
   "source": [
    "def reduce_mem_usage2(df):\n",
    "    \"\"\" iterate through all the columns of a dataframe and modify the data type\n",
    "        to reduce memory usage.        \n",
    "    \"\"\"\n",
    "    start_mem = df.memory_usage().sum() / 1024**2\n",
    "    print('Memory usage of dataframe is {:.2f} MB'.format(start_mem))\n",
    "    \n",
    "    for col in df.columns:\n",
    "        col_type = df[col].dtype\n",
    "        \n",
    "        if col_type != object:\n",
    "            c_min = df[col].min()\n",
    "            c_max = df[col].max()\n",
    "            if str(col_type)[:3] == 'int':\n",
    "                if c_min > np.iinfo(np.int8).min and c_max < np.iinfo(np.int8).max:\n",
    "                    df[col] = df[col].astype(np.int8)\n",
    "                elif c_min > np.iinfo(np.int16).min and c_max < np.iinfo(np.int16).max:\n",
    "                    df[col] = df[col].astype(np.int16)\n",
    "                elif c_min > np.iinfo(np.int32).min and c_max < np.iinfo(np.int32).max:\n",
    "                    df[col] = df[col].astype(np.int32)\n",
    "                elif c_min > np.iinfo(np.int64).min and c_max < np.iinfo(np.int64).max:\n",
    "                    df[col] = df[col].astype(np.int64)  \n",
    "            else:\n",
    "                if c_min > np.finfo(np.float16).min and c_max < np.finfo(np.float16).max:\n",
    "                    df[col] = df[col].astype(np.float16)\n",
    "                elif c_min > np.finfo(np.float32).min and c_max < np.finfo(np.float32).max:\n",
    "                    df[col] = df[col].astype(np.float32)\n",
    "                else:\n",
    "                    df[col] = df[col].astype(np.float64)\n",
    "        else:\n",
    "            df[col] = df[col].astype('category')\n",
    "\n",
    "    end_mem = df.memory_usage().sum() / 1024**2\n",
    "    print('Memory usage after optimization is: {:.2f} MB'.format(end_mem))\n",
    "    print('Decreased by {:.1f}%'.format(100 * (start_mem - end_mem) / start_mem))\n",
    "    \n",
    "    return df"
   ]
  },
  {
   "cell_type": "code",
   "execution_count": 16,
   "metadata": {},
   "outputs": [
    {
     "name": "stdout",
     "output_type": "stream",
     "text": [
      "Memory usage of dataframe is 45.12 MB\n",
      "Memory usage after optimization is: 10.02 MB\n",
      "Decreased by 77.8%\n",
      "Memory usage of dataframe is 1775.15 MB\n",
      "Memory usage after optimization is: 487.16 MB\n",
      "Decreased by 72.6%\n",
      "Memory usage of dataframe is 1519.24 MB\n",
      "Memory usage after optimization is: 425.24 MB\n",
      "Decreased by 72.0%\n",
      "Memory usage of dataframe is 44.39 MB\n",
      "Memory usage after optimization is: 9.86 MB\n",
      "Decreased by 77.8%\n"
     ]
    }
   ],
   "source": [
    "train_identity = reduce_mem_usage2(train_identity)\n",
    "train_transaction = reduce_mem_usage2(train_transaction)\n",
    "test_transaction = reduce_mem_usage2(test_transaction)\n",
    "test_identity = reduce_mem_usage2(test_identity)"
   ]
  },
  {
   "cell_type": "code",
   "execution_count": 17,
   "metadata": {},
   "outputs": [],
   "source": [
    "train = pd.merge(train_transaction,train_identity,how='outer',on=\"TransactionID\")\n",
    "test = pd.merge(test_transaction,test_identity,how='outer',on=\"TransactionID\")"
   ]
  },
  {
   "cell_type": "code",
   "execution_count": 18,
   "metadata": {},
   "outputs": [],
   "source": [
    "train_copy = train.copy()"
   ]
  },
  {
   "cell_type": "code",
   "execution_count": 19,
   "metadata": {},
   "outputs": [
    {
     "name": "stdout",
     "output_type": "stream",
     "text": [
      "No. of fraud cases %d 20663\n",
      "No. of non-fraud cases %d 569877\n",
      "percentage of fraud cases %f 3.4990009144173126\n"
     ]
    }
   ],
   "source": [
    "from collections import Counter\n",
    "counter = Counter(train['isFraud'])\n",
    "Fraud = counter[1]\n",
    "Not_fraud = counter[0]\n",
    "print('No. of fraud cases %d', Fraud)\n",
    "print('No. of non-fraud cases %d', Not_fraud)\n",
    "percentage = (Fraud/(Fraud+Not_fraud))*100\n",
    "print('percentage of fraud cases %f', percentage)"
   ]
  },
  {
   "cell_type": "code",
   "execution_count": 20,
   "metadata": {},
   "outputs": [],
   "source": [
    "Fraud_list = train['isFraud']\n",
    "train = train.drop(['isFraud'], axis=1)"
   ]
  },
  {
   "cell_type": "code",
   "execution_count": 21,
   "metadata": {},
   "outputs": [
    {
     "name": "stdout",
     "output_type": "stream",
     "text": [
      "['W', 'H', 'C', 'S', 'R']\n"
     ]
    }
   ],
   "source": [
    "train['ProductCD'] = train['ProductCD'].astype(str)\n",
    "train['ProductCD'].fillna(\"No Type\",inplace=True)\n",
    "product_type=[]\n",
    "for i in range(len(train['ProductCD'])):\n",
    "    if(train.loc[i,'ProductCD'] not in product_type):\n",
    "        product_type.append(train.loc[i,'ProductCD'])\n",
    "print(product_type)"
   ]
  },
  {
   "cell_type": "code",
   "execution_count": 22,
   "metadata": {},
   "outputs": [],
   "source": [
    "train['ProductCD']=train['ProductCD'].map({'W':1,'H':2,'C':3,'S':4,'R':5})"
   ]
  },
  {
   "cell_type": "code",
   "execution_count": 23,
   "metadata": {},
   "outputs": [],
   "source": [
    "train['card1'].fillna(-999,inplace=True)\n",
    "train['card2'].fillna(-999,inplace=True)\n",
    "train['card3'].fillna(-999,inplace=True)\n",
    "train['card5'].fillna(-999,inplace=True)"
   ]
  },
  {
   "cell_type": "code",
   "execution_count": 24,
   "metadata": {},
   "outputs": [],
   "source": [
    "train['card4'] = train['card4'].astype(str)\n",
    "train['card4'].replace('nan', np.nan, inplace=True)\n",
    "train['card4'].fillna(\"No Card\", inplace=True)\n",
    "types_of_card=[]\n",
    "for i in range(len(train['card4'])):\n",
    "    if(train.loc[i,'card4'] not in types_of_card):\n",
    "        types_of_card.append(train.loc[i,'card4'])\n",
    "train['card4']=train['card4'].map({'discover':1,'mastercard':2,'visa':3,'american express':4,'No Card':-999})"
   ]
  },
  {
   "cell_type": "code",
   "execution_count": 25,
   "metadata": {},
   "outputs": [
    {
     "data": {
      "text/plain": [
       "['credit', 'debit', 'No Card', 'debit or credit', 'charge card']"
      ]
     },
     "execution_count": 25,
     "metadata": {},
     "output_type": "execute_result"
    }
   ],
   "source": [
    "train['card6'] = train['card6'].astype(str)\n",
    "train['card6'].replace('nan', np.nan, inplace=True)\n",
    "train['card6'].fillna(\"No Card\",inplace=True)\n",
    "card_types=[]\n",
    "for i in range(len(train['card6'])):\n",
    "    if(train.loc[i,'card6'] not in card_types):\n",
    "        card_types.append(train.loc[i,'card6'])\n",
    "\n",
    "card_types"
   ]
  },
  {
   "cell_type": "code",
   "execution_count": 26,
   "metadata": {},
   "outputs": [],
   "source": [
    "train['card6']=train['card6'].map({'credit':1,'debit':2,'No Card':-999,'debit or credit':3,'charge card':4})"
   ]
  },
  {
   "cell_type": "code",
   "execution_count": 27,
   "metadata": {},
   "outputs": [],
   "source": [
    "train['addr1'].fillna(-999,inplace=True)\n",
    "train['addr2'].fillna(-999,inplace=True)\n",
    "train['dist1'].fillna(-999,inplace=True)\n",
    "train['dist2'].fillna(-999,inplace=True)"
   ]
  },
  {
   "cell_type": "code",
   "execution_count": 28,
   "metadata": {},
   "outputs": [],
   "source": [
    "from sklearn.preprocessing import Imputer\n",
    "imp = Imputer(missing_values='NaN', strategy = 'most_frequent', axis=0)\n",
    "imp = imp.fit(train.loc[:,'C1':'C4'])\n",
    "train.loc[:,'C1':'C4'] = imp.transform(train.loc[:,'C1':'C4'])"
   ]
  },
  {
   "cell_type": "code",
   "execution_count": 29,
   "metadata": {},
   "outputs": [],
   "source": [
    "imp=Imputer(missing_values='NaN',strategy='most_frequent',axis=0)\n",
    "imp=imp.fit(train.loc[:,'D1':'D15'])\n",
    "train.loc[:,'D1':'D15']=imp.transform(train.loc[:,'D1':'D15'])"
   ]
  },
  {
   "cell_type": "code",
   "execution_count": 30,
   "metadata": {},
   "outputs": [],
   "source": [
    "train['M1'] = train_copy['M1']\n",
    "train['M2'] = train_copy['M2']\n",
    "train['M3'] = train_copy['M3']\n",
    "train['M5'] = train_copy['M5']\n",
    "train['M6'] = train_copy['M6']\n",
    "train['M7'] = train_copy['M7']\n",
    "train['M8'] = train_copy['M8']\n",
    "train['M9'] = train_copy['M9']"
   ]
  },
  {
   "cell_type": "code",
   "execution_count": 31,
   "metadata": {},
   "outputs": [
    {
     "data": {
      "text/plain": [
       "271100"
      ]
     },
     "execution_count": 31,
     "metadata": {},
     "output_type": "execute_result"
    }
   ],
   "source": [
    "train['M1'].isnull().sum()"
   ]
  },
  {
   "cell_type": "code",
   "execution_count": 32,
   "metadata": {},
   "outputs": [],
   "source": [
    "train['M1'] = train['M1'].astype(str)\n",
    "train['M1'].replace('nan', np.nan, inplace=True)\n",
    "train['M1'].fillna(\"No Type\",inplace=True)\n",
    "train['M2'] = train['M2'].astype(str)\n",
    "train['M2'].replace('nan', np.nan, inplace=True)\n",
    "train['M2'].fillna(\"No Type\",inplace=True)\n",
    "train['M3'] = train['M3'].astype(str)\n",
    "train['M3'].replace('nan', np.nan, inplace=True)\n",
    "train['M3'].fillna(\"No Type\",inplace=True)"
   ]
  },
  {
   "cell_type": "code",
   "execution_count": 33,
   "metadata": {},
   "outputs": [
    {
     "data": {
      "text/plain": [
       "T          285468\n",
       "No Type    271100\n",
       "F           33972\n",
       "Name: M2, dtype: int64"
      ]
     },
     "execution_count": 33,
     "metadata": {},
     "output_type": "execute_result"
    }
   ],
   "source": [
    "train['M2'].value_counts()"
   ]
  },
  {
   "cell_type": "code",
   "execution_count": 34,
   "metadata": {},
   "outputs": [],
   "source": [
    "train['M5'] = train['M5'].astype(str)\n",
    "train['M5'].replace('nan', np.nan, inplace=True)\n",
    "train['M5'].fillna(\"No Type\",inplace=True)\n",
    "train['M6'] = train['M6'].astype(str)\n",
    "train['M6'].replace('nan', np.nan, inplace=True)\n",
    "train['M6'].fillna(\"No Type\",inplace=True)\n",
    "train['M7'] = train['M7'].astype(str)\n",
    "train['M7'].replace('nan', np.nan, inplace=True)\n",
    "train['M7'].fillna(\"No Type\",inplace=True)\n",
    "train['M8'] = train['M8'].astype(str)\n",
    "train['M8'].replace('nan', np.nan, inplace=True)\n",
    "train['M8'].fillna(\"No Type\",inplace=True)\n",
    "train['M9'] = train['M9'].astype(str)\n",
    "train['M9'].replace('nan', np.nan, inplace=True)\n",
    "train['M9'].fillna(\"No Type\",inplace=True)"
   ]
  },
  {
   "cell_type": "code",
   "execution_count": 35,
   "metadata": {},
   "outputs": [],
   "source": [
    "train['M1']=train['M1'].map({'T':1,'F':0,'No Type':-999})\n",
    "train['M2']=train['M2'].map({'T':1,'F':0,'No Type':-999})\n",
    "train['M3']=train['M3'].map({'T':1,'F':0,'No Type':-999})\n",
    "train['M5']=train['M5'].map({'T':1,'F':0,'No Type':-999})\n",
    "train['M6']=train['M6'].map({'T':1,'F':0,'No Type':-999})\n",
    "train['M7']=train['M7'].map({'T':1,'F':0,'No Type':-999})\n",
    "train['M8']=train['M8'].map({'T':1,'F':0,'No Type':-999})\n",
    "train['M9']=train['M9'].map({'T':1,'F':0,'No Type':-999})"
   ]
  },
  {
   "cell_type": "code",
   "execution_count": 36,
   "metadata": {},
   "outputs": [],
   "source": [
    "imp = Imputer(missing_values = 'NaN', strategy = 'most_frequent', axis = 0)\n",
    "train['P_emaildomain'] = train['P_emaildomain'].astype(str)\n",
    "train['R_emaildomain'] = train['R_emaildomain'].astype(str)\n",
    "train['P_emaildomain'].replace('nan', np.nan, inplace=True)\n",
    "train['R_emaildomain'].replace('nan', np.nan, inplace=True)\n",
    "train['P_emaildomain'].fillna('no_mail', inplace=True)\n",
    "train['R_emaildomain'].fillna('no_mail', inplace=True)"
   ]
  },
  {
   "cell_type": "code",
   "execution_count": 37,
   "metadata": {},
   "outputs": [],
   "source": [
    "from sklearn.preprocessing import LabelEncoder\n",
    "le = LabelEncoder()\n",
    "train.loc[:,'P_emaildomain'] = le.fit_transform(train.loc[:,'P_emaildomain'])"
   ]
  },
  {
   "cell_type": "code",
   "execution_count": 38,
   "metadata": {},
   "outputs": [],
   "source": [
    "le = LabelEncoder()\n",
    "train.loc[:,'R_emaildomain'] = le.fit_transform(train.loc[:,'R_emaildomain'])"
   ]
  },
  {
   "cell_type": "code",
   "execution_count": 39,
   "metadata": {},
   "outputs": [
    {
     "data": {
      "text/plain": [
       "['M2', 'M0', 'No Type', 'M1']"
      ]
     },
     "execution_count": 39,
     "metadata": {},
     "output_type": "execute_result"
    }
   ],
   "source": [
    "train['M4'] = train['M4'].astype(str)\n",
    "train['M4'].replace('nan', np.nan, inplace=True)\n",
    "train['M4'].fillna(\"No Type\",inplace=True)\n",
    "M4_list=[]\n",
    "for i in range(len(train['M4'])):\n",
    "    if(train.loc[i,'M4'] not in M4_list):\n",
    "        M4_list.append(train.loc[i,'M4'])\n",
    "M4_list"
   ]
  },
  {
   "cell_type": "code",
   "execution_count": 40,
   "metadata": {},
   "outputs": [],
   "source": [
    "train['M4']=train['M4'].map({'M0':0,'M1':1,'M2':2,'No Type':-999})"
   ]
  },
  {
   "cell_type": "code",
   "execution_count": 41,
   "metadata": {},
   "outputs": [],
   "source": [
    "for i in range(1,340):\n",
    "    train[str('V'+str(i))].replace('nan', np.nan, inplace=True)"
   ]
  },
  {
   "cell_type": "code",
   "execution_count": 42,
   "metadata": {},
   "outputs": [],
   "source": [
    "imp=Imputer(missing_values='NaN',strategy='most_frequent',axis=0)\n",
    "imp=imp.fit(train.loc[:,'V1':'V339'])\n",
    "train.loc[:,'V1':'V339']=imp.transform(train.loc[:,'V1':'V339'])"
   ]
  },
  {
   "cell_type": "code",
   "execution_count": 43,
   "metadata": {},
   "outputs": [],
   "source": [
    "train.drop(['id_01','id_02','id_03','id_04','id_05','id_06','id_07','id_08','id_09','id_10','id_11','DeviceInfo'], inplace=True, axis=1)"
   ]
  },
  {
   "cell_type": "code",
   "execution_count": 44,
   "metadata": {},
   "outputs": [
    {
     "name": "stdout",
     "output_type": "stream",
     "text": [
      "None        75.576083\n",
      "NotFound    20.832628\n",
      "Found        3.591289\n",
      "Name: id_12, dtype: float64\n"
     ]
    }
   ],
   "source": [
    "train['id_12'] = train['id_12'].astype(str)\n",
    "train['id_12'].replace('nan', np.nan, inplace=True)\n",
    "train['id_12'].fillna(\"None\",inplace=True)\n",
    "print(train['id_12'].value_counts(normalize=True,dropna=False)*100)"
   ]
  },
  {
   "cell_type": "code",
   "execution_count": 45,
   "metadata": {},
   "outputs": [],
   "source": [
    "train['id_12'] = train['id_12'].map({'Found' :1, 'NotFound': 0, 'None': -999})"
   ]
  },
  {
   "cell_type": "code",
   "execution_count": 46,
   "metadata": {},
   "outputs": [],
   "source": [
    "train['id_13'].fillna(-999,inplace=True)\n",
    "train['id_14'].fillna(-999,inplace=True)"
   ]
  },
  {
   "cell_type": "code",
   "execution_count": 47,
   "metadata": {},
   "outputs": [
    {
     "name": "stdout",
     "output_type": "stream",
     "text": [
      "None       76.126088\n",
      "Found      11.468825\n",
      "New        10.433163\n",
      "Unknown     1.971924\n",
      "Name: id_15, dtype: float64\n"
     ]
    }
   ],
   "source": [
    "train['id_15'] = train['id_15'].astype(str)\n",
    "train['id_15'].replace('nan', np.nan, inplace = True)\n",
    "train['id_15'].fillna('None', inplace = True)\n",
    "print(train['id_15'].value_counts(normalize=True,dropna=False)*100)"
   ]
  },
  {
   "cell_type": "code",
   "execution_count": 48,
   "metadata": {},
   "outputs": [],
   "source": [
    "train['id_15'] = train['id_15'].map({'Unknown':0, 'New':2, 'Found':1,'None':-999})"
   ]
  },
  {
   "cell_type": "code",
   "execution_count": 49,
   "metadata": {},
   "outputs": [
    {
     "name": "stdout",
     "output_type": "stream",
     "text": [
      "None        78.098012\n",
      "Found       11.231077\n",
      "NotFound    10.670911\n",
      "Name: id_16, dtype: float64\n"
     ]
    }
   ],
   "source": [
    "train['id_16'] = train['id_16'].astype(str)\n",
    "train['id_16'].replace('nan', np.nan, inplace = True)\n",
    "train['id_16'].fillna('None', inplace = True)\n",
    "print(train['id_16'].value_counts(normalize=True,dropna=False)*100)"
   ]
  },
  {
   "cell_type": "code",
   "execution_count": 50,
   "metadata": {},
   "outputs": [],
   "source": [
    "train['id_16'] = train['id_16'].map({'Found':1, 'NotFound':0 ,'None':-999})"
   ]
  },
  {
   "cell_type": "code",
   "execution_count": 51,
   "metadata": {},
   "outputs": [],
   "source": [
    "train['id_17'].fillna(-999,inplace=True)\n",
    "train['id_18'].fillna(-999,inplace=True)\n",
    "train['id_19'].fillna(-999,inplace=True)\n",
    "train['id_20'].fillna(-999,inplace=True)"
   ]
  },
  {
   "cell_type": "code",
   "execution_count": 52,
   "metadata": {},
   "outputs": [],
   "source": [
    "train.drop(['id_21','id_22','id_23','id_24','id_25','id_26','id_27'], inplace=True, axis=1)"
   ]
  },
  {
   "cell_type": "code",
   "execution_count": 53,
   "metadata": {},
   "outputs": [],
   "source": [
    "train.drop(['id_28'],inplace=True, axis=1)"
   ]
  },
  {
   "cell_type": "code",
   "execution_count": 54,
   "metadata": {},
   "outputs": [
    {
     "name": "stdout",
     "output_type": "stream",
     "text": [
      "None        76.127273\n",
      "Found       12.687710\n",
      "NotFound    11.185017\n",
      "Name: id_29, dtype: float64\n"
     ]
    }
   ],
   "source": [
    "train['id_29'] = train['id_29'].astype(str)\n",
    "train['id_29'].replace('nan', np.nan, inplace=True)\n",
    "train['id_29'].fillna(\"None\",inplace=True)\n",
    "print(train['id_29'].value_counts(normalize=True,dropna=False)*100)"
   ]
  },
  {
   "cell_type": "code",
   "execution_count": 55,
   "metadata": {},
   "outputs": [],
   "source": [
    "train['id_29'] = train['id_29'].map({'Found':1, 'NotFound':0,'None':-999})"
   ]
  },
  {
   "cell_type": "code",
   "execution_count": 56,
   "metadata": {},
   "outputs": [
    {
     "name": "stdout",
     "output_type": "stream",
     "text": [
      "None                86.865411\n",
      "Windows 10           3.582314\n",
      "Windows 7            2.220002\n",
      "iOS 11.2.1           0.630271\n",
      "iOS 11.1.2           0.626376\n",
      "Android 7.0          0.486165\n",
      "Mac OS X 10_12_6     0.433332\n",
      "Mac OS X 10_11_6     0.397602\n",
      "iOS 11.3.0           0.341382\n",
      "Windows 8.1          0.324110\n",
      "Mac OS X 10_10_5     0.279575\n",
      "iOS 11.2.6           0.278897\n",
      "iOS 10.3.3           0.263826\n",
      "Mac OS X 10_13_2     0.240627\n",
      "Mac OS X 10_13_1     0.205067\n",
      "iOS 11.2.5           0.203204\n",
      "Linux                0.192366\n",
      "Android              0.182714\n",
      "iOS 11.2.2           0.152742\n",
      "Mac OS X 10_13_3     0.145629\n",
      "iOS 11.2.0           0.144275\n",
      "Mac OS X 10_13_4     0.128526\n",
      "iOS 11.1.1           0.118536\n",
      "iOS 11.0.3           0.111593\n",
      "Android 7.1.1        0.106682\n",
      "Mac OS X 10_9_5      0.096522\n",
      "Android 6.0.1        0.095844\n",
      "iOS 10.3.2           0.072476\n",
      "iOS 9.3.5            0.070105\n",
      "Android 5.1.1        0.059268\n",
      "                      ...    \n",
      "iOS 11.3.1           0.023030\n",
      "Mac OS X 10.10       0.022860\n",
      "Windows XP           0.022183\n",
      "iOS 11.0.1           0.021506\n",
      "Mac OS X 10_12_4     0.017442\n",
      "iOS 10.1.1           0.016256\n",
      "iOS 10.0.2           0.016087\n",
      "Mac OS X 10_12_3     0.016087\n",
      "Mac OS X 10_7_5      0.015748\n",
      "Mac OS X 10_11_5     0.013886\n",
      "Android 6.0          0.013547\n",
      "Mac OS X 10_8_5      0.012531\n",
      "Android 4.4.2        0.010668\n",
      "Mac OS X 10.9        0.009822\n",
      "Android 5.0.2        0.009314\n",
      "Mac OS X 10_11_3     0.009144\n",
      "Mac OS X 10_11_4     0.008975\n",
      "Mac OS X 10_6_8      0.008467\n",
      "Mac OS X 10_12       0.008297\n",
      "Mac OS X 10.6        0.008297\n",
      "Mac OS X 10_12_1     0.007451\n",
      "Android 5.0          0.006943\n",
      "Android 7.1.2        0.005588\n",
      "Mac OS X 10_12_2     0.005588\n",
      "other                0.002540\n",
      "func                 0.001693\n",
      "iOS 11.4.0           0.000847\n",
      "Mac OS X 10_13_5     0.000677\n",
      "Windows              0.000508\n",
      "iOS 11.4.1           0.000169\n",
      "Name: id_30, Length: 76, dtype: float64\n"
     ]
    }
   ],
   "source": [
    "#print(train['id_30'].value_counts(normalize=True,dropna=False)*100)\n",
    "train['id_30'] = train['id_30'].astype(str)\n",
    "train['id_30'].replace('nan', np.nan, inplace=True)\n",
    "train['id_30'].fillna(\"None\",inplace=True)\n",
    "print(train['id_30'].value_counts(normalize=True,dropna=False)*100)"
   ]
  },
  {
   "cell_type": "code",
   "execution_count": 57,
   "metadata": {},
   "outputs": [],
   "source": [
    "from sklearn.preprocessing import LabelEncoder\n",
    "le = LabelEncoder()\n",
    "train.loc[:,'id_30'] = le.fit_transform(train.loc[:,'id_30'])"
   ]
  },
  {
   "cell_type": "code",
   "execution_count": 58,
   "metadata": {},
   "outputs": [
    {
     "name": "stdout",
     "output_type": "stream",
     "text": [
      "None                          76.245132\n",
      "chrome 63.0                    3.725404\n",
      "mobile safari 11.0             2.273004\n",
      "mobile safari generic          1.942967\n",
      "ie 11.0 for desktop            1.529109\n",
      "safari generic                 1.387713\n",
      "chrome 62.0                    1.216175\n",
      "chrome 65.0                    1.163511\n",
      "chrome 64.0                    1.136418\n",
      "chrome 63.0 for android        0.983168\n",
      "chrome generic                 0.809090\n",
      "chrome 66.0                    0.722051\n",
      "edge 16.0                      0.709181\n",
      "chrome 64.0 for android        0.588106\n",
      "chrome 65.0 for android        0.564907\n",
      "firefox 57.0                   0.561351\n",
      "mobile safari 10.0             0.470586\n",
      "chrome 66.0 for android        0.397772\n",
      "chrome 62.0 for android        0.355099\n",
      "edge 15.0                      0.270938\n",
      "chrome generic for android     0.196092\n",
      "firefox 59.0                   0.186101\n",
      "samsung browser 6.2            0.179666\n",
      "firefox 58.0                   0.141057\n",
      "chrome 49.0                    0.121753\n",
      "firefox                        0.113963\n",
      "ie 11.0 for tablet             0.109561\n",
      "chrome 61.0                    0.108714\n",
      "safari 11.0                    0.093135\n",
      "mobile safari 9.0              0.091611\n",
      "                                ...    \n",
      "safari                         0.002371\n",
      "mobile                         0.001863\n",
      "ZTE/Blade                      0.001524\n",
      "samsung browser 3.3            0.001355\n",
      "maxthon                        0.001016\n",
      "comodo                         0.001016\n",
      "line                           0.001016\n",
      "Mozilla/Firefox                0.000847\n",
      "aol                            0.000847\n",
      "icedragon                      0.000847\n",
      "Lanix/Ilium                    0.000508\n",
      "facebook                       0.000339\n",
      "waterfox                       0.000339\n",
      "palemoon                       0.000339\n",
      "puffin                         0.000339\n",
      "chromium                       0.000169\n",
      "iron                           0.000169\n",
      "BLU/Dash                       0.000169\n",
      "android                        0.000169\n",
      "Nokia/Lumia                    0.000169\n",
      "Cherry                         0.000169\n",
      "LG/K-200                       0.000169\n",
      "Samsung/SCH                    0.000169\n",
      "firefox mobile 61.0            0.000169\n",
      "chrome 67.0 for android        0.000169\n",
      "M4Tel/M4                       0.000169\n",
      "cyberfox                       0.000169\n",
      "chrome 69.0                    0.000169\n",
      "Inco/Minion                    0.000169\n",
      "seamonkey                      0.000169\n",
      "Name: id_31, Length: 131, dtype: float64\n"
     ]
    }
   ],
   "source": [
    "train['id_31'] = train['id_31'].astype(str)\n",
    "train['id_31'].replace('nan', np.nan, inplace=True)\n",
    "train['id_31'].fillna(\"None\",inplace=True)\n",
    "print(train['id_31'].value_counts(normalize=True,dropna=False)*100)"
   ]
  },
  {
   "cell_type": "code",
   "execution_count": 59,
   "metadata": {},
   "outputs": [],
   "source": [
    "le = LabelEncoder()\n",
    "train.loc[:,'id_31'] = le.fit_transform(train.loc[:,'id_31'])"
   ]
  },
  {
   "cell_type": "code",
   "execution_count": 60,
   "metadata": {},
   "outputs": [],
   "source": [
    "train['id_32'].fillna(-999,inplace=True)"
   ]
  },
  {
   "cell_type": "code",
   "execution_count": 61,
   "metadata": {},
   "outputs": [],
   "source": [
    "train.drop(['id_33'], axis =1, inplace =True)"
   ]
  },
  {
   "cell_type": "code",
   "execution_count": 62,
   "metadata": {},
   "outputs": [],
   "source": [
    "train['id_34'] = train_copy['id_34']\n"
   ]
  },
  {
   "cell_type": "code",
   "execution_count": 63,
   "metadata": {},
   "outputs": [],
   "source": [
    "train.drop(['id_34'], axis=1, inplace=True)"
   ]
  },
  {
   "cell_type": "code",
   "execution_count": 64,
   "metadata": {},
   "outputs": [],
   "source": [
    "train['id_35'] = train['id_35'].astype(str)\n",
    "train['id_35'].replace('nan', np.nan, inplace=True)\n",
    "train['id_35'].fillna(\"None\",inplace=True)\n",
    "train['id_35'] = train['id_35'].map({'F':0, 'T':1,'None':-999})"
   ]
  },
  {
   "cell_type": "code",
   "execution_count": 65,
   "metadata": {},
   "outputs": [],
   "source": [
    "train['id_36'] = train['id_36'].astype(str)\n",
    "train['id_36'].replace('nan', np.nan, inplace=True)\n",
    "train['id_36'].fillna(\"None\",inplace=True)\n",
    "train['id_36'] = train['id_36'].map({'F':0, 'T':1,'None':-999})"
   ]
  },
  {
   "cell_type": "code",
   "execution_count": 66,
   "metadata": {},
   "outputs": [],
   "source": [
    "train['id_37'] = train['id_37'].astype(str)\n",
    "train['id_37'].replace('nan', np.nan, inplace=True)\n",
    "train['id_37'].fillna(\"None\",inplace=True)\n",
    "train['id_37'] = train['id_37'].map({'F':0, 'T':1,'None':-999})"
   ]
  },
  {
   "cell_type": "code",
   "execution_count": 67,
   "metadata": {},
   "outputs": [],
   "source": [
    "train['id_38'] = train['id_38'].astype(str)\n",
    "train['id_38'].replace('nan', np.nan, inplace=True)\n",
    "train['id_38'].fillna(\"None\",inplace=True)\n",
    "train['id_38'] = train['id_38'].map({'F':0, 'T':1,'None':-999})"
   ]
  },
  {
   "cell_type": "code",
   "execution_count": 68,
   "metadata": {},
   "outputs": [
    {
     "data": {
      "text/plain": [
       "desktop    85165\n",
       "mobile     55645\n",
       "Name: DeviceType, dtype: int64"
      ]
     },
     "execution_count": 68,
     "metadata": {},
     "output_type": "execute_result"
    }
   ],
   "source": [
    "train['DeviceType'].value_counts()"
   ]
  },
  {
   "cell_type": "code",
   "execution_count": 69,
   "metadata": {},
   "outputs": [
    {
     "data": {
      "text/plain": [
       "449730"
      ]
     },
     "execution_count": 69,
     "metadata": {},
     "output_type": "execute_result"
    }
   ],
   "source": [
    "train['DeviceType'].isnull().sum()"
   ]
  },
  {
   "cell_type": "code",
   "execution_count": 70,
   "metadata": {},
   "outputs": [],
   "source": [
    "train['DeviceType'] = train['DeviceType'].astype(str)\n",
    "train['DeviceType'].replace('nan', np.nan, inplace=True)\n",
    "train['DeviceType'].fillna(\"None\",inplace=True)\n",
    "train['DeviceType'] = train['DeviceType'].map({'desktop':1,'mobile':2,'None':999})"
   ]
  },
  {
   "cell_type": "code",
   "execution_count": 71,
   "metadata": {},
   "outputs": [
    {
     "data": {
      "text/plain": [
       "0"
      ]
     },
     "execution_count": 71,
     "metadata": {},
     "output_type": "execute_result"
    }
   ],
   "source": [
    "train['DeviceType'].isnull().sum()"
   ]
  },
  {
   "cell_type": "code",
   "execution_count": 72,
   "metadata": {},
   "outputs": [
    {
     "name": "stdout",
     "output_type": "stream",
     "text": [
      "   TransactionID  TransactionDT  TransactionAmt  ProductCD  card1  card2  \\\n",
      "0        2987000          86400            68.5          1  13926 -999.0   \n",
      "1        2987001          86401            29.0          1   2755  404.0   \n",
      "2        2987002          86469            59.0          1   4663  490.0   \n",
      "3        2987003          86499            50.0          1  18132  567.0   \n",
      "4        2987004          86506            50.0          2   4497  514.0   \n",
      "\n",
      "   card3  card4  card5  card6     ...      id_20  id_29  id_30  id_31  id_32  \\\n",
      "0  150.0      1  142.0      1     ...     -999.0   -999     41     11 -999.0   \n",
      "1  150.0      2  102.0      1     ...     -999.0   -999     41     11 -999.0   \n",
      "2  150.0      3  166.0      2     ...     -999.0   -999     41     11 -999.0   \n",
      "3  150.0      2  117.0      2     ...     -999.0   -999     41     11 -999.0   \n",
      "4  150.0      2  102.0      1     ...      144.0      0      7    124   32.0   \n",
      "\n",
      "   id_35  id_36  id_37  id_38  DeviceType  \n",
      "0   -999   -999   -999   -999         999  \n",
      "1   -999   -999   -999   -999         999  \n",
      "2   -999   -999   -999   -999         999  \n",
      "3   -999   -999   -999   -999         999  \n",
      "4      1      0      1      1           2  \n",
      "\n",
      "[5 rows x 411 columns]\n"
     ]
    }
   ],
   "source": [
    "print(train.head())"
   ]
  },
  {
   "cell_type": "code",
   "execution_count": 73,
   "metadata": {},
   "outputs": [],
   "source": [
    "import datetime\n",
    "Start_Date = '2017-12-01'\n",
    "startdate = datetime.datetime.strptime(Start_Date, '%Y-%m-%d')\n",
    "train['TransactionDT'] = train['TransactionDT'].apply(lambda x : startdate + datetime.timedelta(seconds=x))"
   ]
  },
  {
   "cell_type": "code",
   "execution_count": 74,
   "metadata": {},
   "outputs": [
    {
     "data": {
      "text/html": [
       "<div>\n",
       "<style scoped>\n",
       "    .dataframe tbody tr th:only-of-type {\n",
       "        vertical-align: middle;\n",
       "    }\n",
       "\n",
       "    .dataframe tbody tr th {\n",
       "        vertical-align: top;\n",
       "    }\n",
       "\n",
       "    .dataframe thead th {\n",
       "        text-align: right;\n",
       "    }\n",
       "</style>\n",
       "<table border=\"1\" class=\"dataframe\">\n",
       "  <thead>\n",
       "    <tr style=\"text-align: right;\">\n",
       "      <th></th>\n",
       "      <th>TransactionID</th>\n",
       "      <th>TransactionDT</th>\n",
       "      <th>TransactionAmt</th>\n",
       "      <th>ProductCD</th>\n",
       "      <th>card1</th>\n",
       "      <th>card2</th>\n",
       "      <th>card3</th>\n",
       "      <th>card4</th>\n",
       "      <th>card5</th>\n",
       "      <th>card6</th>\n",
       "      <th>...</th>\n",
       "      <th>id_20</th>\n",
       "      <th>id_29</th>\n",
       "      <th>id_30</th>\n",
       "      <th>id_31</th>\n",
       "      <th>id_32</th>\n",
       "      <th>id_35</th>\n",
       "      <th>id_36</th>\n",
       "      <th>id_37</th>\n",
       "      <th>id_38</th>\n",
       "      <th>DeviceType</th>\n",
       "    </tr>\n",
       "  </thead>\n",
       "  <tbody>\n",
       "    <tr>\n",
       "      <th>0</th>\n",
       "      <td>2987000</td>\n",
       "      <td>2017-12-02 00:00:00</td>\n",
       "      <td>68.5</td>\n",
       "      <td>1</td>\n",
       "      <td>13926</td>\n",
       "      <td>-999.0</td>\n",
       "      <td>150.0</td>\n",
       "      <td>1</td>\n",
       "      <td>142.0</td>\n",
       "      <td>1</td>\n",
       "      <td>...</td>\n",
       "      <td>-999.0</td>\n",
       "      <td>-999</td>\n",
       "      <td>41</td>\n",
       "      <td>11</td>\n",
       "      <td>-999.0</td>\n",
       "      <td>-999</td>\n",
       "      <td>-999</td>\n",
       "      <td>-999</td>\n",
       "      <td>-999</td>\n",
       "      <td>999</td>\n",
       "    </tr>\n",
       "    <tr>\n",
       "      <th>1</th>\n",
       "      <td>2987001</td>\n",
       "      <td>2017-12-02 00:00:01</td>\n",
       "      <td>29.0</td>\n",
       "      <td>1</td>\n",
       "      <td>2755</td>\n",
       "      <td>404.0</td>\n",
       "      <td>150.0</td>\n",
       "      <td>2</td>\n",
       "      <td>102.0</td>\n",
       "      <td>1</td>\n",
       "      <td>...</td>\n",
       "      <td>-999.0</td>\n",
       "      <td>-999</td>\n",
       "      <td>41</td>\n",
       "      <td>11</td>\n",
       "      <td>-999.0</td>\n",
       "      <td>-999</td>\n",
       "      <td>-999</td>\n",
       "      <td>-999</td>\n",
       "      <td>-999</td>\n",
       "      <td>999</td>\n",
       "    </tr>\n",
       "    <tr>\n",
       "      <th>2</th>\n",
       "      <td>2987002</td>\n",
       "      <td>2017-12-02 00:01:09</td>\n",
       "      <td>59.0</td>\n",
       "      <td>1</td>\n",
       "      <td>4663</td>\n",
       "      <td>490.0</td>\n",
       "      <td>150.0</td>\n",
       "      <td>3</td>\n",
       "      <td>166.0</td>\n",
       "      <td>2</td>\n",
       "      <td>...</td>\n",
       "      <td>-999.0</td>\n",
       "      <td>-999</td>\n",
       "      <td>41</td>\n",
       "      <td>11</td>\n",
       "      <td>-999.0</td>\n",
       "      <td>-999</td>\n",
       "      <td>-999</td>\n",
       "      <td>-999</td>\n",
       "      <td>-999</td>\n",
       "      <td>999</td>\n",
       "    </tr>\n",
       "    <tr>\n",
       "      <th>3</th>\n",
       "      <td>2987003</td>\n",
       "      <td>2017-12-02 00:01:39</td>\n",
       "      <td>50.0</td>\n",
       "      <td>1</td>\n",
       "      <td>18132</td>\n",
       "      <td>567.0</td>\n",
       "      <td>150.0</td>\n",
       "      <td>2</td>\n",
       "      <td>117.0</td>\n",
       "      <td>2</td>\n",
       "      <td>...</td>\n",
       "      <td>-999.0</td>\n",
       "      <td>-999</td>\n",
       "      <td>41</td>\n",
       "      <td>11</td>\n",
       "      <td>-999.0</td>\n",
       "      <td>-999</td>\n",
       "      <td>-999</td>\n",
       "      <td>-999</td>\n",
       "      <td>-999</td>\n",
       "      <td>999</td>\n",
       "    </tr>\n",
       "    <tr>\n",
       "      <th>4</th>\n",
       "      <td>2987004</td>\n",
       "      <td>2017-12-02 00:01:46</td>\n",
       "      <td>50.0</td>\n",
       "      <td>2</td>\n",
       "      <td>4497</td>\n",
       "      <td>514.0</td>\n",
       "      <td>150.0</td>\n",
       "      <td>2</td>\n",
       "      <td>102.0</td>\n",
       "      <td>1</td>\n",
       "      <td>...</td>\n",
       "      <td>144.0</td>\n",
       "      <td>0</td>\n",
       "      <td>7</td>\n",
       "      <td>124</td>\n",
       "      <td>32.0</td>\n",
       "      <td>1</td>\n",
       "      <td>0</td>\n",
       "      <td>1</td>\n",
       "      <td>1</td>\n",
       "      <td>2</td>\n",
       "    </tr>\n",
       "  </tbody>\n",
       "</table>\n",
       "<p>5 rows × 411 columns</p>\n",
       "</div>"
      ],
      "text/plain": [
       "   TransactionID       TransactionDT  TransactionAmt  ProductCD  card1  card2  \\\n",
       "0        2987000 2017-12-02 00:00:00            68.5          1  13926 -999.0   \n",
       "1        2987001 2017-12-02 00:00:01            29.0          1   2755  404.0   \n",
       "2        2987002 2017-12-02 00:01:09            59.0          1   4663  490.0   \n",
       "3        2987003 2017-12-02 00:01:39            50.0          1  18132  567.0   \n",
       "4        2987004 2017-12-02 00:01:46            50.0          2   4497  514.0   \n",
       "\n",
       "   card3  card4  card5  card6     ...      id_20  id_29  id_30  id_31  id_32  \\\n",
       "0  150.0      1  142.0      1     ...     -999.0   -999     41     11 -999.0   \n",
       "1  150.0      2  102.0      1     ...     -999.0   -999     41     11 -999.0   \n",
       "2  150.0      3  166.0      2     ...     -999.0   -999     41     11 -999.0   \n",
       "3  150.0      2  117.0      2     ...     -999.0   -999     41     11 -999.0   \n",
       "4  150.0      2  102.0      1     ...      144.0      0      7    124   32.0   \n",
       "\n",
       "   id_35  id_36  id_37  id_38  DeviceType  \n",
       "0   -999   -999   -999   -999         999  \n",
       "1   -999   -999   -999   -999         999  \n",
       "2   -999   -999   -999   -999         999  \n",
       "3   -999   -999   -999   -999         999  \n",
       "4      1      0      1      1           2  \n",
       "\n",
       "[5 rows x 411 columns]"
      ]
     },
     "execution_count": 74,
     "metadata": {},
     "output_type": "execute_result"
    }
   ],
   "source": [
    "train.head()"
   ]
  },
  {
   "cell_type": "code",
   "execution_count": 75,
   "metadata": {},
   "outputs": [],
   "source": [
    "train['TransactionDT'] = train['TransactionDT'].astype(str)\n",
    "train=train.join(train['TransactionDT'].str.split(expand=True))"
   ]
  },
  {
   "cell_type": "code",
   "execution_count": 76,
   "metadata": {},
   "outputs": [
    {
     "data": {
      "text/html": [
       "<div>\n",
       "<style scoped>\n",
       "    .dataframe tbody tr th:only-of-type {\n",
       "        vertical-align: middle;\n",
       "    }\n",
       "\n",
       "    .dataframe tbody tr th {\n",
       "        vertical-align: top;\n",
       "    }\n",
       "\n",
       "    .dataframe thead th {\n",
       "        text-align: right;\n",
       "    }\n",
       "</style>\n",
       "<table border=\"1\" class=\"dataframe\">\n",
       "  <thead>\n",
       "    <tr style=\"text-align: right;\">\n",
       "      <th></th>\n",
       "      <th>TransactionID</th>\n",
       "      <th>TransactionDT</th>\n",
       "      <th>TransactionAmt</th>\n",
       "      <th>ProductCD</th>\n",
       "      <th>card1</th>\n",
       "      <th>card2</th>\n",
       "      <th>card3</th>\n",
       "      <th>card4</th>\n",
       "      <th>card5</th>\n",
       "      <th>card6</th>\n",
       "      <th>...</th>\n",
       "      <th>id_30</th>\n",
       "      <th>id_31</th>\n",
       "      <th>id_32</th>\n",
       "      <th>id_35</th>\n",
       "      <th>id_36</th>\n",
       "      <th>id_37</th>\n",
       "      <th>id_38</th>\n",
       "      <th>DeviceType</th>\n",
       "      <th>0</th>\n",
       "      <th>1</th>\n",
       "    </tr>\n",
       "  </thead>\n",
       "  <tbody>\n",
       "    <tr>\n",
       "      <th>0</th>\n",
       "      <td>2987000</td>\n",
       "      <td>2017-12-02 00:00:00</td>\n",
       "      <td>68.5</td>\n",
       "      <td>1</td>\n",
       "      <td>13926</td>\n",
       "      <td>-999.0</td>\n",
       "      <td>150.0</td>\n",
       "      <td>1</td>\n",
       "      <td>142.0</td>\n",
       "      <td>1</td>\n",
       "      <td>...</td>\n",
       "      <td>41</td>\n",
       "      <td>11</td>\n",
       "      <td>-999.0</td>\n",
       "      <td>-999</td>\n",
       "      <td>-999</td>\n",
       "      <td>-999</td>\n",
       "      <td>-999</td>\n",
       "      <td>999</td>\n",
       "      <td>2017-12-02</td>\n",
       "      <td>00:00:00</td>\n",
       "    </tr>\n",
       "    <tr>\n",
       "      <th>1</th>\n",
       "      <td>2987001</td>\n",
       "      <td>2017-12-02 00:00:01</td>\n",
       "      <td>29.0</td>\n",
       "      <td>1</td>\n",
       "      <td>2755</td>\n",
       "      <td>404.0</td>\n",
       "      <td>150.0</td>\n",
       "      <td>2</td>\n",
       "      <td>102.0</td>\n",
       "      <td>1</td>\n",
       "      <td>...</td>\n",
       "      <td>41</td>\n",
       "      <td>11</td>\n",
       "      <td>-999.0</td>\n",
       "      <td>-999</td>\n",
       "      <td>-999</td>\n",
       "      <td>-999</td>\n",
       "      <td>-999</td>\n",
       "      <td>999</td>\n",
       "      <td>2017-12-02</td>\n",
       "      <td>00:00:01</td>\n",
       "    </tr>\n",
       "    <tr>\n",
       "      <th>2</th>\n",
       "      <td>2987002</td>\n",
       "      <td>2017-12-02 00:01:09</td>\n",
       "      <td>59.0</td>\n",
       "      <td>1</td>\n",
       "      <td>4663</td>\n",
       "      <td>490.0</td>\n",
       "      <td>150.0</td>\n",
       "      <td>3</td>\n",
       "      <td>166.0</td>\n",
       "      <td>2</td>\n",
       "      <td>...</td>\n",
       "      <td>41</td>\n",
       "      <td>11</td>\n",
       "      <td>-999.0</td>\n",
       "      <td>-999</td>\n",
       "      <td>-999</td>\n",
       "      <td>-999</td>\n",
       "      <td>-999</td>\n",
       "      <td>999</td>\n",
       "      <td>2017-12-02</td>\n",
       "      <td>00:01:09</td>\n",
       "    </tr>\n",
       "    <tr>\n",
       "      <th>3</th>\n",
       "      <td>2987003</td>\n",
       "      <td>2017-12-02 00:01:39</td>\n",
       "      <td>50.0</td>\n",
       "      <td>1</td>\n",
       "      <td>18132</td>\n",
       "      <td>567.0</td>\n",
       "      <td>150.0</td>\n",
       "      <td>2</td>\n",
       "      <td>117.0</td>\n",
       "      <td>2</td>\n",
       "      <td>...</td>\n",
       "      <td>41</td>\n",
       "      <td>11</td>\n",
       "      <td>-999.0</td>\n",
       "      <td>-999</td>\n",
       "      <td>-999</td>\n",
       "      <td>-999</td>\n",
       "      <td>-999</td>\n",
       "      <td>999</td>\n",
       "      <td>2017-12-02</td>\n",
       "      <td>00:01:39</td>\n",
       "    </tr>\n",
       "    <tr>\n",
       "      <th>4</th>\n",
       "      <td>2987004</td>\n",
       "      <td>2017-12-02 00:01:46</td>\n",
       "      <td>50.0</td>\n",
       "      <td>2</td>\n",
       "      <td>4497</td>\n",
       "      <td>514.0</td>\n",
       "      <td>150.0</td>\n",
       "      <td>2</td>\n",
       "      <td>102.0</td>\n",
       "      <td>1</td>\n",
       "      <td>...</td>\n",
       "      <td>7</td>\n",
       "      <td>124</td>\n",
       "      <td>32.0</td>\n",
       "      <td>1</td>\n",
       "      <td>0</td>\n",
       "      <td>1</td>\n",
       "      <td>1</td>\n",
       "      <td>2</td>\n",
       "      <td>2017-12-02</td>\n",
       "      <td>00:01:46</td>\n",
       "    </tr>\n",
       "  </tbody>\n",
       "</table>\n",
       "<p>5 rows × 413 columns</p>\n",
       "</div>"
      ],
      "text/plain": [
       "   TransactionID        TransactionDT  TransactionAmt  ProductCD  card1  \\\n",
       "0        2987000  2017-12-02 00:00:00            68.5          1  13926   \n",
       "1        2987001  2017-12-02 00:00:01            29.0          1   2755   \n",
       "2        2987002  2017-12-02 00:01:09            59.0          1   4663   \n",
       "3        2987003  2017-12-02 00:01:39            50.0          1  18132   \n",
       "4        2987004  2017-12-02 00:01:46            50.0          2   4497   \n",
       "\n",
       "   card2  card3  card4  card5  card6    ...     id_30  id_31  id_32  id_35  \\\n",
       "0 -999.0  150.0      1  142.0      1    ...        41     11 -999.0   -999   \n",
       "1  404.0  150.0      2  102.0      1    ...        41     11 -999.0   -999   \n",
       "2  490.0  150.0      3  166.0      2    ...        41     11 -999.0   -999   \n",
       "3  567.0  150.0      2  117.0      2    ...        41     11 -999.0   -999   \n",
       "4  514.0  150.0      2  102.0      1    ...         7    124   32.0      1   \n",
       "\n",
       "   id_36  id_37  id_38  DeviceType           0         1  \n",
       "0   -999   -999   -999         999  2017-12-02  00:00:00  \n",
       "1   -999   -999   -999         999  2017-12-02  00:00:01  \n",
       "2   -999   -999   -999         999  2017-12-02  00:01:09  \n",
       "3   -999   -999   -999         999  2017-12-02  00:01:39  \n",
       "4      0      1      1           2  2017-12-02  00:01:46  \n",
       "\n",
       "[5 rows x 413 columns]"
      ]
     },
     "execution_count": 76,
     "metadata": {},
     "output_type": "execute_result"
    }
   ],
   "source": [
    "train.head()"
   ]
  },
  {
   "cell_type": "code",
   "execution_count": 77,
   "metadata": {},
   "outputs": [],
   "source": [
    "train.rename(columns={0:'Date', 1: 'Time'}, inplace=True)"
   ]
  },
  {
   "cell_type": "code",
   "execution_count": 78,
   "metadata": {},
   "outputs": [
    {
     "data": {
      "text/html": [
       "<div>\n",
       "<style scoped>\n",
       "    .dataframe tbody tr th:only-of-type {\n",
       "        vertical-align: middle;\n",
       "    }\n",
       "\n",
       "    .dataframe tbody tr th {\n",
       "        vertical-align: top;\n",
       "    }\n",
       "\n",
       "    .dataframe thead th {\n",
       "        text-align: right;\n",
       "    }\n",
       "</style>\n",
       "<table border=\"1\" class=\"dataframe\">\n",
       "  <thead>\n",
       "    <tr style=\"text-align: right;\">\n",
       "      <th></th>\n",
       "      <th>TransactionID</th>\n",
       "      <th>TransactionDT</th>\n",
       "      <th>TransactionAmt</th>\n",
       "      <th>ProductCD</th>\n",
       "      <th>card1</th>\n",
       "      <th>card2</th>\n",
       "      <th>card3</th>\n",
       "      <th>card4</th>\n",
       "      <th>card5</th>\n",
       "      <th>card6</th>\n",
       "      <th>...</th>\n",
       "      <th>id_30</th>\n",
       "      <th>id_31</th>\n",
       "      <th>id_32</th>\n",
       "      <th>id_35</th>\n",
       "      <th>id_36</th>\n",
       "      <th>id_37</th>\n",
       "      <th>id_38</th>\n",
       "      <th>DeviceType</th>\n",
       "      <th>Date</th>\n",
       "      <th>Time</th>\n",
       "    </tr>\n",
       "  </thead>\n",
       "  <tbody>\n",
       "    <tr>\n",
       "      <th>0</th>\n",
       "      <td>2987000</td>\n",
       "      <td>2017-12-02 00:00:00</td>\n",
       "      <td>68.5</td>\n",
       "      <td>1</td>\n",
       "      <td>13926</td>\n",
       "      <td>-999.0</td>\n",
       "      <td>150.0</td>\n",
       "      <td>1</td>\n",
       "      <td>142.0</td>\n",
       "      <td>1</td>\n",
       "      <td>...</td>\n",
       "      <td>41</td>\n",
       "      <td>11</td>\n",
       "      <td>-999.0</td>\n",
       "      <td>-999</td>\n",
       "      <td>-999</td>\n",
       "      <td>-999</td>\n",
       "      <td>-999</td>\n",
       "      <td>999</td>\n",
       "      <td>2017-12-02</td>\n",
       "      <td>00:00:00</td>\n",
       "    </tr>\n",
       "    <tr>\n",
       "      <th>1</th>\n",
       "      <td>2987001</td>\n",
       "      <td>2017-12-02 00:00:01</td>\n",
       "      <td>29.0</td>\n",
       "      <td>1</td>\n",
       "      <td>2755</td>\n",
       "      <td>404.0</td>\n",
       "      <td>150.0</td>\n",
       "      <td>2</td>\n",
       "      <td>102.0</td>\n",
       "      <td>1</td>\n",
       "      <td>...</td>\n",
       "      <td>41</td>\n",
       "      <td>11</td>\n",
       "      <td>-999.0</td>\n",
       "      <td>-999</td>\n",
       "      <td>-999</td>\n",
       "      <td>-999</td>\n",
       "      <td>-999</td>\n",
       "      <td>999</td>\n",
       "      <td>2017-12-02</td>\n",
       "      <td>00:00:01</td>\n",
       "    </tr>\n",
       "    <tr>\n",
       "      <th>2</th>\n",
       "      <td>2987002</td>\n",
       "      <td>2017-12-02 00:01:09</td>\n",
       "      <td>59.0</td>\n",
       "      <td>1</td>\n",
       "      <td>4663</td>\n",
       "      <td>490.0</td>\n",
       "      <td>150.0</td>\n",
       "      <td>3</td>\n",
       "      <td>166.0</td>\n",
       "      <td>2</td>\n",
       "      <td>...</td>\n",
       "      <td>41</td>\n",
       "      <td>11</td>\n",
       "      <td>-999.0</td>\n",
       "      <td>-999</td>\n",
       "      <td>-999</td>\n",
       "      <td>-999</td>\n",
       "      <td>-999</td>\n",
       "      <td>999</td>\n",
       "      <td>2017-12-02</td>\n",
       "      <td>00:01:09</td>\n",
       "    </tr>\n",
       "    <tr>\n",
       "      <th>3</th>\n",
       "      <td>2987003</td>\n",
       "      <td>2017-12-02 00:01:39</td>\n",
       "      <td>50.0</td>\n",
       "      <td>1</td>\n",
       "      <td>18132</td>\n",
       "      <td>567.0</td>\n",
       "      <td>150.0</td>\n",
       "      <td>2</td>\n",
       "      <td>117.0</td>\n",
       "      <td>2</td>\n",
       "      <td>...</td>\n",
       "      <td>41</td>\n",
       "      <td>11</td>\n",
       "      <td>-999.0</td>\n",
       "      <td>-999</td>\n",
       "      <td>-999</td>\n",
       "      <td>-999</td>\n",
       "      <td>-999</td>\n",
       "      <td>999</td>\n",
       "      <td>2017-12-02</td>\n",
       "      <td>00:01:39</td>\n",
       "    </tr>\n",
       "    <tr>\n",
       "      <th>4</th>\n",
       "      <td>2987004</td>\n",
       "      <td>2017-12-02 00:01:46</td>\n",
       "      <td>50.0</td>\n",
       "      <td>2</td>\n",
       "      <td>4497</td>\n",
       "      <td>514.0</td>\n",
       "      <td>150.0</td>\n",
       "      <td>2</td>\n",
       "      <td>102.0</td>\n",
       "      <td>1</td>\n",
       "      <td>...</td>\n",
       "      <td>7</td>\n",
       "      <td>124</td>\n",
       "      <td>32.0</td>\n",
       "      <td>1</td>\n",
       "      <td>0</td>\n",
       "      <td>1</td>\n",
       "      <td>1</td>\n",
       "      <td>2</td>\n",
       "      <td>2017-12-02</td>\n",
       "      <td>00:01:46</td>\n",
       "    </tr>\n",
       "  </tbody>\n",
       "</table>\n",
       "<p>5 rows × 413 columns</p>\n",
       "</div>"
      ],
      "text/plain": [
       "   TransactionID        TransactionDT  TransactionAmt  ProductCD  card1  \\\n",
       "0        2987000  2017-12-02 00:00:00            68.5          1  13926   \n",
       "1        2987001  2017-12-02 00:00:01            29.0          1   2755   \n",
       "2        2987002  2017-12-02 00:01:09            59.0          1   4663   \n",
       "3        2987003  2017-12-02 00:01:39            50.0          1  18132   \n",
       "4        2987004  2017-12-02 00:01:46            50.0          2   4497   \n",
       "\n",
       "   card2  card3  card4  card5  card6    ...     id_30  id_31  id_32  id_35  \\\n",
       "0 -999.0  150.0      1  142.0      1    ...        41     11 -999.0   -999   \n",
       "1  404.0  150.0      2  102.0      1    ...        41     11 -999.0   -999   \n",
       "2  490.0  150.0      3  166.0      2    ...        41     11 -999.0   -999   \n",
       "3  567.0  150.0      2  117.0      2    ...        41     11 -999.0   -999   \n",
       "4  514.0  150.0      2  102.0      1    ...         7    124   32.0      1   \n",
       "\n",
       "   id_36  id_37  id_38  DeviceType        Date      Time  \n",
       "0   -999   -999   -999         999  2017-12-02  00:00:00  \n",
       "1   -999   -999   -999         999  2017-12-02  00:00:01  \n",
       "2   -999   -999   -999         999  2017-12-02  00:01:09  \n",
       "3   -999   -999   -999         999  2017-12-02  00:01:39  \n",
       "4      0      1      1           2  2017-12-02  00:01:46  \n",
       "\n",
       "[5 rows x 413 columns]"
      ]
     },
     "execution_count": 78,
     "metadata": {},
     "output_type": "execute_result"
    }
   ],
   "source": [
    "train.head()"
   ]
  },
  {
   "cell_type": "code",
   "execution_count": 79,
   "metadata": {},
   "outputs": [],
   "source": [
    "train.drop(['TransactionDT'], inplace=True, axis=1)"
   ]
  },
  {
   "cell_type": "code",
   "execution_count": 80,
   "metadata": {},
   "outputs": [],
   "source": [
    "from pandas.tseries.holiday import USFederalHolidayCalendar as calendar\n",
    "\n",
    "Dates = train['Date']\n",
    "c = calendar()\n",
    "holidays = c.holidays(start=Dates.min(), end=Dates.max())\n",
    "train['isHoliday'] = train['Date'].apply(lambda x: 1 if x in holidays else 0)"
   ]
  },
  {
   "cell_type": "code",
   "execution_count": 81,
   "metadata": {},
   "outputs": [
    {
     "data": {
      "text/html": [
       "<div>\n",
       "<style scoped>\n",
       "    .dataframe tbody tr th:only-of-type {\n",
       "        vertical-align: middle;\n",
       "    }\n",
       "\n",
       "    .dataframe tbody tr th {\n",
       "        vertical-align: top;\n",
       "    }\n",
       "\n",
       "    .dataframe thead th {\n",
       "        text-align: right;\n",
       "    }\n",
       "</style>\n",
       "<table border=\"1\" class=\"dataframe\">\n",
       "  <thead>\n",
       "    <tr style=\"text-align: right;\">\n",
       "      <th></th>\n",
       "      <th>TransactionID</th>\n",
       "      <th>TransactionAmt</th>\n",
       "      <th>ProductCD</th>\n",
       "      <th>card1</th>\n",
       "      <th>card2</th>\n",
       "      <th>card3</th>\n",
       "      <th>card4</th>\n",
       "      <th>card5</th>\n",
       "      <th>card6</th>\n",
       "      <th>addr1</th>\n",
       "      <th>...</th>\n",
       "      <th>id_31</th>\n",
       "      <th>id_32</th>\n",
       "      <th>id_35</th>\n",
       "      <th>id_36</th>\n",
       "      <th>id_37</th>\n",
       "      <th>id_38</th>\n",
       "      <th>DeviceType</th>\n",
       "      <th>Date</th>\n",
       "      <th>Time</th>\n",
       "      <th>isHoliday</th>\n",
       "    </tr>\n",
       "  </thead>\n",
       "  <tbody>\n",
       "    <tr>\n",
       "      <th>0</th>\n",
       "      <td>2987000</td>\n",
       "      <td>68.5</td>\n",
       "      <td>1</td>\n",
       "      <td>13926</td>\n",
       "      <td>-999.0</td>\n",
       "      <td>150.0</td>\n",
       "      <td>1</td>\n",
       "      <td>142.0</td>\n",
       "      <td>1</td>\n",
       "      <td>315.0</td>\n",
       "      <td>...</td>\n",
       "      <td>11</td>\n",
       "      <td>-999.0</td>\n",
       "      <td>-999</td>\n",
       "      <td>-999</td>\n",
       "      <td>-999</td>\n",
       "      <td>-999</td>\n",
       "      <td>999</td>\n",
       "      <td>2017-12-02</td>\n",
       "      <td>00:00:00</td>\n",
       "      <td>0</td>\n",
       "    </tr>\n",
       "    <tr>\n",
       "      <th>1</th>\n",
       "      <td>2987001</td>\n",
       "      <td>29.0</td>\n",
       "      <td>1</td>\n",
       "      <td>2755</td>\n",
       "      <td>404.0</td>\n",
       "      <td>150.0</td>\n",
       "      <td>2</td>\n",
       "      <td>102.0</td>\n",
       "      <td>1</td>\n",
       "      <td>325.0</td>\n",
       "      <td>...</td>\n",
       "      <td>11</td>\n",
       "      <td>-999.0</td>\n",
       "      <td>-999</td>\n",
       "      <td>-999</td>\n",
       "      <td>-999</td>\n",
       "      <td>-999</td>\n",
       "      <td>999</td>\n",
       "      <td>2017-12-02</td>\n",
       "      <td>00:00:01</td>\n",
       "      <td>0</td>\n",
       "    </tr>\n",
       "    <tr>\n",
       "      <th>2</th>\n",
       "      <td>2987002</td>\n",
       "      <td>59.0</td>\n",
       "      <td>1</td>\n",
       "      <td>4663</td>\n",
       "      <td>490.0</td>\n",
       "      <td>150.0</td>\n",
       "      <td>3</td>\n",
       "      <td>166.0</td>\n",
       "      <td>2</td>\n",
       "      <td>330.0</td>\n",
       "      <td>...</td>\n",
       "      <td>11</td>\n",
       "      <td>-999.0</td>\n",
       "      <td>-999</td>\n",
       "      <td>-999</td>\n",
       "      <td>-999</td>\n",
       "      <td>-999</td>\n",
       "      <td>999</td>\n",
       "      <td>2017-12-02</td>\n",
       "      <td>00:01:09</td>\n",
       "      <td>0</td>\n",
       "    </tr>\n",
       "    <tr>\n",
       "      <th>3</th>\n",
       "      <td>2987003</td>\n",
       "      <td>50.0</td>\n",
       "      <td>1</td>\n",
       "      <td>18132</td>\n",
       "      <td>567.0</td>\n",
       "      <td>150.0</td>\n",
       "      <td>2</td>\n",
       "      <td>117.0</td>\n",
       "      <td>2</td>\n",
       "      <td>476.0</td>\n",
       "      <td>...</td>\n",
       "      <td>11</td>\n",
       "      <td>-999.0</td>\n",
       "      <td>-999</td>\n",
       "      <td>-999</td>\n",
       "      <td>-999</td>\n",
       "      <td>-999</td>\n",
       "      <td>999</td>\n",
       "      <td>2017-12-02</td>\n",
       "      <td>00:01:39</td>\n",
       "      <td>0</td>\n",
       "    </tr>\n",
       "    <tr>\n",
       "      <th>4</th>\n",
       "      <td>2987004</td>\n",
       "      <td>50.0</td>\n",
       "      <td>2</td>\n",
       "      <td>4497</td>\n",
       "      <td>514.0</td>\n",
       "      <td>150.0</td>\n",
       "      <td>2</td>\n",
       "      <td>102.0</td>\n",
       "      <td>1</td>\n",
       "      <td>420.0</td>\n",
       "      <td>...</td>\n",
       "      <td>124</td>\n",
       "      <td>32.0</td>\n",
       "      <td>1</td>\n",
       "      <td>0</td>\n",
       "      <td>1</td>\n",
       "      <td>1</td>\n",
       "      <td>2</td>\n",
       "      <td>2017-12-02</td>\n",
       "      <td>00:01:46</td>\n",
       "      <td>0</td>\n",
       "    </tr>\n",
       "  </tbody>\n",
       "</table>\n",
       "<p>5 rows × 413 columns</p>\n",
       "</div>"
      ],
      "text/plain": [
       "   TransactionID  TransactionAmt  ProductCD  card1  card2  card3  card4  \\\n",
       "0        2987000            68.5          1  13926 -999.0  150.0      1   \n",
       "1        2987001            29.0          1   2755  404.0  150.0      2   \n",
       "2        2987002            59.0          1   4663  490.0  150.0      3   \n",
       "3        2987003            50.0          1  18132  567.0  150.0      2   \n",
       "4        2987004            50.0          2   4497  514.0  150.0      2   \n",
       "\n",
       "   card5  card6  addr1    ...      id_31  id_32  id_35  id_36  id_37  id_38  \\\n",
       "0  142.0      1  315.0    ...         11 -999.0   -999   -999   -999   -999   \n",
       "1  102.0      1  325.0    ...         11 -999.0   -999   -999   -999   -999   \n",
       "2  166.0      2  330.0    ...         11 -999.0   -999   -999   -999   -999   \n",
       "3  117.0      2  476.0    ...         11 -999.0   -999   -999   -999   -999   \n",
       "4  102.0      1  420.0    ...        124   32.0      1      0      1      1   \n",
       "\n",
       "   DeviceType        Date      Time  isHoliday  \n",
       "0         999  2017-12-02  00:00:00          0  \n",
       "1         999  2017-12-02  00:00:01          0  \n",
       "2         999  2017-12-02  00:01:09          0  \n",
       "3         999  2017-12-02  00:01:39          0  \n",
       "4           2  2017-12-02  00:01:46          0  \n",
       "\n",
       "[5 rows x 413 columns]"
      ]
     },
     "execution_count": 81,
     "metadata": {},
     "output_type": "execute_result"
    }
   ],
   "source": [
    "train.head()"
   ]
  },
  {
   "cell_type": "code",
   "execution_count": 82,
   "metadata": {},
   "outputs": [
    {
     "data": {
      "text/plain": [
       "0    97.355133\n",
       "1     2.644867\n",
       "Name: isHoliday, dtype: float64"
      ]
     },
     "execution_count": 82,
     "metadata": {},
     "output_type": "execute_result"
    }
   ],
   "source": [
    "train['isHoliday'].value_counts(normalize=True)*100"
   ]
  },
  {
   "cell_type": "code",
   "execution_count": 83,
   "metadata": {},
   "outputs": [],
   "source": [
    "TransactionID = train['TransactionID']\n",
    "train.drop(['TransactionID', 'Date', 'Time'], inplace = True, axis = 1)"
   ]
  },
  {
   "cell_type": "code",
   "execution_count": 84,
   "metadata": {},
   "outputs": [
    {
     "data": {
      "text/html": [
       "<div>\n",
       "<style scoped>\n",
       "    .dataframe tbody tr th:only-of-type {\n",
       "        vertical-align: middle;\n",
       "    }\n",
       "\n",
       "    .dataframe tbody tr th {\n",
       "        vertical-align: top;\n",
       "    }\n",
       "\n",
       "    .dataframe thead th {\n",
       "        text-align: right;\n",
       "    }\n",
       "</style>\n",
       "<table border=\"1\" class=\"dataframe\">\n",
       "  <thead>\n",
       "    <tr style=\"text-align: right;\">\n",
       "      <th></th>\n",
       "      <th>TransactionAmt</th>\n",
       "      <th>ProductCD</th>\n",
       "      <th>card1</th>\n",
       "      <th>card2</th>\n",
       "      <th>card3</th>\n",
       "      <th>card4</th>\n",
       "      <th>card5</th>\n",
       "      <th>card6</th>\n",
       "      <th>addr1</th>\n",
       "      <th>addr2</th>\n",
       "      <th>...</th>\n",
       "      <th>id_29</th>\n",
       "      <th>id_30</th>\n",
       "      <th>id_31</th>\n",
       "      <th>id_32</th>\n",
       "      <th>id_35</th>\n",
       "      <th>id_36</th>\n",
       "      <th>id_37</th>\n",
       "      <th>id_38</th>\n",
       "      <th>DeviceType</th>\n",
       "      <th>isHoliday</th>\n",
       "    </tr>\n",
       "  </thead>\n",
       "  <tbody>\n",
       "    <tr>\n",
       "      <th>0</th>\n",
       "      <td>68.5</td>\n",
       "      <td>1</td>\n",
       "      <td>13926</td>\n",
       "      <td>-999.0</td>\n",
       "      <td>150.0</td>\n",
       "      <td>1</td>\n",
       "      <td>142.0</td>\n",
       "      <td>1</td>\n",
       "      <td>315.0</td>\n",
       "      <td>87.0</td>\n",
       "      <td>...</td>\n",
       "      <td>-999</td>\n",
       "      <td>41</td>\n",
       "      <td>11</td>\n",
       "      <td>-999.0</td>\n",
       "      <td>-999</td>\n",
       "      <td>-999</td>\n",
       "      <td>-999</td>\n",
       "      <td>-999</td>\n",
       "      <td>999</td>\n",
       "      <td>0</td>\n",
       "    </tr>\n",
       "    <tr>\n",
       "      <th>1</th>\n",
       "      <td>29.0</td>\n",
       "      <td>1</td>\n",
       "      <td>2755</td>\n",
       "      <td>404.0</td>\n",
       "      <td>150.0</td>\n",
       "      <td>2</td>\n",
       "      <td>102.0</td>\n",
       "      <td>1</td>\n",
       "      <td>325.0</td>\n",
       "      <td>87.0</td>\n",
       "      <td>...</td>\n",
       "      <td>-999</td>\n",
       "      <td>41</td>\n",
       "      <td>11</td>\n",
       "      <td>-999.0</td>\n",
       "      <td>-999</td>\n",
       "      <td>-999</td>\n",
       "      <td>-999</td>\n",
       "      <td>-999</td>\n",
       "      <td>999</td>\n",
       "      <td>0</td>\n",
       "    </tr>\n",
       "    <tr>\n",
       "      <th>2</th>\n",
       "      <td>59.0</td>\n",
       "      <td>1</td>\n",
       "      <td>4663</td>\n",
       "      <td>490.0</td>\n",
       "      <td>150.0</td>\n",
       "      <td>3</td>\n",
       "      <td>166.0</td>\n",
       "      <td>2</td>\n",
       "      <td>330.0</td>\n",
       "      <td>87.0</td>\n",
       "      <td>...</td>\n",
       "      <td>-999</td>\n",
       "      <td>41</td>\n",
       "      <td>11</td>\n",
       "      <td>-999.0</td>\n",
       "      <td>-999</td>\n",
       "      <td>-999</td>\n",
       "      <td>-999</td>\n",
       "      <td>-999</td>\n",
       "      <td>999</td>\n",
       "      <td>0</td>\n",
       "    </tr>\n",
       "    <tr>\n",
       "      <th>3</th>\n",
       "      <td>50.0</td>\n",
       "      <td>1</td>\n",
       "      <td>18132</td>\n",
       "      <td>567.0</td>\n",
       "      <td>150.0</td>\n",
       "      <td>2</td>\n",
       "      <td>117.0</td>\n",
       "      <td>2</td>\n",
       "      <td>476.0</td>\n",
       "      <td>87.0</td>\n",
       "      <td>...</td>\n",
       "      <td>-999</td>\n",
       "      <td>41</td>\n",
       "      <td>11</td>\n",
       "      <td>-999.0</td>\n",
       "      <td>-999</td>\n",
       "      <td>-999</td>\n",
       "      <td>-999</td>\n",
       "      <td>-999</td>\n",
       "      <td>999</td>\n",
       "      <td>0</td>\n",
       "    </tr>\n",
       "    <tr>\n",
       "      <th>4</th>\n",
       "      <td>50.0</td>\n",
       "      <td>2</td>\n",
       "      <td>4497</td>\n",
       "      <td>514.0</td>\n",
       "      <td>150.0</td>\n",
       "      <td>2</td>\n",
       "      <td>102.0</td>\n",
       "      <td>1</td>\n",
       "      <td>420.0</td>\n",
       "      <td>87.0</td>\n",
       "      <td>...</td>\n",
       "      <td>0</td>\n",
       "      <td>7</td>\n",
       "      <td>124</td>\n",
       "      <td>32.0</td>\n",
       "      <td>1</td>\n",
       "      <td>0</td>\n",
       "      <td>1</td>\n",
       "      <td>1</td>\n",
       "      <td>2</td>\n",
       "      <td>0</td>\n",
       "    </tr>\n",
       "  </tbody>\n",
       "</table>\n",
       "<p>5 rows × 410 columns</p>\n",
       "</div>"
      ],
      "text/plain": [
       "   TransactionAmt  ProductCD  card1  card2  card3  card4  card5  card6  addr1  \\\n",
       "0            68.5          1  13926 -999.0  150.0      1  142.0      1  315.0   \n",
       "1            29.0          1   2755  404.0  150.0      2  102.0      1  325.0   \n",
       "2            59.0          1   4663  490.0  150.0      3  166.0      2  330.0   \n",
       "3            50.0          1  18132  567.0  150.0      2  117.0      2  476.0   \n",
       "4            50.0          2   4497  514.0  150.0      2  102.0      1  420.0   \n",
       "\n",
       "   addr2    ...      id_29  id_30  id_31  id_32  id_35  id_36  id_37  id_38  \\\n",
       "0   87.0    ...       -999     41     11 -999.0   -999   -999   -999   -999   \n",
       "1   87.0    ...       -999     41     11 -999.0   -999   -999   -999   -999   \n",
       "2   87.0    ...       -999     41     11 -999.0   -999   -999   -999   -999   \n",
       "3   87.0    ...       -999     41     11 -999.0   -999   -999   -999   -999   \n",
       "4   87.0    ...          0      7    124   32.0      1      0      1      1   \n",
       "\n",
       "   DeviceType  isHoliday  \n",
       "0         999          0  \n",
       "1         999          0  \n",
       "2         999          0  \n",
       "3         999          0  \n",
       "4           2          0  \n",
       "\n",
       "[5 rows x 410 columns]"
      ]
     },
     "execution_count": 84,
     "metadata": {},
     "output_type": "execute_result"
    }
   ],
   "source": [
    "train.head()"
   ]
  },
  {
   "cell_type": "code",
   "execution_count": 85,
   "metadata": {},
   "outputs": [
    {
     "name": "stdout",
     "output_type": "stream",
     "text": [
      "TransactionAmt 0\n",
      "ProductCD 0\n",
      "card1 0\n",
      "card2 0\n",
      "card3 0\n",
      "card4 0\n",
      "card5 0\n",
      "card6 0\n",
      "addr1 0\n",
      "addr2 0\n",
      "dist1 0\n",
      "dist2 0\n",
      "P_emaildomain 0\n",
      "R_emaildomain 0\n",
      "C1 0\n",
      "C2 0\n",
      "C3 0\n",
      "C4 0\n",
      "C5 0\n",
      "C6 0\n",
      "C7 0\n",
      "C8 0\n",
      "C9 0\n",
      "C10 0\n",
      "C11 0\n",
      "C12 0\n",
      "C13 0\n",
      "C14 0\n",
      "D1 0\n",
      "D2 0\n",
      "D3 0\n",
      "D4 0\n",
      "D5 0\n",
      "D6 0\n",
      "D7 0\n",
      "D8 0\n",
      "D9 0\n",
      "D10 0\n",
      "D11 0\n",
      "D12 0\n",
      "D13 0\n",
      "D14 0\n",
      "D15 0\n",
      "M1 0\n",
      "M2 0\n",
      "M3 0\n",
      "M4 0\n",
      "M5 0\n",
      "M6 0\n",
      "M7 0\n",
      "M8 0\n",
      "M9 0\n",
      "V1 0\n",
      "V2 0\n",
      "V3 0\n",
      "V4 0\n",
      "V5 0\n",
      "V6 0\n",
      "V7 0\n",
      "V8 0\n",
      "V9 0\n",
      "V10 0\n",
      "V11 0\n",
      "V12 0\n",
      "V13 0\n",
      "V14 0\n",
      "V15 0\n",
      "V16 0\n",
      "V17 0\n",
      "V18 0\n",
      "V19 0\n",
      "V20 0\n",
      "V21 0\n",
      "V22 0\n",
      "V23 0\n",
      "V24 0\n",
      "V25 0\n",
      "V26 0\n",
      "V27 0\n",
      "V28 0\n",
      "V29 0\n",
      "V30 0\n",
      "V31 0\n",
      "V32 0\n",
      "V33 0\n",
      "V34 0\n",
      "V35 0\n",
      "V36 0\n",
      "V37 0\n",
      "V38 0\n",
      "V39 0\n",
      "V40 0\n",
      "V41 0\n",
      "V42 0\n",
      "V43 0\n",
      "V44 0\n",
      "V45 0\n",
      "V46 0\n",
      "V47 0\n",
      "V48 0\n",
      "V49 0\n",
      "V50 0\n",
      "V51 0\n",
      "V52 0\n",
      "V53 0\n",
      "V54 0\n",
      "V55 0\n",
      "V56 0\n",
      "V57 0\n",
      "V58 0\n",
      "V59 0\n",
      "V60 0\n",
      "V61 0\n",
      "V62 0\n",
      "V63 0\n",
      "V64 0\n",
      "V65 0\n",
      "V66 0\n",
      "V67 0\n",
      "V68 0\n",
      "V69 0\n",
      "V70 0\n",
      "V71 0\n",
      "V72 0\n",
      "V73 0\n",
      "V74 0\n",
      "V75 0\n",
      "V76 0\n",
      "V77 0\n",
      "V78 0\n",
      "V79 0\n",
      "V80 0\n",
      "V81 0\n",
      "V82 0\n",
      "V83 0\n",
      "V84 0\n",
      "V85 0\n",
      "V86 0\n",
      "V87 0\n",
      "V88 0\n",
      "V89 0\n",
      "V90 0\n",
      "V91 0\n",
      "V92 0\n",
      "V93 0\n",
      "V94 0\n",
      "V95 0\n",
      "V96 0\n",
      "V97 0\n",
      "V98 0\n",
      "V99 0\n",
      "V100 0\n",
      "V101 0\n",
      "V102 0\n",
      "V103 0\n",
      "V104 0\n",
      "V105 0\n",
      "V106 0\n",
      "V107 0\n",
      "V108 0\n",
      "V109 0\n",
      "V110 0\n",
      "V111 0\n",
      "V112 0\n",
      "V113 0\n",
      "V114 0\n",
      "V115 0\n",
      "V116 0\n",
      "V117 0\n",
      "V118 0\n",
      "V119 0\n",
      "V120 0\n",
      "V121 0\n",
      "V122 0\n",
      "V123 0\n",
      "V124 0\n",
      "V125 0\n",
      "V126 0\n",
      "V127 0\n",
      "V128 0\n",
      "V129 0\n",
      "V130 0\n",
      "V131 0\n",
      "V132 0\n",
      "V133 0\n",
      "V134 0\n",
      "V135 0\n",
      "V136 0\n",
      "V137 0\n",
      "V138 0\n",
      "V139 0\n",
      "V140 0\n",
      "V141 0\n",
      "V142 0\n",
      "V143 0\n",
      "V144 0\n",
      "V145 0\n",
      "V146 0\n",
      "V147 0\n",
      "V148 0\n",
      "V149 0\n",
      "V150 0\n",
      "V151 0\n",
      "V152 0\n",
      "V153 0\n",
      "V154 0\n",
      "V155 0\n",
      "V156 0\n",
      "V157 0\n",
      "V158 0\n",
      "V159 0\n",
      "V160 0\n",
      "V161 0\n",
      "V162 0\n",
      "V163 0\n",
      "V164 0\n",
      "V165 0\n",
      "V166 0\n",
      "V167 0\n",
      "V168 0\n",
      "V169 0\n",
      "V170 0\n",
      "V171 0\n",
      "V172 0\n",
      "V173 0\n",
      "V174 0\n",
      "V175 0\n",
      "V176 0\n",
      "V177 0\n",
      "V178 0\n",
      "V179 0\n",
      "V180 0\n",
      "V181 0\n",
      "V182 0\n",
      "V183 0\n",
      "V184 0\n",
      "V185 0\n",
      "V186 0\n",
      "V187 0\n",
      "V188 0\n",
      "V189 0\n",
      "V190 0\n",
      "V191 0\n",
      "V192 0\n",
      "V193 0\n",
      "V194 0\n",
      "V195 0\n",
      "V196 0\n",
      "V197 0\n",
      "V198 0\n",
      "V199 0\n",
      "V200 0\n",
      "V201 0\n",
      "V202 0\n",
      "V203 0\n",
      "V204 0\n",
      "V205 0\n",
      "V206 0\n",
      "V207 0\n",
      "V208 0\n",
      "V209 0\n",
      "V210 0\n",
      "V211 0\n",
      "V212 0\n",
      "V213 0\n",
      "V214 0\n",
      "V215 0\n",
      "V216 0\n",
      "V217 0\n",
      "V218 0\n",
      "V219 0\n",
      "V220 0\n",
      "V221 0\n",
      "V222 0\n",
      "V223 0\n",
      "V224 0\n",
      "V225 0\n",
      "V226 0\n",
      "V227 0\n",
      "V228 0\n",
      "V229 0\n",
      "V230 0\n",
      "V231 0\n",
      "V232 0\n",
      "V233 0\n",
      "V234 0\n",
      "V235 0\n",
      "V236 0\n",
      "V237 0\n",
      "V238 0\n",
      "V239 0\n",
      "V240 0\n",
      "V241 0\n",
      "V242 0\n",
      "V243 0\n",
      "V244 0\n",
      "V245 0\n",
      "V246 0\n",
      "V247 0\n",
      "V248 0\n",
      "V249 0\n",
      "V250 0\n",
      "V251 0\n",
      "V252 0\n",
      "V253 0\n",
      "V254 0\n",
      "V255 0\n",
      "V256 0\n",
      "V257 0\n",
      "V258 0\n",
      "V259 0\n",
      "V260 0\n",
      "V261 0\n",
      "V262 0\n",
      "V263 0\n",
      "V264 0\n",
      "V265 0\n",
      "V266 0\n",
      "V267 0\n",
      "V268 0\n",
      "V269 0\n",
      "V270 0\n",
      "V271 0\n",
      "V272 0\n",
      "V273 0\n",
      "V274 0\n",
      "V275 0\n",
      "V276 0\n",
      "V277 0\n",
      "V278 0\n",
      "V279 0\n",
      "V280 0\n",
      "V281 0\n",
      "V282 0\n",
      "V283 0\n",
      "V284 0\n",
      "V285 0\n",
      "V286 0\n",
      "V287 0\n",
      "V288 0\n",
      "V289 0\n",
      "V290 0\n",
      "V291 0\n",
      "V292 0\n",
      "V293 0\n",
      "V294 0\n",
      "V295 0\n",
      "V296 0\n",
      "V297 0\n",
      "V298 0\n",
      "V299 0\n",
      "V300 0\n",
      "V301 0\n",
      "V302 0\n",
      "V303 0\n",
      "V304 0\n",
      "V305 0\n",
      "V306 0\n",
      "V307 0\n",
      "V308 0\n",
      "V309 0\n",
      "V310 0\n",
      "V311 0\n",
      "V312 0\n",
      "V313 0\n",
      "V314 0\n",
      "V315 0\n",
      "V316 0\n",
      "V317 0\n",
      "V318 0\n",
      "V319 0\n",
      "V320 0\n",
      "V321 0\n",
      "V322 0\n",
      "V323 0\n",
      "V324 0\n",
      "V325 0\n",
      "V326 0\n",
      "V327 0\n",
      "V328 0\n",
      "V329 0\n",
      "V330 0\n",
      "V331 0\n",
      "V332 0\n",
      "V333 0\n",
      "V334 0\n",
      "V335 0\n",
      "V336 0\n",
      "V337 0\n",
      "V338 0\n",
      "V339 0\n",
      "id_12 0\n",
      "id_13 0\n",
      "id_14 0\n",
      "id_15 0\n",
      "id_16 0\n",
      "id_17 0\n",
      "id_18 0\n",
      "id_19 0\n",
      "id_20 0\n",
      "id_29 0\n",
      "id_30 0\n",
      "id_31 0\n",
      "id_32 0\n",
      "id_35 0\n",
      "id_36 0\n",
      "id_37 0\n",
      "id_38 0\n",
      "DeviceType 0\n",
      "isHoliday 0\n"
     ]
    }
   ],
   "source": [
    "for col in train.columns:\n",
    "    print(col,train[col].isnull().sum())"
   ]
  },
  {
   "cell_type": "code",
   "execution_count": 86,
   "metadata": {},
   "outputs": [],
   "source": [
    "from sklearn.model_selection import train_test_split\n",
    "\n",
    "X_train,X_test,Y_train,Y_test=train_test_split(train,Fraud_list,test_size=0.3)\n"
   ]
  },
  {
   "cell_type": "code",
   "execution_count": 87,
   "metadata": {},
   "outputs": [],
   "source": [
    "from sklearn.preprocessing import StandardScaler\n",
    "\n",
    "sc = StandardScaler()\n",
    "train_scaled = sc.fit_transform(train)"
   ]
  },
  {
   "cell_type": "code",
   "execution_count": 88,
   "metadata": {},
   "outputs": [],
   "source": [
    "from sklearn.model_selection import train_test_split\n",
    "X_train_s,X_test_s,Y_train,Y_test=train_test_split(train_scaled,Fraud_list,test_size=0.3)"
   ]
  },
  {
   "cell_type": "code",
   "execution_count": 89,
   "metadata": {},
   "outputs": [
    {
     "data": {
      "text/plain": [
       "(413378, 410)"
      ]
     },
     "execution_count": 89,
     "metadata": {},
     "output_type": "execute_result"
    }
   ],
   "source": [
    "X_train_s.shape"
   ]
  },
  {
   "cell_type": "code",
   "execution_count": 90,
   "metadata": {},
   "outputs": [],
   "source": [
    "from sklearn.metrics import accuracy_score\n"
   ]
  },
  {
   "cell_type": "code",
   "execution_count": 91,
   "metadata": {},
   "outputs": [],
   "source": [
    "from sklearn.decomposition import PCA\n",
    "pca = PCA(n_components = 5)\n",
    "X_train_pca = pca.fit_transform(X_train_s)\n",
    "X_test_pca = pca.transform(X_test_s)"
   ]
  },
  {
   "cell_type": "code",
   "execution_count": 92,
   "metadata": {},
   "outputs": [
    {
     "data": {
      "text/plain": [
       "(413378, 5)"
      ]
     },
     "execution_count": 92,
     "metadata": {},
     "output_type": "execute_result"
    }
   ],
   "source": [
    "X_train_pca.shape"
   ]
  },
  {
   "cell_type": "code",
   "execution_count": 93,
   "metadata": {},
   "outputs": [],
   "source": [
    "#from sklearn.svm import SVC\n",
    "\n",
    "\n",
    "#svc_classifier = SVC(kernel='rbf', class_weight={0 : 96.6, 1 : 3.4}, probability = True, C=10, gamma = 'auto')\n",
    "#svc_classifier.fit(X_train_pca, Y_train)\n",
    "#y_pred = svc_classifier.predict(X_test_pca)"
   ]
  },
  {
   "cell_type": "code",
   "execution_count": 94,
   "metadata": {},
   "outputs": [],
   "source": [
    "from sklearn.tree import DecisionTreeClassifier"
   ]
  },
  {
   "cell_type": "code",
   "execution_count": 95,
   "metadata": {},
   "outputs": [],
   "source": [
    "classifier_DTree = DecisionTreeClassifier(criterion='entropy', class_weight={0:96.6, 1:3.4})\n",
    "classifier_DTree.fit(X_train, Y_train)\n",
    "y_pred = classifier_DTree.predict(X_test)"
   ]
  },
  {
   "cell_type": "code",
   "execution_count": 96,
   "metadata": {},
   "outputs": [
    {
     "name": "stdout",
     "output_type": "stream",
     "text": [
      "92.09254806335444\n"
     ]
    }
   ],
   "source": [
    "a = accuracy_score(y_pred, Y_test)\n",
    "print(a*100)"
   ]
  },
  {
   "cell_type": "code",
   "execution_count": 97,
   "metadata": {},
   "outputs": [
    {
     "name": "stderr",
     "output_type": "stream",
     "text": [
      "/Users/nilanjansahu/anaconda3/lib/python3.7/site-packages/sklearn/ensemble/weight_boosting.py:29: DeprecationWarning: numpy.core.umath_tests is an internal NumPy module and should not be imported. It will be removed in a future NumPy release.\n",
      "  from numpy.core.umath_tests import inner1d\n"
     ]
    }
   ],
   "source": [
    "from sklearn.ensemble import RandomForestClassifier"
   ]
  },
  {
   "cell_type": "code",
   "execution_count": 98,
   "metadata": {},
   "outputs": [],
   "source": [
    "classifier_RF = RandomForestClassifier(criterion='entropy')\n",
    "classifier_RF.fit(X_train, Y_train)\n",
    "y_pred = classifier_RF.predict(X_test)"
   ]
  },
  {
   "cell_type": "code",
   "execution_count": 99,
   "metadata": {},
   "outputs": [
    {
     "name": "stdout",
     "output_type": "stream",
     "text": [
      "96.42474119732223\n"
     ]
    }
   ],
   "source": [
    "a = accuracy_score(y_pred, Y_test)\n",
    "print(a*100)"
   ]
  },
  {
   "cell_type": "code",
   "execution_count": 100,
   "metadata": {},
   "outputs": [],
   "source": [
    "classifier_RF_pca = RandomForestClassifier(criterion='entropy')\n",
    "classifier_RF_pca.fit(X_train_pca, Y_train)\n",
    "y_pred = classifier_RF_pca.predict(X_test_pca)"
   ]
  },
  {
   "cell_type": "code",
   "execution_count": 101,
   "metadata": {},
   "outputs": [
    {
     "name": "stdout",
     "output_type": "stream",
     "text": [
      "96.92428398866574\n"
     ]
    }
   ],
   "source": [
    "a = accuracy_score(y_pred, Y_test)\n",
    "print(a*100)"
   ]
  },
  {
   "cell_type": "code",
   "execution_count": 102,
   "metadata": {},
   "outputs": [],
   "source": [
    "from sklearn.ensemble import AdaBoostClassifier"
   ]
  },
  {
   "cell_type": "code",
   "execution_count": 103,
   "metadata": {},
   "outputs": [
    {
     "name": "stderr",
     "output_type": "stream",
     "text": [
      "/Users/nilanjansahu/anaconda3/lib/python3.7/site-packages/sklearn/preprocessing/label.py:151: DeprecationWarning: The truth value of an empty array is ambiguous. Returning False, but in future this will result in an error. Use `array.size > 0` to check that an array is not empty.\n",
      "  if diff:\n"
     ]
    }
   ],
   "source": [
    "from xgboost import XGBClassifier\n",
    "classifier_XGB=XGBClassifier()\n",
    "classifier_XGB.fit(X_train,Y_train)\n",
    "\n",
    "y_pred=classifier_XGB.predict(X_test)"
   ]
  },
  {
   "cell_type": "code",
   "execution_count": 104,
   "metadata": {},
   "outputs": [
    {
     "name": "stdout",
     "output_type": "stream",
     "text": [
      "96.46255969113015\n"
     ]
    }
   ],
   "source": [
    "a = accuracy_score(y_pred, Y_test)\n",
    "print(a*100)"
   ]
  },
  {
   "cell_type": "code",
   "execution_count": 105,
   "metadata": {},
   "outputs": [
    {
     "name": "stderr",
     "output_type": "stream",
     "text": [
      "/Users/nilanjansahu/anaconda3/lib/python3.7/site-packages/sklearn/preprocessing/label.py:151: DeprecationWarning: The truth value of an empty array is ambiguous. Returning False, but in future this will result in an error. Use `array.size > 0` to check that an array is not empty.\n",
      "  if diff:\n"
     ]
    }
   ],
   "source": [
    "classifier_scaled=XGBClassifier()\n",
    "classifier_scaled.fit(X_train_s,Y_train)\n",
    "y_pred=classifier_scaled.predict(X_test_s)"
   ]
  },
  {
   "cell_type": "code",
   "execution_count": 106,
   "metadata": {},
   "outputs": [
    {
     "name": "stdout",
     "output_type": "stream",
     "text": [
      "97.34198078594733\n"
     ]
    }
   ],
   "source": [
    "a = accuracy_score(y_pred, Y_test)\n",
    "print(a*100)"
   ]
  },
  {
   "cell_type": "code",
   "execution_count": 107,
   "metadata": {},
   "outputs": [
    {
     "name": "stderr",
     "output_type": "stream",
     "text": [
      "/Users/nilanjansahu/anaconda3/lib/python3.7/site-packages/sklearn/preprocessing/label.py:151: DeprecationWarning: The truth value of an empty array is ambiguous. Returning False, but in future this will result in an error. Use `array.size > 0` to check that an array is not empty.\n",
      "  if diff:\n"
     ]
    }
   ],
   "source": [
    "classifier_XGB_pca=XGBClassifier()\n",
    "classifier_XGB_pca.fit(X_train_pca,Y_train)\n",
    "y_pred = classifier_XGB_pca.predict(X_test_pca)"
   ]
  },
  {
   "cell_type": "code",
   "execution_count": 108,
   "metadata": {},
   "outputs": [
    {
     "name": "stdout",
     "output_type": "stream",
     "text": [
      "96.79502376356103\n"
     ]
    }
   ],
   "source": [
    "a = accuracy_score(y_pred, Y_test)\n",
    "print(a*100)"
   ]
  },
  {
   "cell_type": "code",
   "execution_count": 109,
   "metadata": {},
   "outputs": [],
   "source": [
    "test['ProductCD']=test['ProductCD'].map({'W':1,'H':2,'C':3,'S':4,'R':5})"
   ]
  },
  {
   "cell_type": "code",
   "execution_count": 110,
   "metadata": {},
   "outputs": [],
   "source": [
    "test['card1'].fillna(-999,inplace=True)\n",
    "test['card2'].fillna(-999,inplace=True)\n",
    "test['card3'].fillna(-999,inplace=True)\n",
    "test['card5'].fillna(-999,inplace=True)"
   ]
  },
  {
   "cell_type": "code",
   "execution_count": 111,
   "metadata": {},
   "outputs": [],
   "source": [
    "test['card4'] = test['card4'].astype(str)\n",
    "test['card4'].replace('nan', np.nan, inplace=True)\n",
    "test['card4'].fillna(\"No Card\", inplace=True)\n",
    "types_of_card=[]\n",
    "for i in range(len(test['card4'])):\n",
    "    if(test.loc[i,'card4'] not in types_of_card):\n",
    "        types_of_card.append(test.loc[i,'card4'])\n",
    "test['card4']=test['card4'].map({'discover':1,'mastercard':2,'visa':3,'american express':4,'No Card':-999})"
   ]
  },
  {
   "cell_type": "code",
   "execution_count": 112,
   "metadata": {},
   "outputs": [
    {
     "data": {
      "text/plain": [
       "['debit', 'credit', 'No Card', 'charge card']"
      ]
     },
     "execution_count": 112,
     "metadata": {},
     "output_type": "execute_result"
    }
   ],
   "source": [
    "test['card6'] = test['card6'].astype(str)\n",
    "test['card6'].replace('nan', np.nan, inplace=True)\n",
    "test['card6'].fillna(\"No Card\",inplace=True)\n",
    "card_types=[]\n",
    "for i in range(len(test['card6'])):\n",
    "    if(test.loc[i,'card6'] not in card_types):\n",
    "        card_types.append(test.loc[i,'card6'])\n",
    "\n",
    "card_types"
   ]
  },
  {
   "cell_type": "code",
   "execution_count": 113,
   "metadata": {},
   "outputs": [],
   "source": [
    "test['card6']=test['card6'].map({'credit':1,'debit':2,'No Card':-999,'debit or credit':3,'charge card':4})"
   ]
  },
  {
   "cell_type": "code",
   "execution_count": 114,
   "metadata": {},
   "outputs": [],
   "source": [
    "test['addr1'].fillna(-999,inplace=True)\n",
    "test['addr2'].fillna(-999,inplace=True)\n",
    "test['dist1'].fillna(-999,inplace=True)\n",
    "test['dist2'].fillna(-999,inplace=True)"
   ]
  },
  {
   "cell_type": "code",
   "execution_count": 115,
   "metadata": {},
   "outputs": [],
   "source": [
    "from sklearn.preprocessing import Imputer\n",
    "imp = Imputer(missing_values='NaN', strategy = 'most_frequent', axis=0)\n",
    "imp = imp.fit(test.loc[:,'C1':'C4'])\n",
    "test.loc[:,'C1':'C4'] = imp.transform(test.loc[:,'C1':'C4'])"
   ]
  },
  {
   "cell_type": "code",
   "execution_count": 116,
   "metadata": {},
   "outputs": [],
   "source": [
    "imp=Imputer(missing_values='NaN',strategy='most_frequent',axis=0)\n",
    "imp=imp.fit(test.loc[:,'D1':'D15'])\n",
    "test.loc[:,'D1':'D15']=imp.transform(test.loc[:,'D1':'D15'])"
   ]
  },
  {
   "cell_type": "code",
   "execution_count": 117,
   "metadata": {},
   "outputs": [],
   "source": [
    "test['M1'] = test['M1'].astype(str)\n",
    "test['M1'].replace('nan', np.nan, inplace=True)\n",
    "test['M1'].fillna(\"No Type\",inplace=True)\n",
    "test['M2'] = test['M2'].astype(str)\n",
    "test['M2'].replace('nan', np.nan, inplace=True)\n",
    "test['M2'].fillna(\"No Type\",inplace=True)\n",
    "test['M3'] = test['M3'].astype(str)\n",
    "test['M3'].replace('nan', np.nan, inplace=True)\n",
    "test['M3'].fillna(\"No Type\",inplace=True)"
   ]
  },
  {
   "cell_type": "code",
   "execution_count": 118,
   "metadata": {},
   "outputs": [],
   "source": [
    "test['M5'] = test['M5'].astype(str)\n",
    "test['M5'].replace('nan', np.nan, inplace=True)\n",
    "test['M5'].fillna(\"No Type\",inplace=True)\n",
    "test['M6'] = test['M6'].astype(str)\n",
    "test['M6'].replace('nan', np.nan, inplace=True)\n",
    "test['M6'].fillna(\"No Type\",inplace=True)\n",
    "test['M7'] = test['M7'].astype(str)\n",
    "test['M7'].replace('nan', np.nan, inplace=True)\n",
    "test['M7'].fillna(\"No Type\",inplace=True)\n",
    "test['M8'] = test['M8'].astype(str)\n",
    "test['M8'].replace('nan', np.nan, inplace=True)\n",
    "test['M8'].fillna(\"No Type\",inplace=True)\n",
    "test['M9'] = test['M9'].astype(str)\n",
    "test['M9'].replace('nan', np.nan, inplace=True)\n",
    "test['M9'].fillna(\"No Type\",inplace=True)"
   ]
  },
  {
   "cell_type": "code",
   "execution_count": 119,
   "metadata": {},
   "outputs": [],
   "source": [
    "test['M1']=test['M1'].map({'T':1,'F':0,'No Type':-999})\n",
    "test['M2']=test['M2'].map({'T':1,'F':0,'No Type':-999})\n",
    "test['M3']=test['M3'].map({'T':1,'F':0,'No Type':-999})\n",
    "test['M5']=test['M5'].map({'T':1,'F':0,'No Type':-999})\n",
    "test['M6']=test['M6'].map({'T':1,'F':0,'No Type':-999})\n",
    "test['M7']=test['M7'].map({'T':1,'F':0,'No Type':-999})\n",
    "test['M8']=test['M8'].map({'T':1,'F':0,'No Type':-999})\n",
    "test['M9']=test['M9'].map({'T':1,'F':0,'No Type':-999})"
   ]
  },
  {
   "cell_type": "code",
   "execution_count": 120,
   "metadata": {},
   "outputs": [],
   "source": [
    "imp = Imputer(missing_values = 'NaN', strategy = 'most_frequent', axis = 0)\n",
    "test['P_emaildomain'] = test['P_emaildomain'].astype(str)\n",
    "test['R_emaildomain'] = test['R_emaildomain'].astype(str)\n",
    "test['P_emaildomain'].replace('nan', np.nan, inplace=True)\n",
    "test['R_emaildomain'].replace('nan', np.nan, inplace=True)\n",
    "test['P_emaildomain'].fillna('no_mail', inplace=True)\n",
    "test['R_emaildomain'].fillna('no_mail', inplace=True)"
   ]
  },
  {
   "cell_type": "code",
   "execution_count": 121,
   "metadata": {},
   "outputs": [],
   "source": [
    "from sklearn.preprocessing import LabelEncoder\n",
    "le = LabelEncoder()\n",
    "test.loc[:,'P_emaildomain'] = le.fit_transform(test.loc[:,'P_emaildomain'])"
   ]
  },
  {
   "cell_type": "code",
   "execution_count": 122,
   "metadata": {},
   "outputs": [],
   "source": [
    "le = LabelEncoder()\n",
    "test.loc[:,'R_emaildomain'] = le.fit_transform(test.loc[:,'R_emaildomain'])"
   ]
  },
  {
   "cell_type": "code",
   "execution_count": 123,
   "metadata": {},
   "outputs": [
    {
     "data": {
      "text/plain": [
       "['No Type', 'M0', 'M1', 'M2']"
      ]
     },
     "execution_count": 123,
     "metadata": {},
     "output_type": "execute_result"
    }
   ],
   "source": [
    "test['M4'] = test['M4'].astype(str)\n",
    "test['M4'].replace('nan', np.nan, inplace=True)\n",
    "test['M4'].fillna(\"No Type\",inplace=True)\n",
    "M4_list=[]\n",
    "for i in range(len(test['M4'])):\n",
    "    if(test.loc[i,'M4'] not in M4_list):\n",
    "        M4_list.append(test.loc[i,'M4'])\n",
    "M4_list"
   ]
  },
  {
   "cell_type": "code",
   "execution_count": 124,
   "metadata": {},
   "outputs": [],
   "source": [
    "test['M4']=test['M4'].map({'M0':0,'M1':1,'M2':2,'No Type':-999})"
   ]
  },
  {
   "cell_type": "code",
   "execution_count": 125,
   "metadata": {},
   "outputs": [],
   "source": [
    "for i in range(1,340):\n",
    "    test[str('V'+str(i))].replace('nan', np.nan, inplace=True)"
   ]
  },
  {
   "cell_type": "code",
   "execution_count": 126,
   "metadata": {},
   "outputs": [],
   "source": [
    "imp=Imputer(missing_values='NaN',strategy='most_frequent',axis=0)\n",
    "imp=imp.fit(test.loc[:,'V1':'V339'])\n",
    "test.loc[:,'V1':'V339']=imp.transform(test.loc[:,'V1':'V339'])"
   ]
  },
  {
   "cell_type": "code",
   "execution_count": 127,
   "metadata": {},
   "outputs": [],
   "source": [
    "test.drop(['id_01','id_02','id_03','id_04','id_05','id_06','id_07','id_08','id_09','id_10','id_11','DeviceInfo'], inplace=True, axis=1)"
   ]
  },
  {
   "cell_type": "code",
   "execution_count": 128,
   "metadata": {},
   "outputs": [],
   "source": [
    "test['id_12'] = test['id_12'].astype(str)\n",
    "test['id_12'].replace('nan', np.nan, inplace=True)\n",
    "test['id_12'].fillna(\"None\",inplace=True)\n",
    "test['id_12'] = test['id_12'].map({'Found' :1, 'NotFound': 0, 'None': -999})\n",
    "test['id_13'].fillna(-999,inplace=True)\n",
    "test['id_14'].fillna(-999,inplace=True)\n",
    "test['id_15'] = test['id_15'].astype(str)\n",
    "test['id_15'].replace('nan', np.nan, inplace = True)\n",
    "test['id_15'].fillna('None', inplace = True)\n",
    "test['id_15'] = test['id_15'].map({'Unknown':0, 'New':2, 'Found':1,'None':-999})\n",
    "test['id_16'] = test['id_16'].astype(str)\n",
    "test['id_16'].replace('nan', np.nan, inplace = True)\n",
    "test['id_16'].fillna('None', inplace = True)\n",
    "test['id_16'] = test['id_16'].map({'Found':1, 'NotFound':0 ,'None':-999})\n",
    "test['id_17'].fillna(-999,inplace=True)\n",
    "test['id_18'].fillna(-999,inplace=True)\n",
    "test['id_19'].fillna(-999,inplace=True)\n",
    "test['id_20'].fillna(-999,inplace=True)"
   ]
  },
  {
   "cell_type": "code",
   "execution_count": 129,
   "metadata": {},
   "outputs": [],
   "source": [
    "test.drop(['id_21','id_22','id_23','id_24','id_25','id_26','id_27','id_28'], inplace=True, axis=1)"
   ]
  },
  {
   "cell_type": "code",
   "execution_count": 130,
   "metadata": {},
   "outputs": [],
   "source": [
    "test['id_29'] = test['id_29'].astype(str)\n",
    "test['id_29'].replace('nan', np.nan, inplace=True)\n",
    "test['id_29'].fillna(\"None\",inplace=True)\n",
    "test['id_29'] = test['id_29'].map({'Found':1, 'NotFound':0,'None':-999})\n",
    "test['id_30'] = test['id_30'].astype(str)\n",
    "test['id_30'].replace('nan', np.nan, inplace=True)\n",
    "test['id_30'].fillna(\"None\",inplace=True)"
   ]
  },
  {
   "cell_type": "code",
   "execution_count": 133,
   "metadata": {},
   "outputs": [],
   "source": [
    "from sklearn.preprocessing import LabelEncoder\n",
    "\n",
    "le = LabelEncoder()\n",
    "test.loc[:,'id_30'] = le.fit_transform(test.loc[:,'id_30'])"
   ]
  },
  {
   "cell_type": "code",
   "execution_count": 135,
   "metadata": {},
   "outputs": [
    {
     "data": {
      "text/plain": [
       "370066"
      ]
     },
     "execution_count": 135,
     "metadata": {},
     "output_type": "execute_result"
    }
   ],
   "source": [
    "test['id_31'].isnull().sum()"
   ]
  },
  {
   "cell_type": "code",
   "execution_count": 140,
   "metadata": {},
   "outputs": [],
   "source": [
    "test['id_31'] = test['id_31'].astype(str)\n",
    "test['id_31'].replace('nan', np.nan, inplace=True)\n",
    "test['id_31'].fillna(\"None\",inplace=True)"
   ]
  },
  {
   "cell_type": "code",
   "execution_count": 142,
   "metadata": {},
   "outputs": [],
   "source": [
    "le1 = LabelEncoder()\n",
    "test.loc[:,'id_31'] = le1.fit_transform(test.loc[:,'id_31'])"
   ]
  },
  {
   "cell_type": "code",
   "execution_count": 143,
   "metadata": {},
   "outputs": [],
   "source": [
    "test['id_32'].fillna(-999,inplace=True)\n",
    "test.drop(['id_33'], axis =1, inplace =True)\n",
    "test.drop(['id_34'], axis=1, inplace=True)\n",
    "test['id_35'] = test['id_35'].astype(str)\n",
    "test['id_35'].replace('nan', np.nan, inplace=True)\n",
    "test['id_35'].fillna(\"None\",inplace=True)\n",
    "test['id_35'] = test['id_35'].map({'F':0, 'T':1,'None':-999})\n",
    "test['id_36'] = test['id_36'].astype(str)\n",
    "test['id_36'].replace('nan', np.nan, inplace=True)\n",
    "test['id_36'].fillna(\"None\",inplace=True)\n",
    "test['id_36'] = test['id_36'].map({'F':0, 'T':1,'None':-999})\n",
    "test['id_37'] = test['id_37'].astype(str)\n",
    "test['id_37'].replace('nan', np.nan, inplace=True)\n",
    "test['id_37'].fillna(\"None\",inplace=True)\n",
    "test['id_37'] = test['id_37'].map({'F':0, 'T':1,'None':-999})\n",
    "test['id_38'] = test['id_38'].astype(str)\n",
    "test['id_38'].replace('nan', np.nan, inplace=True)\n",
    "test['id_38'].fillna(\"None\",inplace=True)\n",
    "test['id_38'] = test['id_38'].map({'F':0, 'T':1,'None':-999})\n",
    "test['DeviceType'] = test['DeviceType'].astype(str)\n",
    "test['DeviceType'].replace('nan', np.nan, inplace=True)\n",
    "test['DeviceType'].fillna(\"None\",inplace=True)\n",
    "test['DeviceType'] = test['DeviceType'].map({'desktop':1,'mobile':2,'None':999})"
   ]
  },
  {
   "cell_type": "code",
   "execution_count": 144,
   "metadata": {},
   "outputs": [],
   "source": [
    "import datetime\n",
    "\n",
    "Start_Date = '2017-12-01'\n",
    "startdate = datetime.datetime.strptime(Start_Date, '%Y-%m-%d')\n",
    "test['TransactionDT'] = test['TransactionDT'].apply(lambda x : startdate + datetime.timedelta(seconds=x))\n",
    "test['TransactionDT'] = test['TransactionDT'].astype(str)\n",
    "test=test.join(test['TransactionDT'].str.split(expand=True))\n",
    "test.rename(columns={0:'Date', 1: 'Time'}, inplace=True)"
   ]
  },
  {
   "cell_type": "code",
   "execution_count": 166,
   "metadata": {},
   "outputs": [],
   "source": [
    "TransactionID = test['TransactionID']"
   ]
  },
  {
   "cell_type": "code",
   "execution_count": 167,
   "metadata": {},
   "outputs": [],
   "source": [
    "test.drop(['TransactionID', 'TransactionDT'], inplace = True, axis = 1)"
   ]
  },
  {
   "cell_type": "code",
   "execution_count": 146,
   "metadata": {},
   "outputs": [],
   "source": [
    "from pandas.tseries.holiday import USFederalHolidayCalendar as calendar\n",
    "\n",
    "Dates = test['Date']\n",
    "c = calendar()\n",
    "holidays = c.holidays(start=Dates.min(), end=Dates.max())\n",
    "test['isHoliday'] = test['Date'].apply(lambda x: 1 if x in holidays else 0)\n",
    "test['isHoliday'].value_counts(normalize=True)*100\n",
    "test.drop(['Date', 'Time'], inplace = True, axis = 1)"
   ]
  },
  {
   "cell_type": "code",
   "execution_count": 170,
   "metadata": {},
   "outputs": [
    {
     "data": {
      "text/html": [
       "<div>\n",
       "<style scoped>\n",
       "    .dataframe tbody tr th:only-of-type {\n",
       "        vertical-align: middle;\n",
       "    }\n",
       "\n",
       "    .dataframe tbody tr th {\n",
       "        vertical-align: top;\n",
       "    }\n",
       "\n",
       "    .dataframe thead th {\n",
       "        text-align: right;\n",
       "    }\n",
       "</style>\n",
       "<table border=\"1\" class=\"dataframe\">\n",
       "  <thead>\n",
       "    <tr style=\"text-align: right;\">\n",
       "      <th></th>\n",
       "      <th>TransactionAmt</th>\n",
       "      <th>ProductCD</th>\n",
       "      <th>card1</th>\n",
       "      <th>card2</th>\n",
       "      <th>card3</th>\n",
       "      <th>card4</th>\n",
       "      <th>card5</th>\n",
       "      <th>card6</th>\n",
       "      <th>addr1</th>\n",
       "      <th>addr2</th>\n",
       "      <th>...</th>\n",
       "      <th>id_29</th>\n",
       "      <th>id_30</th>\n",
       "      <th>id_31</th>\n",
       "      <th>id_32</th>\n",
       "      <th>id_35</th>\n",
       "      <th>id_36</th>\n",
       "      <th>id_37</th>\n",
       "      <th>id_38</th>\n",
       "      <th>DeviceType</th>\n",
       "      <th>isHoliday</th>\n",
       "    </tr>\n",
       "  </thead>\n",
       "  <tbody>\n",
       "    <tr>\n",
       "      <th>0</th>\n",
       "      <td>31.953125</td>\n",
       "      <td>1</td>\n",
       "      <td>10409</td>\n",
       "      <td>111.0</td>\n",
       "      <td>150.0</td>\n",
       "      <td>3</td>\n",
       "      <td>226.0</td>\n",
       "      <td>2</td>\n",
       "      <td>170.0</td>\n",
       "      <td>87.0</td>\n",
       "      <td>...</td>\n",
       "      <td>-999</td>\n",
       "      <td>47</td>\n",
       "      <td>0</td>\n",
       "      <td>-999.0</td>\n",
       "      <td>-999</td>\n",
       "      <td>-999</td>\n",
       "      <td>-999</td>\n",
       "      <td>-999</td>\n",
       "      <td>999</td>\n",
       "      <td>0</td>\n",
       "    </tr>\n",
       "    <tr>\n",
       "      <th>1</th>\n",
       "      <td>49.000000</td>\n",
       "      <td>1</td>\n",
       "      <td>4272</td>\n",
       "      <td>111.0</td>\n",
       "      <td>150.0</td>\n",
       "      <td>3</td>\n",
       "      <td>226.0</td>\n",
       "      <td>2</td>\n",
       "      <td>299.0</td>\n",
       "      <td>87.0</td>\n",
       "      <td>...</td>\n",
       "      <td>-999</td>\n",
       "      <td>47</td>\n",
       "      <td>0</td>\n",
       "      <td>-999.0</td>\n",
       "      <td>-999</td>\n",
       "      <td>-999</td>\n",
       "      <td>-999</td>\n",
       "      <td>-999</td>\n",
       "      <td>999</td>\n",
       "      <td>0</td>\n",
       "    </tr>\n",
       "    <tr>\n",
       "      <th>2</th>\n",
       "      <td>171.000000</td>\n",
       "      <td>1</td>\n",
       "      <td>4476</td>\n",
       "      <td>574.0</td>\n",
       "      <td>150.0</td>\n",
       "      <td>3</td>\n",
       "      <td>226.0</td>\n",
       "      <td>2</td>\n",
       "      <td>472.0</td>\n",
       "      <td>87.0</td>\n",
       "      <td>...</td>\n",
       "      <td>-999</td>\n",
       "      <td>47</td>\n",
       "      <td>0</td>\n",
       "      <td>-999.0</td>\n",
       "      <td>-999</td>\n",
       "      <td>-999</td>\n",
       "      <td>-999</td>\n",
       "      <td>-999</td>\n",
       "      <td>999</td>\n",
       "      <td>0</td>\n",
       "    </tr>\n",
       "    <tr>\n",
       "      <th>3</th>\n",
       "      <td>285.000000</td>\n",
       "      <td>1</td>\n",
       "      <td>10989</td>\n",
       "      <td>360.0</td>\n",
       "      <td>150.0</td>\n",
       "      <td>3</td>\n",
       "      <td>166.0</td>\n",
       "      <td>2</td>\n",
       "      <td>205.0</td>\n",
       "      <td>87.0</td>\n",
       "      <td>...</td>\n",
       "      <td>-999</td>\n",
       "      <td>47</td>\n",
       "      <td>0</td>\n",
       "      <td>-999.0</td>\n",
       "      <td>-999</td>\n",
       "      <td>-999</td>\n",
       "      <td>-999</td>\n",
       "      <td>-999</td>\n",
       "      <td>999</td>\n",
       "      <td>0</td>\n",
       "    </tr>\n",
       "    <tr>\n",
       "      <th>4</th>\n",
       "      <td>67.937500</td>\n",
       "      <td>1</td>\n",
       "      <td>18018</td>\n",
       "      <td>452.0</td>\n",
       "      <td>150.0</td>\n",
       "      <td>2</td>\n",
       "      <td>117.0</td>\n",
       "      <td>2</td>\n",
       "      <td>264.0</td>\n",
       "      <td>87.0</td>\n",
       "      <td>...</td>\n",
       "      <td>-999</td>\n",
       "      <td>47</td>\n",
       "      <td>0</td>\n",
       "      <td>-999.0</td>\n",
       "      <td>-999</td>\n",
       "      <td>-999</td>\n",
       "      <td>-999</td>\n",
       "      <td>-999</td>\n",
       "      <td>999</td>\n",
       "      <td>0</td>\n",
       "    </tr>\n",
       "  </tbody>\n",
       "</table>\n",
       "<p>5 rows × 410 columns</p>\n",
       "</div>"
      ],
      "text/plain": [
       "   TransactionAmt  ProductCD  card1  card2  card3  card4  card5  card6  addr1  \\\n",
       "0       31.953125          1  10409  111.0  150.0      3  226.0      2  170.0   \n",
       "1       49.000000          1   4272  111.0  150.0      3  226.0      2  299.0   \n",
       "2      171.000000          1   4476  574.0  150.0      3  226.0      2  472.0   \n",
       "3      285.000000          1  10989  360.0  150.0      3  166.0      2  205.0   \n",
       "4       67.937500          1  18018  452.0  150.0      2  117.0      2  264.0   \n",
       "\n",
       "   addr2    ...      id_29  id_30  id_31  id_32  id_35  id_36  id_37  id_38  \\\n",
       "0   87.0    ...       -999     47      0 -999.0   -999   -999   -999   -999   \n",
       "1   87.0    ...       -999     47      0 -999.0   -999   -999   -999   -999   \n",
       "2   87.0    ...       -999     47      0 -999.0   -999   -999   -999   -999   \n",
       "3   87.0    ...       -999     47      0 -999.0   -999   -999   -999   -999   \n",
       "4   87.0    ...       -999     47      0 -999.0   -999   -999   -999   -999   \n",
       "\n",
       "   DeviceType  isHoliday  \n",
       "0         999          0  \n",
       "1         999          0  \n",
       "2         999          0  \n",
       "3         999          0  \n",
       "4         999          0  \n",
       "\n",
       "[5 rows x 410 columns]"
      ]
     },
     "execution_count": 170,
     "metadata": {},
     "output_type": "execute_result"
    }
   ],
   "source": [
    "test.head()"
   ]
  },
  {
   "cell_type": "code",
   "execution_count": 152,
   "metadata": {},
   "outputs": [
    {
     "name": "stdout",
     "output_type": "stream",
     "text": [
      "TransactionDT 0\n",
      "TransactionAmt 0\n",
      "ProductCD 0\n",
      "card1 0\n",
      "card2 0\n",
      "card3 0\n",
      "card4 0\n",
      "card5 0\n",
      "card6 0\n",
      "addr1 0\n",
      "addr2 0\n",
      "dist1 0\n",
      "dist2 0\n",
      "P_emaildomain 0\n",
      "R_emaildomain 0\n",
      "C1 0\n",
      "C2 0\n",
      "C3 0\n",
      "C4 0\n",
      "C5 3\n",
      "C6 3\n",
      "C7 3\n",
      "C8 3\n",
      "C9 3\n",
      "C10 3\n",
      "C11 3\n",
      "C12 3\n",
      "C13 4748\n",
      "C14 3\n",
      "D1 0\n",
      "D2 0\n",
      "D3 0\n",
      "D4 0\n",
      "D5 0\n",
      "D6 0\n",
      "D7 0\n",
      "D8 0\n",
      "D9 0\n",
      "D10 0\n",
      "D11 0\n",
      "D12 0\n",
      "D13 0\n",
      "D14 0\n",
      "D15 0\n",
      "M1 0\n",
      "M2 0\n",
      "M3 0\n",
      "M4 0\n",
      "M5 0\n",
      "M6 0\n",
      "M7 0\n",
      "M8 0\n",
      "M9 0\n",
      "V1 0\n",
      "V2 0\n",
      "V3 0\n",
      "V4 0\n",
      "V5 0\n",
      "V6 0\n",
      "V7 0\n",
      "V8 0\n",
      "V9 0\n",
      "V10 0\n",
      "V11 0\n",
      "V12 0\n",
      "V13 0\n",
      "V14 0\n",
      "V15 0\n",
      "V16 0\n",
      "V17 0\n",
      "V18 0\n",
      "V19 0\n",
      "V20 0\n",
      "V21 0\n",
      "V22 0\n",
      "V23 0\n",
      "V24 0\n",
      "V25 0\n",
      "V26 0\n",
      "V27 0\n",
      "V28 0\n",
      "V29 0\n",
      "V30 0\n",
      "V31 0\n",
      "V32 0\n",
      "V33 0\n",
      "V34 0\n",
      "V35 0\n",
      "V36 0\n",
      "V37 0\n",
      "V38 0\n",
      "V39 0\n",
      "V40 0\n",
      "V41 0\n",
      "V42 0\n",
      "V43 0\n",
      "V44 0\n",
      "V45 0\n",
      "V46 0\n",
      "V47 0\n",
      "V48 0\n",
      "V49 0\n",
      "V50 0\n",
      "V51 0\n",
      "V52 0\n",
      "V53 0\n",
      "V54 0\n",
      "V55 0\n",
      "V56 0\n",
      "V57 0\n",
      "V58 0\n",
      "V59 0\n",
      "V60 0\n",
      "V61 0\n",
      "V62 0\n",
      "V63 0\n",
      "V64 0\n",
      "V65 0\n",
      "V66 0\n",
      "V67 0\n",
      "V68 0\n",
      "V69 0\n",
      "V70 0\n",
      "V71 0\n",
      "V72 0\n",
      "V73 0\n",
      "V74 0\n",
      "V75 0\n",
      "V76 0\n",
      "V77 0\n",
      "V78 0\n",
      "V79 0\n",
      "V80 0\n",
      "V81 0\n",
      "V82 0\n",
      "V83 0\n",
      "V84 0\n",
      "V85 0\n",
      "V86 0\n",
      "V87 0\n",
      "V88 0\n",
      "V89 0\n",
      "V90 0\n",
      "V91 0\n",
      "V92 0\n",
      "V93 0\n",
      "V94 0\n",
      "V95 0\n",
      "V96 0\n",
      "V97 0\n",
      "V98 0\n",
      "V99 0\n",
      "V100 0\n",
      "V101 0\n",
      "V102 0\n",
      "V103 0\n",
      "V104 0\n",
      "V105 0\n",
      "V106 0\n",
      "V107 0\n",
      "V108 0\n",
      "V109 0\n",
      "V110 0\n",
      "V111 0\n",
      "V112 0\n",
      "V113 0\n",
      "V114 0\n",
      "V115 0\n",
      "V116 0\n",
      "V117 0\n",
      "V118 0\n",
      "V119 0\n",
      "V120 0\n",
      "V121 0\n",
      "V122 0\n",
      "V123 0\n",
      "V124 0\n",
      "V125 0\n",
      "V126 0\n",
      "V127 0\n",
      "V128 0\n",
      "V129 0\n",
      "V130 0\n",
      "V131 0\n",
      "V132 0\n",
      "V133 0\n",
      "V134 0\n",
      "V135 0\n",
      "V136 0\n",
      "V137 0\n",
      "V138 0\n",
      "V139 0\n",
      "V140 0\n",
      "V141 0\n",
      "V142 0\n",
      "V143 0\n",
      "V144 0\n",
      "V145 0\n",
      "V146 0\n",
      "V147 0\n",
      "V148 0\n",
      "V149 0\n",
      "V150 0\n",
      "V151 0\n",
      "V152 0\n",
      "V153 0\n",
      "V154 0\n",
      "V155 0\n",
      "V156 0\n",
      "V157 0\n",
      "V158 0\n",
      "V159 0\n",
      "V160 0\n",
      "V161 0\n",
      "V162 0\n",
      "V163 0\n",
      "V164 0\n",
      "V165 0\n",
      "V166 0\n",
      "V167 0\n",
      "V168 0\n",
      "V169 0\n",
      "V170 0\n",
      "V171 0\n",
      "V172 0\n",
      "V173 0\n",
      "V174 0\n",
      "V175 0\n",
      "V176 0\n",
      "V177 0\n",
      "V178 0\n",
      "V179 0\n",
      "V180 0\n",
      "V181 0\n",
      "V182 0\n",
      "V183 0\n",
      "V184 0\n",
      "V185 0\n",
      "V186 0\n",
      "V187 0\n",
      "V188 0\n",
      "V189 0\n",
      "V190 0\n",
      "V191 0\n",
      "V192 0\n",
      "V193 0\n",
      "V194 0\n",
      "V195 0\n",
      "V196 0\n",
      "V197 0\n",
      "V198 0\n",
      "V199 0\n",
      "V200 0\n",
      "V201 0\n",
      "V202 0\n",
      "V203 0\n",
      "V204 0\n",
      "V205 0\n",
      "V206 0\n",
      "V207 0\n",
      "V208 0\n",
      "V209 0\n",
      "V210 0\n",
      "V211 0\n",
      "V212 0\n",
      "V213 0\n",
      "V214 0\n",
      "V215 0\n",
      "V216 0\n",
      "V217 0\n",
      "V218 0\n",
      "V219 0\n",
      "V220 0\n",
      "V221 0\n",
      "V222 0\n",
      "V223 0\n",
      "V224 0\n",
      "V225 0\n",
      "V226 0\n",
      "V227 0\n",
      "V228 0\n",
      "V229 0\n",
      "V230 0\n",
      "V231 0\n",
      "V232 0\n",
      "V233 0\n",
      "V234 0\n",
      "V235 0\n",
      "V236 0\n",
      "V237 0\n",
      "V238 0\n",
      "V239 0\n",
      "V240 0\n",
      "V241 0\n",
      "V242 0\n",
      "V243 0\n",
      "V244 0\n",
      "V245 0\n",
      "V246 0\n",
      "V247 0\n",
      "V248 0\n",
      "V249 0\n",
      "V250 0\n",
      "V251 0\n",
      "V252 0\n",
      "V253 0\n",
      "V254 0\n",
      "V255 0\n",
      "V256 0\n",
      "V257 0\n",
      "V258 0\n",
      "V259 0\n",
      "V260 0\n",
      "V261 0\n",
      "V262 0\n",
      "V263 0\n",
      "V264 0\n",
      "V265 0\n",
      "V266 0\n",
      "V267 0\n",
      "V268 0\n",
      "V269 0\n",
      "V270 0\n",
      "V271 0\n",
      "V272 0\n",
      "V273 0\n",
      "V274 0\n",
      "V275 0\n",
      "V276 0\n",
      "V277 0\n",
      "V278 0\n",
      "V279 0\n",
      "V280 0\n",
      "V281 0\n",
      "V282 0\n",
      "V283 0\n",
      "V284 0\n",
      "V285 0\n",
      "V286 0\n",
      "V287 0\n",
      "V288 0\n",
      "V289 0\n",
      "V290 0\n",
      "V291 0\n",
      "V292 0\n",
      "V293 0\n",
      "V294 0\n",
      "V295 0\n",
      "V296 0\n",
      "V297 0\n",
      "V298 0\n",
      "V299 0\n",
      "V300 0\n",
      "V301 0\n",
      "V302 0\n",
      "V303 0\n",
      "V304 0\n",
      "V305 0\n",
      "V306 0\n",
      "V307 0\n",
      "V308 0\n",
      "V309 0\n",
      "V310 0\n",
      "V311 0\n",
      "V312 0\n",
      "V313 0\n",
      "V314 0\n",
      "V315 0\n",
      "V316 0\n",
      "V317 0\n",
      "V318 0\n",
      "V319 0\n",
      "V320 0\n",
      "V321 0\n",
      "V322 0\n",
      "V323 0\n",
      "V324 0\n",
      "V325 0\n",
      "V326 0\n",
      "V327 0\n",
      "V328 0\n",
      "V329 0\n",
      "V330 0\n",
      "V331 0\n",
      "V332 0\n",
      "V333 0\n",
      "V334 0\n",
      "V335 0\n",
      "V336 0\n",
      "V337 0\n",
      "V338 0\n",
      "V339 0\n",
      "id_12 0\n",
      "id_13 0\n",
      "id_14 0\n",
      "id_15 0\n",
      "id_16 0\n",
      "id_17 0\n",
      "id_18 0\n",
      "id_19 0\n",
      "id_20 0\n",
      "id_29 0\n",
      "id_30 0\n",
      "id_31 0\n",
      "id_32 0\n",
      "id_35 0\n",
      "id_36 0\n",
      "id_37 0\n",
      "id_38 0\n",
      "DeviceType 0\n",
      "isHoliday 0\n"
     ]
    }
   ],
   "source": [
    "for col in test.columns:\n",
    "    print(col,test[col].isnull().sum())"
   ]
  },
  {
   "cell_type": "code",
   "execution_count": 160,
   "metadata": {},
   "outputs": [],
   "source": [
    "test['C5'].fillna(test['C5'].mode()[0],inplace=True)"
   ]
  },
  {
   "cell_type": "code",
   "execution_count": 162,
   "metadata": {},
   "outputs": [],
   "source": [
    "test['C6'].fillna(test['C6'].mode()[0],inplace=True)\n",
    "test['C7'].fillna(test['C7'].mode()[0],inplace=True)\n",
    "test['C8'].fillna(test['C8'].mode()[0],inplace=True)\n",
    "test['C9'].fillna(test['C9'].mode()[0],inplace=True)\n",
    "test['C10'].fillna(test['C10'].mode()[0],inplace=True)\n",
    "test['C11'].fillna(test['C11'].mode()[0],inplace=True)\n",
    "test['C12'].fillna(test['C12'].mode()[0],inplace=True)\n",
    "test['C13'].fillna(test['C13'].mode()[0],inplace=True)\n",
    "test['C14'].fillna(test['C14'].mode()[0],inplace=True)"
   ]
  },
  {
   "cell_type": "code",
   "execution_count": 168,
   "metadata": {},
   "outputs": [],
   "source": [
    "from sklearn.preprocessing import StandardScaler\n",
    "\n",
    "sc = StandardScaler()\n",
    "test_scaled = sc.fit_transform(test)"
   ]
  },
  {
   "cell_type": "code",
   "execution_count": 169,
   "metadata": {},
   "outputs": [
    {
     "name": "stderr",
     "output_type": "stream",
     "text": [
      "/Users/nilanjansahu/anaconda3/lib/python3.7/site-packages/sklearn/preprocessing/label.py:151: DeprecationWarning: The truth value of an empty array is ambiguous. Returning False, but in future this will result in an error. Use `array.size > 0` to check that an array is not empty.\n",
      "  if diff:\n"
     ]
    }
   ],
   "source": [
    "test_pred = classifier_scaled.predict(test_scaled)"
   ]
  },
  {
   "cell_type": "code",
   "execution_count": 181,
   "metadata": {},
   "outputs": [],
   "source": [
    "submission = [TransactionID, test_pred]"
   ]
  },
  {
   "cell_type": "code",
   "execution_count": null,
   "metadata": {},
   "outputs": [],
   "source": []
  }
 ],
 "metadata": {
  "kernelspec": {
   "display_name": "Python 3",
   "language": "python",
   "name": "python3"
  },
  "language_info": {
   "codemirror_mode": {
    "name": "ipython",
    "version": 3
   },
   "file_extension": ".py",
   "mimetype": "text/x-python",
   "name": "python",
   "nbconvert_exporter": "python",
   "pygments_lexer": "ipython3",
   "version": "3.7.0"
  }
 },
 "nbformat": 4,
 "nbformat_minor": 2
}
